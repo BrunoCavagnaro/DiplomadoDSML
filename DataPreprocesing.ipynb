{
  "nbformat": 4,
  "nbformat_minor": 0,
  "metadata": {
    "colab": {
      "name": "DataPreprocesing.ipynb",
      "provenance": [],
      "collapsed_sections": [],
      "toc_visible": true,
      "authorship_tag": "ABX9TyM0p8LxzAVJrOgoXlLVV+Qv",
      "include_colab_link": true
    },
    "kernelspec": {
      "name": "python3",
      "display_name": "Python 3"
    }
  },
  "cells": [
    {
      "cell_type": "markdown",
      "metadata": {
        "id": "view-in-github",
        "colab_type": "text"
      },
      "source": [
        "<a href=\"https://colab.research.google.com/github/BrunoCavagnaro/DiplomadoDSML/blob/master/DataPreprocesing.ipynb\" target=\"_parent\"><img src=\"https://colab.research.google.com/assets/colab-badge.svg\" alt=\"Open In Colab\"/></a>"
      ]
    },
    {
      "cell_type": "markdown",
      "metadata": {
        "id": "KIaYecbhr012",
        "colab_type": "text"
      },
      "source": [
        "# Tarea Preprocesamiento de datos"
      ]
    },
    {
      "cell_type": "markdown",
      "metadata": {
        "id": "HKtjW_Jpr9bS",
        "colab_type": "text"
      },
      "source": [
        "## Librerias"
      ]
    },
    {
      "cell_type": "code",
      "metadata": {
        "id": "e5SxpcGjsBBT",
        "colab_type": "code",
        "colab": {
          "base_uri": "https://localhost:8080/",
          "height": 411
        },
        "outputId": "0e0e7dbd-c173-43ef-b626-899bd4c47bc5"
      },
      "source": [
        "!pip install feature-engine\n",
        "!pip install kaggle"
      ],
      "execution_count": 1,
      "outputs": [
        {
          "output_type": "stream",
          "text": [
            "Requirement already satisfied: feature-engine in /usr/local/lib/python3.6/dist-packages (0.4.31)\n",
            "Requirement already satisfied: scipy>=1.4.1 in /usr/local/lib/python3.6/dist-packages (from feature-engine) (1.4.1)\n",
            "Requirement already satisfied: numpy>=1.18.2 in /usr/local/lib/python3.6/dist-packages (from feature-engine) (1.18.5)\n",
            "Requirement already satisfied: scikit-learn>=0.22.2 in /usr/local/lib/python3.6/dist-packages (from feature-engine) (0.22.2.post1)\n",
            "Requirement already satisfied: statsmodels>=0.11.1 in /usr/local/lib/python3.6/dist-packages (from feature-engine) (0.11.1)\n",
            "Requirement already satisfied: pandas>=1.0.3 in /usr/local/lib/python3.6/dist-packages (from feature-engine) (1.0.5)\n",
            "Requirement already satisfied: joblib>=0.11 in /usr/local/lib/python3.6/dist-packages (from scikit-learn>=0.22.2->feature-engine) (0.15.1)\n",
            "Requirement already satisfied: patsy>=0.5 in /usr/local/lib/python3.6/dist-packages (from statsmodels>=0.11.1->feature-engine) (0.5.1)\n",
            "Requirement already satisfied: python-dateutil>=2.6.1 in /usr/local/lib/python3.6/dist-packages (from pandas>=1.0.3->feature-engine) (2.8.1)\n",
            "Requirement already satisfied: pytz>=2017.2 in /usr/local/lib/python3.6/dist-packages (from pandas>=1.0.3->feature-engine) (2018.9)\n",
            "Requirement already satisfied: six in /usr/local/lib/python3.6/dist-packages (from patsy>=0.5->statsmodels>=0.11.1->feature-engine) (1.12.0)\n",
            "Requirement already satisfied: kaggle in /usr/local/lib/python3.6/dist-packages (1.5.6)\n",
            "Requirement already satisfied: six>=1.10 in /usr/local/lib/python3.6/dist-packages (from kaggle) (1.12.0)\n",
            "Requirement already satisfied: certifi in /usr/local/lib/python3.6/dist-packages (from kaggle) (2020.6.20)\n",
            "Requirement already satisfied: python-slugify in /usr/local/lib/python3.6/dist-packages (from kaggle) (4.0.0)\n",
            "Requirement already satisfied: urllib3<1.25,>=1.21.1 in /usr/local/lib/python3.6/dist-packages (from kaggle) (1.24.3)\n",
            "Requirement already satisfied: python-dateutil in /usr/local/lib/python3.6/dist-packages (from kaggle) (2.8.1)\n",
            "Requirement already satisfied: requests in /usr/local/lib/python3.6/dist-packages (from kaggle) (2.23.0)\n",
            "Requirement already satisfied: tqdm in /usr/local/lib/python3.6/dist-packages (from kaggle) (4.41.1)\n",
            "Requirement already satisfied: text-unidecode>=1.3 in /usr/local/lib/python3.6/dist-packages (from python-slugify->kaggle) (1.3)\n",
            "Requirement already satisfied: idna<3,>=2.5 in /usr/local/lib/python3.6/dist-packages (from requests->kaggle) (2.9)\n",
            "Requirement already satisfied: chardet<4,>=3.0.2 in /usr/local/lib/python3.6/dist-packages (from requests->kaggle) (3.0.4)\n"
          ],
          "name": "stdout"
        }
      ]
    },
    {
      "cell_type": "code",
      "metadata": {
        "id": "98HrkT5NJoUe",
        "colab_type": "code",
        "colab": {}
      },
      "source": [
        "import numpy as np\n",
        "import pandas as pd\n",
        "import scipy as sp\n",
        "import sklearn\n",
        "import matplotlib.pyplot as plt\n",
        "import missingno as msno\n",
        "from sklearn import preprocessing\n",
        "from scipy.spatial.distance import mahalanobis\n",
        "from sklearn.preprocessing import MinMaxScaler\n",
        "from feature_engine import discretisers as dsc\n",
        "from feature_engine import variable_transformers as vt"
      ],
      "execution_count": 2,
      "outputs": []
    },
    {
      "cell_type": "markdown",
      "metadata": {
        "id": "p1QkgQffsqb3",
        "colab_type": "text"
      },
      "source": [
        "## Importar Data"
      ]
    },
    {
      "cell_type": "markdown",
      "metadata": {
        "id": "1c_o2reb_lO_",
        "colab_type": "text"
      },
      "source": [
        "### Conectar a Kaggle"
      ]
    },
    {
      "cell_type": "code",
      "metadata": {
        "id": "QkUGP7upsuUA",
        "colab_type": "code",
        "colab": {
          "base_uri": "https://localhost:8080/",
          "height": 54
        },
        "outputId": "ed8f35d9-a271-4d58-d4eb-a77dbd1427a6"
      },
      "source": [
        "##SOLO EJECUTA ESTE CÓDIGO UNA VEZ\n",
        "##El dataset se encuentra en Kaggle, debido a su tamaño y por facilidad preferi solo importarlo. Si desean utilizarlo generen su API token de Kaggle,\n",
        "##para mayor detalle leer el siguiente post: https://medium.com/analytics-vidhya/how-to-fetch-kaggle-datasets-into-google-colab-ea682569851a\n",
        "from google.colab import drive\n",
        "drive.mount('/content/gdrive')"
      ],
      "execution_count": 3,
      "outputs": [
        {
          "output_type": "stream",
          "text": [
            "Drive already mounted at /content/gdrive; to attempt to forcibly remount, call drive.mount(\"/content/gdrive\", force_remount=True).\n"
          ],
          "name": "stdout"
        }
      ]
    },
    {
      "cell_type": "code",
      "metadata": {
        "id": "5Rrjumxp5Ffh",
        "colab_type": "code",
        "colab": {
          "base_uri": "https://localhost:8080/",
          "height": 34
        },
        "outputId": "efc909b1-3760-4d7b-d814-27e85c6cdd0d"
      },
      "source": [
        "#import os\n",
        "#os.environ['KAGGLE_CONFIG_DIR'] = \"/content/gdrive/My Drive/.kaggle\"#.kaggle es la carpeta donde he guardado el token. \n",
        "%cd '/content/gdrive/My Drive/.kaggle'"
      ],
      "execution_count": 4,
      "outputs": [
        {
          "output_type": "stream",
          "text": [
            "/content/gdrive/My Drive/.kaggle\n"
          ],
          "name": "stdout"
        }
      ]
    },
    {
      "cell_type": "code",
      "metadata": {
        "id": "TXxvpPfK8IsY",
        "colab_type": "code",
        "colab": {}
      },
      "source": [
        "#!kaggle datasets download -d orgesleka/used-cars-database #datasets usados\n",
        "#link de dataset:https://www.kaggle.com/orgesleka/used-cars-database?select=cnt_km_year_powerPS_minPrice_maxPrice_avgPrice_sdPrice.csv"
      ],
      "execution_count": 5,
      "outputs": []
    },
    {
      "cell_type": "code",
      "metadata": {
        "id": "1inM3TMP-za9",
        "colab_type": "code",
        "colab": {}
      },
      "source": [
        "#unzipping the zip files and deleting the zip files\n",
        "#!unzip \\*.zip  && rm *.zip"
      ],
      "execution_count": 6,
      "outputs": []
    },
    {
      "cell_type": "markdown",
      "metadata": {
        "id": "OwdqZ2-Rw2TG",
        "colab_type": "text"
      },
      "source": [
        "### Datasets y Estadisticos Descriptivos\n"
      ]
    },
    {
      "cell_type": "code",
      "metadata": {
        "id": "18OqX1AEw1pG",
        "colab_type": "code",
        "colab": {}
      },
      "source": [
        "df = pd.read_csv('autos.csv', encoding='latin1')"
      ],
      "execution_count": 7,
      "outputs": []
    },
    {
      "cell_type": "code",
      "metadata": {
        "id": "GeVrcfamxBEr",
        "colab_type": "code",
        "colab": {
          "base_uri": "https://localhost:8080/",
          "height": 394
        },
        "outputId": "93856593-9c96-4d6d-839f-892692e005b9"
      },
      "source": [
        "df.head()"
      ],
      "execution_count": 8,
      "outputs": [
        {
          "output_type": "execute_result",
          "data": {
            "text/html": [
              "<div>\n",
              "<style scoped>\n",
              "    .dataframe tbody tr th:only-of-type {\n",
              "        vertical-align: middle;\n",
              "    }\n",
              "\n",
              "    .dataframe tbody tr th {\n",
              "        vertical-align: top;\n",
              "    }\n",
              "\n",
              "    .dataframe thead th {\n",
              "        text-align: right;\n",
              "    }\n",
              "</style>\n",
              "<table border=\"1\" class=\"dataframe\">\n",
              "  <thead>\n",
              "    <tr style=\"text-align: right;\">\n",
              "      <th></th>\n",
              "      <th>dateCrawled</th>\n",
              "      <th>name</th>\n",
              "      <th>seller</th>\n",
              "      <th>offerType</th>\n",
              "      <th>price</th>\n",
              "      <th>abtest</th>\n",
              "      <th>vehicleType</th>\n",
              "      <th>yearOfRegistration</th>\n",
              "      <th>gearbox</th>\n",
              "      <th>powerPS</th>\n",
              "      <th>model</th>\n",
              "      <th>kilometer</th>\n",
              "      <th>monthOfRegistration</th>\n",
              "      <th>fuelType</th>\n",
              "      <th>brand</th>\n",
              "      <th>notRepairedDamage</th>\n",
              "      <th>dateCreated</th>\n",
              "      <th>nrOfPictures</th>\n",
              "      <th>postalCode</th>\n",
              "      <th>lastSeen</th>\n",
              "    </tr>\n",
              "  </thead>\n",
              "  <tbody>\n",
              "    <tr>\n",
              "      <th>0</th>\n",
              "      <td>2016-03-24 11:52:17</td>\n",
              "      <td>Golf_3_1.6</td>\n",
              "      <td>privat</td>\n",
              "      <td>Angebot</td>\n",
              "      <td>480</td>\n",
              "      <td>test</td>\n",
              "      <td>NaN</td>\n",
              "      <td>1993</td>\n",
              "      <td>manuell</td>\n",
              "      <td>0</td>\n",
              "      <td>golf</td>\n",
              "      <td>150000</td>\n",
              "      <td>0</td>\n",
              "      <td>benzin</td>\n",
              "      <td>volkswagen</td>\n",
              "      <td>NaN</td>\n",
              "      <td>2016-03-24 00:00:00</td>\n",
              "      <td>0</td>\n",
              "      <td>70435</td>\n",
              "      <td>2016-04-07 03:16:57</td>\n",
              "    </tr>\n",
              "    <tr>\n",
              "      <th>1</th>\n",
              "      <td>2016-03-24 10:58:45</td>\n",
              "      <td>A5_Sportback_2.7_Tdi</td>\n",
              "      <td>privat</td>\n",
              "      <td>Angebot</td>\n",
              "      <td>18300</td>\n",
              "      <td>test</td>\n",
              "      <td>coupe</td>\n",
              "      <td>2011</td>\n",
              "      <td>manuell</td>\n",
              "      <td>190</td>\n",
              "      <td>NaN</td>\n",
              "      <td>125000</td>\n",
              "      <td>5</td>\n",
              "      <td>diesel</td>\n",
              "      <td>audi</td>\n",
              "      <td>ja</td>\n",
              "      <td>2016-03-24 00:00:00</td>\n",
              "      <td>0</td>\n",
              "      <td>66954</td>\n",
              "      <td>2016-04-07 01:46:50</td>\n",
              "    </tr>\n",
              "    <tr>\n",
              "      <th>2</th>\n",
              "      <td>2016-03-14 12:52:21</td>\n",
              "      <td>Jeep_Grand_Cherokee_\"Overland\"</td>\n",
              "      <td>privat</td>\n",
              "      <td>Angebot</td>\n",
              "      <td>9800</td>\n",
              "      <td>test</td>\n",
              "      <td>suv</td>\n",
              "      <td>2004</td>\n",
              "      <td>automatik</td>\n",
              "      <td>163</td>\n",
              "      <td>grand</td>\n",
              "      <td>125000</td>\n",
              "      <td>8</td>\n",
              "      <td>diesel</td>\n",
              "      <td>jeep</td>\n",
              "      <td>NaN</td>\n",
              "      <td>2016-03-14 00:00:00</td>\n",
              "      <td>0</td>\n",
              "      <td>90480</td>\n",
              "      <td>2016-04-05 12:47:46</td>\n",
              "    </tr>\n",
              "    <tr>\n",
              "      <th>3</th>\n",
              "      <td>2016-03-17 16:54:04</td>\n",
              "      <td>GOLF_4_1_4__3TÜRER</td>\n",
              "      <td>privat</td>\n",
              "      <td>Angebot</td>\n",
              "      <td>1500</td>\n",
              "      <td>test</td>\n",
              "      <td>kleinwagen</td>\n",
              "      <td>2001</td>\n",
              "      <td>manuell</td>\n",
              "      <td>75</td>\n",
              "      <td>golf</td>\n",
              "      <td>150000</td>\n",
              "      <td>6</td>\n",
              "      <td>benzin</td>\n",
              "      <td>volkswagen</td>\n",
              "      <td>nein</td>\n",
              "      <td>2016-03-17 00:00:00</td>\n",
              "      <td>0</td>\n",
              "      <td>91074</td>\n",
              "      <td>2016-03-17 17:40:17</td>\n",
              "    </tr>\n",
              "    <tr>\n",
              "      <th>4</th>\n",
              "      <td>2016-03-31 17:25:20</td>\n",
              "      <td>Skoda_Fabia_1.4_TDI_PD_Classic</td>\n",
              "      <td>privat</td>\n",
              "      <td>Angebot</td>\n",
              "      <td>3600</td>\n",
              "      <td>test</td>\n",
              "      <td>kleinwagen</td>\n",
              "      <td>2008</td>\n",
              "      <td>manuell</td>\n",
              "      <td>69</td>\n",
              "      <td>fabia</td>\n",
              "      <td>90000</td>\n",
              "      <td>7</td>\n",
              "      <td>diesel</td>\n",
              "      <td>skoda</td>\n",
              "      <td>nein</td>\n",
              "      <td>2016-03-31 00:00:00</td>\n",
              "      <td>0</td>\n",
              "      <td>60437</td>\n",
              "      <td>2016-04-06 10:17:21</td>\n",
              "    </tr>\n",
              "  </tbody>\n",
              "</table>\n",
              "</div>"
            ],
            "text/plain": [
              "           dateCrawled  ...             lastSeen\n",
              "0  2016-03-24 11:52:17  ...  2016-04-07 03:16:57\n",
              "1  2016-03-24 10:58:45  ...  2016-04-07 01:46:50\n",
              "2  2016-03-14 12:52:21  ...  2016-04-05 12:47:46\n",
              "3  2016-03-17 16:54:04  ...  2016-03-17 17:40:17\n",
              "4  2016-03-31 17:25:20  ...  2016-04-06 10:17:21\n",
              "\n",
              "[5 rows x 20 columns]"
            ]
          },
          "metadata": {
            "tags": []
          },
          "execution_count": 8
        }
      ]
    },
    {
      "cell_type": "code",
      "metadata": {
        "id": "plvRuyw3Aa5W",
        "colab_type": "code",
        "colab": {
          "base_uri": "https://localhost:8080/",
          "height": 476
        },
        "outputId": "b8ca7fc4-a20a-42dc-abe9-ab27741c98f0"
      },
      "source": [
        "df.info()"
      ],
      "execution_count": 9,
      "outputs": [
        {
          "output_type": "stream",
          "text": [
            "<class 'pandas.core.frame.DataFrame'>\n",
            "RangeIndex: 371528 entries, 0 to 371527\n",
            "Data columns (total 20 columns):\n",
            " #   Column               Non-Null Count   Dtype \n",
            "---  ------               --------------   ----- \n",
            " 0   dateCrawled          371528 non-null  object\n",
            " 1   name                 371528 non-null  object\n",
            " 2   seller               371528 non-null  object\n",
            " 3   offerType            371528 non-null  object\n",
            " 4   price                371528 non-null  int64 \n",
            " 5   abtest               371528 non-null  object\n",
            " 6   vehicleType          333659 non-null  object\n",
            " 7   yearOfRegistration   371528 non-null  int64 \n",
            " 8   gearbox              351319 non-null  object\n",
            " 9   powerPS              371528 non-null  int64 \n",
            " 10  model                351044 non-null  object\n",
            " 11  kilometer            371528 non-null  int64 \n",
            " 12  monthOfRegistration  371528 non-null  int64 \n",
            " 13  fuelType             338142 non-null  object\n",
            " 14  brand                371528 non-null  object\n",
            " 15  notRepairedDamage    299468 non-null  object\n",
            " 16  dateCreated          371528 non-null  object\n",
            " 17  nrOfPictures         371528 non-null  int64 \n",
            " 18  postalCode           371528 non-null  int64 \n",
            " 19  lastSeen             371528 non-null  object\n",
            "dtypes: int64(7), object(13)\n",
            "memory usage: 56.7+ MB\n"
          ],
          "name": "stdout"
        }
      ]
    },
    {
      "cell_type": "code",
      "metadata": {
        "id": "vkeQl_looh3Q",
        "colab_type": "code",
        "colab": {
          "base_uri": "https://localhost:8080/",
          "height": 374
        },
        "outputId": "8acff3fe-b387-4207-8db5-e180e5605015"
      },
      "source": [
        "df.isnull().sum() "
      ],
      "execution_count": 10,
      "outputs": [
        {
          "output_type": "execute_result",
          "data": {
            "text/plain": [
              "dateCrawled                0\n",
              "name                       0\n",
              "seller                     0\n",
              "offerType                  0\n",
              "price                      0\n",
              "abtest                     0\n",
              "vehicleType            37869\n",
              "yearOfRegistration         0\n",
              "gearbox                20209\n",
              "powerPS                    0\n",
              "model                  20484\n",
              "kilometer                  0\n",
              "monthOfRegistration        0\n",
              "fuelType               33386\n",
              "brand                      0\n",
              "notRepairedDamage      72060\n",
              "dateCreated                0\n",
              "nrOfPictures               0\n",
              "postalCode                 0\n",
              "lastSeen                   0\n",
              "dtype: int64"
            ]
          },
          "metadata": {
            "tags": []
          },
          "execution_count": 10
        }
      ]
    },
    {
      "cell_type": "markdown",
      "metadata": {
        "id": "LYOpAIZGPgHl",
        "colab_type": "text"
      },
      "source": [
        "## Missing & Outliers"
      ]
    },
    {
      "cell_type": "markdown",
      "metadata": {
        "id": "kACo6E9IRCUv",
        "colab_type": "text"
      },
      "source": [
        "### Evaluar correlaciones entre missing values"
      ]
    },
    {
      "cell_type": "code",
      "metadata": {
        "id": "sNG5SNl4sbfG",
        "colab_type": "code",
        "colab": {
          "base_uri": "https://localhost:8080/",
          "height": 85
        },
        "outputId": "68cbde66-8da0-42a1-d2ee-471a2d98d6dd"
      },
      "source": [
        "#notRepairedDamage es por mucho el feature con mayor numero de missing values, por tanto se decidio realizar una \n",
        "#inspección a los valores de este feature: \n",
        "df.groupby('notRepairedDamage')['notRepairedDamage'].count()"
      ],
      "execution_count": 11,
      "outputs": [
        {
          "output_type": "execute_result",
          "data": {
            "text/plain": [
              "notRepairedDamage\n",
              "ja       36286\n",
              "nein    263182\n",
              "Name: notRepairedDamage, dtype: int64"
            ]
          },
          "metadata": {
            "tags": []
          },
          "execution_count": 11
        }
      ]
    },
    {
      "cell_type": "code",
      "metadata": {
        "id": "tQmDyrPfs0YT",
        "colab_type": "code",
        "colab": {}
      },
      "source": [
        "#la documentación dice que este feature refiere a si este vehiculo presenta una reparación que no ha sido reparada\n",
        "#(ja significa si y nein no en Aleman), al ser un dataset de auto usados, es correcto asumir que los valores en NaN\n",
        "#hacen referencia a vehiculos que no presentaban ningun daño para reparar. Por tanto estos valores NaN en realidad serían\n",
        "#una nueva categoria (estos datos no pueden ser eliminados), la cual llamaremos Gut(bien en aleman)\n",
        "df['notRepairedDamage'] = df['notRepairedDamage'].fillna(value='Gut')"
      ],
      "execution_count": 12,
      "outputs": []
    },
    {
      "cell_type": "code",
      "metadata": {
        "id": "I_62wLMhv4tq",
        "colab_type": "code",
        "colab": {
          "base_uri": "https://localhost:8080/",
          "height": 102
        },
        "outputId": "a9e07b3b-7dfd-4caf-c927-da51f1f5cfc9"
      },
      "source": [
        "df.groupby('notRepairedDamage')['notRepairedDamage'].count()"
      ],
      "execution_count": 13,
      "outputs": [
        {
          "output_type": "execute_result",
          "data": {
            "text/plain": [
              "notRepairedDamage\n",
              "Gut      72060\n",
              "ja       36286\n",
              "nein    263182\n",
              "Name: notRepairedDamage, dtype: int64"
            ]
          },
          "metadata": {
            "tags": []
          },
          "execution_count": 13
        }
      ]
    },
    {
      "cell_type": "code",
      "metadata": {
        "id": "_t302LzEReIq",
        "colab_type": "code",
        "colab": {
          "base_uri": "https://localhost:8080/",
          "height": 474
        },
        "outputId": "afb9ba49-abac-4235-c892-4f08de4764c5"
      },
      "source": [
        "msno.matrix(df)"
      ],
      "execution_count": 14,
      "outputs": [
        {
          "output_type": "execute_result",
          "data": {
            "text/plain": [
              "<matplotlib.axes._subplots.AxesSubplot at 0x7f2c814c2048>"
            ]
          },
          "metadata": {
            "tags": []
          },
          "execution_count": 14
        },
        {
          "output_type": "display_data",
          "data": {
            "image/png": "[encoded data removed]",
            "text/plain": [
              "<Figure size 1800x720 with 2 Axes>"
            ]
          },
          "metadata": {
            "tags": [],
            "needs_background": "light"
          }
        }
      ]
    },
    {
      "cell_type": "code",
      "metadata": {
        "id": "0Lzpi0ZbRixi",
        "colab_type": "code",
        "colab": {
          "base_uri": "https://localhost:8080/",
          "height": 518
        },
        "outputId": "8e05ccfb-5797-4194-b202-8bf8c71b4b63"
      },
      "source": [
        "msno.bar(df)"
      ],
      "execution_count": 15,
      "outputs": [
        {
          "output_type": "execute_result",
          "data": {
            "text/plain": [
              "<matplotlib.axes._subplots.AxesSubplot at 0x7f2c81423be0>"
            ]
          },
          "metadata": {
            "tags": []
          },
          "execution_count": 15
        },
        {
          "output_type": "display_data",
          "data": {
            "image/png": "[encoded data removed]",
            "text/plain": [
              "<Figure size 1728x720 with 3 Axes>"
            ]
          },
          "metadata": {
            "tags": [],
            "needs_background": "light"
          }
        }
      ]
    },
    {
      "cell_type": "code",
      "metadata": {
        "id": "P-T-y_IfRoqw",
        "colab_type": "code",
        "colab": {
          "base_uri": "https://localhost:8080/",
          "height": 661
        },
        "outputId": "fd3edae8-638a-48ef-c7a3-bb0be29520e8"
      },
      "source": [
        "msno.heatmap(df) "
      ],
      "execution_count": 16,
      "outputs": [
        {
          "output_type": "execute_result",
          "data": {
            "text/plain": [
              "<matplotlib.axes._subplots.AxesSubplot at 0x7f2c7e3a7c18>"
            ]
          },
          "metadata": {
            "tags": []
          },
          "execution_count": 16
        },
        {
          "output_type": "display_data",
          "data": {
            "image/png": "[encoded data removed]",
            "text/plain": [
              "<Figure size 1440x864 with 2 Axes>"
            ]
          },
          "metadata": {
            "tags": [],
            "needs_background": "light"
          }
        }
      ]
    },
    {
      "cell_type": "code",
      "metadata": {
        "id": "SOk_6LWVR5gF",
        "colab_type": "code",
        "colab": {
          "base_uri": "https://localhost:8080/",
          "height": 481
        },
        "outputId": "3102838e-ec73-4875-bfe4-b05d53313486"
      },
      "source": [
        "#observando el heatmap de correlación entre los missing values, vemos que entre estos hay una (relativa) correlación entre estos.\n",
        "#en la matriz de nullity también aparenta haber cierta correlación entre estos datos faltantes. \n",
        "#posiblemente estos missing seal del tipo: MNAR (Missing not at Random) o MAR (Missing at Random);\n",
        "#Como los coeficientes no son muy altos (ninguno supera el 0.5), se asume que estos son del tipo MAR.\n",
        "#más info: https://towardsdatascience.com/missing-data-cfd9dbfd11b7\n",
        "#para complementar se usara un dendograma\n",
        "msno.dendrogram(df)"
      ],
      "execution_count": 17,
      "outputs": [
        {
          "output_type": "execute_result",
          "data": {
            "text/plain": [
              "<matplotlib.axes._subplots.AxesSubplot at 0x7f2c7e2e2be0>"
            ]
          },
          "metadata": {
            "tags": []
          },
          "execution_count": 17
        },
        {
          "output_type": "display_data",
          "data": {
            "image/png": "[encoded data removed]",
            "text/plain": [
              "<Figure size 1800x720 with 1 Axes>"
            ]
          },
          "metadata": {
            "tags": [],
            "needs_background": "light"
          }
        }
      ]
    },
    {
      "cell_type": "code",
      "metadata": {
        "id": "UqZvBtvqa0jr",
        "colab_type": "code",
        "colab": {
          "base_uri": "https://localhost:8080/",
          "height": 629
        },
        "outputId": "e84e7518-008b-4018-b3fa-9c6b23c178f8"
      },
      "source": [
        "#Usando missigno hemos visto una ligera correlación entre los NaN, sin embargo estos features representan categorias,\n",
        "#por tanto es mejor que sean inspeccionadas \n",
        "print(df.groupby('vehicleType')['vehicleType'].count()) \n",
        "print(df.groupby('gearbox')['gearbox'].count())\n",
        "print(df.groupby('model')['model'].count().sort_values(ascending=False))\n",
        "print(df.groupby('fuelType')['fuelType'].count())"
      ],
      "execution_count": 18,
      "outputs": [
        {
          "output_type": "stream",
          "text": [
            "vehicleType\n",
            "andere         3357\n",
            "bus           30201\n",
            "cabrio        22898\n",
            "coupe         19015\n",
            "kleinwagen    80023\n",
            "kombi         67564\n",
            "limousine     95894\n",
            "suv           14707\n",
            "Name: vehicleType, dtype: int64\n",
            "gearbox\n",
            "automatik     77105\n",
            "manuell      274214\n",
            "Name: gearbox, dtype: int64\n",
            "model\n",
            "golf               30070\n",
            "andere             26400\n",
            "3er                20567\n",
            "polo               13092\n",
            "corsa              12573\n",
            "                   ...  \n",
            "serie_2                8\n",
            "rangerover             6\n",
            "serie_3                4\n",
            "serie_1                2\n",
            "discovery_sport        1\n",
            "Name: model, Length: 251, dtype: int64\n",
            "fuelType\n",
            "andere        208\n",
            "benzin     223857\n",
            "cng           571\n",
            "diesel     107746\n",
            "elektro       104\n",
            "hybrid        278\n",
            "lpg          5378\n",
            "Name: fuelType, dtype: int64\n"
          ],
          "name": "stdout"
        }
      ]
    },
    {
      "cell_type": "code",
      "metadata": {
        "id": "FB8aV8x_U48t",
        "colab_type": "code",
        "colab": {
          "base_uri": "https://localhost:8080/",
          "height": 476
        },
        "outputId": "e09201af-103a-445e-a28b-4597d2b0b5aa"
      },
      "source": [
        "#Como vemos, todos estos features hacen referencia a categorias que no pueden ser imputables. Por tanto el único tratamiento\n",
        "#que se podría realizar, es eliminarlas.\n",
        "#estos NaN, representan un 20% de la data, a pesar de no ser una infima de los datos, no existe una alternativa para hacer una\n",
        "#imputación. En un escenario real, se debería evaluar la fuente de los datos, para identificar razones por las cuales hay missing\n",
        "#values y obtener mejor data\n",
        "m_1 = df[df['vehicleType'].notna()]\n",
        "m_2 = m_1[m_1['gearbox'].notna()]\n",
        "m_3 = m_2[m_2['model'].notna()]\n",
        "m_f = m_3[m_3['fuelType'].notna()]\n",
        "m_f.info()"
      ],
      "execution_count": 19,
      "outputs": [
        {
          "output_type": "stream",
          "text": [
            "<class 'pandas.core.frame.DataFrame'>\n",
            "Int64Index: 299864 entries, 2 to 371527\n",
            "Data columns (total 20 columns):\n",
            " #   Column               Non-Null Count   Dtype \n",
            "---  ------               --------------   ----- \n",
            " 0   dateCrawled          299864 non-null  object\n",
            " 1   name                 299864 non-null  object\n",
            " 2   seller               299864 non-null  object\n",
            " 3   offerType            299864 non-null  object\n",
            " 4   price                299864 non-null  int64 \n",
            " 5   abtest               299864 non-null  object\n",
            " 6   vehicleType          299864 non-null  object\n",
            " 7   yearOfRegistration   299864 non-null  int64 \n",
            " 8   gearbox              299864 non-null  object\n",
            " 9   powerPS              299864 non-null  int64 \n",
            " 10  model                299864 non-null  object\n",
            " 11  kilometer            299864 non-null  int64 \n",
            " 12  monthOfRegistration  299864 non-null  int64 \n",
            " 13  fuelType             299864 non-null  object\n",
            " 14  brand                299864 non-null  object\n",
            " 15  notRepairedDamage    299864 non-null  object\n",
            " 16  dateCreated          299864 non-null  object\n",
            " 17  nrOfPictures         299864 non-null  int64 \n",
            " 18  postalCode           299864 non-null  int64 \n",
            " 19  lastSeen             299864 non-null  object\n",
            "dtypes: int64(7), object(13)\n",
            "memory usage: 48.0+ MB\n"
          ],
          "name": "stdout"
        }
      ]
    },
    {
      "cell_type": "markdown",
      "metadata": {
        "id": "ZWU6dGVuPp9j",
        "colab_type": "text"
      },
      "source": [
        "### Outliers"
      ]
    },
    {
      "cell_type": "code",
      "metadata": {
        "id": "QPcAhddm-KlF",
        "colab_type": "code",
        "colab": {}
      },
      "source": [
        "#Para identificar a los Outliers, utilizaremos 3 métodos para detectarlos:\n",
        "#Rango Intercuartilico, Z Score y Distancia de Mahalanobis\n",
        "#Luego analizaremos los 3 métodos y seleccionaremos uno de estos para eliminar los outliers\n",
        "df = m_f"
      ],
      "execution_count": 20,
      "outputs": []
    },
    {
      "cell_type": "code",
      "metadata": {
        "id": "m9ebYHUM--uL",
        "colab_type": "code",
        "colab": {
          "base_uri": "https://localhost:8080/",
          "height": 401
        },
        "outputId": "713aa053-4395-499f-99fa-0f0573f920fd"
      },
      "source": [
        "#NO SE ANALIZARÁN LAS VARIABLES DE CÓDIGO POSTAL Y monthOfRegistration POR OBVIAS RAZONES. \n",
        "#DEACUERDO A LA DOCUMENTACIÓN LA COLUMNA nrOfPictures contiene solamente 0s, por lo tanto será eliminada.\n",
        "df = df.drop('nrOfPictures', axis=1)\n",
        "#plt.boxplot(df[\"price\"])\n",
        "#plt.boxplot(df[\"yearOfRegistration\"])\n",
        "#plt.boxplot(df[\"powerPS\"])\n",
        "plt.boxplot(df[\"kilometer\"])            "
      ],
      "execution_count": 21,
      "outputs": [
        {
          "output_type": "execute_result",
          "data": {
            "text/plain": [
              "{'boxes': [<matplotlib.lines.Line2D at 0x7f2c7e22bac8>],\n",
              " 'caps': [<matplotlib.lines.Line2D at 0x7f2c7e23d518>,\n",
              "  <matplotlib.lines.Line2D at 0x7f2c7e23d898>],\n",
              " 'fliers': [<matplotlib.lines.Line2D at 0x7f2c7e23df98>],\n",
              " 'means': [],\n",
              " 'medians': [<matplotlib.lines.Line2D at 0x7f2c7e23dc18>],\n",
              " 'whiskers': [<matplotlib.lines.Line2D at 0x7f2c7e22bdd8>,\n",
              "  <matplotlib.lines.Line2D at 0x7f2c7e23d198>]}"
            ]
          },
          "metadata": {
            "tags": []
          },
          "execution_count": 21
        },
        {
          "output_type": "display_data",
          "data": {
            "image/png": "[encoded data removed]",
            "text/plain": [
              "<Figure size 432x288 with 1 Axes>"
            ]
          },
          "metadata": {
            "tags": [],
            "needs_background": "light"
          }
        }
      ]
    },
    {
      "cell_type": "code",
      "metadata": {
        "id": "6wtWl_MmZIDH",
        "colab_type": "code",
        "colab": {
          "base_uri": "https://localhost:8080/",
          "height": 969
        },
        "outputId": "33f8a3ba-1cff-4453-eb5c-7d2a6496aff4"
      },
      "source": [
        "#Rango Intercuartilico price  \n",
        "iqr_price = df[\"price\"].quantile(0.75) - df[\"price\"].quantile(0.25)\n",
        "df[\"price_out\"]=(df[\"price\"]< np.percentile(df[\"price\"], 25)-1.5*iqr_price) | (df[\"price\"]> np.percentile(df[\"price\"], 75)+1.5*iqr_price)\n",
        "print(df[df[\"price_out\"]==True])\n",
        "\n",
        "#Rango Intercuartilico yearOfRegistration  \n",
        "iqr_year = df[\"yearOfRegistration\"].quantile(0.75) - df[\"yearOfRegistration\"].quantile(0.25)\n",
        "df[\"yearOfRegistration_out\"]=(df[\"yearOfRegistration\"]< np.percentile(df[\"yearOfRegistration\"], 25)-1.5*iqr_year) | (df[\"yearOfRegistration\"]> np.percentile(df[\"yearOfRegistration\"], 75)+1.5*iqr_year)\n",
        "print(df[df[\"yearOfRegistration_out\"]==True])\n",
        "\n",
        "#Rango Intercuartilico powerPS \n",
        "iqr_power = df[\"powerPS\"].quantile(0.75) - df[\"powerPS\"].quantile(0.25)\n",
        "df[\"powerPS_out\"]=(df[\"powerPS\"]< np.percentile(df[\"powerPS\"], 25)-1.5*iqr_power) | (df[\"powerPS\"]> np.percentile(df[\"powerPS\"], 75)+1.5*iqr_power)\n",
        "print(df[df[\"powerPS_out\"]==True])\n",
        "\n",
        "#Rango Intercuartilico kilometer \n",
        "iqr_kilometer = df[\"kilometer\"].quantile(0.75) - df[\"kilometer\"].quantile(0.25)\n",
        "df[\"kilometer_out\"]=(df[\"kilometer\"]< np.percentile(df[\"kilometer\"], 25)-1.5*iqr_kilometer) | (df[\"kilometer\"]> np.percentile(df[\"kilometer\"], 75)+1.5*iqr_kilometer)\n",
        "print(df[df[\"kilometer_out\"]==True])"
      ],
      "execution_count": 22,
      "outputs": [
        {
          "output_type": "stream",
          "text": [
            "                dateCrawled  ... price_out\n",
            "14      2016-03-21 12:57:01  ...      True\n",
            "33      2016-03-25 21:48:47  ...      True\n",
            "56      2016-03-21 01:59:07  ...      True\n",
            "80      2016-03-11 23:42:53  ...      True\n",
            "98      2016-03-31 10:53:10  ...      True\n",
            "...                     ...  ...       ...\n",
            "371474  2016-03-25 17:48:10  ...      True\n",
            "371477  2016-03-07 16:50:15  ...      True\n",
            "371483  2016-03-07 09:54:08  ...      True\n",
            "371500  2016-03-21 23:40:49  ...      True\n",
            "371527  2016-03-07 19:39:19  ...      True\n",
            "\n",
            "[21280 rows x 20 columns]\n",
            "                dateCrawled  ... yearOfRegistration_out\n",
            "7       2016-03-21 18:54:38  ...                   True\n",
            "28      2016-03-09 11:56:38  ...                   True\n",
            "39      2016-03-25 15:50:30  ...                   True\n",
            "93      2016-04-02 23:25:25  ...                   True\n",
            "192     2016-03-31 16:57:18  ...                   True\n",
            "...                     ...  ...                    ...\n",
            "371132  2016-03-31 00:50:02  ...                   True\n",
            "371312  2016-03-15 12:55:31  ...                   True\n",
            "371441  2016-03-21 20:44:38  ...                   True\n",
            "371457  2016-03-12 08:37:15  ...                   True\n",
            "371471  2016-03-07 19:58:44  ...                   True\n",
            "\n",
            "[4618 rows x 21 columns]\n",
            "                dateCrawled  ... powerPS_out\n",
            "56      2016-03-21 01:59:07  ...        True\n",
            "104     2016-03-16 16:44:10  ...        True\n",
            "117     2016-03-20 18:38:02  ...        True\n",
            "129     2016-03-11 20:55:37  ...        True\n",
            "177     2016-03-07 12:38:19  ...        True\n",
            "...                     ...  ...         ...\n",
            "371369  2016-03-09 09:58:05  ...        True\n",
            "371436  2016-03-07 05:58:24  ...        True\n",
            "371461  2016-04-02 23:25:40  ...        True\n",
            "371494  2016-03-26 14:38:18  ...        True\n",
            "371527  2016-03-07 19:39:19  ...        True\n",
            "\n",
            "[9936 rows x 22 columns]\n",
            "                dateCrawled  ... kilometer_out\n",
            "28      2016-03-09 11:56:38  ...          True\n",
            "33      2016-03-25 21:48:47  ...          True\n",
            "162     2016-03-23 14:45:57  ...          True\n",
            "163     2016-04-01 16:06:24  ...          True\n",
            "184     2016-03-08 20:58:31  ...          True\n",
            "...                     ...  ...           ...\n",
            "371288  2016-03-11 16:54:01  ...          True\n",
            "371321  2016-03-12 19:49:38  ...          True\n",
            "371328  2016-03-14 00:48:36  ...          True\n",
            "371334  2016-03-20 14:47:16  ...          True\n",
            "371365  2016-04-03 13:25:52  ...          True\n",
            "\n",
            "[9486 rows x 23 columns]\n"
          ],
          "name": "stdout"
        }
      ]
    },
    {
      "cell_type": "code",
      "metadata": {
        "id": "0OlTsqSn0K5k",
        "colab_type": "code",
        "colab": {
          "base_uri": "https://localhost:8080/",
          "height": 1000
        },
        "outputId": "05179da0-535a-4098-f0c0-b8344da2bfab"
      },
      "source": [
        "#Z Score price\n",
        "p1=preprocessing.scale(df[\"price\"])\n",
        "df[\"price_out2\"]=(abs(p1)>3)\n",
        "print(df[df[\"price_out2\"]==True])\n",
        "\n",
        "#Z Score yearOfRegistration\n",
        "p2=preprocessing.scale(df[\"yearOfRegistration\"])\n",
        "df[\"yearOfRegistration_out2\"]=abs(p2)>3\n",
        "print(df[df[\"yearOfRegistration_out2\"]==True])\n",
        "\n",
        "#Z Score powerPS\n",
        "p3=preprocessing.scale(df[\"powerPS\"])\n",
        "df[\"powerPS_out2\"]=abs(p3)>3\n",
        "print(df[df[\"powerPS_out2\"]==True])\n",
        "\n",
        "#Z Score kilometer\n",
        "p4=preprocessing.scale(df[\"kilometer\"])\n",
        "df[\"kilometer_out2\"]=abs(p4)>3\n",
        "print(df[df[\"kilometer_out2\"]==True])"
      ],
      "execution_count": 23,
      "outputs": [
        {
          "output_type": "stream",
          "text": [
            "                dateCrawled  ... price_out2\n",
            "14663   2016-04-03 06:03:56  ...       True\n",
            "21467   2016-03-19 19:45:02  ...       True\n",
            "54295   2016-03-08 11:51:40  ...       True\n",
            "77520   2016-03-22 14:58:27  ...       True\n",
            "87799   2016-03-08 20:39:05  ...       True\n",
            "91106   2016-03-30 19:46:05  ...       True\n",
            "127769  2016-03-28 12:51:51  ...       True\n",
            "127820  2016-03-14 17:49:54  ...       True\n",
            "139052  2016-03-14 12:49:48  ...       True\n",
            "183361  2016-03-26 11:51:20  ...       True\n",
            "210657  2016-03-12 21:50:57  ...       True\n",
            "241847  2016-03-31 18:56:54  ...       True\n",
            "251980  2016-03-21 22:25:19  ...       True\n",
            "279937  2016-04-03 11:56:00  ...       True\n",
            "280059  2016-03-05 20:49:28  ...       True\n",
            "287835  2016-03-26 00:56:36  ...       True\n",
            "\n",
            "[16 rows x 24 columns]\n",
            "                dateCrawled  ... yearOfRegistration_out2\n",
            "7       2016-03-21 18:54:38  ...                    True\n",
            "28      2016-03-09 11:56:38  ...                    True\n",
            "192     2016-03-31 16:57:18  ...                    True\n",
            "238     2016-03-12 08:51:00  ...                    True\n",
            "374     2016-03-30 13:53:41  ...                    True\n",
            "...                     ...  ...                     ...\n",
            "371048  2016-03-24 12:54:29  ...                    True\n",
            "371132  2016-03-31 00:50:02  ...                    True\n",
            "371312  2016-03-15 12:55:31  ...                    True\n",
            "371441  2016-03-21 20:44:38  ...                    True\n",
            "371471  2016-03-07 19:58:44  ...                    True\n",
            "\n",
            "[3440 rows x 25 columns]\n",
            "                dateCrawled  ... powerPS_out2\n",
            "1898    2016-03-22 20:52:00  ...         True\n",
            "4254    2016-04-03 20:31:00  ...         True\n",
            "5582    2016-03-29 19:44:48  ...         True\n",
            "6808    2016-03-14 15:54:34  ...         True\n",
            "8038    2016-04-02 19:25:25  ...         True\n",
            "...                     ...  ...          ...\n",
            "365133  2016-04-04 12:38:11  ...         True\n",
            "365806  2016-03-13 11:51:57  ...         True\n",
            "365894  2016-04-04 18:53:25  ...         True\n",
            "369007  2016-03-07 21:36:19  ...         True\n",
            "370760  2016-03-23 23:55:21  ...         True\n",
            "\n",
            "[245 rows x 26 columns]\n",
            "                dateCrawled  ... kilometer_out2\n",
            "28      2016-03-09 11:56:38  ...           True\n",
            "162     2016-03-23 14:45:57  ...           True\n",
            "275     2016-04-04 23:48:59  ...           True\n",
            "303     2016-04-01 00:51:10  ...           True\n",
            "770     2016-03-31 00:28:47  ...           True\n",
            "...                     ...  ...            ...\n",
            "371002  2016-03-15 21:39:02  ...           True\n",
            "371222  2016-03-31 13:39:54  ...           True\n",
            "371255  2016-03-12 03:36:56  ...           True\n",
            "371288  2016-03-11 16:54:01  ...           True\n",
            "371321  2016-03-12 19:49:38  ...           True\n",
            "\n",
            "[3239 rows x 27 columns]\n"
          ],
          "name": "stdout"
        }
      ]
    },
    {
      "cell_type": "code",
      "metadata": {
        "id": "jzGCBFIz2eR6",
        "colab_type": "code",
        "colab": {
          "base_uri": "https://localhost:8080/",
          "height": 472
        },
        "outputId": "0c3646db-db59-436f-c199-67275451dd61"
      },
      "source": [
        "#Mahalanobis Distance\n",
        "df_m = df[[\"price\", \"yearOfRegistration\", \"powerPS\", \"kilometer\"]]\n",
        "\n",
        "#matriz de covarianzas\n",
        "Sx = df_m.cov().values\n",
        "#inversa de la matriz de covarianzas\n",
        "Sx = sp.linalg.inv(Sx)\n",
        "\n",
        "mean = df_m.mean().values\n",
        "\n",
        "def mahalanobisR(X,meanCol,IC):\n",
        "    m = []\n",
        "    for i in range(X.shape[0]):\n",
        "        m.append(mahalanobis(X.iloc[i,:],meanCol,IC) ** 2)\n",
        "    return(m)\n",
        "\n",
        "mR = pd.DataFrame(mahalanobisR(df_m,mean,Sx), columns = ['mR'])\n",
        "df_m['mr']=mR\n",
        "df_m['index'] = df_m.index\n",
        "plt.scatter(df_m[\"index\"],df_m['mr'])"
      ],
      "execution_count": 24,
      "outputs": [
        {
          "output_type": "stream",
          "text": [
            "/usr/local/lib/python3.6/dist-packages/ipykernel_launcher.py:18: SettingWithCopyWarning: \n",
            "A value is trying to be set on a copy of a slice from a DataFrame.\n",
            "Try using .loc[row_indexer,col_indexer] = value instead\n",
            "\n",
            "See the caveats in the documentation: https://pandas.pydata.org/pandas-docs/stable/user_guide/indexing.html#returning-a-view-versus-a-copy\n",
            "/usr/local/lib/python3.6/dist-packages/ipykernel_launcher.py:19: SettingWithCopyWarning: \n",
            "A value is trying to be set on a copy of a slice from a DataFrame.\n",
            "Try using .loc[row_indexer,col_indexer] = value instead\n",
            "\n",
            "See the caveats in the documentation: https://pandas.pydata.org/pandas-docs/stable/user_guide/indexing.html#returning-a-view-versus-a-copy\n"
          ],
          "name": "stderr"
        },
        {
          "output_type": "execute_result",
          "data": {
            "text/plain": [
              "<matplotlib.collections.PathCollection at 0x7f2c7b1a51d0>"
            ]
          },
          "metadata": {
            "tags": []
          },
          "execution_count": 24
        },
        {
          "output_type": "display_data",
          "data": {
            "image/png": "[encoded data removed]",
            "text/plain": [
              "<Figure size 432x288 with 1 Axes>"
            ]
          },
          "metadata": {
            "tags": [],
            "needs_background": "light"
          }
        }
      ]
    },
    {
      "cell_type": "code",
      "metadata": {
        "id": "JBpjZWxc_DTE",
        "colab_type": "code",
        "colab": {
          "base_uri": "https://localhost:8080/",
          "height": 377
        },
        "outputId": "3155e680-a24f-409a-a012-05754f547061"
      },
      "source": [
        "df_m['out'] = df_m[\"mr\"]>8\n",
        "print(df_m[df_m[\"out\"]==True])"
      ],
      "execution_count": 25,
      "outputs": [
        {
          "output_type": "stream",
          "text": [
            "        price  yearOfRegistration  powerPS  kilometer         mr   index   out\n",
            "5         650                1995      102     150000  26.049500       5  True\n",
            "20      10400                2009      160     100000  32.507539      20  True\n",
            "117      6300                2002      265     150000   9.826663     117  True\n",
            "118      3500                1991      160     150000  16.683720     118  True\n",
            "135      2750                2001      131     150000   9.275658     135  True\n",
            "...       ...                 ...      ...        ...        ...     ...   ...\n",
            "299682  15800                2009      184     150000  11.693255  299682  True\n",
            "299690   5000                2006      476     150000  10.189469  299690  True\n",
            "299695    300                1998        0     150000   9.059615  299695  True\n",
            "299806   3800                2004       75      90000  15.547907  299806  True\n",
            "299819  26900                2011      184      70000  60.905827  299819  True\n",
            "\n",
            "[9267 rows x 7 columns]\n"
          ],
          "name": "stdout"
        },
        {
          "output_type": "stream",
          "text": [
            "/usr/local/lib/python3.6/dist-packages/ipykernel_launcher.py:1: SettingWithCopyWarning: \n",
            "A value is trying to be set on a copy of a slice from a DataFrame.\n",
            "Try using .loc[row_indexer,col_indexer] = value instead\n",
            "\n",
            "See the caveats in the documentation: https://pandas.pydata.org/pandas-docs/stable/user_guide/indexing.html#returning-a-view-versus-a-copy\n",
            "  \"\"\"Entry point for launching an IPython kernel.\n"
          ],
          "name": "stderr"
        }
      ]
    },
    {
      "cell_type": "code",
      "metadata": {
        "id": "IlNXjGd66sI_",
        "colab_type": "code",
        "colab": {
          "base_uri": "https://localhost:8080/",
          "height": 779
        },
        "outputId": "3208767a-48d1-443d-862a-6da4ccc52c9d"
      },
      "source": [
        "#ANALISIS 3 MÉTODOS: \n",
        "#Después de ver los 3 análisis y también revisar la documentación he concluido que hay un exceso de outliers en las 4 \n",
        "#columnas, de manera individual no solo multivariable(por tanto el método de Mahanalobis no es óptimo).\n",
        "#He seleccionado como métod de eliminación de outliers al Rango Intercuartílico debido a la robustes del método.   \n",
        "indexNames_prices = df[ df['price_out'] == True ].index\n",
        "df.drop(indexNames_prices , inplace=True)\n",
        "\n",
        "indexNames_year = df[ df['yearOfRegistration_out'] == True ].index\n",
        "df.drop(indexNames_year , inplace=True)\n",
        "\n",
        "indexNames_power = df[ df['powerPS_out'] == True ].index\n",
        "df.drop(indexNames_power , inplace=True)\n",
        "\n",
        "indexNames_kilometer = df[ df['kilometer_out'] == True ].index\n",
        "df.drop(indexNames_kilometer , inplace=True)\n",
        "\t\t\t\t\t\t\t\n",
        "df = df.drop('price_out', axis=1)\n",
        "df = df.drop('yearOfRegistration_out', axis=1)\n",
        "df = df.drop('powerPS_out', axis=1)\n",
        "df = df.drop('kilometer_out', axis=1)\n",
        "df = df.drop('price_out2', axis=1)\n",
        "df = df.drop('yearOfRegistration_out2', axis=1)\n",
        "df = df.drop('powerPS_out2', axis=1)\n",
        "df = df.drop('kilometer_out2', axis=1)\n",
        "df\n"
      ],
      "execution_count": 26,
      "outputs": [
        {
          "output_type": "execute_result",
          "data": {
            "text/html": [
              "<div>\n",
              "<style scoped>\n",
              "    .dataframe tbody tr th:only-of-type {\n",
              "        vertical-align: middle;\n",
              "    }\n",
              "\n",
              "    .dataframe tbody tr th {\n",
              "        vertical-align: top;\n",
              "    }\n",
              "\n",
              "    .dataframe thead th {\n",
              "        text-align: right;\n",
              "    }\n",
              "</style>\n",
              "<table border=\"1\" class=\"dataframe\">\n",
              "  <thead>\n",
              "    <tr style=\"text-align: right;\">\n",
              "      <th></th>\n",
              "      <th>dateCrawled</th>\n",
              "      <th>name</th>\n",
              "      <th>seller</th>\n",
              "      <th>offerType</th>\n",
              "      <th>price</th>\n",
              "      <th>abtest</th>\n",
              "      <th>vehicleType</th>\n",
              "      <th>yearOfRegistration</th>\n",
              "      <th>gearbox</th>\n",
              "      <th>powerPS</th>\n",
              "      <th>model</th>\n",
              "      <th>kilometer</th>\n",
              "      <th>monthOfRegistration</th>\n",
              "      <th>fuelType</th>\n",
              "      <th>brand</th>\n",
              "      <th>notRepairedDamage</th>\n",
              "      <th>dateCreated</th>\n",
              "      <th>postalCode</th>\n",
              "      <th>lastSeen</th>\n",
              "    </tr>\n",
              "  </thead>\n",
              "  <tbody>\n",
              "    <tr>\n",
              "      <th>2</th>\n",
              "      <td>2016-03-14 12:52:21</td>\n",
              "      <td>Jeep_Grand_Cherokee_\"Overland\"</td>\n",
              "      <td>privat</td>\n",
              "      <td>Angebot</td>\n",
              "      <td>9800</td>\n",
              "      <td>test</td>\n",
              "      <td>suv</td>\n",
              "      <td>2004</td>\n",
              "      <td>automatik</td>\n",
              "      <td>163</td>\n",
              "      <td>grand</td>\n",
              "      <td>125000</td>\n",
              "      <td>8</td>\n",
              "      <td>diesel</td>\n",
              "      <td>jeep</td>\n",
              "      <td>Gut</td>\n",
              "      <td>2016-03-14 00:00:00</td>\n",
              "      <td>90480</td>\n",
              "      <td>2016-04-05 12:47:46</td>\n",
              "    </tr>\n",
              "    <tr>\n",
              "      <th>3</th>\n",
              "      <td>2016-03-17 16:54:04</td>\n",
              "      <td>GOLF_4_1_4__3TÜRER</td>\n",
              "      <td>privat</td>\n",
              "      <td>Angebot</td>\n",
              "      <td>1500</td>\n",
              "      <td>test</td>\n",
              "      <td>kleinwagen</td>\n",
              "      <td>2001</td>\n",
              "      <td>manuell</td>\n",
              "      <td>75</td>\n",
              "      <td>golf</td>\n",
              "      <td>150000</td>\n",
              "      <td>6</td>\n",
              "      <td>benzin</td>\n",
              "      <td>volkswagen</td>\n",
              "      <td>nein</td>\n",
              "      <td>2016-03-17 00:00:00</td>\n",
              "      <td>91074</td>\n",
              "      <td>2016-03-17 17:40:17</td>\n",
              "    </tr>\n",
              "    <tr>\n",
              "      <th>4</th>\n",
              "      <td>2016-03-31 17:25:20</td>\n",
              "      <td>Skoda_Fabia_1.4_TDI_PD_Classic</td>\n",
              "      <td>privat</td>\n",
              "      <td>Angebot</td>\n",
              "      <td>3600</td>\n",
              "      <td>test</td>\n",
              "      <td>kleinwagen</td>\n",
              "      <td>2008</td>\n",
              "      <td>manuell</td>\n",
              "      <td>69</td>\n",
              "      <td>fabia</td>\n",
              "      <td>90000</td>\n",
              "      <td>7</td>\n",
              "      <td>diesel</td>\n",
              "      <td>skoda</td>\n",
              "      <td>nein</td>\n",
              "      <td>2016-03-31 00:00:00</td>\n",
              "      <td>60437</td>\n",
              "      <td>2016-04-06 10:17:21</td>\n",
              "    </tr>\n",
              "    <tr>\n",
              "      <th>5</th>\n",
              "      <td>2016-04-04 17:36:23</td>\n",
              "      <td>BMW_316i___e36_Limousine___Bastlerfahrzeug__Ex...</td>\n",
              "      <td>privat</td>\n",
              "      <td>Angebot</td>\n",
              "      <td>650</td>\n",
              "      <td>test</td>\n",
              "      <td>limousine</td>\n",
              "      <td>1995</td>\n",
              "      <td>manuell</td>\n",
              "      <td>102</td>\n",
              "      <td>3er</td>\n",
              "      <td>150000</td>\n",
              "      <td>10</td>\n",
              "      <td>benzin</td>\n",
              "      <td>bmw</td>\n",
              "      <td>ja</td>\n",
              "      <td>2016-04-04 00:00:00</td>\n",
              "      <td>33775</td>\n",
              "      <td>2016-04-06 19:17:07</td>\n",
              "    </tr>\n",
              "    <tr>\n",
              "      <th>6</th>\n",
              "      <td>2016-04-01 20:48:51</td>\n",
              "      <td>Peugeot_206_CC_110_Platinum</td>\n",
              "      <td>privat</td>\n",
              "      <td>Angebot</td>\n",
              "      <td>2200</td>\n",
              "      <td>test</td>\n",
              "      <td>cabrio</td>\n",
              "      <td>2004</td>\n",
              "      <td>manuell</td>\n",
              "      <td>109</td>\n",
              "      <td>2_reihe</td>\n",
              "      <td>150000</td>\n",
              "      <td>8</td>\n",
              "      <td>benzin</td>\n",
              "      <td>peugeot</td>\n",
              "      <td>nein</td>\n",
              "      <td>2016-04-01 00:00:00</td>\n",
              "      <td>67112</td>\n",
              "      <td>2016-04-05 18:18:39</td>\n",
              "    </tr>\n",
              "    <tr>\n",
              "      <th>...</th>\n",
              "      <td>...</td>\n",
              "      <td>...</td>\n",
              "      <td>...</td>\n",
              "      <td>...</td>\n",
              "      <td>...</td>\n",
              "      <td>...</td>\n",
              "      <td>...</td>\n",
              "      <td>...</td>\n",
              "      <td>...</td>\n",
              "      <td>...</td>\n",
              "      <td>...</td>\n",
              "      <td>...</td>\n",
              "      <td>...</td>\n",
              "      <td>...</td>\n",
              "      <td>...</td>\n",
              "      <td>...</td>\n",
              "      <td>...</td>\n",
              "      <td>...</td>\n",
              "      <td>...</td>\n",
              "    </tr>\n",
              "    <tr>\n",
              "      <th>371520</th>\n",
              "      <td>2016-03-19 19:53:49</td>\n",
              "      <td>turbo_defekt</td>\n",
              "      <td>privat</td>\n",
              "      <td>Angebot</td>\n",
              "      <td>3200</td>\n",
              "      <td>control</td>\n",
              "      <td>limousine</td>\n",
              "      <td>2004</td>\n",
              "      <td>manuell</td>\n",
              "      <td>225</td>\n",
              "      <td>leon</td>\n",
              "      <td>150000</td>\n",
              "      <td>5</td>\n",
              "      <td>benzin</td>\n",
              "      <td>seat</td>\n",
              "      <td>ja</td>\n",
              "      <td>2016-03-19 00:00:00</td>\n",
              "      <td>96465</td>\n",
              "      <td>2016-03-19 20:44:43</td>\n",
              "    </tr>\n",
              "    <tr>\n",
              "      <th>371521</th>\n",
              "      <td>2016-03-27 20:36:20</td>\n",
              "      <td>Opel_Zafira_1.6_Elegance_TÜV_12/16</td>\n",
              "      <td>privat</td>\n",
              "      <td>Angebot</td>\n",
              "      <td>1150</td>\n",
              "      <td>control</td>\n",
              "      <td>bus</td>\n",
              "      <td>2000</td>\n",
              "      <td>manuell</td>\n",
              "      <td>0</td>\n",
              "      <td>zafira</td>\n",
              "      <td>150000</td>\n",
              "      <td>3</td>\n",
              "      <td>benzin</td>\n",
              "      <td>opel</td>\n",
              "      <td>nein</td>\n",
              "      <td>2016-03-27 00:00:00</td>\n",
              "      <td>26624</td>\n",
              "      <td>2016-03-29 10:17:23</td>\n",
              "    </tr>\n",
              "    <tr>\n",
              "      <th>371524</th>\n",
              "      <td>2016-03-05 19:56:21</td>\n",
              "      <td>Smart_smart_leistungssteigerung_100ps</td>\n",
              "      <td>privat</td>\n",
              "      <td>Angebot</td>\n",
              "      <td>1199</td>\n",
              "      <td>test</td>\n",
              "      <td>cabrio</td>\n",
              "      <td>2000</td>\n",
              "      <td>automatik</td>\n",
              "      <td>101</td>\n",
              "      <td>fortwo</td>\n",
              "      <td>125000</td>\n",
              "      <td>3</td>\n",
              "      <td>benzin</td>\n",
              "      <td>smart</td>\n",
              "      <td>nein</td>\n",
              "      <td>2016-03-05 00:00:00</td>\n",
              "      <td>26135</td>\n",
              "      <td>2016-03-11 18:17:12</td>\n",
              "    </tr>\n",
              "    <tr>\n",
              "      <th>371525</th>\n",
              "      <td>2016-03-19 18:57:12</td>\n",
              "      <td>Volkswagen_Multivan_T4_TDI_7DC_UY2</td>\n",
              "      <td>privat</td>\n",
              "      <td>Angebot</td>\n",
              "      <td>9200</td>\n",
              "      <td>test</td>\n",
              "      <td>bus</td>\n",
              "      <td>1996</td>\n",
              "      <td>manuell</td>\n",
              "      <td>102</td>\n",
              "      <td>transporter</td>\n",
              "      <td>150000</td>\n",
              "      <td>3</td>\n",
              "      <td>diesel</td>\n",
              "      <td>volkswagen</td>\n",
              "      <td>nein</td>\n",
              "      <td>2016-03-19 00:00:00</td>\n",
              "      <td>87439</td>\n",
              "      <td>2016-04-07 07:15:26</td>\n",
              "    </tr>\n",
              "    <tr>\n",
              "      <th>371526</th>\n",
              "      <td>2016-03-20 19:41:08</td>\n",
              "      <td>VW_Golf_Kombi_1_9l_TDI</td>\n",
              "      <td>privat</td>\n",
              "      <td>Angebot</td>\n",
              "      <td>3400</td>\n",
              "      <td>test</td>\n",
              "      <td>kombi</td>\n",
              "      <td>2002</td>\n",
              "      <td>manuell</td>\n",
              "      <td>100</td>\n",
              "      <td>golf</td>\n",
              "      <td>150000</td>\n",
              "      <td>6</td>\n",
              "      <td>diesel</td>\n",
              "      <td>volkswagen</td>\n",
              "      <td>Gut</td>\n",
              "      <td>2016-03-20 00:00:00</td>\n",
              "      <td>40764</td>\n",
              "      <td>2016-03-24 12:45:21</td>\n",
              "    </tr>\n",
              "  </tbody>\n",
              "</table>\n",
              "<p>264145 rows × 19 columns</p>\n",
              "</div>"
            ],
            "text/plain": [
              "                dateCrawled  ...             lastSeen\n",
              "2       2016-03-14 12:52:21  ...  2016-04-05 12:47:46\n",
              "3       2016-03-17 16:54:04  ...  2016-03-17 17:40:17\n",
              "4       2016-03-31 17:25:20  ...  2016-04-06 10:17:21\n",
              "5       2016-04-04 17:36:23  ...  2016-04-06 19:17:07\n",
              "6       2016-04-01 20:48:51  ...  2016-04-05 18:18:39\n",
              "...                     ...  ...                  ...\n",
              "371520  2016-03-19 19:53:49  ...  2016-03-19 20:44:43\n",
              "371521  2016-03-27 20:36:20  ...  2016-03-29 10:17:23\n",
              "371524  2016-03-05 19:56:21  ...  2016-03-11 18:17:12\n",
              "371525  2016-03-19 18:57:12  ...  2016-04-07 07:15:26\n",
              "371526  2016-03-20 19:41:08  ...  2016-03-24 12:45:21\n",
              "\n",
              "[264145 rows x 19 columns]"
            ]
          },
          "metadata": {
            "tags": []
          },
          "execution_count": 26
        }
      ]
    },
    {
      "cell_type": "code",
      "metadata": {
        "id": "SAMIOG07MDcB",
        "colab_type": "code",
        "colab": {
          "base_uri": "https://localhost:8080/",
          "height": 401
        },
        "outputId": "3c839826-af68-4ad6-998a-1bac1033f0d6"
      },
      "source": [
        "#plt.boxplot(df[\"price\"])\n",
        "plt.boxplot(df[\"yearOfRegistration\"])\n",
        "#plt.boxplot(df[\"powerPS\"])\n",
        "#plt.boxplot(df[\"kilometer\"]) "
      ],
      "execution_count": 27,
      "outputs": [
        {
          "output_type": "execute_result",
          "data": {
            "text/plain": [
              "{'boxes': [<matplotlib.lines.Line2D at 0x7f2c7e17a7b8>],\n",
              " 'caps': [<matplotlib.lines.Line2D at 0x7f2c7e186208>,\n",
              "  <matplotlib.lines.Line2D at 0x7f2c7e186588>],\n",
              " 'fliers': [<matplotlib.lines.Line2D at 0x7f2c7e186c88>],\n",
              " 'means': [],\n",
              " 'medians': [<matplotlib.lines.Line2D at 0x7f2c7e186908>],\n",
              " 'whiskers': [<matplotlib.lines.Line2D at 0x7f2c7e17aac8>,\n",
              "  <matplotlib.lines.Line2D at 0x7f2c7e17ae48>]}"
            ]
          },
          "metadata": {
            "tags": []
          },
          "execution_count": 27
        },
        {
          "output_type": "display_data",
          "data": {
            "image/png": "[encoded data removed]",
            "text/plain": [
              "<Figure size 432x288 with 1 Axes>"
            ]
          },
          "metadata": {
            "tags": [],
            "needs_background": "light"
          }
        }
      ]
    },
    {
      "cell_type": "markdown",
      "metadata": {
        "id": "NM6LENCx_CiB",
        "colab_type": "text"
      },
      "source": [
        "## Estandarización y Escalamiento"
      ]
    },
    {
      "cell_type": "markdown",
      "metadata": {
        "id": "78az3XFN_KfS",
        "colab_type": "text"
      },
      "source": [
        "### Factores Categoricos"
      ]
    },
    {
      "cell_type": "code",
      "metadata": {
        "id": "1Ux3ynGGPHkL",
        "colab_type": "code",
        "colab": {
          "base_uri": "https://localhost:8080/",
          "height": 918
        },
        "outputId": "a8fa5289-133f-40cf-9d43-d3d2bffd711f"
      },
      "source": [
        "#Primero analizaremos las columnas que previamente no han sido evaluadas: \n",
        "print(df.groupby('seller')['seller'].count()) #Al ser un feature con datos DEMASIADO disparejos se ha decidido eliminar \n",
        "#la columna, PD: gewerblich es comercial y privat es privado.\n",
        "df = df.drop('seller', axis=1)\n",
        "print(df.groupby('offerType')['offerType'].count())#Al ser un feature con datos DEMASIADO disparejos se ha decidido eliminar \n",
        "#la columna, PD: gesuch es solicitud y angebot es oferta.\n",
        "df = df.drop('offerType', axis=1)\n",
        "print(df.groupby('abtest')['abtest'].count())#esta columna hace referencia a alguna prueba AB test que puede haber\n",
        "#realizado eBay sobre el anuncio de este vehiculo. Esta correctamente balanceado. \n",
        "print(df.groupby('brand')['brand'].count())\n",
        "#en brand se puede ver que no hay errores o datos mal catalogados por tanto se decide dejar esta columna como esta."
      ],
      "execution_count": 28,
      "outputs": [
        {
          "output_type": "stream",
          "text": [
            "seller\n",
            "gewerblich         2\n",
            "privat        264143\n",
            "Name: seller, dtype: int64\n",
            "offerType\n",
            "Angebot    264141\n",
            "Gesuch          4\n",
            "Name: offerType, dtype: int64\n",
            "abtest\n",
            "control    127149\n",
            "test       136996\n",
            "Name: abtest, dtype: int64\n",
            "brand\n",
            "alfa_romeo        1781\n",
            "audi             22384\n",
            "bmw              28290\n",
            "chevrolet         1207\n",
            "chrysler          1105\n",
            "citroen           3997\n",
            "dacia              723\n",
            "daewoo             397\n",
            "daihatsu           601\n",
            "fiat              6958\n",
            "ford             19123\n",
            "honda             2132\n",
            "hyundai           2828\n",
            "jaguar             304\n",
            "jeep               501\n",
            "kia               1929\n",
            "lada               126\n",
            "lancia             329\n",
            "land_rover         400\n",
            "mazda             4399\n",
            "mercedes_benz    23815\n",
            "mini              2652\n",
            "mitsubishi        2276\n",
            "nissan            3743\n",
            "opel             29742\n",
            "peugeot           8659\n",
            "porsche            263\n",
            "renault          13361\n",
            "rover              315\n",
            "saab               428\n",
            "seat              5310\n",
            "skoda             4579\n",
            "smart             3583\n",
            "subaru             559\n",
            "suzuki            1774\n",
            "toyota            3807\n",
            "trabant            112\n",
            "volkswagen       57045\n",
            "volvo             2608\n",
            "Name: brand, dtype: int64\n"
          ],
          "name": "stdout"
        }
      ]
    },
    {
      "cell_type": "code",
      "metadata": {
        "id": "Qj0q3jvDTHIu",
        "colab_type": "code",
        "colab": {}
      },
      "source": [
        "#Features Binarias:\n",
        "#Binaria ABTest\n",
        "df['abtest'] = df['abtest'].replace(to_replace= 1, value = 0)\n",
        "df['abtest'] = df['abtest'].replace(to_replace='test', value = 1)\n",
        "#Binaria gearbox\n",
        "df['gearbox'] = df['gearbox'].replace(to_replace= 'manuell', value = 0)\n",
        "df['gearbox'] = df['gearbox'].replace(to_replace='automatik', value = 1)"
      ],
      "execution_count": 29,
      "outputs": []
    },
    {
      "cell_type": "code",
      "metadata": {
        "id": "yvmZAYNvXwiU",
        "colab_type": "code",
        "colab": {
          "base_uri": "https://localhost:8080/",
          "height": 120
        },
        "outputId": "3e1a3df8-c36e-4cf9-b571-5850aa0db5e7"
      },
      "source": [
        "#Features no Binarias: \n",
        "#vehicleType: Esta columna posee en total 8 categorias, las cuales a pesar de ser altas no es necesario agregarlas.\n",
        "\"\"\"vehicleType\n",
        "  andere         2210\n",
        "  bus           25147\n",
        "  cabrio        16397\n",
        "  coupe         11914\n",
        "  kleinwagen    66977\n",
        "  kombi         56213\n",
        "  limousine     76325\n",
        "  suv \"\"\"\n",
        "#fuelType: Esta columna hace referencia al tipo de combustible que usa el vehiculo, debido a  que existe disparidad entre\n",
        "#estos, he decidido agruparlos en los siguientes grupos: (benzin) = gasolina, (diesel) = diesel , (andere, cng, elektro, \n",
        "#hybrid,lpg) = alternativa\n",
        "df['fuelType'] = df['fuelType'].replace(to_replace= 'benzin', value = 'gasolina')\n",
        "df['fuelType'] = df['fuelType'].replace(to_replace= 'andere', value = 'alternativa')\n",
        "df['fuelType'] = df['fuelType'].replace(to_replace= 'cng', value = 'alternativa')\n",
        "df['fuelType'] = df['fuelType'].replace(to_replace= 'elektro', value = 'alternativa')\n",
        "df['fuelType'] = df['fuelType'].replace(to_replace= 'hybrid', value = 'alternativa')\n",
        "df['fuelType'] = df['fuelType'].replace(to_replace= 'lpg', value = 'alternativa')\n",
        "print(df.groupby('fuelType')['fuelType'].count())\n",
        "\n",
        "#notRepairedDamage: Esta columna tiene 3 categorias, las cuales pueden permanecer ya que no pueden agregarse. \n",
        "\"\"\"\n",
        "notRepairedDamage\n",
        "Gut      35686\n",
        "ja       26354\n",
        "nein    202105\n",
        "\"\"\""
      ],
      "execution_count": 30,
      "outputs": [
        {
          "output_type": "stream",
          "text": [
            "fuelType\n",
            "alternativa      4870\n",
            "diesel          83523\n",
            "gasolina       175752\n",
            "Name: fuelType, dtype: int64\n"
          ],
          "name": "stdout"
        },
        {
          "output_type": "execute_result",
          "data": {
            "application/vnd.google.colaboratory.intrinsic": {
              "type": "string"
            },
            "text/plain": [
              "'\\nnotRepairedDamage\\nGut      35686\\nja       26354\\nnein    202105\\n'"
            ]
          },
          "metadata": {
            "tags": []
          },
          "execution_count": 30
        }
      ]
    },
    {
      "cell_type": "code",
      "metadata": {
        "id": "viTMLKLjcUtD",
        "colab_type": "code",
        "colab": {
          "base_uri": "https://localhost:8080/",
          "height": 1000
        },
        "outputId": "c1f4064d-0868-475a-e9d1-7ed17c4461c5"
      },
      "source": [
        "#One Hot Encoding: \n",
        "from keras.utils import to_categorical\n",
        "from sklearn.preprocessing import LabelEncoder\n",
        "\"\"\"\n",
        "notRepairedDamage:\n",
        "\n",
        "\"\"\"\n",
        "a_1 = np.array(df[['notRepairedDamage']]) \n",
        "lr_1 = LabelEncoder()\n",
        "a_1 = lr_1.fit_transform(a_1)\n",
        "cat_1 = to_categorical(a_1)\n",
        "cat_1 = np.delete(cat_1, 2, 1)\n",
        "df_repo_1 = pd.DataFrame(data=cat_1, columns=[\"NRD1\", \"NRD2\"])\n",
        "\n",
        "\"\"\"vehicleType\n",
        "  andere         2210\n",
        "  bus           25147\n",
        "  cabrio        16397\n",
        "  coupe         11914\n",
        "  kleinwagen    66977\n",
        "  kombi         56213\n",
        "  limousine     76325\n",
        "  suv \"\"\"\n",
        "\n",
        "a_2 = np.array(df[['vehicleType']])\n",
        "lr_2 = LabelEncoder()\n",
        "a_2 = lr_2.fit_transform(a_2)\n",
        "cat_2 = to_categorical(a_2)\n",
        "cat_2 = np.delete(cat_2, 7, 1)\n",
        "df_repo_2 = pd.DataFrame(data=cat_2, columns=[\"VT1\", \"VT2\", \"VT3\", \"VT4\", \"VT5\", \"VT6\", \"VT7\"])\n",
        "\n",
        "\"\"\"fuelType\"\"\"\n",
        "a_3 = np.array(df[['fuelType']])\n",
        "lr_3 = LabelEncoder()\n",
        "a_3 = lr_3.fit_transform(a_3)\n",
        "cat_3 = to_categorical(a_3)\n",
        "cat_3 = np.delete(cat_3, 2, 1)\n",
        "df_repo_3 = pd.DataFrame(data=cat_3, columns=[\"FT1\", \"FT2\"])\n",
        "\n",
        "df_cd = df_repo_1.join(df_repo_2)\n",
        "df_cd = df_cd.join(df_repo_3)\n",
        "print(df_cd)\n",
        "\n",
        "df = df.join(df_cd)\n",
        "print(df)\n",
        "df = df.drop('notRepairedDamage', axis=1)  \n",
        "df = df.drop('vehicleType', axis=1)\n",
        "df = df.drop('fuelType', axis=1)\n",
        "df"
      ],
      "execution_count": 31,
      "outputs": [
        {
          "output_type": "stream",
          "text": [
            "Using TensorFlow backend.\n",
            "/usr/local/lib/python3.6/dist-packages/sklearn/preprocessing/_label.py:251: DataConversionWarning: A column-vector y was passed when a 1d array was expected. Please change the shape of y to (n_samples, ), for example using ravel().\n",
            "  y = column_or_1d(y, warn=True)\n"
          ],
          "name": "stderr"
        },
        {
          "output_type": "stream",
          "text": [
            "        NRD1  NRD2  VT1  VT2  VT3  VT4  VT5  VT6  VT7  FT1  FT2\n",
            "0        1.0   0.0  0.0  0.0  0.0  0.0  0.0  0.0  0.0  0.0  1.0\n",
            "1        0.0   0.0  0.0  0.0  0.0  0.0  1.0  0.0  0.0  0.0  0.0\n",
            "2        0.0   0.0  0.0  0.0  0.0  0.0  1.0  0.0  0.0  0.0  1.0\n",
            "3        0.0   1.0  0.0  0.0  0.0  0.0  0.0  0.0  1.0  0.0  0.0\n",
            "4        0.0   0.0  0.0  0.0  1.0  0.0  0.0  0.0  0.0  0.0  0.0\n",
            "...      ...   ...  ...  ...  ...  ...  ...  ...  ...  ...  ...\n",
            "264140   0.0   1.0  0.0  0.0  0.0  0.0  0.0  0.0  1.0  0.0  0.0\n",
            "264141   0.0   0.0  0.0  1.0  0.0  0.0  0.0  0.0  0.0  0.0  0.0\n",
            "264142   0.0   0.0  0.0  0.0  1.0  0.0  0.0  0.0  0.0  0.0  0.0\n",
            "264143   0.0   0.0  0.0  1.0  0.0  0.0  0.0  0.0  0.0  0.0  1.0\n",
            "264144   1.0   0.0  0.0  0.0  0.0  0.0  0.0  1.0  0.0  0.0  1.0\n",
            "\n",
            "[264145 rows x 11 columns]\n",
            "                dateCrawled  ...  FT2\n",
            "2       2016-03-14 12:52:21  ...  1.0\n",
            "3       2016-03-17 16:54:04  ...  0.0\n",
            "4       2016-03-31 17:25:20  ...  0.0\n",
            "5       2016-04-04 17:36:23  ...  0.0\n",
            "6       2016-04-01 20:48:51  ...  0.0\n",
            "...                     ...  ...  ...\n",
            "371520  2016-03-19 19:53:49  ...  NaN\n",
            "371521  2016-03-27 20:36:20  ...  NaN\n",
            "371524  2016-03-05 19:56:21  ...  NaN\n",
            "371525  2016-03-19 18:57:12  ...  NaN\n",
            "371526  2016-03-20 19:41:08  ...  NaN\n",
            "\n",
            "[264145 rows x 28 columns]\n"
          ],
          "name": "stdout"
        },
        {
          "output_type": "execute_result",
          "data": {
            "text/html": [
              "<div>\n",
              "<style scoped>\n",
              "    .dataframe tbody tr th:only-of-type {\n",
              "        vertical-align: middle;\n",
              "    }\n",
              "\n",
              "    .dataframe tbody tr th {\n",
              "        vertical-align: top;\n",
              "    }\n",
              "\n",
              "    .dataframe thead th {\n",
              "        text-align: right;\n",
              "    }\n",
              "</style>\n",
              "<table border=\"1\" class=\"dataframe\">\n",
              "  <thead>\n",
              "    <tr style=\"text-align: right;\">\n",
              "      <th></th>\n",
              "      <th>dateCrawled</th>\n",
              "      <th>name</th>\n",
              "      <th>price</th>\n",
              "      <th>abtest</th>\n",
              "      <th>yearOfRegistration</th>\n",
              "      <th>gearbox</th>\n",
              "      <th>powerPS</th>\n",
              "      <th>model</th>\n",
              "      <th>kilometer</th>\n",
              "      <th>monthOfRegistration</th>\n",
              "      <th>brand</th>\n",
              "      <th>dateCreated</th>\n",
              "      <th>postalCode</th>\n",
              "      <th>lastSeen</th>\n",
              "      <th>NRD1</th>\n",
              "      <th>NRD2</th>\n",
              "      <th>VT1</th>\n",
              "      <th>VT2</th>\n",
              "      <th>VT3</th>\n",
              "      <th>VT4</th>\n",
              "      <th>VT5</th>\n",
              "      <th>VT6</th>\n",
              "      <th>VT7</th>\n",
              "      <th>FT1</th>\n",
              "      <th>FT2</th>\n",
              "    </tr>\n",
              "  </thead>\n",
              "  <tbody>\n",
              "    <tr>\n",
              "      <th>2</th>\n",
              "      <td>2016-03-14 12:52:21</td>\n",
              "      <td>Jeep_Grand_Cherokee_\"Overland\"</td>\n",
              "      <td>9800</td>\n",
              "      <td>1</td>\n",
              "      <td>2004</td>\n",
              "      <td>1</td>\n",
              "      <td>163</td>\n",
              "      <td>grand</td>\n",
              "      <td>125000</td>\n",
              "      <td>8</td>\n",
              "      <td>jeep</td>\n",
              "      <td>2016-03-14 00:00:00</td>\n",
              "      <td>90480</td>\n",
              "      <td>2016-04-05 12:47:46</td>\n",
              "      <td>0.0</td>\n",
              "      <td>0.0</td>\n",
              "      <td>0.0</td>\n",
              "      <td>0.0</td>\n",
              "      <td>0.0</td>\n",
              "      <td>0.0</td>\n",
              "      <td>1.0</td>\n",
              "      <td>0.0</td>\n",
              "      <td>0.0</td>\n",
              "      <td>0.0</td>\n",
              "      <td>1.0</td>\n",
              "    </tr>\n",
              "    <tr>\n",
              "      <th>3</th>\n",
              "      <td>2016-03-17 16:54:04</td>\n",
              "      <td>GOLF_4_1_4__3TÜRER</td>\n",
              "      <td>1500</td>\n",
              "      <td>1</td>\n",
              "      <td>2001</td>\n",
              "      <td>0</td>\n",
              "      <td>75</td>\n",
              "      <td>golf</td>\n",
              "      <td>150000</td>\n",
              "      <td>6</td>\n",
              "      <td>volkswagen</td>\n",
              "      <td>2016-03-17 00:00:00</td>\n",
              "      <td>91074</td>\n",
              "      <td>2016-03-17 17:40:17</td>\n",
              "      <td>0.0</td>\n",
              "      <td>1.0</td>\n",
              "      <td>0.0</td>\n",
              "      <td>0.0</td>\n",
              "      <td>0.0</td>\n",
              "      <td>0.0</td>\n",
              "      <td>0.0</td>\n",
              "      <td>0.0</td>\n",
              "      <td>1.0</td>\n",
              "      <td>0.0</td>\n",
              "      <td>0.0</td>\n",
              "    </tr>\n",
              "    <tr>\n",
              "      <th>4</th>\n",
              "      <td>2016-03-31 17:25:20</td>\n",
              "      <td>Skoda_Fabia_1.4_TDI_PD_Classic</td>\n",
              "      <td>3600</td>\n",
              "      <td>1</td>\n",
              "      <td>2008</td>\n",
              "      <td>0</td>\n",
              "      <td>69</td>\n",
              "      <td>fabia</td>\n",
              "      <td>90000</td>\n",
              "      <td>7</td>\n",
              "      <td>skoda</td>\n",
              "      <td>2016-03-31 00:00:00</td>\n",
              "      <td>60437</td>\n",
              "      <td>2016-04-06 10:17:21</td>\n",
              "      <td>0.0</td>\n",
              "      <td>0.0</td>\n",
              "      <td>0.0</td>\n",
              "      <td>0.0</td>\n",
              "      <td>1.0</td>\n",
              "      <td>0.0</td>\n",
              "      <td>0.0</td>\n",
              "      <td>0.0</td>\n",
              "      <td>0.0</td>\n",
              "      <td>0.0</td>\n",
              "      <td>0.0</td>\n",
              "    </tr>\n",
              "    <tr>\n",
              "      <th>5</th>\n",
              "      <td>2016-04-04 17:36:23</td>\n",
              "      <td>BMW_316i___e36_Limousine___Bastlerfahrzeug__Ex...</td>\n",
              "      <td>650</td>\n",
              "      <td>1</td>\n",
              "      <td>1995</td>\n",
              "      <td>0</td>\n",
              "      <td>102</td>\n",
              "      <td>3er</td>\n",
              "      <td>150000</td>\n",
              "      <td>10</td>\n",
              "      <td>bmw</td>\n",
              "      <td>2016-04-04 00:00:00</td>\n",
              "      <td>33775</td>\n",
              "      <td>2016-04-06 19:17:07</td>\n",
              "      <td>1.0</td>\n",
              "      <td>0.0</td>\n",
              "      <td>0.0</td>\n",
              "      <td>1.0</td>\n",
              "      <td>0.0</td>\n",
              "      <td>0.0</td>\n",
              "      <td>0.0</td>\n",
              "      <td>0.0</td>\n",
              "      <td>0.0</td>\n",
              "      <td>0.0</td>\n",
              "      <td>0.0</td>\n",
              "    </tr>\n",
              "    <tr>\n",
              "      <th>6</th>\n",
              "      <td>2016-04-01 20:48:51</td>\n",
              "      <td>Peugeot_206_CC_110_Platinum</td>\n",
              "      <td>2200</td>\n",
              "      <td>1</td>\n",
              "      <td>2004</td>\n",
              "      <td>0</td>\n",
              "      <td>109</td>\n",
              "      <td>2_reihe</td>\n",
              "      <td>150000</td>\n",
              "      <td>8</td>\n",
              "      <td>peugeot</td>\n",
              "      <td>2016-04-01 00:00:00</td>\n",
              "      <td>67112</td>\n",
              "      <td>2016-04-05 18:18:39</td>\n",
              "      <td>0.0</td>\n",
              "      <td>0.0</td>\n",
              "      <td>0.0</td>\n",
              "      <td>0.0</td>\n",
              "      <td>0.0</td>\n",
              "      <td>0.0</td>\n",
              "      <td>0.0</td>\n",
              "      <td>0.0</td>\n",
              "      <td>1.0</td>\n",
              "      <td>0.0</td>\n",
              "      <td>0.0</td>\n",
              "    </tr>\n",
              "    <tr>\n",
              "      <th>...</th>\n",
              "      <td>...</td>\n",
              "      <td>...</td>\n",
              "      <td>...</td>\n",
              "      <td>...</td>\n",
              "      <td>...</td>\n",
              "      <td>...</td>\n",
              "      <td>...</td>\n",
              "      <td>...</td>\n",
              "      <td>...</td>\n",
              "      <td>...</td>\n",
              "      <td>...</td>\n",
              "      <td>...</td>\n",
              "      <td>...</td>\n",
              "      <td>...</td>\n",
              "      <td>...</td>\n",
              "      <td>...</td>\n",
              "      <td>...</td>\n",
              "      <td>...</td>\n",
              "      <td>...</td>\n",
              "      <td>...</td>\n",
              "      <td>...</td>\n",
              "      <td>...</td>\n",
              "      <td>...</td>\n",
              "      <td>...</td>\n",
              "      <td>...</td>\n",
              "    </tr>\n",
              "    <tr>\n",
              "      <th>371520</th>\n",
              "      <td>2016-03-19 19:53:49</td>\n",
              "      <td>turbo_defekt</td>\n",
              "      <td>3200</td>\n",
              "      <td>control</td>\n",
              "      <td>2004</td>\n",
              "      <td>0</td>\n",
              "      <td>225</td>\n",
              "      <td>leon</td>\n",
              "      <td>150000</td>\n",
              "      <td>5</td>\n",
              "      <td>seat</td>\n",
              "      <td>2016-03-19 00:00:00</td>\n",
              "      <td>96465</td>\n",
              "      <td>2016-03-19 20:44:43</td>\n",
              "      <td>NaN</td>\n",
              "      <td>NaN</td>\n",
              "      <td>NaN</td>\n",
              "      <td>NaN</td>\n",
              "      <td>NaN</td>\n",
              "      <td>NaN</td>\n",
              "      <td>NaN</td>\n",
              "      <td>NaN</td>\n",
              "      <td>NaN</td>\n",
              "      <td>NaN</td>\n",
              "      <td>NaN</td>\n",
              "    </tr>\n",
              "    <tr>\n",
              "      <th>371521</th>\n",
              "      <td>2016-03-27 20:36:20</td>\n",
              "      <td>Opel_Zafira_1.6_Elegance_TÜV_12/16</td>\n",
              "      <td>1150</td>\n",
              "      <td>control</td>\n",
              "      <td>2000</td>\n",
              "      <td>0</td>\n",
              "      <td>0</td>\n",
              "      <td>zafira</td>\n",
              "      <td>150000</td>\n",
              "      <td>3</td>\n",
              "      <td>opel</td>\n",
              "      <td>2016-03-27 00:00:00</td>\n",
              "      <td>26624</td>\n",
              "      <td>2016-03-29 10:17:23</td>\n",
              "      <td>NaN</td>\n",
              "      <td>NaN</td>\n",
              "      <td>NaN</td>\n",
              "      <td>NaN</td>\n",
              "      <td>NaN</td>\n",
              "      <td>NaN</td>\n",
              "      <td>NaN</td>\n",
              "      <td>NaN</td>\n",
              "      <td>NaN</td>\n",
              "      <td>NaN</td>\n",
              "      <td>NaN</td>\n",
              "    </tr>\n",
              "    <tr>\n",
              "      <th>371524</th>\n",
              "      <td>2016-03-05 19:56:21</td>\n",
              "      <td>Smart_smart_leistungssteigerung_100ps</td>\n",
              "      <td>1199</td>\n",
              "      <td>1</td>\n",
              "      <td>2000</td>\n",
              "      <td>1</td>\n",
              "      <td>101</td>\n",
              "      <td>fortwo</td>\n",
              "      <td>125000</td>\n",
              "      <td>3</td>\n",
              "      <td>smart</td>\n",
              "      <td>2016-03-05 00:00:00</td>\n",
              "      <td>26135</td>\n",
              "      <td>2016-03-11 18:17:12</td>\n",
              "      <td>NaN</td>\n",
              "      <td>NaN</td>\n",
              "      <td>NaN</td>\n",
              "      <td>NaN</td>\n",
              "      <td>NaN</td>\n",
              "      <td>NaN</td>\n",
              "      <td>NaN</td>\n",
              "      <td>NaN</td>\n",
              "      <td>NaN</td>\n",
              "      <td>NaN</td>\n",
              "      <td>NaN</td>\n",
              "    </tr>\n",
              "    <tr>\n",
              "      <th>371525</th>\n",
              "      <td>2016-03-19 18:57:12</td>\n",
              "      <td>Volkswagen_Multivan_T4_TDI_7DC_UY2</td>\n",
              "      <td>9200</td>\n",
              "      <td>1</td>\n",
              "      <td>1996</td>\n",
              "      <td>0</td>\n",
              "      <td>102</td>\n",
              "      <td>transporter</td>\n",
              "      <td>150000</td>\n",
              "      <td>3</td>\n",
              "      <td>volkswagen</td>\n",
              "      <td>2016-03-19 00:00:00</td>\n",
              "      <td>87439</td>\n",
              "      <td>2016-04-07 07:15:26</td>\n",
              "      <td>NaN</td>\n",
              "      <td>NaN</td>\n",
              "      <td>NaN</td>\n",
              "      <td>NaN</td>\n",
              "      <td>NaN</td>\n",
              "      <td>NaN</td>\n",
              "      <td>NaN</td>\n",
              "      <td>NaN</td>\n",
              "      <td>NaN</td>\n",
              "      <td>NaN</td>\n",
              "      <td>NaN</td>\n",
              "    </tr>\n",
              "    <tr>\n",
              "      <th>371526</th>\n",
              "      <td>2016-03-20 19:41:08</td>\n",
              "      <td>VW_Golf_Kombi_1_9l_TDI</td>\n",
              "      <td>3400</td>\n",
              "      <td>1</td>\n",
              "      <td>2002</td>\n",
              "      <td>0</td>\n",
              "      <td>100</td>\n",
              "      <td>golf</td>\n",
              "      <td>150000</td>\n",
              "      <td>6</td>\n",
              "      <td>volkswagen</td>\n",
              "      <td>2016-03-20 00:00:00</td>\n",
              "      <td>40764</td>\n",
              "      <td>2016-03-24 12:45:21</td>\n",
              "      <td>NaN</td>\n",
              "      <td>NaN</td>\n",
              "      <td>NaN</td>\n",
              "      <td>NaN</td>\n",
              "      <td>NaN</td>\n",
              "      <td>NaN</td>\n",
              "      <td>NaN</td>\n",
              "      <td>NaN</td>\n",
              "      <td>NaN</td>\n",
              "      <td>NaN</td>\n",
              "      <td>NaN</td>\n",
              "    </tr>\n",
              "  </tbody>\n",
              "</table>\n",
              "<p>264145 rows × 25 columns</p>\n",
              "</div>"
            ],
            "text/plain": [
              "                dateCrawled  ...  FT2\n",
              "2       2016-03-14 12:52:21  ...  1.0\n",
              "3       2016-03-17 16:54:04  ...  0.0\n",
              "4       2016-03-31 17:25:20  ...  0.0\n",
              "5       2016-04-04 17:36:23  ...  0.0\n",
              "6       2016-04-01 20:48:51  ...  0.0\n",
              "...                     ...  ...  ...\n",
              "371520  2016-03-19 19:53:49  ...  NaN\n",
              "371521  2016-03-27 20:36:20  ...  NaN\n",
              "371524  2016-03-05 19:56:21  ...  NaN\n",
              "371525  2016-03-19 18:57:12  ...  NaN\n",
              "371526  2016-03-20 19:41:08  ...  NaN\n",
              "\n",
              "[264145 rows x 25 columns]"
            ]
          },
          "metadata": {
            "tags": []
          },
          "execution_count": 31
        }
      ]
    },
    {
      "cell_type": "markdown",
      "metadata": {
        "id": "3D37IpcDURpj",
        "colab_type": "text"
      },
      "source": [
        "### Discretización Features Continuos"
      ]
    },
    {
      "cell_type": "code",
      "metadata": {
        "id": "sofiyC9nyyJs",
        "colab_type": "code",
        "colab": {
          "base_uri": "https://localhost:8080/",
          "height": 1000
        },
        "outputId": "a5b74d10-674b-4d5c-d009-b9a5a3beadc6"
      },
      "source": [
        "#Discretizar variables continuas suele ser recomendable en escenarios en los que desees crear un modelo para clasificación. \n",
        "#y normalizarlo para regresión o en algunos clasificadores (dependerá de lo que represente la variable)\n",
        "#Es por eso que he decidio que para mis variables númericas aplicar ambos métodos, los cuales serán guardados en dos \n",
        "#dataframes distintos: df_disc_f, df_norm\n",
        "\n",
        "df_disc = df[['powerPS', 'yearOfRegistration', 'price', 'kilometer']]\n",
        "\n",
        "\n",
        "\"\"\"\n",
        "powerPS\n",
        "\n",
        "\"\"\"\n",
        "df_disc[\"powerPS_OR\"]=df_disc[\"powerPS\"]\n",
        "disc1 = dsc.EqualWidthDiscretiser(bins=10, variables=['powerPS'])\n",
        "disc1.fit(df_disc)\n",
        "df_disc_t1= disc1.transform(df_disc)\n",
        "df_disc_t1[\"powerPS_N\"]=1\n",
        "double_group_1 = df_disc_t1.groupby([\"powerPS\"])\n",
        "double_group_1.sum()\n",
        "print(double_group_1.sum()[[\"powerPS_OR\"]])\n",
        "print(max(df_disc[\"powerPS_OR\"]))\n",
        "print(double_group_1.sum()[[\"powerPS_N\"]])\n",
        "print(df_disc_t1.groupby('powerPS')['powerPS'].count().plot.bar())\n",
        "\n",
        "\"\"\"\n",
        "yearOfRegistration\n",
        "\n",
        "\"\"\"\n",
        "df_disc[\"yearOfRegistration_OR\"]=df_disc[\"yearOfRegistration\"]\n",
        "disc2 = dsc.EqualWidthDiscretiser(bins=10, variables=['yearOfRegistration'])\n",
        "disc2.fit(df_disc)\n",
        "df_disc_t2= disc2.transform(df_disc)\n",
        "df_disc_t2[\"yearOfRegistration_N\"]=1\n",
        "double_group_2 = df_disc_t2.groupby([\"yearOfRegistration\"])\n",
        "double_group_2.sum()\n",
        "print(double_group_2.sum()[[\"yearOfRegistration_OR\"]])\n",
        "print(max(df_disc[\"yearOfRegistration_OR\"]))\n",
        "print(double_group_2.sum()[[\"yearOfRegistration_N\"]])\n",
        "print(df_disc_t2.groupby('yearOfRegistration')['yearOfRegistration'].count().plot.bar())\n",
        "\n",
        "\"\"\"\n",
        "price\n",
        "\n",
        "\"\"\"\n",
        "df_disc[\"price_OR\"]=df_disc[\"price\"]\n",
        "disc3 = dsc.EqualWidthDiscretiser(bins=10, variables=['price'])\n",
        "disc3.fit(df_disc)\n",
        "df_disc_t3= disc3.transform(df_disc)\n",
        "df_disc_t3[\"price_N\"]=1\n",
        "double_group_3 = df_disc_t3.groupby([\"price\"])\n",
        "double_group_3.sum()\n",
        "print(double_group_3.sum()[[\"price_OR\"]])\n",
        "print(max(df_disc[\"price_OR\"]))\n",
        "print(double_group_3.sum()[[\"price_N\"]])\n",
        "print(df_disc_t3.groupby('price')['price'].count().plot.bar())\n",
        "\n",
        "\n",
        "\"\"\"\n",
        "kilometer\n",
        "\n",
        "\"\"\"\n",
        "df_disc[\"kilometer_OR\"]=df_disc[\"kilometer\"]\n",
        "disc4 = dsc.EqualWidthDiscretiser(bins=10, variables=['kilometer'])\n",
        "disc4.fit(df_disc)\n",
        "df_disc_t4= disc4.transform(df_disc)\n",
        "df_disc_t4[\"kilometer_N\"]=1\n",
        "df_disc_t4\n",
        "double_group_4 = df_disc_t4.groupby([\"kilometer\"])\n",
        "double_group_4.sum()\n",
        "print(double_group_4.sum()[[\"kilometer_OR\"]])\n",
        "print(max(df_disc[\"kilometer_OR\"]))\n",
        "print(double_group_4.sum()[[\"kilometer_N\"]])\n",
        "print(df_disc_t4.groupby('kilometer')['kilometer'].count().plot.bar())\n"
      ],
      "execution_count": 32,
      "outputs": [
        {
          "output_type": "stream",
          "text": [
            "/usr/local/lib/python3.6/dist-packages/ipykernel_launcher.py:13: SettingWithCopyWarning: \n",
            "A value is trying to be set on a copy of a slice from a DataFrame.\n",
            "Try using .loc[row_indexer,col_indexer] = value instead\n",
            "\n",
            "See the caveats in the documentation: https://pandas.pydata.org/pandas-docs/stable/user_guide/indexing.html#returning-a-view-versus-a-copy\n",
            "  del sys.path[0]\n",
            "/usr/local/lib/python3.6/dist-packages/ipykernel_launcher.py:29: SettingWithCopyWarning: \n",
            "A value is trying to be set on a copy of a slice from a DataFrame.\n",
            "Try using .loc[row_indexer,col_indexer] = value instead\n",
            "\n",
            "See the caveats in the documentation: https://pandas.pydata.org/pandas-docs/stable/user_guide/indexing.html#returning-a-view-versus-a-copy\n"
          ],
          "name": "stderr"
        },
        {
          "output_type": "stream",
          "text": [
            "         powerPS_OR\n",
            "powerPS            \n",
            "0              3069\n",
            "1            328780\n",
            "2           3641042\n",
            "3           4180447\n",
            "4           6436644\n",
            "5           5814902\n",
            "6           4141334\n",
            "7           2226231\n",
            "8           1945132\n",
            "9            575251\n",
            "262\n",
            "         powerPS_N\n",
            "powerPS           \n",
            "0            15085\n",
            "1             6989\n",
            "2            54777\n",
            "3            44630\n",
            "4            55275\n",
            "5            40501\n",
            "6            24448\n",
            "7            11428\n",
            "8             8686\n",
            "9             2326\n",
            "AxesSubplot(0.125,0.125;0.775x0.755)\n",
            "                    yearOfRegistration_OR\n",
            "yearOfRegistration                       \n",
            "0                                 7534097\n",
            "1                                14791098\n",
            "2                                38219160\n",
            "3                                92172642\n",
            "4                               101082400\n",
            "5                               103498346\n",
            "6                                91334552\n",
            "7                                60902541\n",
            "8                                19169181\n",
            "9                                  300289\n",
            "2018\n",
            "                    yearOfRegistration_N\n",
            "yearOfRegistration                      \n",
            "0                                   3788\n",
            "1                                   7425\n",
            "2                                  19155\n",
            "3                                  46129\n",
            "4                                  50516\n",
            "5                                  51646\n",
            "6                                  45510\n",
            "7                                  30302\n",
            "8                                   9525\n",
            "9                                    149\n",
            "AxesSubplot(0.125,0.125;0.775x0.755)\n"
          ],
          "name": "stdout"
        },
        {
          "output_type": "stream",
          "text": [
            "/usr/local/lib/python3.6/dist-packages/ipykernel_launcher.py:45: SettingWithCopyWarning: \n",
            "A value is trying to be set on a copy of a slice from a DataFrame.\n",
            "Try using .loc[row_indexer,col_indexer] = value instead\n",
            "\n",
            "See the caveats in the documentation: https://pandas.pydata.org/pandas-docs/stable/user_guide/indexing.html#returning-a-view-versus-a-copy\n",
            "/usr/local/lib/python3.6/dist-packages/ipykernel_launcher.py:62: SettingWithCopyWarning: \n",
            "A value is trying to be set on a copy of a slice from a DataFrame.\n",
            "Try using .loc[row_indexer,col_indexer] = value instead\n",
            "\n",
            "See the caveats in the documentation: https://pandas.pydata.org/pandas-docs/stable/user_guide/indexing.html#returning-a-view-versus-a-copy\n"
          ],
          "name": "stderr"
        },
        {
          "output_type": "stream",
          "text": [
            "        price_OR\n",
            "price           \n",
            "0       81552764\n",
            "1      150630488\n",
            "2      148416791\n",
            "3      156274274\n",
            "4      139022418\n",
            "5      122375599\n",
            "6      111618387\n",
            "7       95592404\n",
            "8       92335971\n",
            "9       65973737\n",
            "17890\n",
            "       price_N\n",
            "price         \n",
            "0        90416\n",
            "1        58209\n",
            "2        33823\n",
            "3        25112\n",
            "4        17335\n",
            "5        12560\n",
            "6         9608\n",
            "7         7120\n",
            "8         6073\n",
            "9         3889\n",
            "AxesSubplot(0.125,0.125;0.775x0.755)\n",
            "           kilometer_OR\n",
            "kilometer              \n",
            "0             251960000\n",
            "1             242800000\n",
            "2             355440000\n",
            "3             481670000\n",
            "4            1483890000\n",
            "5            1144100000\n",
            "7            3653375000\n",
            "9           27197100000\n",
            "150000\n",
            "           kilometer_N\n",
            "kilometer             \n",
            "0                 7121\n",
            "1                 4856\n",
            "2                 5924\n",
            "3                 6881\n",
            "4                17381\n",
            "5                11441\n",
            "7                29227\n",
            "9               181314\n",
            "AxesSubplot(0.125,0.125;0.775x0.755)\n"
          ],
          "name": "stdout"
        },
        {
          "output_type": "display_data",
          "data": {
            "image/png": "[encoded data removed]",
            "text/plain": [
              "<Figure size 432x288 with 1 Axes>"
            ]
          },
          "metadata": {
            "tags": [],
            "needs_background": "light"
          }
        }
      ]
    },
    {
      "cell_type": "code",
      "metadata": {
        "id": "DQ55lhMqBk1_",
        "colab_type": "code",
        "colab": {
          "base_uri": "https://localhost:8080/",
          "height": 779
        },
        "outputId": "dc700f58-48de-4b2c-a26a-e54598de2112"
      },
      "source": [
        "df_disc_f = df\n",
        "df_disc_f['powerPS'] = df_disc_t1['powerPS']\n",
        "df_disc_f['yearOfRegistration'] = df_disc_t2['yearOfRegistration']\n",
        "df_disc_f['price'] = df_disc_t3['price']\n",
        "df_disc_f['kilometer'] = df_disc_t4['kilometer']\n",
        "\n",
        "df_disc_f "
      ],
      "execution_count": 34,
      "outputs": [
        {
          "output_type": "execute_result",
          "data": {
            "text/html": [
              "<div>\n",
              "<style scoped>\n",
              "    .dataframe tbody tr th:only-of-type {\n",
              "        vertical-align: middle;\n",
              "    }\n",
              "\n",
              "    .dataframe tbody tr th {\n",
              "        vertical-align: top;\n",
              "    }\n",
              "\n",
              "    .dataframe thead th {\n",
              "        text-align: right;\n",
              "    }\n",
              "</style>\n",
              "<table border=\"1\" class=\"dataframe\">\n",
              "  <thead>\n",
              "    <tr style=\"text-align: right;\">\n",
              "      <th></th>\n",
              "      <th>dateCrawled</th>\n",
              "      <th>name</th>\n",
              "      <th>price</th>\n",
              "      <th>abtest</th>\n",
              "      <th>yearOfRegistration</th>\n",
              "      <th>gearbox</th>\n",
              "      <th>powerPS</th>\n",
              "      <th>model</th>\n",
              "      <th>kilometer</th>\n",
              "      <th>monthOfRegistration</th>\n",
              "      <th>brand</th>\n",
              "      <th>dateCreated</th>\n",
              "      <th>postalCode</th>\n",
              "      <th>lastSeen</th>\n",
              "      <th>NRD1</th>\n",
              "      <th>NRD2</th>\n",
              "      <th>VT1</th>\n",
              "      <th>VT2</th>\n",
              "      <th>VT3</th>\n",
              "      <th>VT4</th>\n",
              "      <th>VT5</th>\n",
              "      <th>VT6</th>\n",
              "      <th>VT7</th>\n",
              "      <th>FT1</th>\n",
              "      <th>FT2</th>\n",
              "    </tr>\n",
              "  </thead>\n",
              "  <tbody>\n",
              "    <tr>\n",
              "      <th>2</th>\n",
              "      <td>2016-03-14 12:52:21</td>\n",
              "      <td>Jeep_Grand_Cherokee_\"Overland\"</td>\n",
              "      <td>5</td>\n",
              "      <td>1</td>\n",
              "      <td>5</td>\n",
              "      <td>1</td>\n",
              "      <td>6</td>\n",
              "      <td>grand</td>\n",
              "      <td>7</td>\n",
              "      <td>8</td>\n",
              "      <td>jeep</td>\n",
              "      <td>2016-03-14 00:00:00</td>\n",
              "      <td>90480</td>\n",
              "      <td>2016-04-05 12:47:46</td>\n",
              "      <td>0.0</td>\n",
              "      <td>0.0</td>\n",
              "      <td>0.0</td>\n",
              "      <td>0.0</td>\n",
              "      <td>0.0</td>\n",
              "      <td>0.0</td>\n",
              "      <td>1.0</td>\n",
              "      <td>0.0</td>\n",
              "      <td>0.0</td>\n",
              "      <td>0.0</td>\n",
              "      <td>1.0</td>\n",
              "    </tr>\n",
              "    <tr>\n",
              "      <th>3</th>\n",
              "      <td>2016-03-17 16:54:04</td>\n",
              "      <td>GOLF_4_1_4__3TÜRER</td>\n",
              "      <td>0</td>\n",
              "      <td>1</td>\n",
              "      <td>4</td>\n",
              "      <td>0</td>\n",
              "      <td>2</td>\n",
              "      <td>golf</td>\n",
              "      <td>9</td>\n",
              "      <td>6</td>\n",
              "      <td>volkswagen</td>\n",
              "      <td>2016-03-17 00:00:00</td>\n",
              "      <td>91074</td>\n",
              "      <td>2016-03-17 17:40:17</td>\n",
              "      <td>0.0</td>\n",
              "      <td>1.0</td>\n",
              "      <td>0.0</td>\n",
              "      <td>0.0</td>\n",
              "      <td>0.0</td>\n",
              "      <td>0.0</td>\n",
              "      <td>0.0</td>\n",
              "      <td>0.0</td>\n",
              "      <td>1.0</td>\n",
              "      <td>0.0</td>\n",
              "      <td>0.0</td>\n",
              "    </tr>\n",
              "    <tr>\n",
              "      <th>4</th>\n",
              "      <td>2016-03-31 17:25:20</td>\n",
              "      <td>Skoda_Fabia_1.4_TDI_PD_Classic</td>\n",
              "      <td>2</td>\n",
              "      <td>1</td>\n",
              "      <td>6</td>\n",
              "      <td>0</td>\n",
              "      <td>2</td>\n",
              "      <td>fabia</td>\n",
              "      <td>4</td>\n",
              "      <td>7</td>\n",
              "      <td>skoda</td>\n",
              "      <td>2016-03-31 00:00:00</td>\n",
              "      <td>60437</td>\n",
              "      <td>2016-04-06 10:17:21</td>\n",
              "      <td>0.0</td>\n",
              "      <td>0.0</td>\n",
              "      <td>0.0</td>\n",
              "      <td>0.0</td>\n",
              "      <td>1.0</td>\n",
              "      <td>0.0</td>\n",
              "      <td>0.0</td>\n",
              "      <td>0.0</td>\n",
              "      <td>0.0</td>\n",
              "      <td>0.0</td>\n",
              "      <td>0.0</td>\n",
              "    </tr>\n",
              "    <tr>\n",
              "      <th>5</th>\n",
              "      <td>2016-04-04 17:36:23</td>\n",
              "      <td>BMW_316i___e36_Limousine___Bastlerfahrzeug__Ex...</td>\n",
              "      <td>0</td>\n",
              "      <td>1</td>\n",
              "      <td>2</td>\n",
              "      <td>0</td>\n",
              "      <td>3</td>\n",
              "      <td>3er</td>\n",
              "      <td>9</td>\n",
              "      <td>10</td>\n",
              "      <td>bmw</td>\n",
              "      <td>2016-04-04 00:00:00</td>\n",
              "      <td>33775</td>\n",
              "      <td>2016-04-06 19:17:07</td>\n",
              "      <td>1.0</td>\n",
              "      <td>0.0</td>\n",
              "      <td>0.0</td>\n",
              "      <td>1.0</td>\n",
              "      <td>0.0</td>\n",
              "      <td>0.0</td>\n",
              "      <td>0.0</td>\n",
              "      <td>0.0</td>\n",
              "      <td>0.0</td>\n",
              "      <td>0.0</td>\n",
              "      <td>0.0</td>\n",
              "    </tr>\n",
              "    <tr>\n",
              "      <th>6</th>\n",
              "      <td>2016-04-01 20:48:51</td>\n",
              "      <td>Peugeot_206_CC_110_Platinum</td>\n",
              "      <td>1</td>\n",
              "      <td>1</td>\n",
              "      <td>5</td>\n",
              "      <td>0</td>\n",
              "      <td>4</td>\n",
              "      <td>2_reihe</td>\n",
              "      <td>9</td>\n",
              "      <td>8</td>\n",
              "      <td>peugeot</td>\n",
              "      <td>2016-04-01 00:00:00</td>\n",
              "      <td>67112</td>\n",
              "      <td>2016-04-05 18:18:39</td>\n",
              "      <td>0.0</td>\n",
              "      <td>0.0</td>\n",
              "      <td>0.0</td>\n",
              "      <td>0.0</td>\n",
              "      <td>0.0</td>\n",
              "      <td>0.0</td>\n",
              "      <td>0.0</td>\n",
              "      <td>0.0</td>\n",
              "      <td>1.0</td>\n",
              "      <td>0.0</td>\n",
              "      <td>0.0</td>\n",
              "    </tr>\n",
              "    <tr>\n",
              "      <th>...</th>\n",
              "      <td>...</td>\n",
              "      <td>...</td>\n",
              "      <td>...</td>\n",
              "      <td>...</td>\n",
              "      <td>...</td>\n",
              "      <td>...</td>\n",
              "      <td>...</td>\n",
              "      <td>...</td>\n",
              "      <td>...</td>\n",
              "      <td>...</td>\n",
              "      <td>...</td>\n",
              "      <td>...</td>\n",
              "      <td>...</td>\n",
              "      <td>...</td>\n",
              "      <td>...</td>\n",
              "      <td>...</td>\n",
              "      <td>...</td>\n",
              "      <td>...</td>\n",
              "      <td>...</td>\n",
              "      <td>...</td>\n",
              "      <td>...</td>\n",
              "      <td>...</td>\n",
              "      <td>...</td>\n",
              "      <td>...</td>\n",
              "      <td>...</td>\n",
              "    </tr>\n",
              "    <tr>\n",
              "      <th>371520</th>\n",
              "      <td>2016-03-19 19:53:49</td>\n",
              "      <td>turbo_defekt</td>\n",
              "      <td>1</td>\n",
              "      <td>control</td>\n",
              "      <td>5</td>\n",
              "      <td>0</td>\n",
              "      <td>8</td>\n",
              "      <td>leon</td>\n",
              "      <td>9</td>\n",
              "      <td>5</td>\n",
              "      <td>seat</td>\n",
              "      <td>2016-03-19 00:00:00</td>\n",
              "      <td>96465</td>\n",
              "      <td>2016-03-19 20:44:43</td>\n",
              "      <td>NaN</td>\n",
              "      <td>NaN</td>\n",
              "      <td>NaN</td>\n",
              "      <td>NaN</td>\n",
              "      <td>NaN</td>\n",
              "      <td>NaN</td>\n",
              "      <td>NaN</td>\n",
              "      <td>NaN</td>\n",
              "      <td>NaN</td>\n",
              "      <td>NaN</td>\n",
              "      <td>NaN</td>\n",
              "    </tr>\n",
              "    <tr>\n",
              "      <th>371521</th>\n",
              "      <td>2016-03-27 20:36:20</td>\n",
              "      <td>Opel_Zafira_1.6_Elegance_TÜV_12/16</td>\n",
              "      <td>0</td>\n",
              "      <td>control</td>\n",
              "      <td>4</td>\n",
              "      <td>0</td>\n",
              "      <td>0</td>\n",
              "      <td>zafira</td>\n",
              "      <td>9</td>\n",
              "      <td>3</td>\n",
              "      <td>opel</td>\n",
              "      <td>2016-03-27 00:00:00</td>\n",
              "      <td>26624</td>\n",
              "      <td>2016-03-29 10:17:23</td>\n",
              "      <td>NaN</td>\n",
              "      <td>NaN</td>\n",
              "      <td>NaN</td>\n",
              "      <td>NaN</td>\n",
              "      <td>NaN</td>\n",
              "      <td>NaN</td>\n",
              "      <td>NaN</td>\n",
              "      <td>NaN</td>\n",
              "      <td>NaN</td>\n",
              "      <td>NaN</td>\n",
              "      <td>NaN</td>\n",
              "    </tr>\n",
              "    <tr>\n",
              "      <th>371524</th>\n",
              "      <td>2016-03-05 19:56:21</td>\n",
              "      <td>Smart_smart_leistungssteigerung_100ps</td>\n",
              "      <td>0</td>\n",
              "      <td>1</td>\n",
              "      <td>4</td>\n",
              "      <td>1</td>\n",
              "      <td>3</td>\n",
              "      <td>fortwo</td>\n",
              "      <td>7</td>\n",
              "      <td>3</td>\n",
              "      <td>smart</td>\n",
              "      <td>2016-03-05 00:00:00</td>\n",
              "      <td>26135</td>\n",
              "      <td>2016-03-11 18:17:12</td>\n",
              "      <td>NaN</td>\n",
              "      <td>NaN</td>\n",
              "      <td>NaN</td>\n",
              "      <td>NaN</td>\n",
              "      <td>NaN</td>\n",
              "      <td>NaN</td>\n",
              "      <td>NaN</td>\n",
              "      <td>NaN</td>\n",
              "      <td>NaN</td>\n",
              "      <td>NaN</td>\n",
              "      <td>NaN</td>\n",
              "    </tr>\n",
              "    <tr>\n",
              "      <th>371525</th>\n",
              "      <td>2016-03-19 18:57:12</td>\n",
              "      <td>Volkswagen_Multivan_T4_TDI_7DC_UY2</td>\n",
              "      <td>5</td>\n",
              "      <td>1</td>\n",
              "      <td>2</td>\n",
              "      <td>0</td>\n",
              "      <td>3</td>\n",
              "      <td>transporter</td>\n",
              "      <td>9</td>\n",
              "      <td>3</td>\n",
              "      <td>volkswagen</td>\n",
              "      <td>2016-03-19 00:00:00</td>\n",
              "      <td>87439</td>\n",
              "      <td>2016-04-07 07:15:26</td>\n",
              "      <td>NaN</td>\n",
              "      <td>NaN</td>\n",
              "      <td>NaN</td>\n",
              "      <td>NaN</td>\n",
              "      <td>NaN</td>\n",
              "      <td>NaN</td>\n",
              "      <td>NaN</td>\n",
              "      <td>NaN</td>\n",
              "      <td>NaN</td>\n",
              "      <td>NaN</td>\n",
              "      <td>NaN</td>\n",
              "    </tr>\n",
              "    <tr>\n",
              "      <th>371526</th>\n",
              "      <td>2016-03-20 19:41:08</td>\n",
              "      <td>VW_Golf_Kombi_1_9l_TDI</td>\n",
              "      <td>1</td>\n",
              "      <td>1</td>\n",
              "      <td>4</td>\n",
              "      <td>0</td>\n",
              "      <td>3</td>\n",
              "      <td>golf</td>\n",
              "      <td>9</td>\n",
              "      <td>6</td>\n",
              "      <td>volkswagen</td>\n",
              "      <td>2016-03-20 00:00:00</td>\n",
              "      <td>40764</td>\n",
              "      <td>2016-03-24 12:45:21</td>\n",
              "      <td>NaN</td>\n",
              "      <td>NaN</td>\n",
              "      <td>NaN</td>\n",
              "      <td>NaN</td>\n",
              "      <td>NaN</td>\n",
              "      <td>NaN</td>\n",
              "      <td>NaN</td>\n",
              "      <td>NaN</td>\n",
              "      <td>NaN</td>\n",
              "      <td>NaN</td>\n",
              "      <td>NaN</td>\n",
              "    </tr>\n",
              "  </tbody>\n",
              "</table>\n",
              "<p>264145 rows × 25 columns</p>\n",
              "</div>"
            ],
            "text/plain": [
              "                dateCrawled  ...  FT2\n",
              "2       2016-03-14 12:52:21  ...  1.0\n",
              "3       2016-03-17 16:54:04  ...  0.0\n",
              "4       2016-03-31 17:25:20  ...  0.0\n",
              "5       2016-04-04 17:36:23  ...  0.0\n",
              "6       2016-04-01 20:48:51  ...  0.0\n",
              "...                     ...  ...  ...\n",
              "371520  2016-03-19 19:53:49  ...  NaN\n",
              "371521  2016-03-27 20:36:20  ...  NaN\n",
              "371524  2016-03-05 19:56:21  ...  NaN\n",
              "371525  2016-03-19 18:57:12  ...  NaN\n",
              "371526  2016-03-20 19:41:08  ...  NaN\n",
              "\n",
              "[264145 rows x 25 columns]"
            ]
          },
          "metadata": {
            "tags": []
          },
          "execution_count": 34
        }
      ]
    },
    {
      "cell_type": "code",
      "metadata": {
        "id": "KJ1dH_u6DLey",
        "colab_type": "code",
        "colab": {}
      },
      "source": [
        ""
      ],
      "execution_count": 33,
      "outputs": []
    },
    {
      "cell_type": "markdown",
      "metadata": {
        "id": "6vvbUD5qT2YQ",
        "colab_type": "text"
      },
      "source": [
        "### Normalización"
      ]
    },
    {
      "cell_type": "code",
      "metadata": {
        "id": "14PLn_cjExh6",
        "colab_type": "code",
        "colab": {
          "base_uri": "https://localhost:8080/",
          "height": 891
        },
        "outputId": "f8c5be49-f204-4367-de84-c5b89c17cc29"
      },
      "source": [
        "#P\n",
        "df_norm = df[['powerPS', 'yearOfRegistration', 'price', 'kilometer']]\n",
        "\"\"\"\n",
        "powerPS\n",
        "\n",
        "\"\"\"\n",
        "#Normalización Z-score\n",
        "df_norm[\"powerPS_ZS\"]=preprocessing.scale(df_norm[\"powerPS\"])\n",
        "plt.hist(df_norm[\"powerPS_ZS\"], bins = 50)\n",
        "\n",
        "#Normalización MinMax\n",
        "scaler = MinMaxScaler(feature_range=(0, 1))\n",
        "df_norm[\"powerPS_MM\"]=scaler.fit_transform(df_norm[[\"powerPS\"]])\n",
        "plt.hist(df_norm[\"powerPS_MM\"], bins = 50)"
      ],
      "execution_count": 58,
      "outputs": [
        {
          "output_type": "stream",
          "text": [
            "/usr/local/lib/python3.6/dist-packages/ipykernel_launcher.py:8: SettingWithCopyWarning: \n",
            "A value is trying to be set on a copy of a slice from a DataFrame.\n",
            "Try using .loc[row_indexer,col_indexer] = value instead\n",
            "\n",
            "See the caveats in the documentation: https://pandas.pydata.org/pandas-docs/stable/user_guide/indexing.html#returning-a-view-versus-a-copy\n",
            "  \n",
            "/usr/local/lib/python3.6/dist-packages/ipykernel_launcher.py:13: SettingWithCopyWarning: \n",
            "A value is trying to be set on a copy of a slice from a DataFrame.\n",
            "Try using .loc[row_indexer,col_indexer] = value instead\n",
            "\n",
            "See the caveats in the documentation: https://pandas.pydata.org/pandas-docs/stable/user_guide/indexing.html#returning-a-view-versus-a-copy\n",
            "  del sys.path[0]\n"
          ],
          "name": "stderr"
        },
        {
          "output_type": "execute_result",
          "data": {
            "text/html": [
              "<div>\n",
              "<style scoped>\n",
              "    .dataframe tbody tr th:only-of-type {\n",
              "        vertical-align: middle;\n",
              "    }\n",
              "\n",
              "    .dataframe tbody tr th {\n",
              "        vertical-align: top;\n",
              "    }\n",
              "\n",
              "    .dataframe thead th {\n",
              "        text-align: right;\n",
              "    }\n",
              "</style>\n",
              "<table border=\"1\" class=\"dataframe\">\n",
              "  <thead>\n",
              "    <tr style=\"text-align: right;\">\n",
              "      <th></th>\n",
              "      <th>powerPS</th>\n",
              "      <th>yearOfRegistration</th>\n",
              "      <th>price</th>\n",
              "      <th>kilometer</th>\n",
              "      <th>powerPS_ZS</th>\n",
              "      <th>powerPS_MM</th>\n",
              "    </tr>\n",
              "  </thead>\n",
              "  <tbody>\n",
              "    <tr>\n",
              "      <th>2</th>\n",
              "      <td>6</td>\n",
              "      <td>5</td>\n",
              "      <td>5</td>\n",
              "      <td>7</td>\n",
              "      <td>1.161005</td>\n",
              "      <td>0.666667</td>\n",
              "    </tr>\n",
              "    <tr>\n",
              "      <th>3</th>\n",
              "      <td>2</td>\n",
              "      <td>4</td>\n",
              "      <td>0</td>\n",
              "      <td>9</td>\n",
              "      <td>-0.905091</td>\n",
              "      <td>0.222222</td>\n",
              "    </tr>\n",
              "    <tr>\n",
              "      <th>4</th>\n",
              "      <td>2</td>\n",
              "      <td>6</td>\n",
              "      <td>2</td>\n",
              "      <td>4</td>\n",
              "      <td>-0.905091</td>\n",
              "      <td>0.222222</td>\n",
              "    </tr>\n",
              "    <tr>\n",
              "      <th>5</th>\n",
              "      <td>3</td>\n",
              "      <td>2</td>\n",
              "      <td>0</td>\n",
              "      <td>9</td>\n",
              "      <td>-0.388567</td>\n",
              "      <td>0.333333</td>\n",
              "    </tr>\n",
              "    <tr>\n",
              "      <th>6</th>\n",
              "      <td>4</td>\n",
              "      <td>5</td>\n",
              "      <td>1</td>\n",
              "      <td>9</td>\n",
              "      <td>0.127957</td>\n",
              "      <td>0.444444</td>\n",
              "    </tr>\n",
              "    <tr>\n",
              "      <th>...</th>\n",
              "      <td>...</td>\n",
              "      <td>...</td>\n",
              "      <td>...</td>\n",
              "      <td>...</td>\n",
              "      <td>...</td>\n",
              "      <td>...</td>\n",
              "    </tr>\n",
              "    <tr>\n",
              "      <th>371520</th>\n",
              "      <td>8</td>\n",
              "      <td>5</td>\n",
              "      <td>1</td>\n",
              "      <td>9</td>\n",
              "      <td>2.194053</td>\n",
              "      <td>0.888889</td>\n",
              "    </tr>\n",
              "    <tr>\n",
              "      <th>371521</th>\n",
              "      <td>0</td>\n",
              "      <td>4</td>\n",
              "      <td>0</td>\n",
              "      <td>9</td>\n",
              "      <td>-1.938139</td>\n",
              "      <td>0.000000</td>\n",
              "    </tr>\n",
              "    <tr>\n",
              "      <th>371524</th>\n",
              "      <td>3</td>\n",
              "      <td>4</td>\n",
              "      <td>0</td>\n",
              "      <td>7</td>\n",
              "      <td>-0.388567</td>\n",
              "      <td>0.333333</td>\n",
              "    </tr>\n",
              "    <tr>\n",
              "      <th>371525</th>\n",
              "      <td>3</td>\n",
              "      <td>2</td>\n",
              "      <td>5</td>\n",
              "      <td>9</td>\n",
              "      <td>-0.388567</td>\n",
              "      <td>0.333333</td>\n",
              "    </tr>\n",
              "    <tr>\n",
              "      <th>371526</th>\n",
              "      <td>3</td>\n",
              "      <td>4</td>\n",
              "      <td>1</td>\n",
              "      <td>9</td>\n",
              "      <td>-0.388567</td>\n",
              "      <td>0.333333</td>\n",
              "    </tr>\n",
              "  </tbody>\n",
              "</table>\n",
              "<p>264145 rows × 6 columns</p>\n",
              "</div>"
            ],
            "text/plain": [
              "        powerPS  yearOfRegistration  price  kilometer  powerPS_ZS  powerPS_MM\n",
              "2             6                   5      5          7    1.161005    0.666667\n",
              "3             2                   4      0          9   -0.905091    0.222222\n",
              "4             2                   6      2          4   -0.905091    0.222222\n",
              "5             3                   2      0          9   -0.388567    0.333333\n",
              "6             4                   5      1          9    0.127957    0.444444\n",
              "...         ...                 ...    ...        ...         ...         ...\n",
              "371520        8                   5      1          9    2.194053    0.888889\n",
              "371521        0                   4      0          9   -1.938139    0.000000\n",
              "371524        3                   4      0          7   -0.388567    0.333333\n",
              "371525        3                   2      5          9   -0.388567    0.333333\n",
              "371526        3                   4      1          9   -0.388567    0.333333\n",
              "\n",
              "[264145 rows x 6 columns]"
            ]
          },
          "metadata": {
            "tags": []
          },
          "execution_count": 58
        },
        {
          "output_type": "display_data",
          "data": {
            "image/png": "[encoded data removed]",
            "text/plain": [
              "<Figure size 432x288 with 1 Axes>"
            ]
          },
          "metadata": {
            "tags": [],
            "needs_background": "light"
          }
        }
      ]
    },
    {
      "cell_type": "code",
      "metadata": {
        "id": "LT7xRc1HMq5c",
        "colab_type": "code",
        "colab": {
          "base_uri": "https://localhost:8080/",
          "height": 710
        },
        "outputId": "adf68416-6012-4d76-b9d2-4b92c76cd17b"
      },
      "source": [
        "\"\"\"\n",
        "yearOfRegistration\n",
        "\n",
        "\"\"\"\n",
        "#Normalización Z-score\n",
        "df_norm[\"yearOfRegistration_ZS\"]=preprocessing.scale(df_norm[\"yearOfRegistration\"])\n",
        "plt.hist(df_norm[\"yearOfRegistration_ZS\"], bins = 50)\n",
        "\n",
        "#Normalización MinMax\n",
        "scaler = MinMaxScaler(feature_range=(0, 1))\n",
        "df_norm[\"yearOfRegistration_MM\"]=scaler.fit_transform(df_norm[[\"yearOfRegistration\"]])\n",
        "plt.hist(df_norm[\"yearOfRegistration_MM\"], bins = 50)"
      ],
      "execution_count": 59,
      "outputs": [
        {
          "output_type": "stream",
          "text": [
            "/usr/local/lib/python3.6/dist-packages/ipykernel_launcher.py:6: SettingWithCopyWarning: \n",
            "A value is trying to be set on a copy of a slice from a DataFrame.\n",
            "Try using .loc[row_indexer,col_indexer] = value instead\n",
            "\n",
            "See the caveats in the documentation: https://pandas.pydata.org/pandas-docs/stable/user_guide/indexing.html#returning-a-view-versus-a-copy\n",
            "  \n",
            "/usr/local/lib/python3.6/dist-packages/ipykernel_launcher.py:11: SettingWithCopyWarning: \n",
            "A value is trying to be set on a copy of a slice from a DataFrame.\n",
            "Try using .loc[row_indexer,col_indexer] = value instead\n",
            "\n",
            "See the caveats in the documentation: https://pandas.pydata.org/pandas-docs/stable/user_guide/indexing.html#returning-a-view-versus-a-copy\n",
            "  # This is added back by InteractiveShellApp.init_path()\n"
          ],
          "name": "stderr"
        },
        {
          "output_type": "execute_result",
          "data": {
            "text/plain": [
              "(array([ 3788.,     0.,     0.,     0.,     0.,  7425.,     0.,     0.,\n",
              "            0.,     0.,     0., 19155.,     0.,     0.,     0.,     0.,\n",
              "        46129.,     0.,     0.,     0.,     0.,     0., 50516.,     0.,\n",
              "            0.,     0.,     0., 51646.,     0.,     0.,     0.,     0.,\n",
              "            0., 45510.,     0.,     0.,     0.,     0., 30302.,     0.,\n",
              "            0.,     0.,     0.,     0.,  9525.,     0.,     0.,     0.,\n",
              "            0.,   149.]),\n",
              " array([0.  , 0.02, 0.04, 0.06, 0.08, 0.1 , 0.12, 0.14, 0.16, 0.18, 0.2 ,\n",
              "        0.22, 0.24, 0.26, 0.28, 0.3 , 0.32, 0.34, 0.36, 0.38, 0.4 , 0.42,\n",
              "        0.44, 0.46, 0.48, 0.5 , 0.52, 0.54, 0.56, 0.58, 0.6 , 0.62, 0.64,\n",
              "        0.66, 0.68, 0.7 , 0.72, 0.74, 0.76, 0.78, 0.8 , 0.82, 0.84, 0.86,\n",
              "        0.88, 0.9 , 0.92, 0.94, 0.96, 0.98, 1.  ]),\n",
              " <a list of 50 Patch objects>)"
            ]
          },
          "metadata": {
            "tags": []
          },
          "execution_count": 59
        },
        {
          "output_type": "display_data",
          "data": {
            "image/png": "[encoded data removed]",
            "text/plain": [
              "<Figure size 432x288 with 1 Axes>"
            ]
          },
          "metadata": {
            "tags": [],
            "needs_background": "light"
          }
        }
      ]
    },
    {
      "cell_type": "code",
      "metadata": {
        "id": "nJAew9U0Mrya",
        "colab_type": "code",
        "colab": {
          "base_uri": "https://localhost:8080/",
          "height": 710
        },
        "outputId": "a5d498fb-e5d8-4e85-bad4-2d5d682960d0"
      },
      "source": [
        "\"\"\"\n",
        "price\n",
        "\n",
        "\"\"\"\n",
        "#Normalización Z-score\n",
        "df_norm[\"price_ZS\"]=preprocessing.scale(df_norm[\"price\"])\n",
        "plt.hist(df_norm[\"price_ZS\"], bins = 50)\n",
        "\n",
        "#Normalización MinMax\n",
        "scaler = MinMaxScaler(feature_range=(0, 1))\n",
        "df_norm[\"price_MM\"]=scaler.fit_transform(df_norm[[\"price\"]])\n",
        "plt.hist(df_norm[\"price_MM\"], bins = 50)"
      ],
      "execution_count": 60,
      "outputs": [
        {
          "output_type": "stream",
          "text": [
            "/usr/local/lib/python3.6/dist-packages/ipykernel_launcher.py:6: SettingWithCopyWarning: \n",
            "A value is trying to be set on a copy of a slice from a DataFrame.\n",
            "Try using .loc[row_indexer,col_indexer] = value instead\n",
            "\n",
            "See the caveats in the documentation: https://pandas.pydata.org/pandas-docs/stable/user_guide/indexing.html#returning-a-view-versus-a-copy\n",
            "  \n",
            "/usr/local/lib/python3.6/dist-packages/ipykernel_launcher.py:11: SettingWithCopyWarning: \n",
            "A value is trying to be set on a copy of a slice from a DataFrame.\n",
            "Try using .loc[row_indexer,col_indexer] = value instead\n",
            "\n",
            "See the caveats in the documentation: https://pandas.pydata.org/pandas-docs/stable/user_guide/indexing.html#returning-a-view-versus-a-copy\n",
            "  # This is added back by InteractiveShellApp.init_path()\n"
          ],
          "name": "stderr"
        },
        {
          "output_type": "execute_result",
          "data": {
            "text/plain": [
              "(array([90416.,     0.,     0.,     0.,     0., 58209.,     0.,     0.,\n",
              "            0.,     0.,     0., 33823.,     0.,     0.,     0.,     0.,\n",
              "        25112.,     0.,     0.,     0.,     0.,     0., 17335.,     0.,\n",
              "            0.,     0.,     0., 12560.,     0.,     0.,     0.,     0.,\n",
              "            0.,  9608.,     0.,     0.,     0.,     0.,  7120.,     0.,\n",
              "            0.,     0.,     0.,     0.,  6073.,     0.,     0.,     0.,\n",
              "            0.,  3889.]),\n",
              " array([0.  , 0.02, 0.04, 0.06, 0.08, 0.1 , 0.12, 0.14, 0.16, 0.18, 0.2 ,\n",
              "        0.22, 0.24, 0.26, 0.28, 0.3 , 0.32, 0.34, 0.36, 0.38, 0.4 , 0.42,\n",
              "        0.44, 0.46, 0.48, 0.5 , 0.52, 0.54, 0.56, 0.58, 0.6 , 0.62, 0.64,\n",
              "        0.66, 0.68, 0.7 , 0.72, 0.74, 0.76, 0.78, 0.8 , 0.82, 0.84, 0.86,\n",
              "        0.88, 0.9 , 0.92, 0.94, 0.96, 0.98, 1.  ]),\n",
              " <a list of 50 Patch objects>)"
            ]
          },
          "metadata": {
            "tags": []
          },
          "execution_count": 60
        },
        {
          "output_type": "display_data",
          "data": {
            "image/png": "[encoded data removed]",
            "text/plain": [
              "<Figure size 432x288 with 1 Axes>"
            ]
          },
          "metadata": {
            "tags": [],
            "needs_background": "light"
          }
        }
      ]
    },
    {
      "cell_type": "code",
      "metadata": {
        "id": "uI951UuoMsl2",
        "colab_type": "code",
        "colab": {
          "base_uri": "https://localhost:8080/",
          "height": 727
        },
        "outputId": "4183a9de-a329-48e6-c163-321fcd0f2572"
      },
      "source": [
        "\"\"\"\n",
        "kilometer\n",
        "\n",
        "\"\"\"\n",
        "#Normalización Z-score\n",
        "df_norm[\"kilometer_ZS\"]=preprocessing.scale(df_norm[\"kilometer\"])\n",
        "plt.hist(df_norm[\"kilometer_ZS\"], bins = 50)\n",
        "\n",
        "#Normalización MinMax\n",
        "scaler = MinMaxScaler(feature_range=(0, 1))\n",
        "df_norm[\"kilometer_MM\"]=scaler.fit_transform(df_norm[[\"kilometer\"]])\n",
        "plt.hist(df_norm[\"kilometer_MM\"], bins = 50)"
      ],
      "execution_count": 61,
      "outputs": [
        {
          "output_type": "stream",
          "text": [
            "/usr/local/lib/python3.6/dist-packages/ipykernel_launcher.py:6: SettingWithCopyWarning: \n",
            "A value is trying to be set on a copy of a slice from a DataFrame.\n",
            "Try using .loc[row_indexer,col_indexer] = value instead\n",
            "\n",
            "See the caveats in the documentation: https://pandas.pydata.org/pandas-docs/stable/user_guide/indexing.html#returning-a-view-versus-a-copy\n",
            "  \n",
            "/usr/local/lib/python3.6/dist-packages/ipykernel_launcher.py:11: SettingWithCopyWarning: \n",
            "A value is trying to be set on a copy of a slice from a DataFrame.\n",
            "Try using .loc[row_indexer,col_indexer] = value instead\n",
            "\n",
            "See the caveats in the documentation: https://pandas.pydata.org/pandas-docs/stable/user_guide/indexing.html#returning-a-view-versus-a-copy\n",
            "  # This is added back by InteractiveShellApp.init_path()\n"
          ],
          "name": "stderr"
        },
        {
          "output_type": "execute_result",
          "data": {
            "text/plain": [
              "(array([  7121.,      0.,      0.,      0.,      0.,   4856.,      0.,\n",
              "             0.,      0.,      0.,      0.,   5924.,      0.,      0.,\n",
              "             0.,      0.,   6881.,      0.,      0.,      0.,      0.,\n",
              "             0.,  17381.,      0.,      0.,      0.,      0.,  11441.,\n",
              "             0.,      0.,      0.,      0.,      0.,      0.,      0.,\n",
              "             0.,      0.,      0.,  29227.,      0.,      0.,      0.,\n",
              "             0.,      0.,      0.,      0.,      0.,      0.,      0.,\n",
              "        181314.]),\n",
              " array([0.  , 0.02, 0.04, 0.06, 0.08, 0.1 , 0.12, 0.14, 0.16, 0.18, 0.2 ,\n",
              "        0.22, 0.24, 0.26, 0.28, 0.3 , 0.32, 0.34, 0.36, 0.38, 0.4 , 0.42,\n",
              "        0.44, 0.46, 0.48, 0.5 , 0.52, 0.54, 0.56, 0.58, 0.6 , 0.62, 0.64,\n",
              "        0.66, 0.68, 0.7 , 0.72, 0.74, 0.76, 0.78, 0.8 , 0.82, 0.84, 0.86,\n",
              "        0.88, 0.9 , 0.92, 0.94, 0.96, 0.98, 1.  ]),\n",
              " <a list of 50 Patch objects>)"
            ]
          },
          "metadata": {
            "tags": []
          },
          "execution_count": 61
        },
        {
          "output_type": "display_data",
          "data": {
            "image/png": "[encoded data removed]",
            "text/plain": [
              "<Figure size 432x288 with 1 Axes>"
            ]
          },
          "metadata": {
            "tags": [],
            "needs_background": "light"
          }
        }
      ]
    },
    {
      "cell_type": "code",
      "metadata": {
        "id": "r9zybJhFOCyH",
        "colab_type": "code",
        "colab": {
          "base_uri": "https://localhost:8080/",
          "height": 779
        },
        "outputId": "27527c5a-a7a2-4fb2-9495-b56486079b08"
      },
      "source": [
        "#Tras ver ambos medios de normalización aplicados a los features númericos se ha sacado estas conclusiones: \n",
        "#powerPS: Al haber una gran variedad de modelos y además un amplio rango de estos, considero que el método adecuado \n",
        "#es una normalización. \n",
        "#yearOfRegistration: Al haber una gran variedad de modelos y además un amplio rango de estos, considero que el método adecuado \n",
        "#es una normalización.\n",
        "#price: Al haber mucha más proporción de precios bajos, considero que el método adecuado es MinMax\n",
        "#kilometer: Al haber mucha más proporción de alto kilometraje, considero que el método adecuado es MinMax\n",
        " \n",
        "df_norm_f = df\n",
        "df_norm_f['powerPS'] = df_norm[\"powerPS_ZS\"]\n",
        "df_norm_f['yearOfRegistration'] = df_norm[\"yearOfRegistration_ZS\"]\n",
        "df_norm_f['price'] = df_norm[\"price_MM\"]\n",
        "df_norm_f['kilometer'] = df_norm[\"kilometer_MM\"]\n",
        "\n",
        "df_norm_f "
      ],
      "execution_count": 63,
      "outputs": [
        {
          "output_type": "execute_result",
          "data": {
            "text/html": [
              "<div>\n",
              "<style scoped>\n",
              "    .dataframe tbody tr th:only-of-type {\n",
              "        vertical-align: middle;\n",
              "    }\n",
              "\n",
              "    .dataframe tbody tr th {\n",
              "        vertical-align: top;\n",
              "    }\n",
              "\n",
              "    .dataframe thead th {\n",
              "        text-align: right;\n",
              "    }\n",
              "</style>\n",
              "<table border=\"1\" class=\"dataframe\">\n",
              "  <thead>\n",
              "    <tr style=\"text-align: right;\">\n",
              "      <th></th>\n",
              "      <th>dateCrawled</th>\n",
              "      <th>name</th>\n",
              "      <th>price</th>\n",
              "      <th>abtest</th>\n",
              "      <th>yearOfRegistration</th>\n",
              "      <th>gearbox</th>\n",
              "      <th>powerPS</th>\n",
              "      <th>model</th>\n",
              "      <th>kilometer</th>\n",
              "      <th>monthOfRegistration</th>\n",
              "      <th>brand</th>\n",
              "      <th>dateCreated</th>\n",
              "      <th>postalCode</th>\n",
              "      <th>lastSeen</th>\n",
              "      <th>NRD1</th>\n",
              "      <th>NRD2</th>\n",
              "      <th>VT1</th>\n",
              "      <th>VT2</th>\n",
              "      <th>VT3</th>\n",
              "      <th>VT4</th>\n",
              "      <th>VT5</th>\n",
              "      <th>VT6</th>\n",
              "      <th>VT7</th>\n",
              "      <th>FT1</th>\n",
              "      <th>FT2</th>\n",
              "    </tr>\n",
              "  </thead>\n",
              "  <tbody>\n",
              "    <tr>\n",
              "      <th>2</th>\n",
              "      <td>2016-03-14 12:52:21</td>\n",
              "      <td>Jeep_Grand_Cherokee_\"Overland\"</td>\n",
              "      <td>0.555556</td>\n",
              "      <td>1</td>\n",
              "      <td>0.243056</td>\n",
              "      <td>1</td>\n",
              "      <td>1.161005</td>\n",
              "      <td>grand</td>\n",
              "      <td>0.777778</td>\n",
              "      <td>8</td>\n",
              "      <td>jeep</td>\n",
              "      <td>2016-03-14 00:00:00</td>\n",
              "      <td>90480</td>\n",
              "      <td>2016-04-05 12:47:46</td>\n",
              "      <td>0.0</td>\n",
              "      <td>0.0</td>\n",
              "      <td>0.0</td>\n",
              "      <td>0.0</td>\n",
              "      <td>0.0</td>\n",
              "      <td>0.0</td>\n",
              "      <td>1.0</td>\n",
              "      <td>0.0</td>\n",
              "      <td>0.0</td>\n",
              "      <td>0.0</td>\n",
              "      <td>1.0</td>\n",
              "    </tr>\n",
              "    <tr>\n",
              "      <th>3</th>\n",
              "      <td>2016-03-17 16:54:04</td>\n",
              "      <td>GOLF_4_1_4__3TÜRER</td>\n",
              "      <td>0.000000</td>\n",
              "      <td>1</td>\n",
              "      <td>-0.322133</td>\n",
              "      <td>0</td>\n",
              "      <td>-0.905091</td>\n",
              "      <td>golf</td>\n",
              "      <td>1.000000</td>\n",
              "      <td>6</td>\n",
              "      <td>volkswagen</td>\n",
              "      <td>2016-03-17 00:00:00</td>\n",
              "      <td>91074</td>\n",
              "      <td>2016-03-17 17:40:17</td>\n",
              "      <td>0.0</td>\n",
              "      <td>1.0</td>\n",
              "      <td>0.0</td>\n",
              "      <td>0.0</td>\n",
              "      <td>0.0</td>\n",
              "      <td>0.0</td>\n",
              "      <td>0.0</td>\n",
              "      <td>0.0</td>\n",
              "      <td>1.0</td>\n",
              "      <td>0.0</td>\n",
              "      <td>0.0</td>\n",
              "    </tr>\n",
              "    <tr>\n",
              "      <th>4</th>\n",
              "      <td>2016-03-31 17:25:20</td>\n",
              "      <td>Skoda_Fabia_1.4_TDI_PD_Classic</td>\n",
              "      <td>0.222222</td>\n",
              "      <td>1</td>\n",
              "      <td>0.808245</td>\n",
              "      <td>0</td>\n",
              "      <td>-0.905091</td>\n",
              "      <td>fabia</td>\n",
              "      <td>0.444444</td>\n",
              "      <td>7</td>\n",
              "      <td>skoda</td>\n",
              "      <td>2016-03-31 00:00:00</td>\n",
              "      <td>60437</td>\n",
              "      <td>2016-04-06 10:17:21</td>\n",
              "      <td>0.0</td>\n",
              "      <td>0.0</td>\n",
              "      <td>0.0</td>\n",
              "      <td>0.0</td>\n",
              "      <td>1.0</td>\n",
              "      <td>0.0</td>\n",
              "      <td>0.0</td>\n",
              "      <td>0.0</td>\n",
              "      <td>0.0</td>\n",
              "      <td>0.0</td>\n",
              "      <td>0.0</td>\n",
              "    </tr>\n",
              "    <tr>\n",
              "      <th>5</th>\n",
              "      <td>2016-04-04 17:36:23</td>\n",
              "      <td>BMW_316i___e36_Limousine___Bastlerfahrzeug__Ex...</td>\n",
              "      <td>0.000000</td>\n",
              "      <td>1</td>\n",
              "      <td>-1.452511</td>\n",
              "      <td>0</td>\n",
              "      <td>-0.388567</td>\n",
              "      <td>3er</td>\n",
              "      <td>1.000000</td>\n",
              "      <td>10</td>\n",
              "      <td>bmw</td>\n",
              "      <td>2016-04-04 00:00:00</td>\n",
              "      <td>33775</td>\n",
              "      <td>2016-04-06 19:17:07</td>\n",
              "      <td>1.0</td>\n",
              "      <td>0.0</td>\n",
              "      <td>0.0</td>\n",
              "      <td>1.0</td>\n",
              "      <td>0.0</td>\n",
              "      <td>0.0</td>\n",
              "      <td>0.0</td>\n",
              "      <td>0.0</td>\n",
              "      <td>0.0</td>\n",
              "      <td>0.0</td>\n",
              "      <td>0.0</td>\n",
              "    </tr>\n",
              "    <tr>\n",
              "      <th>6</th>\n",
              "      <td>2016-04-01 20:48:51</td>\n",
              "      <td>Peugeot_206_CC_110_Platinum</td>\n",
              "      <td>0.111111</td>\n",
              "      <td>1</td>\n",
              "      <td>0.243056</td>\n",
              "      <td>0</td>\n",
              "      <td>0.127957</td>\n",
              "      <td>2_reihe</td>\n",
              "      <td>1.000000</td>\n",
              "      <td>8</td>\n",
              "      <td>peugeot</td>\n",
              "      <td>2016-04-01 00:00:00</td>\n",
              "      <td>67112</td>\n",
              "      <td>2016-04-05 18:18:39</td>\n",
              "      <td>0.0</td>\n",
              "      <td>0.0</td>\n",
              "      <td>0.0</td>\n",
              "      <td>0.0</td>\n",
              "      <td>0.0</td>\n",
              "      <td>0.0</td>\n",
              "      <td>0.0</td>\n",
              "      <td>0.0</td>\n",
              "      <td>1.0</td>\n",
              "      <td>0.0</td>\n",
              "      <td>0.0</td>\n",
              "    </tr>\n",
              "    <tr>\n",
              "      <th>...</th>\n",
              "      <td>...</td>\n",
              "      <td>...</td>\n",
              "      <td>...</td>\n",
              "      <td>...</td>\n",
              "      <td>...</td>\n",
              "      <td>...</td>\n",
              "      <td>...</td>\n",
              "      <td>...</td>\n",
              "      <td>...</td>\n",
              "      <td>...</td>\n",
              "      <td>...</td>\n",
              "      <td>...</td>\n",
              "      <td>...</td>\n",
              "      <td>...</td>\n",
              "      <td>...</td>\n",
              "      <td>...</td>\n",
              "      <td>...</td>\n",
              "      <td>...</td>\n",
              "      <td>...</td>\n",
              "      <td>...</td>\n",
              "      <td>...</td>\n",
              "      <td>...</td>\n",
              "      <td>...</td>\n",
              "      <td>...</td>\n",
              "      <td>...</td>\n",
              "    </tr>\n",
              "    <tr>\n",
              "      <th>371520</th>\n",
              "      <td>2016-03-19 19:53:49</td>\n",
              "      <td>turbo_defekt</td>\n",
              "      <td>0.111111</td>\n",
              "      <td>control</td>\n",
              "      <td>0.243056</td>\n",
              "      <td>0</td>\n",
              "      <td>2.194053</td>\n",
              "      <td>leon</td>\n",
              "      <td>1.000000</td>\n",
              "      <td>5</td>\n",
              "      <td>seat</td>\n",
              "      <td>2016-03-19 00:00:00</td>\n",
              "      <td>96465</td>\n",
              "      <td>2016-03-19 20:44:43</td>\n",
              "      <td>NaN</td>\n",
              "      <td>NaN</td>\n",
              "      <td>NaN</td>\n",
              "      <td>NaN</td>\n",
              "      <td>NaN</td>\n",
              "      <td>NaN</td>\n",
              "      <td>NaN</td>\n",
              "      <td>NaN</td>\n",
              "      <td>NaN</td>\n",
              "      <td>NaN</td>\n",
              "      <td>NaN</td>\n",
              "    </tr>\n",
              "    <tr>\n",
              "      <th>371521</th>\n",
              "      <td>2016-03-27 20:36:20</td>\n",
              "      <td>Opel_Zafira_1.6_Elegance_TÜV_12/16</td>\n",
              "      <td>0.000000</td>\n",
              "      <td>control</td>\n",
              "      <td>-0.322133</td>\n",
              "      <td>0</td>\n",
              "      <td>-1.938139</td>\n",
              "      <td>zafira</td>\n",
              "      <td>1.000000</td>\n",
              "      <td>3</td>\n",
              "      <td>opel</td>\n",
              "      <td>2016-03-27 00:00:00</td>\n",
              "      <td>26624</td>\n",
              "      <td>2016-03-29 10:17:23</td>\n",
              "      <td>NaN</td>\n",
              "      <td>NaN</td>\n",
              "      <td>NaN</td>\n",
              "      <td>NaN</td>\n",
              "      <td>NaN</td>\n",
              "      <td>NaN</td>\n",
              "      <td>NaN</td>\n",
              "      <td>NaN</td>\n",
              "      <td>NaN</td>\n",
              "      <td>NaN</td>\n",
              "      <td>NaN</td>\n",
              "    </tr>\n",
              "    <tr>\n",
              "      <th>371524</th>\n",
              "      <td>2016-03-05 19:56:21</td>\n",
              "      <td>Smart_smart_leistungssteigerung_100ps</td>\n",
              "      <td>0.000000</td>\n",
              "      <td>1</td>\n",
              "      <td>-0.322133</td>\n",
              "      <td>1</td>\n",
              "      <td>-0.388567</td>\n",
              "      <td>fortwo</td>\n",
              "      <td>0.777778</td>\n",
              "      <td>3</td>\n",
              "      <td>smart</td>\n",
              "      <td>2016-03-05 00:00:00</td>\n",
              "      <td>26135</td>\n",
              "      <td>2016-03-11 18:17:12</td>\n",
              "      <td>NaN</td>\n",
              "      <td>NaN</td>\n",
              "      <td>NaN</td>\n",
              "      <td>NaN</td>\n",
              "      <td>NaN</td>\n",
              "      <td>NaN</td>\n",
              "      <td>NaN</td>\n",
              "      <td>NaN</td>\n",
              "      <td>NaN</td>\n",
              "      <td>NaN</td>\n",
              "      <td>NaN</td>\n",
              "    </tr>\n",
              "    <tr>\n",
              "      <th>371525</th>\n",
              "      <td>2016-03-19 18:57:12</td>\n",
              "      <td>Volkswagen_Multivan_T4_TDI_7DC_UY2</td>\n",
              "      <td>0.555556</td>\n",
              "      <td>1</td>\n",
              "      <td>-1.452511</td>\n",
              "      <td>0</td>\n",
              "      <td>-0.388567</td>\n",
              "      <td>transporter</td>\n",
              "      <td>1.000000</td>\n",
              "      <td>3</td>\n",
              "      <td>volkswagen</td>\n",
              "      <td>2016-03-19 00:00:00</td>\n",
              "      <td>87439</td>\n",
              "      <td>2016-04-07 07:15:26</td>\n",
              "      <td>NaN</td>\n",
              "      <td>NaN</td>\n",
              "      <td>NaN</td>\n",
              "      <td>NaN</td>\n",
              "      <td>NaN</td>\n",
              "      <td>NaN</td>\n",
              "      <td>NaN</td>\n",
              "      <td>NaN</td>\n",
              "      <td>NaN</td>\n",
              "      <td>NaN</td>\n",
              "      <td>NaN</td>\n",
              "    </tr>\n",
              "    <tr>\n",
              "      <th>371526</th>\n",
              "      <td>2016-03-20 19:41:08</td>\n",
              "      <td>VW_Golf_Kombi_1_9l_TDI</td>\n",
              "      <td>0.111111</td>\n",
              "      <td>1</td>\n",
              "      <td>-0.322133</td>\n",
              "      <td>0</td>\n",
              "      <td>-0.388567</td>\n",
              "      <td>golf</td>\n",
              "      <td>1.000000</td>\n",
              "      <td>6</td>\n",
              "      <td>volkswagen</td>\n",
              "      <td>2016-03-20 00:00:00</td>\n",
              "      <td>40764</td>\n",
              "      <td>2016-03-24 12:45:21</td>\n",
              "      <td>NaN</td>\n",
              "      <td>NaN</td>\n",
              "      <td>NaN</td>\n",
              "      <td>NaN</td>\n",
              "      <td>NaN</td>\n",
              "      <td>NaN</td>\n",
              "      <td>NaN</td>\n",
              "      <td>NaN</td>\n",
              "      <td>NaN</td>\n",
              "      <td>NaN</td>\n",
              "      <td>NaN</td>\n",
              "    </tr>\n",
              "  </tbody>\n",
              "</table>\n",
              "<p>264145 rows × 25 columns</p>\n",
              "</div>"
            ],
            "text/plain": [
              "                dateCrawled  ...  FT2\n",
              "2       2016-03-14 12:52:21  ...  1.0\n",
              "3       2016-03-17 16:54:04  ...  0.0\n",
              "4       2016-03-31 17:25:20  ...  0.0\n",
              "5       2016-04-04 17:36:23  ...  0.0\n",
              "6       2016-04-01 20:48:51  ...  0.0\n",
              "...                     ...  ...  ...\n",
              "371520  2016-03-19 19:53:49  ...  NaN\n",
              "371521  2016-03-27 20:36:20  ...  NaN\n",
              "371524  2016-03-05 19:56:21  ...  NaN\n",
              "371525  2016-03-19 18:57:12  ...  NaN\n",
              "371526  2016-03-20 19:41:08  ...  NaN\n",
              "\n",
              "[264145 rows x 25 columns]"
            ]
          },
          "metadata": {
            "tags": []
          },
          "execution_count": 63
        }
      ]
    }
  ]
}