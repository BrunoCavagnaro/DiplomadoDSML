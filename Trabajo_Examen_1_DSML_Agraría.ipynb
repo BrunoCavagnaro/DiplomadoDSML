{
  "nbformat": 4,
  "nbformat_minor": 0,
  "metadata": {
    "colab": {
      "name": "Trabajo_Examen_1_DSML_Agraría.ipynb",
      "provenance": [],
      "collapsed_sections": [],
      "toc_visible": true,
      "authorship_tag": "ABX9TyOXlAt18updwM/P1O3h1xZr",
      "include_colab_link": true
    },
    "kernelspec": {
      "name": "python3",
      "display_name": "Python 3"
    }
  },
  "cells": [
    {
      "cell_type": "markdown",
      "metadata": {
        "id": "view-in-github",
        "colab_type": "text"
      },
      "source": [
        "<a href=\"https://colab.research.google.com/github/BrunoCavagnaro/DiplomadoDSML/blob/master/Trabajo_Examen_1_DSML_Agrar%C3%ADa.ipynb\" target=\"_parent\"><img src=\"https://colab.research.google.com/assets/colab-badge.svg\" alt=\"Open In Colab\"/></a>"
      ]
    },
    {
      "cell_type": "markdown",
      "metadata": {
        "id": "2jzZZsDy1zVk",
        "colab_type": "text"
      },
      "source": [
        "# TRABAJO 1 - Bruno Cavagnaro\n",
        "\n",
        "En esta ocación se va a presentar el trabajo correspondiente al dataset de 'Data_cov'. En este dataset tenemos información sobre distintas empresas, y se crear un modelo capaz de predecir si una empresa va a ser impactada por la crísis. En este trabajo se va a realizar el preprocesamiento de los datos, incluyendo tratamiento de missing, detección de outliers, tratamiento de variables y selección de variables; además se crearán múltiples modelos, donde se seleccionara el que tenga mejor Gini y Accuracy. "
      ]
    },
    {
      "cell_type": "markdown",
      "metadata": {
        "id": "4DwFxtKA7ihq",
        "colab_type": "text"
      },
      "source": [
        "## Dependencias:"
      ]
    },
    {
      "cell_type": "code",
      "metadata": {
        "id": "lYT4OhPl71Vi",
        "colab_type": "code",
        "colab": {
          "base_uri": "https://localhost:8080/",
          "height": 224
        },
        "outputId": "968ecc5c-48d6-44e4-9b76-3c115dea1136"
      },
      "source": [
        "!pip install feature-engine"
      ],
      "execution_count": 1,
      "outputs": [
        {
          "output_type": "stream",
          "text": [
            "Requirement already satisfied: feature-engine in /usr/local/lib/python3.6/dist-packages (0.5.1)\n",
            "Requirement already satisfied: scikit-learn>=0.22.2 in /usr/local/lib/python3.6/dist-packages (from feature-engine) (0.22.2.post1)\n",
            "Requirement already satisfied: pandas>=1.0.3 in /usr/local/lib/python3.6/dist-packages (from feature-engine) (1.0.5)\n",
            "Requirement already satisfied: scipy>=1.4.1 in /usr/local/lib/python3.6/dist-packages (from feature-engine) (1.4.1)\n",
            "Requirement already satisfied: statsmodels>=0.11.1 in /usr/local/lib/python3.6/dist-packages (from feature-engine) (0.11.1)\n",
            "Requirement already satisfied: numpy>=1.18.2 in /usr/local/lib/python3.6/dist-packages (from feature-engine) (1.18.5)\n",
            "Requirement already satisfied: joblib>=0.11 in /usr/local/lib/python3.6/dist-packages (from scikit-learn>=0.22.2->feature-engine) (0.16.0)\n",
            "Requirement already satisfied: python-dateutil>=2.6.1 in /usr/local/lib/python3.6/dist-packages (from pandas>=1.0.3->feature-engine) (2.8.1)\n",
            "Requirement already satisfied: pytz>=2017.2 in /usr/local/lib/python3.6/dist-packages (from pandas>=1.0.3->feature-engine) (2018.9)\n",
            "Requirement already satisfied: patsy>=0.5 in /usr/local/lib/python3.6/dist-packages (from statsmodels>=0.11.1->feature-engine) (0.5.1)\n",
            "Requirement already satisfied: six>=1.5 in /usr/local/lib/python3.6/dist-packages (from python-dateutil>=2.6.1->pandas>=1.0.3->feature-engine) (1.15.0)\n"
          ],
          "name": "stdout"
        }
      ]
    },
    {
      "cell_type": "code",
      "metadata": {
        "id": "FZvPbUy27u-E",
        "colab_type": "code",
        "colab": {
          "base_uri": "https://localhost:8080/",
          "height": 71
        },
        "outputId": "9d0a7396-b3f0-4576-d65f-3bf492fedb9f"
      },
      "source": [
        "#IMPORT LIBRARIES\n",
        "import numpy as np\n",
        "import pandas as pd\n",
        "import matplotlib.pyplot as plt\n",
        "from scipy import stats\n",
        "import seaborn as sns; sns.set()\n",
        "import sklearn\n",
        "from sklearn.model_selection import train_test_split\n",
        "from sklearn.tree import DecisionTreeClassifier\n",
        "from sklearn import tree\n",
        "from sklearn.tree import export_graphviz\n",
        "import os\n",
        "from graphviz import Source\n",
        "from sklearn.model_selection import cross_val_score\n",
        "from sklearn.ensemble import RandomForestClassifier\n",
        "from sklearn.linear_model import LogisticRegression\n",
        "import xgboost as xgb\n",
        "from sklearn.feature_selection import SelectKBest\n",
        "from sklearn.naive_bayes import GaussianNB\n",
        "from sklearn.naive_bayes import MultinomialNB\n",
        "from sklearn.naive_bayes import BernoulliNB\n",
        "from sklearn.naive_bayes import CategoricalNB\n",
        "from sklearn.metrics import roc_auc_score\n",
        "from sklearn.datasets.samples_generator import make_blobs\n",
        "from sklearn.svm import SVC\n",
        "from sklearn.datasets.samples_generator import make_circles, make_blobs\n",
        "from sklearn.svm import SVR\n",
        "from sklearn import datasets\n",
        "from ipywidgets import interact, fixed\n",
        "import scipy as sp\n",
        "from sklearn import preprocessing\n",
        "from scipy.spatial.distance import mahalanobis\n",
        "from sklearn.preprocessing import MinMaxScaler\n",
        "from feature_engine import discretisers as dsc\n",
        "from feature_engine import variable_transformers as vt\n",
        "from sklearn import datasets\n",
        "from sklearn.feature_selection import RFE\n",
        "from sklearn.model_selection import GridSearchCV\n",
        "from sklearn.model_selection import RandomizedSearchCV"
      ],
      "execution_count": 2,
      "outputs": [
        {
          "output_type": "stream",
          "text": [
            "/usr/local/lib/python3.6/dist-packages/sklearn/utils/deprecation.py:144: FutureWarning: The sklearn.datasets.samples_generator module is  deprecated in version 0.22 and will be removed in version 0.24. The corresponding classes / functions should instead be imported from sklearn.datasets. Anything that cannot be imported from sklearn.datasets is now part of the private API.\n",
            "  warnings.warn(message, FutureWarning)\n"
          ],
          "name": "stderr"
        }
      ]
    },
    {
      "cell_type": "code",
      "metadata": {
        "id": "DtYzheAs9E8-",
        "colab_type": "code",
        "colab": {
          "base_uri": "https://localhost:8080/",
          "height": 54
        },
        "outputId": "953649bf-75d6-46fb-af8d-b04957b48d89"
      },
      "source": [
        "from google.colab import drive\n",
        "drive.mount('/content/gdrive')"
      ],
      "execution_count": 3,
      "outputs": [
        {
          "output_type": "stream",
          "text": [
            "Drive already mounted at /content/gdrive; to attempt to forcibly remount, call drive.mount(\"/content/gdrive\", force_remount=True).\n"
          ],
          "name": "stdout"
        }
      ]
    },
    {
      "cell_type": "code",
      "metadata": {
        "id": "dzshP5QZ9Kn6",
        "colab_type": "code",
        "colab": {
          "base_uri": "https://localhost:8080/",
          "height": 34
        },
        "outputId": "dc935a3f-5ea8-438a-a58e-733131679706"
      },
      "source": [
        "%cd '/content/gdrive/My Drive/Colab Notebooks/Diplomados_MLDS_Agraria/'"
      ],
      "execution_count": 4,
      "outputs": [
        {
          "output_type": "stream",
          "text": [
            "/content/gdrive/My Drive/Colab Notebooks/Diplomados_MLDS_Agraria\n"
          ],
          "name": "stdout"
        }
      ]
    },
    {
      "cell_type": "code",
      "metadata": {
        "id": "lnIqqlrJ981x",
        "colab_type": "code",
        "colab": {}
      },
      "source": [
        "data = pd.read_csv('Data_cov.csv', delimiter = ';', encoding='latin_1')"
      ],
      "execution_count": 5,
      "outputs": []
    },
    {
      "cell_type": "code",
      "metadata": {
        "id": "oB0it1ueMsy2",
        "colab_type": "code",
        "colab": {
          "base_uri": "https://localhost:8080/",
          "height": 258
        },
        "outputId": "aff80f42-ccd4-4859-baed-da59e1d7db41"
      },
      "source": [
        "data.head()"
      ],
      "execution_count": 6,
      "outputs": [
        {
          "output_type": "execute_result",
          "data": {
            "text/html": [
              "<div>\n",
              "<style scoped>\n",
              "    .dataframe tbody tr th:only-of-type {\n",
              "        vertical-align: middle;\n",
              "    }\n",
              "\n",
              "    .dataframe tbody tr th {\n",
              "        vertical-align: top;\n",
              "    }\n",
              "\n",
              "    .dataframe thead th {\n",
              "        text-align: right;\n",
              "    }\n",
              "</style>\n",
              "<table border=\"1\" class=\"dataframe\">\n",
              "  <thead>\n",
              "    <tr style=\"text-align: right;\">\n",
              "      <th></th>\n",
              "      <th>Sector</th>\n",
              "      <th>Dep</th>\n",
              "      <th>Impactado</th>\n",
              "      <th>Saldo</th>\n",
              "      <th>Desembolso_mes</th>\n",
              "      <th>Saldo Promedio</th>\n",
              "      <th>Deuda Sistea,</th>\n",
              "      <th>Pasivo</th>\n",
              "      <th>Turismo</th>\n",
              "      <th>Sector de Impacto</th>\n",
              "      <th>Venta</th>\n",
              "      <th>Venta Formal</th>\n",
              "      <th>Pasivo_desembolso</th>\n",
              "      <th>Deuda rezagada va</th>\n",
              "      <th>Deuda rezagada vr</th>\n",
              "      <th>pasivo rezagada va</th>\n",
              "      <th>pasivo rezagada vr</th>\n",
              "      <th>Pasivo_desembolso da</th>\n",
              "      <th>Pasivo_desembolso dr</th>\n",
              "    </tr>\n",
              "  </thead>\n",
              "  <tbody>\n",
              "    <tr>\n",
              "      <th>0</th>\n",
              "      <td>INDUSTRIA</td>\n",
              "      <td>Lima</td>\n",
              "      <td>0</td>\n",
              "      <td>56643.10092</td>\n",
              "      <td>0.0</td>\n",
              "      <td>28321.55046</td>\n",
              "      <td>31365.73</td>\n",
              "      <td>5876.82</td>\n",
              "      <td>0</td>\n",
              "      <td>3</td>\n",
              "      <td>108400.0</td>\n",
              "      <td>43741.08</td>\n",
              "      <td>5876.82</td>\n",
              "      <td>-800.65</td>\n",
              "      <td>-0.024891</td>\n",
              "      <td>830.82</td>\n",
              "      <td>0.164649</td>\n",
              "      <td>830.82</td>\n",
              "      <td>0.164649</td>\n",
              "    </tr>\n",
              "    <tr>\n",
              "      <th>1</th>\n",
              "      <td>COMERCIO</td>\n",
              "      <td>Arequipa</td>\n",
              "      <td>0</td>\n",
              "      <td>190313.99460</td>\n",
              "      <td>0.0</td>\n",
              "      <td>63437.99818</td>\n",
              "      <td>64864.99</td>\n",
              "      <td>4467.40</td>\n",
              "      <td>0</td>\n",
              "      <td>4</td>\n",
              "      <td>105300.0</td>\n",
              "      <td>69737.17</td>\n",
              "      <td>4467.40</td>\n",
              "      <td>-2810.52</td>\n",
              "      <td>-0.041529</td>\n",
              "      <td>-7043.43</td>\n",
              "      <td>-0.611896</td>\n",
              "      <td>-7043.43</td>\n",
              "      <td>-0.611896</td>\n",
              "    </tr>\n",
              "    <tr>\n",
              "      <th>2</th>\n",
              "      <td>SERVICIO</td>\n",
              "      <td>Amazonas</td>\n",
              "      <td>0</td>\n",
              "      <td>547601.57360</td>\n",
              "      <td>0.0</td>\n",
              "      <td>182533.85790</td>\n",
              "      <td>200239.32</td>\n",
              "      <td>5000.92</td>\n",
              "      <td>0</td>\n",
              "      <td>1</td>\n",
              "      <td>86600.0</td>\n",
              "      <td>79178.83</td>\n",
              "      <td>5000.92</td>\n",
              "      <td>653.68</td>\n",
              "      <td>0.003275</td>\n",
              "      <td>2000.92</td>\n",
              "      <td>0.666973</td>\n",
              "      <td>2000.92</td>\n",
              "      <td>0.666973</td>\n",
              "    </tr>\n",
              "    <tr>\n",
              "      <th>3</th>\n",
              "      <td>INDUSTRIA</td>\n",
              "      <td>Lima</td>\n",
              "      <td>0</td>\n",
              "      <td>283914.20840</td>\n",
              "      <td>0.0</td>\n",
              "      <td>94638.06947</td>\n",
              "      <td>112945.17</td>\n",
              "      <td>325.50</td>\n",
              "      <td>0</td>\n",
              "      <td>3</td>\n",
              "      <td>103000.0</td>\n",
              "      <td>0.00</td>\n",
              "      <td>325.50</td>\n",
              "      <td>14820.77</td>\n",
              "      <td>0.151041</td>\n",
              "      <td>-17128.30</td>\n",
              "      <td>-0.981351</td>\n",
              "      <td>-17128.30</td>\n",
              "      <td>-0.981351</td>\n",
              "    </tr>\n",
              "    <tr>\n",
              "      <th>4</th>\n",
              "      <td>COMERCIO</td>\n",
              "      <td>Cusco</td>\n",
              "      <td>0</td>\n",
              "      <td>142296.43840</td>\n",
              "      <td>0.0</td>\n",
              "      <td>47432.14612</td>\n",
              "      <td>144877.21</td>\n",
              "      <td>0.00</td>\n",
              "      <td>0</td>\n",
              "      <td>4</td>\n",
              "      <td>172920.0</td>\n",
              "      <td>171999.33</td>\n",
              "      <td>0.00</td>\n",
              "      <td>17468.60</td>\n",
              "      <td>0.137107</td>\n",
              "      <td>-2071.80</td>\n",
              "      <td>-1.000000</td>\n",
              "      <td>-2071.80</td>\n",
              "      <td>-1.000000</td>\n",
              "    </tr>\n",
              "  </tbody>\n",
              "</table>\n",
              "</div>"
            ],
            "text/plain": [
              "      Sector       Dep  ...  Pasivo_desembolso da  Pasivo_desembolso dr\n",
              "0  INDUSTRIA      Lima  ...                830.82              0.164649\n",
              "1   COMERCIO  Arequipa  ...              -7043.43             -0.611896\n",
              "2   SERVICIO  Amazonas  ...               2000.92              0.666973\n",
              "3  INDUSTRIA      Lima  ...             -17128.30             -0.981351\n",
              "4   COMERCIO     Cusco  ...              -2071.80             -1.000000\n",
              "\n",
              "[5 rows x 19 columns]"
            ]
          },
          "metadata": {
            "tags": []
          },
          "execution_count": 6
        }
      ]
    },
    {
      "cell_type": "markdown",
      "metadata": {
        "id": "Lz84PSd03pjS",
        "colab_type": "text"
      },
      "source": [
        "## Preprocesamiento"
      ]
    },
    {
      "cell_type": "code",
      "metadata": {
        "id": "4hO9UrmMdeYR",
        "colab_type": "code",
        "colab": {
          "base_uri": "https://localhost:8080/",
          "height": 816
        },
        "outputId": "22c4b761-ee26-41b4-c76e-a3f00b01371f"
      },
      "source": [
        "print(data.isnull().sum()) \n",
        "#Dataset no cuenta con NULL VALUES:\n",
        "#DATASET CON \n",
        "print(data.info())"
      ],
      "execution_count": 7,
      "outputs": [
        {
          "output_type": "stream",
          "text": [
            "Sector                  0\n",
            "Dep                     0\n",
            "Impactado               0\n",
            "Saldo                   0\n",
            "Desembolso_mes          0\n",
            "Saldo Promedio          0\n",
            "Deuda Sistea,           0\n",
            "Pasivo                  0\n",
            "Turismo                 0\n",
            "Sector de Impacto       0\n",
            "Venta                   0\n",
            "Venta Formal            0\n",
            "Pasivo_desembolso       0\n",
            "Deuda rezagada va       0\n",
            "Deuda rezagada vr       0\n",
            "pasivo rezagada va      0\n",
            "pasivo rezagada vr      0\n",
            "Pasivo_desembolso da    0\n",
            "Pasivo_desembolso dr    0\n",
            "dtype: int64\n",
            "<class 'pandas.core.frame.DataFrame'>\n",
            "RangeIndex: 1998 entries, 0 to 1997\n",
            "Data columns (total 19 columns):\n",
            " #   Column                Non-Null Count  Dtype  \n",
            "---  ------                --------------  -----  \n",
            " 0   Sector                1998 non-null   object \n",
            " 1   Dep                   1998 non-null   object \n",
            " 2   Impactado             1998 non-null   int64  \n",
            " 3   Saldo                 1998 non-null   float64\n",
            " 4   Desembolso_mes        1998 non-null   float64\n",
            " 5   Saldo Promedio        1998 non-null   float64\n",
            " 6   Deuda Sistea,         1998 non-null   float64\n",
            " 7   Pasivo                1998 non-null   float64\n",
            " 8   Turismo               1998 non-null   int64  \n",
            " 9   Sector de Impacto     1998 non-null   int64  \n",
            " 10  Venta                 1998 non-null   float64\n",
            " 11  Venta Formal          1998 non-null   float64\n",
            " 12  Pasivo_desembolso     1998 non-null   float64\n",
            " 13  Deuda rezagada va     1998 non-null   float64\n",
            " 14  Deuda rezagada vr     1998 non-null   float64\n",
            " 15  pasivo rezagada va    1998 non-null   float64\n",
            " 16  pasivo rezagada vr    1998 non-null   float64\n",
            " 17  Pasivo_desembolso da  1998 non-null   float64\n",
            " 18  Pasivo_desembolso dr  1998 non-null   float64\n",
            "dtypes: float64(14), int64(3), object(2)\n",
            "memory usage: 296.7+ KB\n",
            "None\n"
          ],
          "name": "stdout"
        }
      ]
    },
    {
      "cell_type": "markdown",
      "metadata": {
        "id": "JJwKQj0usNBD",
        "colab_type": "text"
      },
      "source": [
        "### Revisión de Features:\n",
        "\n",
        "Antes de evaluar los outliers, he decidido hacer una revisión a los features, ver que significan los features no numéricos:"
      ]
    },
    {
      "cell_type": "code",
      "metadata": {
        "id": "SN8QNRPRr1vW",
        "colab_type": "code",
        "colab": {
          "base_uri": "https://localhost:8080/",
          "height": 918
        },
        "outputId": "2bfa08db-69d3-4a1e-8e0c-d0ef6ef6545e"
      },
      "source": [
        "print(data.groupby('Sector')['Sector'].count()) \n",
        "#SECTOR ECONOMICO AL QUE PERTENECE LA EMPRESA\n",
        "print(data.groupby('Dep')['Dep'].count())\n",
        "#DEPARTAMENTO DONDE ESTA UBICADO LA EMPRESA - POSIBLEMENTE SE DEBERÁ AGRUPAR EN REGIONES COSTA, SIERRA, SELVA\n",
        "print(data.groupby('Impactado')['Impactado'].count())\n",
        "#SI LA EMPRESA FUE IMPACTADA POR LA CRISIS (FEATURE A PREDECIR)\n",
        "print(data.groupby('Desembolso_mes')['Desembolso_mes'].count())\n",
        "#NUEVA DEUDA DEL MES - TIENE MUY POCA DISTRIBUCIÓN DE DATOS (SOLO 4 PUNTOS DISTINTOS A 0), POR TANTO NO ES UN FEATURE QUE\n",
        "#AGREGUE VALOR, POR TANTO SE BORRARA:\n",
        "data = data.drop('Desembolso_mes', axis = 1)\n",
        "print(data.groupby('Turismo')['Turismo'].count())\n",
        "#SI LA EMPRESA PERTENECE O NO AL TURISMO\n",
        "print(data.groupby('Sector de Impacto')['Sector de Impacto'].count())\n",
        "#ACTIVIDADES ECONÓMICAS MÁS IMPACTADAS POR LAS EMPRESAS"
      ],
      "execution_count": 8,
      "outputs": [
        {
          "output_type": "stream",
          "text": [
            "Sector\n",
            "COMERCIO     1140\n",
            "INDUSTRIA     256\n",
            "SERVICIO      602\n",
            "Name: Sector, dtype: int64\n",
            "Dep\n",
            "Amazonas          23\n",
            "Apurímac          15\n",
            "Arequipa         189\n",
            "Ayacucho          27\n",
            "Cajamarca         55\n",
            "Callao            35\n",
            "Cusco             48\n",
            "Huancavelica       2\n",
            "Huánuco           53\n",
            "Ica               52\n",
            "Junín            118\n",
            "La Libertad      104\n",
            "Lambayeque        98\n",
            "Lima             725\n",
            "Loreto            22\n",
            "Madre de Dios     14\n",
            "Moquegua          18\n",
            "Pasco             28\n",
            "Piura             87\n",
            "Puno              26\n",
            "San Martín        88\n",
            "Tacna             36\n",
            "Tumbes            27\n",
            "Ucayali           34\n",
            "Áncash            74\n",
            "Name: Dep, dtype: int64\n",
            "Impactado\n",
            "0    999\n",
            "1    999\n",
            "Name: Impactado, dtype: int64\n",
            "Desembolso_mes\n",
            "0.0000         1994\n",
            "128751.8279       1\n",
            "148278.4607       1\n",
            "149450.6020       1\n",
            "169166.8642       1\n",
            "Name: Desembolso_mes, dtype: int64\n",
            "Turismo\n",
            "0    1888\n",
            "1     110\n",
            "Name: Turismo, dtype: int64\n",
            "Sector de Impacto\n",
            "1    240\n",
            "2    106\n",
            "3    967\n",
            "4    685\n",
            "Name: Sector de Impacto, dtype: int64\n"
          ],
          "name": "stdout"
        }
      ]
    },
    {
      "cell_type": "markdown",
      "metadata": {
        "id": "cxzpMKHWKqbG",
        "colab_type": "text"
      },
      "source": [
        "### Revisión Features Continuos:"
      ]
    },
    {
      "cell_type": "code",
      "metadata": {
        "id": "wUE-dkP3tti-",
        "colab_type": "code",
        "colab": {
          "base_uri": "https://localhost:8080/",
          "height": 500
        },
        "outputId": "1aafb7c7-a277-45d5-f7fa-a1a8f197c40a"
      },
      "source": [
        "#PRIMERO SE VERÁN LA DISTRIBUUCIÓN DE LOS VALORES:\n",
        "\n",
        "plt.boxplot([data[\"Saldo\"], data[\"Saldo Promedio\"], data[\"Deuda Sistea,\"], data[\"Pasivo\"], data[\"Venta \"], \n",
        "             data[\"Venta Formal\"], data[\"Pasivo_desembolso\"], data[\"Deuda rezagada va\"], data[\"Deuda rezagada vr\"],\n",
        "             data[\"pasivo rezagada va\"], data[\"pasivo rezagada vr\"], data[\"Pasivo_desembolso da\"], data[\"Pasivo_desembolso dr\"]])\n",
        "plt.plot()\n",
        "\n",
        "#SE PUEDE VER QUE HAY UNA GRAN CANTIDAD DE OUTLIERS EN LA DATA, SIN EMBARGO TAMBIÉN PUEDE VERSE QUE LA MAYORÍA DE BOX \n",
        "[\"Saldo\", \"Saldo Promedio\", \"Deuda Sistea,\", \"Pasivo\", \"Venta \", \"Venta Formal\", \"Pasivo_desembolso\",\"Deuda rezagada va\", \n",
        "\"Deuda rezagada vr\", \"pasivo rezagada va\", \"pasivo rezagada vr\", \"Pasivo_desembolso da\", \"Pasivo_desembolso dr\"]#PLOTS SE ENCUENTRAN MUY PRÓXIMOS, INDICANDO QUE UNA BUENA ESTRETEGIA SERÍA APLICAR UNA CATEGORIZACIÓN DEL MISMO NUMÉRO\n",
        "#DE CATEGORIAS A ESTOS FEATURES"
      ],
      "execution_count": 9,
      "outputs": [
        {
          "output_type": "execute_result",
          "data": {
            "text/plain": [
              "['Saldo',\n",
              " 'Saldo Promedio',\n",
              " 'Deuda Sistea,',\n",
              " 'Pasivo',\n",
              " 'Venta ',\n",
              " 'Venta Formal',\n",
              " 'Pasivo_desembolso',\n",
              " 'Deuda rezagada va',\n",
              " 'Deuda rezagada vr',\n",
              " 'pasivo rezagada va',\n",
              " 'pasivo rezagada vr',\n",
              " 'Pasivo_desembolso da',\n",
              " 'Pasivo_desembolso dr']"
            ]
          },
          "metadata": {
            "tags": []
          },
          "execution_count": 9
        },
        {
          "output_type": "display_data",
          "data": {
            "image/png": "[encoded data removed]",
            "text/plain": [
              "<Figure size 432x288 with 1 Axes>"
            ]
          },
          "metadata": {
            "tags": []
          }
        }
      ]
    },
    {
      "cell_type": "code",
      "metadata": {
        "id": "g6qar3gIubpl",
        "colab_type": "code",
        "colab": {
          "base_uri": "https://localhost:8080/",
          "height": 475
        },
        "outputId": "a30d9a4a-06c8-4cc4-babe-697f17058014"
      },
      "source": [
        "#DADO QUE EL DATASET ES SOBRE INFORMACIÓN FINANCIERA DE EMPRESAS, SE HA DECIDIDO HACER UNA ELIMINACIÓN DE FEATURES MENOS\n",
        "#ESTRICTA, POR TANTO SE DECIDIO INICIALMENTE UTILIZAR LA DISTANCIA DE MAHALANOBIS:\n",
        "\n",
        "#Mahalanobis Distance\n",
        "df_m = data[[\"Saldo\", \"Saldo Promedio\", \"Deuda Sistea,\", \"Pasivo\", \"Venta \", \"Venta Formal\", \"Pasivo_desembolso\",\"Deuda rezagada va\", \n",
        "\"Deuda rezagada vr\", \"pasivo rezagada va\", \"pasivo rezagada vr\", \"Pasivo_desembolso da\", \"Pasivo_desembolso dr\"]]\n",
        "\n",
        "#matriz de covarianzas\n",
        "Sx = df_m.cov().values\n",
        "#inversa de la matriz de covarianzas\n",
        "Sx = sp.linalg.inv(Sx)\n",
        "\n",
        "mean = df_m.mean().values\n",
        "\n",
        "def mahalanobisR(X,meanCol,IC):\n",
        "    m = []\n",
        "    for i in range(X.shape[0]):\n",
        "        m.append(mahalanobis(X.iloc[i,:],meanCol,IC) ** 2)\n",
        "    return(m)\n",
        "\n",
        "mR = pd.DataFrame(mahalanobisR(df_m,mean,Sx), columns = ['mR'])\n",
        "df_m['mr']=mR\n",
        "df_m['index'] = df_m.index\n",
        "plt.scatter(df_m[\"index\"],df_m['mr'])"
      ],
      "execution_count": 10,
      "outputs": [
        {
          "output_type": "stream",
          "text": [
            "/usr/local/lib/python3.6/dist-packages/ipykernel_launcher.py:22: SettingWithCopyWarning: \n",
            "A value is trying to be set on a copy of a slice from a DataFrame.\n",
            "Try using .loc[row_indexer,col_indexer] = value instead\n",
            "\n",
            "See the caveats in the documentation: https://pandas.pydata.org/pandas-docs/stable/user_guide/indexing.html#returning-a-view-versus-a-copy\n",
            "/usr/local/lib/python3.6/dist-packages/ipykernel_launcher.py:23: SettingWithCopyWarning: \n",
            "A value is trying to be set on a copy of a slice from a DataFrame.\n",
            "Try using .loc[row_indexer,col_indexer] = value instead\n",
            "\n",
            "See the caveats in the documentation: https://pandas.pydata.org/pandas-docs/stable/user_guide/indexing.html#returning-a-view-versus-a-copy\n"
          ],
          "name": "stderr"
        },
        {
          "output_type": "execute_result",
          "data": {
            "text/plain": [
              "<matplotlib.collections.PathCollection at 0x7f9bcdb924a8>"
            ]
          },
          "metadata": {
            "tags": []
          },
          "execution_count": 10
        },
        {
          "output_type": "display_data",
          "data": {
            "image/png": "[encoded data removed]",
            "text/plain": [
              "<Figure size 432x288 with 1 Axes>"
            ]
          },
          "metadata": {
            "tags": []
          }
        }
      ]
    },
    {
      "cell_type": "code",
      "metadata": {
        "id": "99uVV0KaQKNv",
        "colab_type": "code",
        "colab": {
          "base_uri": "https://localhost:8080/",
          "height": 377
        },
        "outputId": "dffc6907-7b86-47b3-dcbd-cf031ff0fd55"
      },
      "source": [
        "df_m['out'] = df_m[\"mr\"]>20\n",
        "print(df_m[df_m[\"out\"]==True])\n",
        "\n",
        "#114 representa aproximadamente el 6% de los datos, me parece que es proporción adecuada para filtrar outliers. \n",
        "#Acontinuación se eliminaran estos datos outliers y luego se volverán a plotear los boxplots para una nueva evaluación."
      ],
      "execution_count": 11,
      "outputs": [
        {
          "output_type": "stream",
          "text": [
            "             Saldo  Saldo Promedio  Deuda Sistea,  ...          mr  index   out\n",
            "8     5.312005e+05    1.770668e+05      177393.15  ...   29.906118      8  True\n",
            "12    1.726004e+05    8.630021e+04     1242559.68  ...  196.399701     12  True\n",
            "18    5.137900e+05    1.712633e+05     1367659.53  ...   70.587006     18  True\n",
            "51    3.228110e+06    1.076037e+06     1328890.61  ...   20.254289     51  True\n",
            "80    2.558814e+06    8.529379e+05     1133158.12  ...   20.103720     80  True\n",
            "...            ...             ...            ...  ...         ...    ...   ...\n",
            "1934  1.142474e+06    3.808247e+05      633109.44  ...   22.780314   1934  True\n",
            "1951  3.202330e+06    1.067443e+06     1071988.23  ...   22.964475   1951  True\n",
            "1971  7.902862e+05    3.030965e+05      312302.75  ...   21.213874   1971  True\n",
            "1983  3.511563e+06    1.170521e+06     1170521.09  ...   25.651101   1983  True\n",
            "1986  4.343048e+05    1.447683e+05      500713.26  ...   22.326531   1986  True\n",
            "\n",
            "[182 rows x 16 columns]\n"
          ],
          "name": "stdout"
        },
        {
          "output_type": "stream",
          "text": [
            "/usr/local/lib/python3.6/dist-packages/ipykernel_launcher.py:1: SettingWithCopyWarning: \n",
            "A value is trying to be set on a copy of a slice from a DataFrame.\n",
            "Try using .loc[row_indexer,col_indexer] = value instead\n",
            "\n",
            "See the caveats in the documentation: https://pandas.pydata.org/pandas-docs/stable/user_guide/indexing.html#returning-a-view-versus-a-copy\n",
            "  \"\"\"Entry point for launching an IPython kernel.\n"
          ],
          "name": "stderr"
        }
      ]
    },
    {
      "cell_type": "code",
      "metadata": {
        "id": "N84gZcc6RRMM",
        "colab_type": "code",
        "colab": {
          "base_uri": "https://localhost:8080/",
          "height": 442
        },
        "outputId": "88193228-5f51-4f0c-b1d6-0eb1b0d93a28"
      },
      "source": [
        "index_mahalanobis = df_m[df_m[\"out\"]==True].index\n",
        "data.drop(index_mahalanobis , inplace=True)\n",
        "data.info()"
      ],
      "execution_count": 12,
      "outputs": [
        {
          "output_type": "stream",
          "text": [
            "<class 'pandas.core.frame.DataFrame'>\n",
            "Int64Index: 1816 entries, 0 to 1997\n",
            "Data columns (total 18 columns):\n",
            " #   Column                Non-Null Count  Dtype  \n",
            "---  ------                --------------  -----  \n",
            " 0   Sector                1816 non-null   object \n",
            " 1   Dep                   1816 non-null   object \n",
            " 2   Impactado             1816 non-null   int64  \n",
            " 3   Saldo                 1816 non-null   float64\n",
            " 4   Saldo Promedio        1816 non-null   float64\n",
            " 5   Deuda Sistea,         1816 non-null   float64\n",
            " 6   Pasivo                1816 non-null   float64\n",
            " 7   Turismo               1816 non-null   int64  \n",
            " 8   Sector de Impacto     1816 non-null   int64  \n",
            " 9   Venta                 1816 non-null   float64\n",
            " 10  Venta Formal          1816 non-null   float64\n",
            " 11  Pasivo_desembolso     1816 non-null   float64\n",
            " 12  Deuda rezagada va     1816 non-null   float64\n",
            " 13  Deuda rezagada vr     1816 non-null   float64\n",
            " 14  pasivo rezagada va    1816 non-null   float64\n",
            " 15  pasivo rezagada vr    1816 non-null   float64\n",
            " 16  Pasivo_desembolso da  1816 non-null   float64\n",
            " 17  Pasivo_desembolso dr  1816 non-null   float64\n",
            "dtypes: float64(13), int64(3), object(2)\n",
            "memory usage: 269.6+ KB\n"
          ],
          "name": "stdout"
        }
      ]
    },
    {
      "cell_type": "code",
      "metadata": {
        "id": "4DbuejH_Uc3b",
        "colab_type": "code",
        "colab": {
          "base_uri": "https://localhost:8080/",
          "height": 296
        },
        "outputId": "0c0c1e32-a754-4064-aa5c-7c34cfaf586e"
      },
      "source": [
        "plt.boxplot([data[\"Saldo\"], data[\"Saldo Promedio\"], data[\"Deuda Sistea,\"], data[\"Pasivo\"], data[\"Venta \"], \n",
        "             data[\"Venta Formal\"], data[\"Pasivo_desembolso\"], data[\"Deuda rezagada va\"], data[\"Deuda rezagada vr\"],\n",
        "             data[\"pasivo rezagada va\"], data[\"pasivo rezagada vr\"], data[\"Pasivo_desembolso da\"], data[\"Pasivo_desembolso dr\"]])\n",
        "plt.plot()"
      ],
      "execution_count": 13,
      "outputs": [
        {
          "output_type": "execute_result",
          "data": {
            "text/plain": [
              "[]"
            ]
          },
          "metadata": {
            "tags": []
          },
          "execution_count": 13
        },
        {
          "output_type": "display_data",
          "data": {
            "image/png": "[encoded data removed]",
            "text/plain": [
              "<Figure size 432x288 with 1 Axes>"
            ]
          },
          "metadata": {
            "tags": []
          }
        }
      ]
    },
    {
      "cell_type": "markdown",
      "metadata": {
        "id": "1p1Wk6kaeQJ2",
        "colab_type": "text"
      },
      "source": [
        "**Se puede observar que aun persiste un número considerable de outliers, sin embargo dado el tipo de datos (información financiera de empresas durante época de pandemía) podría perjudicar el valor de estos datos.**\n",
        "\n",
        "**Ya que estos datos extremos están influenciados por el contexto actual, eliminarlos sería contraproducente con un modelo que busca identificar el impacto de esta crísis en las empresas.**\n",
        "\n",
        "**Por tanto se conservarán los datos presentes, y se discretizarán para suavizar esta variación.**"
      ]
    },
    {
      "cell_type": "code",
      "metadata": {
        "id": "Mdb7cptMXs5E",
        "colab_type": "code",
        "colab": {
          "base_uri": "https://localhost:8080/",
          "height": 442
        },
        "outputId": "84f3f7d8-5f99-4bd7-b7f0-67870ca1335d"
      },
      "source": [
        "continuo = [\"Saldo\", \"Saldo Promedio\", \"Deuda Sistea,\", \"Pasivo\", \"Venta \", \"Venta Formal\", \"Pasivo_desembolso\",\"Deuda rezagada va\", \n",
        "\"Deuda rezagada vr\", \"pasivo rezagada va\", \"pasivo rezagada vr\", \"Pasivo_desembolso da\", \"Pasivo_desembolso dr\"]\n",
        "\n",
        "for val in continuo:\n",
        "  disc = dsc.EqualFrequencyDiscretiser(q=5, variables=[val])\n",
        "  disc.fit(data)\n",
        "  df_t= disc.transform(data)\n",
        "  data[val] = df_t[val]\n",
        "\n",
        "data.info()"
      ],
      "execution_count": 14,
      "outputs": [
        {
          "output_type": "stream",
          "text": [
            "<class 'pandas.core.frame.DataFrame'>\n",
            "Int64Index: 1816 entries, 0 to 1997\n",
            "Data columns (total 18 columns):\n",
            " #   Column                Non-Null Count  Dtype \n",
            "---  ------                --------------  ----- \n",
            " 0   Sector                1816 non-null   object\n",
            " 1   Dep                   1816 non-null   object\n",
            " 2   Impactado             1816 non-null   int64 \n",
            " 3   Saldo                 1816 non-null   int64 \n",
            " 4   Saldo Promedio        1816 non-null   int64 \n",
            " 5   Deuda Sistea,         1816 non-null   int64 \n",
            " 6   Pasivo                1816 non-null   int64 \n",
            " 7   Turismo               1816 non-null   int64 \n",
            " 8   Sector de Impacto     1816 non-null   int64 \n",
            " 9   Venta                 1816 non-null   int64 \n",
            " 10  Venta Formal          1816 non-null   int64 \n",
            " 11  Pasivo_desembolso     1816 non-null   int64 \n",
            " 12  Deuda rezagada va     1816 non-null   int64 \n",
            " 13  Deuda rezagada vr     1816 non-null   int64 \n",
            " 14  pasivo rezagada va    1816 non-null   int64 \n",
            " 15  pasivo rezagada vr    1816 non-null   int64 \n",
            " 16  Pasivo_desembolso da  1816 non-null   int64 \n",
            " 17  Pasivo_desembolso dr  1816 non-null   int64 \n",
            "dtypes: int64(16), object(2)\n",
            "memory usage: 269.6+ KB\n"
          ],
          "name": "stdout"
        }
      ]
    },
    {
      "cell_type": "markdown",
      "metadata": {
        "id": "DyYiokCFgDYN",
        "colab_type": "text"
      },
      "source": [
        "### Revisión Features Categóricos:"
      ]
    },
    {
      "cell_type": "code",
      "metadata": {
        "id": "cqOECXqxgakU",
        "colab_type": "code",
        "colab": {
          "base_uri": "https://localhost:8080/",
          "height": 102
        },
        "outputId": "d2a35e76-0db1-449a-dc5d-324ae9005be6"
      },
      "source": [
        "categoricas = ['Sector','Dep','Turismo','Sector de Impacto']\n",
        "\n",
        "#SECTOR:\n",
        "data['Sector'] = data['Sector'].replace(to_replace= 'COMERCIO', value = 1)\n",
        "data['Sector'] = data['Sector'].replace(to_replace= 'INDUSTRIA', value = 2)\n",
        "data['Sector'] = data['Sector'].replace(to_replace= 'SERVICIO', value = 3)\n",
        "\n",
        "#DEPARTAMENTOS:\n",
        "costa = ['Tumbes', 'Piura', 'Lambayeque', 'La Libertad', 'Áncash', 'Lima', 'Ica', 'Arequipa', 'Moquegua', 'Tacna', 'Callao']\n",
        "sierra = ['Ayacucho', 'Junín', 'Cusco', 'Apurímac', 'San Martín', 'Cajamarca', 'Huancavelica', 'Puno', 'Pasco', 'Huánuco']\n",
        "selva = ['Loreto', 'Ucayali', 'Madre de Dios', 'Amazonas', 'San Martín']\n",
        "\n",
        "data['Dep'] = data['Dep'].replace(to_replace= costa, value = 1)\n",
        "data['Dep'] = data['Dep'].replace(to_replace= sierra, value = 2)\n",
        "data['Dep'] = data['Dep'].replace(to_replace= selva, value = 3)\n",
        "\n",
        "print(data.groupby('Dep')['Dep'].count())"
      ],
      "execution_count": 15,
      "outputs": [
        {
          "output_type": "stream",
          "text": [
            "Dep\n",
            "1    1306\n",
            "2     427\n",
            "3      83\n",
            "Name: Dep, dtype: int64\n"
          ],
          "name": "stdout"
        }
      ]
    },
    {
      "cell_type": "markdown",
      "metadata": {
        "id": "-TYBvqSLmtNX",
        "colab_type": "text"
      },
      "source": [
        "### Information Value"
      ]
    },
    {
      "cell_type": "code",
      "metadata": {
        "id": "bNnrF-jLm2oX",
        "colab_type": "code",
        "colab": {
          "base_uri": "https://localhost:8080/",
          "height": 576
        },
        "outputId": "7b658a12-94f6-4389-e6cc-1a4ced2bb5f7"
      },
      "source": [
        "def iv(variable):\n",
        "    woe_1=data.groupby([variable])['Impactado'].agg([('Target','mean'),('Total','count'),('Malos','sum')]).reset_index()\n",
        "    woe_1['Buenos']=woe_1.Total-woe_1.Malos\n",
        "    woe_1['OR']=woe_1.Buenos/woe_1.Malos \n",
        "    woe_1['WOE']=np.log((woe_1.Buenos/np.sum(woe_1.Buenos))/(woe_1.Malos/np.sum(woe_1.Malos))) \n",
        "    woe_1['Dif']=woe_1.Buenos/np.sum(woe_1.Buenos)-woe_1.Malos/np.sum(woe_1.Malos)\n",
        "    result = pd.DataFrame(columns=['Variable','IV'])\n",
        "    result.loc[len(result)]=[variable,np.sum(woe_1.WOE*woe_1.Dif)] \n",
        "    return(result)\n",
        "\n",
        "features = continuo + categoricas\n",
        "\n",
        "result = pd.DataFrame(columns=['Variable','IV'])\n",
        "for i in features:\n",
        "  A=iv(i)\n",
        "  result.loc[len(result)]=[A.loc[0].values[0],A.loc[0].values[1]]\n",
        "  result=result.sort_values('IV',ascending=False)\n",
        "\n",
        "result"
      ],
      "execution_count": 16,
      "outputs": [
        {
          "output_type": "execute_result",
          "data": {
            "text/html": [
              "<div>\n",
              "<style scoped>\n",
              "    .dataframe tbody tr th:only-of-type {\n",
              "        vertical-align: middle;\n",
              "    }\n",
              "\n",
              "    .dataframe tbody tr th {\n",
              "        vertical-align: top;\n",
              "    }\n",
              "\n",
              "    .dataframe thead th {\n",
              "        text-align: right;\n",
              "    }\n",
              "</style>\n",
              "<table border=\"1\" class=\"dataframe\">\n",
              "  <thead>\n",
              "    <tr style=\"text-align: right;\">\n",
              "      <th></th>\n",
              "      <th>Variable</th>\n",
              "      <th>IV</th>\n",
              "    </tr>\n",
              "  </thead>\n",
              "  <tbody>\n",
              "    <tr>\n",
              "      <th>2</th>\n",
              "      <td>Deuda Sistea,</td>\n",
              "      <td>0.115364</td>\n",
              "    </tr>\n",
              "    <tr>\n",
              "      <th>1</th>\n",
              "      <td>Saldo Promedio</td>\n",
              "      <td>0.109495</td>\n",
              "    </tr>\n",
              "    <tr>\n",
              "      <th>0</th>\n",
              "      <td>Saldo</td>\n",
              "      <td>0.108927</td>\n",
              "    </tr>\n",
              "    <tr>\n",
              "      <th>16</th>\n",
              "      <td>Sector de Impacto</td>\n",
              "      <td>0.089962</td>\n",
              "    </tr>\n",
              "    <tr>\n",
              "      <th>3</th>\n",
              "      <td>Pasivo</td>\n",
              "      <td>0.058007</td>\n",
              "    </tr>\n",
              "    <tr>\n",
              "      <th>6</th>\n",
              "      <td>Pasivo_desembolso</td>\n",
              "      <td>0.056809</td>\n",
              "    </tr>\n",
              "    <tr>\n",
              "      <th>12</th>\n",
              "      <td>Pasivo_desembolso dr</td>\n",
              "      <td>0.039181</td>\n",
              "    </tr>\n",
              "    <tr>\n",
              "      <th>10</th>\n",
              "      <td>pasivo rezagada vr</td>\n",
              "      <td>0.038879</td>\n",
              "    </tr>\n",
              "    <tr>\n",
              "      <th>5</th>\n",
              "      <td>Venta Formal</td>\n",
              "      <td>0.036645</td>\n",
              "    </tr>\n",
              "    <tr>\n",
              "      <th>14</th>\n",
              "      <td>Dep</td>\n",
              "      <td>0.034166</td>\n",
              "    </tr>\n",
              "    <tr>\n",
              "      <th>8</th>\n",
              "      <td>Deuda rezagada vr</td>\n",
              "      <td>0.031476</td>\n",
              "    </tr>\n",
              "    <tr>\n",
              "      <th>4</th>\n",
              "      <td>Venta</td>\n",
              "      <td>0.027112</td>\n",
              "    </tr>\n",
              "    <tr>\n",
              "      <th>13</th>\n",
              "      <td>Sector</td>\n",
              "      <td>0.026941</td>\n",
              "    </tr>\n",
              "    <tr>\n",
              "      <th>11</th>\n",
              "      <td>Pasivo_desembolso da</td>\n",
              "      <td>0.022905</td>\n",
              "    </tr>\n",
              "    <tr>\n",
              "      <th>9</th>\n",
              "      <td>pasivo rezagada va</td>\n",
              "      <td>0.019644</td>\n",
              "    </tr>\n",
              "    <tr>\n",
              "      <th>15</th>\n",
              "      <td>Turismo</td>\n",
              "      <td>0.019153</td>\n",
              "    </tr>\n",
              "    <tr>\n",
              "      <th>7</th>\n",
              "      <td>Deuda rezagada va</td>\n",
              "      <td>0.011172</td>\n",
              "    </tr>\n",
              "  </tbody>\n",
              "</table>\n",
              "</div>"
            ],
            "text/plain": [
              "                Variable        IV\n",
              "2          Deuda Sistea,  0.115364\n",
              "1         Saldo Promedio  0.109495\n",
              "0                  Saldo  0.108927\n",
              "16     Sector de Impacto  0.089962\n",
              "3                 Pasivo  0.058007\n",
              "6      Pasivo_desembolso  0.056809\n",
              "12  Pasivo_desembolso dr  0.039181\n",
              "10    pasivo rezagada vr  0.038879\n",
              "5           Venta Formal  0.036645\n",
              "14                   Dep  0.034166\n",
              "8      Deuda rezagada vr  0.031476\n",
              "4                 Venta   0.027112\n",
              "13                Sector  0.026941\n",
              "11  Pasivo_desembolso da  0.022905\n",
              "9     pasivo rezagada va  0.019644\n",
              "15               Turismo  0.019153\n",
              "7      Deuda rezagada va  0.011172"
            ]
          },
          "metadata": {
            "tags": []
          },
          "execution_count": 16
        }
      ]
    },
    {
      "cell_type": "markdown",
      "metadata": {
        "id": "4Ebb4H-Roz5S",
        "colab_type": "text"
      },
      "source": [
        "**El Information Value nos indica cual es la importancia que tiene cada feature para la predicción. Si el IV del feature es menor a 2% se considerá que no tiene valor predictivo, por tanto se decidio borrar las features pasivo rezagada va y Deuda rezada va**"
      ]
    },
    {
      "cell_type": "code",
      "metadata": {
        "id": "QPl1SLX5owNB",
        "colab_type": "code",
        "colab": {}
      },
      "source": [
        "data = data.drop('pasivo rezagada va', axis = 1)\n",
        "data = data.drop('Deuda rezagada va', axis = 1)"
      ],
      "execution_count": 17,
      "outputs": []
    },
    {
      "cell_type": "markdown",
      "metadata": {
        "id": "bBPa6zDfp_s6",
        "colab_type": "text"
      },
      "source": [
        "## Tratamiento de Categoricas:\n",
        "\n",
        "Para tratar las features categóricas, se van a aplicar dos tratamientos distintos, generando dos datasets finales. El primer tratamiento consistirá en el uso de Dummy Variables. El segundo será utilizando WOEs. "
      ]
    },
    {
      "cell_type": "code",
      "metadata": {
        "id": "4iQ7dqQhr76r",
        "colab_type": "code",
        "colab": {
          "base_uri": "https://localhost:8080/",
          "height": 153
        },
        "outputId": "3bcb4a62-9686-4747-fdae-eeb4cc2e7790"
      },
      "source": [
        "print(data.head())\n",
        "data_dummy = data\n",
        "data_woe = data\n",
        "data_continua = data\n",
        "\n",
        "continuo = [\"Saldo\", \"Saldo Promedio\", \"Deuda Sistea,\", \"Pasivo\", \"Venta \", \"Venta Formal\", \"Pasivo_desembolso\", \"Deuda rezagada vr\",\n",
        "            \"pasivo rezagada vr\", \"Pasivo_desembolso da\", \"Pasivo_desembolso dr\"]\n",
        "categoricas = ['Sector','Dep','Turismo','Sector de Impacto']\n",
        "\n",
        "features = continuo + categoricas"
      ],
      "execution_count": 18,
      "outputs": [
        {
          "output_type": "stream",
          "text": [
            "   Sector  Dep  ...  Pasivo_desembolso da  Pasivo_desembolso dr\n",
            "0       2    1  ...                     3                     3\n",
            "1       1    1  ...                     1                     1\n",
            "2       3    3  ...                     3                     3\n",
            "3       2    1  ...                     0                     0\n",
            "4       1    2  ...                     2                     0\n",
            "\n",
            "[5 rows x 16 columns]\n"
          ],
          "name": "stdout"
        }
      ]
    },
    {
      "cell_type": "markdown",
      "metadata": {
        "id": "o6RU_1aHqk_I",
        "colab_type": "text"
      },
      "source": [
        "### Dummy Variables"
      ]
    },
    {
      "cell_type": "code",
      "metadata": {
        "id": "33bAgGe_rKLt",
        "colab_type": "code",
        "colab": {
          "base_uri": "https://localhost:8080/",
          "height": 1000
        },
        "outputId": "acf64539-1d6e-4c6d-922b-66985fa7c4a9"
      },
      "source": [
        "for feature in features:\n",
        "    cat_list = \"cat\"+ \"_\" + feature\n",
        "    cat_dummies = pd.get_dummies(data_dummy[feature], prefix=feature).iloc[:,1:]\n",
        "    data_dummy = data_dummy.join(cat_dummies)\n",
        "\n",
        "data_dummy.info()"
      ],
      "execution_count": 19,
      "outputs": [
        {
          "output_type": "stream",
          "text": [
            "<class 'pandas.core.frame.DataFrame'>\n",
            "Int64Index: 1816 entries, 0 to 1997\n",
            "Data columns (total 62 columns):\n",
            " #   Column                  Non-Null Count  Dtype\n",
            "---  ------                  --------------  -----\n",
            " 0   Sector                  1816 non-null   int64\n",
            " 1   Dep                     1816 non-null   int64\n",
            " 2   Impactado               1816 non-null   int64\n",
            " 3   Saldo                   1816 non-null   int64\n",
            " 4   Saldo Promedio          1816 non-null   int64\n",
            " 5   Deuda Sistea,           1816 non-null   int64\n",
            " 6   Pasivo                  1816 non-null   int64\n",
            " 7   Turismo                 1816 non-null   int64\n",
            " 8   Sector de Impacto       1816 non-null   int64\n",
            " 9   Venta                   1816 non-null   int64\n",
            " 10  Venta Formal            1816 non-null   int64\n",
            " 11  Pasivo_desembolso       1816 non-null   int64\n",
            " 12  Deuda rezagada vr       1816 non-null   int64\n",
            " 13  pasivo rezagada vr      1816 non-null   int64\n",
            " 14  Pasivo_desembolso da    1816 non-null   int64\n",
            " 15  Pasivo_desembolso dr    1816 non-null   int64\n",
            " 16  Saldo_1                 1816 non-null   uint8\n",
            " 17  Saldo_2                 1816 non-null   uint8\n",
            " 18  Saldo_3                 1816 non-null   uint8\n",
            " 19  Saldo_4                 1816 non-null   uint8\n",
            " 20  Saldo Promedio_1        1816 non-null   uint8\n",
            " 21  Saldo Promedio_2        1816 non-null   uint8\n",
            " 22  Saldo Promedio_3        1816 non-null   uint8\n",
            " 23  Saldo Promedio_4        1816 non-null   uint8\n",
            " 24  Deuda Sistea,_1         1816 non-null   uint8\n",
            " 25  Deuda Sistea,_2         1816 non-null   uint8\n",
            " 26  Deuda Sistea,_3         1816 non-null   uint8\n",
            " 27  Deuda Sistea,_4         1816 non-null   uint8\n",
            " 28  Pasivo_1                1816 non-null   uint8\n",
            " 29  Pasivo_2                1816 non-null   uint8\n",
            " 30  Pasivo_3                1816 non-null   uint8\n",
            " 31  Venta _1                1816 non-null   uint8\n",
            " 32  Venta _2                1816 non-null   uint8\n",
            " 33  Venta _3                1816 non-null   uint8\n",
            " 34  Venta _4                1816 non-null   uint8\n",
            " 35  Venta Formal_1          1816 non-null   uint8\n",
            " 36  Venta Formal_2          1816 non-null   uint8\n",
            " 37  Venta Formal_3          1816 non-null   uint8\n",
            " 38  Pasivo_desembolso_1     1816 non-null   uint8\n",
            " 39  Pasivo_desembolso_2     1816 non-null   uint8\n",
            " 40  Pasivo_desembolso_3     1816 non-null   uint8\n",
            " 41  Deuda rezagada vr_1     1816 non-null   uint8\n",
            " 42  Deuda rezagada vr_2     1816 non-null   uint8\n",
            " 43  Deuda rezagada vr_3     1816 non-null   uint8\n",
            " 44  Deuda rezagada vr_4     1816 non-null   uint8\n",
            " 45  pasivo rezagada vr_1    1816 non-null   uint8\n",
            " 46  pasivo rezagada vr_2    1816 non-null   uint8\n",
            " 47  pasivo rezagada vr_3    1816 non-null   uint8\n",
            " 48  Pasivo_desembolso da_1  1816 non-null   uint8\n",
            " 49  Pasivo_desembolso da_2  1816 non-null   uint8\n",
            " 50  Pasivo_desembolso da_3  1816 non-null   uint8\n",
            " 51  Pasivo_desembolso dr_1  1816 non-null   uint8\n",
            " 52  Pasivo_desembolso dr_2  1816 non-null   uint8\n",
            " 53  Pasivo_desembolso dr_3  1816 non-null   uint8\n",
            " 54  Sector_2                1816 non-null   uint8\n",
            " 55  Sector_3                1816 non-null   uint8\n",
            " 56  Dep_2                   1816 non-null   uint8\n",
            " 57  Dep_3                   1816 non-null   uint8\n",
            " 58  Turismo_1               1816 non-null   uint8\n",
            " 59  Sector de Impacto_2     1816 non-null   uint8\n",
            " 60  Sector de Impacto_3     1816 non-null   uint8\n",
            " 61  Sector de Impacto_4     1816 non-null   uint8\n",
            "dtypes: int64(16), uint8(46)\n",
            "memory usage: 402.8 KB\n"
          ],
          "name": "stdout"
        }
      ]
    },
    {
      "cell_type": "code",
      "metadata": {
        "id": "-7yx_SuiwIaz",
        "colab_type": "code",
        "colab": {}
      },
      "source": [
        "data_dummy = data_dummy.drop(features, axis = 1)"
      ],
      "execution_count": 20,
      "outputs": []
    },
    {
      "cell_type": "code",
      "metadata": {
        "id": "AhEigav4wXZY",
        "colab_type": "code",
        "colab": {
          "base_uri": "https://localhost:8080/",
          "height": 935
        },
        "outputId": "9917ac4e-f962-4169-9b4d-c7d78c521165"
      },
      "source": [
        "data_dummy.info()"
      ],
      "execution_count": 21,
      "outputs": [
        {
          "output_type": "stream",
          "text": [
            "<class 'pandas.core.frame.DataFrame'>\n",
            "Int64Index: 1816 entries, 0 to 1997\n",
            "Data columns (total 47 columns):\n",
            " #   Column                  Non-Null Count  Dtype\n",
            "---  ------                  --------------  -----\n",
            " 0   Impactado               1816 non-null   int64\n",
            " 1   Saldo_1                 1816 non-null   uint8\n",
            " 2   Saldo_2                 1816 non-null   uint8\n",
            " 3   Saldo_3                 1816 non-null   uint8\n",
            " 4   Saldo_4                 1816 non-null   uint8\n",
            " 5   Saldo Promedio_1        1816 non-null   uint8\n",
            " 6   Saldo Promedio_2        1816 non-null   uint8\n",
            " 7   Saldo Promedio_3        1816 non-null   uint8\n",
            " 8   Saldo Promedio_4        1816 non-null   uint8\n",
            " 9   Deuda Sistea,_1         1816 non-null   uint8\n",
            " 10  Deuda Sistea,_2         1816 non-null   uint8\n",
            " 11  Deuda Sistea,_3         1816 non-null   uint8\n",
            " 12  Deuda Sistea,_4         1816 non-null   uint8\n",
            " 13  Pasivo_1                1816 non-null   uint8\n",
            " 14  Pasivo_2                1816 non-null   uint8\n",
            " 15  Pasivo_3                1816 non-null   uint8\n",
            " 16  Venta _1                1816 non-null   uint8\n",
            " 17  Venta _2                1816 non-null   uint8\n",
            " 18  Venta _3                1816 non-null   uint8\n",
            " 19  Venta _4                1816 non-null   uint8\n",
            " 20  Venta Formal_1          1816 non-null   uint8\n",
            " 21  Venta Formal_2          1816 non-null   uint8\n",
            " 22  Venta Formal_3          1816 non-null   uint8\n",
            " 23  Pasivo_desembolso_1     1816 non-null   uint8\n",
            " 24  Pasivo_desembolso_2     1816 non-null   uint8\n",
            " 25  Pasivo_desembolso_3     1816 non-null   uint8\n",
            " 26  Deuda rezagada vr_1     1816 non-null   uint8\n",
            " 27  Deuda rezagada vr_2     1816 non-null   uint8\n",
            " 28  Deuda rezagada vr_3     1816 non-null   uint8\n",
            " 29  Deuda rezagada vr_4     1816 non-null   uint8\n",
            " 30  pasivo rezagada vr_1    1816 non-null   uint8\n",
            " 31  pasivo rezagada vr_2    1816 non-null   uint8\n",
            " 32  pasivo rezagada vr_3    1816 non-null   uint8\n",
            " 33  Pasivo_desembolso da_1  1816 non-null   uint8\n",
            " 34  Pasivo_desembolso da_2  1816 non-null   uint8\n",
            " 35  Pasivo_desembolso da_3  1816 non-null   uint8\n",
            " 36  Pasivo_desembolso dr_1  1816 non-null   uint8\n",
            " 37  Pasivo_desembolso dr_2  1816 non-null   uint8\n",
            " 38  Pasivo_desembolso dr_3  1816 non-null   uint8\n",
            " 39  Sector_2                1816 non-null   uint8\n",
            " 40  Sector_3                1816 non-null   uint8\n",
            " 41  Dep_2                   1816 non-null   uint8\n",
            " 42  Dep_3                   1816 non-null   uint8\n",
            " 43  Turismo_1               1816 non-null   uint8\n",
            " 44  Sector de Impacto_2     1816 non-null   uint8\n",
            " 45  Sector de Impacto_3     1816 non-null   uint8\n",
            " 46  Sector de Impacto_4     1816 non-null   uint8\n",
            "dtypes: int64(1), uint8(46)\n",
            "memory usage: 190.0 KB\n"
          ],
          "name": "stdout"
        }
      ]
    },
    {
      "cell_type": "markdown",
      "metadata": {
        "id": "UcjJAFnrqn3S",
        "colab_type": "text"
      },
      "source": [
        "### WOEs"
      ]
    },
    {
      "cell_type": "code",
      "metadata": {
        "id": "3paa7Sq9qsfB",
        "colab_type": "code",
        "colab": {}
      },
      "source": [
        "def woe(data,variable,target):\n",
        "    woe=data.groupby([variable])[target].agg([('Target','mean'),('Total','count'),('Malos','sum')]).reset_index()\n",
        "    woe['Buenos']=woe.Total-woe.Malos \n",
        "    woe['WOE']=np.log((woe.Buenos/np.sum(woe.Buenos))/(woe.Malos/np.sum(woe.Malos)))\n",
        "    cats = woe[variable].unique()\n",
        "    wos = woe['WOE'].unique()\n",
        "\n",
        "    for i in range(len(cats)):\n",
        "      data[variable] = data[variable].replace(to_replace= cats[i], value = wos[i])\n",
        "    \n",
        "    return(data)"
      ],
      "execution_count": 22,
      "outputs": []
    },
    {
      "cell_type": "code",
      "metadata": {
        "id": "8Bm_CYEYrIx-",
        "colab_type": "code",
        "colab": {
          "base_uri": "https://localhost:8080/",
          "height": 258
        },
        "outputId": "bc178cf6-7a5f-4b66-9c1c-cda649027bb8"
      },
      "source": [
        "for feature in features:\n",
        "  data_woe = woe(data_woe, feature, 'Impactado')\n",
        "\n",
        "print(data_woe.head())\n",
        "data_woe = data_woe.abs()\n",
        "print(data_woe.head())"
      ],
      "execution_count": 34,
      "outputs": [
        {
          "output_type": "execute_result",
          "data": {
            "text/html": [
              "<div>\n",
              "<style scoped>\n",
              "    .dataframe tbody tr th:only-of-type {\n",
              "        vertical-align: middle;\n",
              "    }\n",
              "\n",
              "    .dataframe tbody tr th {\n",
              "        vertical-align: top;\n",
              "    }\n",
              "\n",
              "    .dataframe thead th {\n",
              "        text-align: right;\n",
              "    }\n",
              "</style>\n",
              "<table border=\"1\" class=\"dataframe\">\n",
              "  <thead>\n",
              "    <tr style=\"text-align: right;\">\n",
              "      <th></th>\n",
              "      <th>Sector</th>\n",
              "      <th>Dep</th>\n",
              "      <th>Impactado</th>\n",
              "      <th>Saldo</th>\n",
              "      <th>Saldo Promedio</th>\n",
              "      <th>Deuda Sistea,</th>\n",
              "      <th>Pasivo</th>\n",
              "      <th>Turismo</th>\n",
              "      <th>Sector de Impacto</th>\n",
              "      <th>Venta</th>\n",
              "      <th>Venta Formal</th>\n",
              "      <th>Pasivo_desembolso</th>\n",
              "      <th>Deuda rezagada vr</th>\n",
              "      <th>pasivo rezagada vr</th>\n",
              "      <th>Pasivo_desembolso da</th>\n",
              "      <th>Pasivo_desembolso dr</th>\n",
              "    </tr>\n",
              "  </thead>\n",
              "  <tbody>\n",
              "    <tr>\n",
              "      <th>0</th>\n",
              "      <td>0.208575</td>\n",
              "      <td>0.100837</td>\n",
              "      <td>0.0</td>\n",
              "      <td>0.505857</td>\n",
              "      <td>0.505857</td>\n",
              "      <td>0.529199</td>\n",
              "      <td>0.101191</td>\n",
              "      <td>0.032375</td>\n",
              "      <td>0.184196</td>\n",
              "      <td>0.093553</td>\n",
              "      <td>0.352208</td>\n",
              "      <td>0.081389</td>\n",
              "      <td>0.117963</td>\n",
              "      <td>0.239939</td>\n",
              "      <td>0.073827</td>\n",
              "      <td>0.217669</td>\n",
              "    </tr>\n",
              "    <tr>\n",
              "      <th>1</th>\n",
              "      <td>0.142013</td>\n",
              "      <td>0.100837</td>\n",
              "      <td>0.0</td>\n",
              "      <td>0.202633</td>\n",
              "      <td>0.224986</td>\n",
              "      <td>0.273446</td>\n",
              "      <td>0.101191</td>\n",
              "      <td>0.032375</td>\n",
              "      <td>0.042780</td>\n",
              "      <td>0.093553</td>\n",
              "      <td>0.352208</td>\n",
              "      <td>0.081389</td>\n",
              "      <td>0.117963</td>\n",
              "      <td>0.147109</td>\n",
              "      <td>0.151660</td>\n",
              "      <td>0.145062</td>\n",
              "    </tr>\n",
              "    <tr>\n",
              "      <th>2</th>\n",
              "      <td>0.181622</td>\n",
              "      <td>0.650898</td>\n",
              "      <td>0.0</td>\n",
              "      <td>0.003320</td>\n",
              "      <td>0.003320</td>\n",
              "      <td>0.169208</td>\n",
              "      <td>0.101191</td>\n",
              "      <td>0.032375</td>\n",
              "      <td>0.766857</td>\n",
              "      <td>0.093553</td>\n",
              "      <td>0.352208</td>\n",
              "      <td>0.081389</td>\n",
              "      <td>0.113729</td>\n",
              "      <td>0.239939</td>\n",
              "      <td>0.073827</td>\n",
              "      <td>0.217669</td>\n",
              "    </tr>\n",
              "    <tr>\n",
              "      <th>3</th>\n",
              "      <td>0.208575</td>\n",
              "      <td>0.100837</td>\n",
              "      <td>0.0</td>\n",
              "      <td>0.003320</td>\n",
              "      <td>0.003320</td>\n",
              "      <td>0.273446</td>\n",
              "      <td>0.030729</td>\n",
              "      <td>0.032375</td>\n",
              "      <td>0.184196</td>\n",
              "      <td>0.093553</td>\n",
              "      <td>0.094202</td>\n",
              "      <td>0.030729</td>\n",
              "      <td>0.102661</td>\n",
              "      <td>0.074752</td>\n",
              "      <td>0.222681</td>\n",
              "      <td>0.074752</td>\n",
              "    </tr>\n",
              "    <tr>\n",
              "      <th>4</th>\n",
              "      <td>0.142013</td>\n",
              "      <td>0.187328</td>\n",
              "      <td>0.0</td>\n",
              "      <td>0.173266</td>\n",
              "      <td>0.184351</td>\n",
              "      <td>0.281151</td>\n",
              "      <td>0.030729</td>\n",
              "      <td>0.032375</td>\n",
              "      <td>0.042780</td>\n",
              "      <td>0.284645</td>\n",
              "      <td>0.352208</td>\n",
              "      <td>0.030729</td>\n",
              "      <td>0.102661</td>\n",
              "      <td>0.074752</td>\n",
              "      <td>0.092633</td>\n",
              "      <td>0.074752</td>\n",
              "    </tr>\n",
              "  </tbody>\n",
              "</table>\n",
              "</div>"
            ],
            "text/plain": [
              "     Sector       Dep  ...  Pasivo_desembolso da  Pasivo_desembolso dr\n",
              "0  0.208575  0.100837  ...              0.073827              0.217669\n",
              "1  0.142013  0.100837  ...              0.151660              0.145062\n",
              "2  0.181622  0.650898  ...              0.073827              0.217669\n",
              "3  0.208575  0.100837  ...              0.222681              0.074752\n",
              "4  0.142013  0.187328  ...              0.092633              0.074752\n",
              "\n",
              "[5 rows x 16 columns]"
            ]
          },
          "metadata": {
            "tags": []
          },
          "execution_count": 34
        }
      ]
    },
    {
      "cell_type": "markdown",
      "metadata": {
        "id": "yvL86ikW3uGN",
        "colab_type": "text"
      },
      "source": [
        "## Modelamiento variable objetivo\n",
        "\n",
        "En esta sección, se ha decidido crear una función la cual se encargue de calcular los distintos modelos que se van a probar. Para hacer esto se definirán 5 funciones previas, una para cada modelo. Estas funciones serán Logistic Regression, Naive Bayes, Support Vector Machine Classification, Decision Trees y Random Forrest/XGBoost. Cada una de estas funciones debe realizar la implementación, entrenamiento del modelo, y calculo de sus respectivas métricas.  "
      ]
    },
    {
      "cell_type": "markdown",
      "metadata": {
        "id": "tZoSypih6tXz",
        "colab_type": "text"
      },
      "source": [
        "### Función Logistic Regression:"
      ]
    },
    {
      "cell_type": "code",
      "metadata": {
        "id": "_CpYn5UE6XBp",
        "colab_type": "code",
        "colab": {}
      },
      "source": [
        "def logistic_regression(Xtrain, Xtest, ytrain, ytest, rfe_features, params_logistic):\n",
        "  x = np.concatenate((Xtrain, Xtest))\n",
        "  y = np.concatenate((ytrain, ytest))\n",
        "  lr = LogisticRegression()\n",
        "  rfe = RFE(lr, rfe_features, step = 1)\n",
        "  rfe.fit(x, y)\n",
        "  Xtrain = rfe.transform(Xtrain)\n",
        "  Xtest = rfe.transform(Xtest)\n",
        "  logistic_regression = LogisticRegression(random_state = 0)\n",
        "  logistic_regression.fit(Xtrain, ytrain)\n",
        "  gridsearch = GridSearchCV(estimator = logistic_regression,\n",
        "                          param_grid = params_logistic,\n",
        "                          scoring = 'accuracy',\n",
        "                          cv = 10)\n",
        "  gridsearch = gridsearch.fit(Xtrain, ytrain)\n",
        "  print('LOGISTIC REGRESSION FEATURES SELECT:')\n",
        "  print(rfe.ranking_)\n",
        "  print('LOGISTIC REGRESSION PARAMETERS:')\n",
        "  print(str(gridsearch.best_params_))\n",
        "  print('LOGISTIC REGRESSION METRICS:')\n",
        "  print(' Accuracy: '+ str(gridsearch.best_estimator_.score(Xtest, ytest)))\n",
        "  print(' Gini_train: ' + str(2*roc_auc_score(ytrain,gridsearch.best_estimator_.predict_proba(Xtrain)[:,1])-1)) \n",
        "  print(' Gini_test: ' + str(2*roc_auc_score(ytest,gridsearch.best_estimator_.predict_proba(Xtest)[:,1])-1))"
      ],
      "execution_count": 24,
      "outputs": []
    },
    {
      "cell_type": "markdown",
      "metadata": {
        "id": "rtc4skjM670t",
        "colab_type": "text"
      },
      "source": [
        "### Función Naive Bayes:"
      ]
    },
    {
      "cell_type": "code",
      "metadata": {
        "id": "O0DJ0myVoFep",
        "colab_type": "code",
        "colab": {}
      },
      "source": [
        "def naive_bayes(Xtrain, Xtest, ytrain, ytest):\n",
        "  #GAUSSIAN:\n",
        "  nai_1 = GaussianNB()\n",
        "  nai_1.fit(Xtrain,ytrain)\n",
        "  nai_1_score = nai_1.score(Xtest, ytest)\n",
        "  #BERNOULLI:\n",
        "  nai_2 = BernoulliNB()\n",
        "  nai_2.fit(Xtrain,ytrain)\n",
        "  nai_2_score = nai_2.score(Xtest, ytest)\n",
        "  #MULTINOMIAL:\n",
        "  nai_3 = MultinomialNB()\n",
        "  nai_3.fit(Xtrain,ytrain)\n",
        "  nai_3_score = nai_3.score(Xtest, ytest)\n",
        "\n",
        "  score = nai_1_score\n",
        "  model = nai_1\n",
        "  name_model = 'Gaussian'\n",
        "  if (nai_2_score > score):\n",
        "    score = nai_2_score\n",
        "    name_model = 'Bernoulli'\n",
        "    model = nai_2\n",
        "\n",
        "  if (nai_3_score > score):\n",
        "    score = nai_3_score\n",
        "    name_model = 'Multinomial'\n",
        "    model = nai_3\n",
        "      \n",
        "  print('NAIVE BAYES MODEL:')\n",
        "  print(name_model)\n",
        "  print('NAIVE BAYES METRICS:')\n",
        "  print(' Accuracy: '+ str(model.score(Xtest, ytest)))\n",
        "  print(' Gini_train: ' + str(2*roc_auc_score(ytrain,model.predict_proba(Xtrain)[:,1])-1)) \n",
        "  print(' Gini_test: ' + str(2*roc_auc_score(ytest,model.predict_proba(Xtest)[:,1])-1))"
      ],
      "execution_count": 25,
      "outputs": []
    },
    {
      "cell_type": "markdown",
      "metadata": {
        "id": "O8WacJ9L604o",
        "colab_type": "text"
      },
      "source": [
        "### Función Support Vector Machine:"
      ]
    },
    {
      "cell_type": "code",
      "metadata": {
        "id": "VImXSo2HuQeu",
        "colab_type": "code",
        "colab": {}
      },
      "source": [
        "def support_vector_classifier(Xtrain, Xtest, ytrain, ytest, params_svc):\n",
        "  support_vector_classifier = SVC(random_state = 0)\n",
        "  support_vector_classifier.fit(Xtrain, ytrain)\n",
        "  gridsearch = GridSearchCV(estimator = support_vector_classifier,\n",
        "                          param_grid = params_svc,\n",
        "                          scoring = 'accuracy',\n",
        "                          cv = 10)\n",
        "  gridsearch = gridsearch.fit(Xtrain, ytrain)\n",
        "\n",
        "  print('SUPPORT VECTOR MACHINE CLASSIFIER PARAMETERS:')\n",
        "  print(str(gridsearch.best_params_))\n",
        "  print('SUPPORT VECTOR MACHINE CLASSIFIER METRICS:')\n",
        "  print(' Accuracy: '+ str(gridsearch.best_estimator_.score(Xtest, ytest)))"
      ],
      "execution_count": 26,
      "outputs": []
    },
    {
      "cell_type": "markdown",
      "metadata": {
        "id": "fhXOdzDt7BvM",
        "colab_type": "text"
      },
      "source": [
        "### Función Decision Trees:"
      ]
    },
    {
      "cell_type": "code",
      "metadata": {
        "id": "E9zY6nlCoBNb",
        "colab_type": "code",
        "colab": {}
      },
      "source": [
        "def decision_tree(Xtrain, Xtest, ytrain, ytest, params_decision_tree):\n",
        "  decision_tree = DecisionTreeClassifier(random_state = 0)\n",
        "  decision_tree.fit(Xtrain, ytrain)\n",
        "  gridsearch = GridSearchCV(estimator = decision_tree,\n",
        "                          param_grid = params_decision_tree,\n",
        "                          scoring = 'accuracy',\n",
        "                          cv = 10)\n",
        "  gridsearch = gridsearch.fit(Xtrain, ytrain)\n",
        "\n",
        "  print('DECISION TREE CLASSIFIER PARAMETERS:')\n",
        "  print(str(gridsearch.best_params_))\n",
        "  print('DECISION TREE CLASSIFIER METRICS:')\n",
        "  print(' Accuracy: '+ str(gridsearch.best_estimator_.score(Xtest, ytest)))\n",
        "  print(' Gini_train: ' + str(2*roc_auc_score(ytrain,gridsearch.best_estimator_.predict_proba(Xtrain)[:,1])-1)) \n",
        "  print(' Gini_test: ' + str(2*roc_auc_score(ytest,gridsearch.best_estimator_.predict_proba(Xtest)[:,1])-1))"
      ],
      "execution_count": 27,
      "outputs": []
    },
    {
      "cell_type": "markdown",
      "metadata": {
        "id": "2XiUMXJM7HdV",
        "colab_type": "text"
      },
      "source": [
        "### Función RandomForrest:"
      ]
    },
    {
      "cell_type": "code",
      "metadata": {
        "id": "VFhXOExzn77p",
        "colab_type": "code",
        "colab": {}
      },
      "source": [
        "def random_forrest_model(Xtrain, Xtest, ytrain, ytest, params_rf):\n",
        "  random_forrest_model = RandomForestClassifier(random_state = 0)\n",
        "  random_forrest_model.fit(Xtrain, ytrain)\n",
        "  gridsearch = GridSearchCV(estimator = random_forrest_model,\n",
        "                          param_grid = params_rf,\n",
        "                          scoring = 'accuracy',\n",
        "                          cv = 10)\n",
        "  gridsearch = gridsearch.fit(Xtrain, ytrain)\n",
        "\n",
        "  print('RANDOM FORREST CLASSIFIER PARAMETERS:')\n",
        "  print(str(gridsearch.best_params_))\n",
        "  print('RANDOM FORREST CLASSIFIER METRICS:')\n",
        "  print(' Accuracy: '+ str(gridsearch.best_estimator_.score(Xtest, ytest)))\n",
        "  print(' Gini_train: ' + str(2*roc_auc_score(ytrain,gridsearch.best_estimator_.predict_proba(Xtrain)[:,1])-1)) \n",
        "  print(' Gini_test: ' + str(2*roc_auc_score(ytest,gridsearch.best_estimator_.predict_proba(Xtest)[:,1])-1))"
      ],
      "execution_count": 28,
      "outputs": []
    },
    {
      "cell_type": "markdown",
      "metadata": {
        "id": "03OzD5EC6q9w",
        "colab_type": "text"
      },
      "source": [
        "### Función XGBoost:"
      ]
    },
    {
      "cell_type": "code",
      "metadata": {
        "id": "fmI6sF-k6qOq",
        "colab_type": "code",
        "colab": {}
      },
      "source": [
        "def xgboost_model(Xtrain, Xtest, ytrain, ytest, params_xgboost):\n",
        "  xgboost = xgb.XGBClassifier(learning_rate=0.02, n_estimators=100, objective='binary:logistic', silent=True, nthread=1)\n",
        "  \n",
        "  xgboost.fit(Xtrain, ytrain)\n",
        "  gridsearch = GridSearchCV(estimator = xgboost,\n",
        "                          param_grid = params_xgboost,\n",
        "                          scoring = 'accuracy',\n",
        "                          cv = 10)\n",
        "  gridsearch = gridsearch.fit(Xtrain, ytrain)\n",
        "\n",
        "  print('XGBOOST CLASSIFIER PARAMETERS:')\n",
        "  print(str(gridsearch.best_params_))\n",
        "  print('XGBOOST CLASSIFIER METRICS:')\n",
        "  print(' Accuracy: '+ str(gridsearch.best_estimator_.score(Xtest, ytest)))\n",
        "  print(' Gini_train: ' + str(2*roc_auc_score(ytrain,gridsearch.best_estimator_.predict_proba(Xtrain)[:,1])-1)) \n",
        "  print(' Gini_test: ' + str(2*roc_auc_score(ytest,gridsearch.best_estimator_.predict_proba(Xtest)[:,1])-1))"
      ],
      "execution_count": 29,
      "outputs": []
    },
    {
      "cell_type": "markdown",
      "metadata": {
        "id": "-Lvi70lm7OvU",
        "colab_type": "text"
      },
      "source": [
        "### Función Modelos:"
      ]
    },
    {
      "cell_type": "code",
      "metadata": {
        "id": "5DD9VsU6tRjR",
        "colab_type": "code",
        "colab": {}
      },
      "source": [
        "def classifier_models(data, y_feature, test_size, rfe_features, params_logistic, params_svc, params_decision_tree, params_rf, params_xgboost):\n",
        "  X=data.drop([y_feature], axis=1)\n",
        "  y=data[y_feature]\n",
        "  Xtrain,Xtest,ytrain,ytest=train_test_split(X,y,test_size = test_size,random_state=0)\n",
        "  \n",
        "  #Logistic Regression:\n",
        "  logistic_regression(Xtrain, Xtest, ytrain, ytest, rfe_features, params_logistic)\n",
        "\n",
        "  #Naive Bayes:\n",
        "  naive_bayes(Xtrain, Xtest, ytrain, ytest)\n",
        "\n",
        "  #Support Vector Classifier:\n",
        "  support_vector_classifier(Xtrain, Xtest, ytrain, ytest, params_svc)\n",
        "\n",
        "  #Decision Tree:\n",
        "  decision_tree(Xtrain, Xtest, ytrain, ytest, params_decision_tree)\n",
        "  \n",
        "  #Random Forrest:\n",
        "  random_forrest_model(Xtrain, Xtest, ytrain, ytest, params_rf)\n",
        "\n",
        "  #XGBoost Model:\n",
        "  xgboost_model(Xtrain, Xtest, ytrain, ytest, params_xgboost)"
      ],
      "execution_count": 30,
      "outputs": []
    },
    {
      "cell_type": "markdown",
      "metadata": {
        "id": "h-s1ssSjxMCP",
        "colab_type": "text"
      },
      "source": [
        "### Parametros GridSearch"
      ]
    },
    {
      "cell_type": "code",
      "metadata": {
        "id": "-9EL5FWIDAre",
        "colab_type": "code",
        "colab": {}
      },
      "source": [
        "#Parameters:\n",
        "\n",
        "params_logistic = [{\"C\":np.logspace(-3,3,7), \"penalty\":[\"l1\",\"l2\"], 'max_iter':[50, 100, 200, 400]}]                    \n",
        "params_svc = [{'C':[1, 5, 10, 20, 50], 'kernel':['linear']},\n",
        "              {'C':[1, 5, 10, 20, 50], 'kernel':['rbf', 'sigmoid','poly'], 'gamma':[0.9, 0.5, 0.1, 0.05, 0.001, 0.0005]}] \n",
        "params_decision_tree = [{'criterion':['gini', 'entropy'], 'splitter':['best', 'random'], 'max_depth':[None, 5, 10, 20]}]\n",
        "params_rf = [{'min_samples_split':[2, 5, 10, 15, 100], 'n_estimators':[100, 300, 500], 'max_depth':[5, 8, 15, 25], 'min_samples_leaf':[1, 2, 5]}]\n",
        "params_xgboost = [{'num_boost_round': [100, 250, 500], 'eta': [0.05, 0.1, 0.3],'gamma': [0.5, 1, 1.5, 2], 'subsample': [0.9, 1.0],\n",
        "        'colsample_bytree': [0.9, 1.0], 'max_depth': [6, 9, 12]}]  "
      ],
      "execution_count": 31,
      "outputs": []
    },
    {
      "cell_type": "markdown",
      "metadata": {
        "id": "dKGm54K27dOG",
        "colab_type": "text"
      },
      "source": [
        "### Implementación Modelos_Dummmy Set:"
      ]
    },
    {
      "cell_type": "code",
      "metadata": {
        "id": "6bWPdmBfYjrj",
        "colab_type": "code",
        "colab": {
          "base_uri": "https://localhost:8080/",
          "height": 1000
        },
        "outputId": "ad359e77-1440-4753-86b8-b98074a02da1"
      },
      "source": [
        "y_feature = 'Impactado'\n",
        "test_size = 0.25\n",
        "rfe_features = 28 #Al haber casi 70 features, el espacio de features debe ser mayor\n",
        "data_final = data_dummy\n",
        "\n",
        "classifier_models(data_final, y_feature, test_size, rfe_features, params_logistic, params_svc, params_decision_tree, \n",
        "                  params_rf, params_xgboost)"
      ],
      "execution_count": 32,
      "outputs": [
        {
          "output_type": "stream",
          "text": [
            "/usr/local/lib/python3.6/dist-packages/sklearn/model_selection/_validation.py:536: FitFailedWarning: Estimator fit failed. The score on this train-test partition for these parameters will be set to nan. Details: \n",
            "ValueError: Solver lbfgs supports only 'l2' or 'none' penalties, got l1 penalty.\n",
            "\n",
            "  FitFailedWarning)\n",
            "/usr/local/lib/python3.6/dist-packages/sklearn/model_selection/_validation.py:536: FitFailedWarning: Estimator fit failed. The score on this train-test partition for these parameters will be set to nan. Details: \n",
            "ValueError: Solver lbfgs supports only 'l2' or 'none' penalties, got l1 penalty.\n",
            "\n",
            "  FitFailedWarning)\n",
            "/usr/local/lib/python3.6/dist-packages/sklearn/model_selection/_validation.py:536: FitFailedWarning: Estimator fit failed. The score on this train-test partition for these parameters will be set to nan. Details: \n",
            "ValueError: Solver lbfgs supports only 'l2' or 'none' penalties, got l1 penalty.\n",
            "\n",
            "  FitFailedWarning)\n",
            "/usr/local/lib/python3.6/dist-packages/sklearn/model_selection/_validation.py:536: FitFailedWarning: Estimator fit failed. The score on this train-test partition for these parameters will be set to nan. Details: \n",
            "ValueError: Solver lbfgs supports only 'l2' or 'none' penalties, got l1 penalty.\n",
            "\n",
            "  FitFailedWarning)\n",
            "/usr/local/lib/python3.6/dist-packages/sklearn/model_selection/_validation.py:536: FitFailedWarning: Estimator fit failed. The score on this train-test partition for these parameters will be set to nan. Details: \n",
            "ValueError: Solver lbfgs supports only 'l2' or 'none' penalties, got l1 penalty.\n",
            "\n",
            "  FitFailedWarning)\n",
            "/usr/local/lib/python3.6/dist-packages/sklearn/model_selection/_validation.py:536: FitFailedWarning: Estimator fit failed. The score on this train-test partition for these parameters will be set to nan. Details: \n",
            "ValueError: Solver lbfgs supports only 'l2' or 'none' penalties, got l1 penalty.\n",
            "\n",
            "  FitFailedWarning)\n",
            "/usr/local/lib/python3.6/dist-packages/sklearn/model_selection/_validation.py:536: FitFailedWarning: Estimator fit failed. The score on this train-test partition for these parameters will be set to nan. Details: \n",
            "ValueError: Solver lbfgs supports only 'l2' or 'none' penalties, got l1 penalty.\n",
            "\n",
            "  FitFailedWarning)\n",
            "/usr/local/lib/python3.6/dist-packages/sklearn/model_selection/_validation.py:536: FitFailedWarning: Estimator fit failed. The score on this train-test partition for these parameters will be set to nan. Details: \n",
            "ValueError: Solver lbfgs supports only 'l2' or 'none' penalties, got l1 penalty.\n",
            "\n",
            "  FitFailedWarning)\n",
            "/usr/local/lib/python3.6/dist-packages/sklearn/model_selection/_validation.py:536: FitFailedWarning: Estimator fit failed. The score on this train-test partition for these parameters will be set to nan. Details: \n",
            "ValueError: Solver lbfgs supports only 'l2' or 'none' penalties, got l1 penalty.\n",
            "\n",
            "  FitFailedWarning)\n",
            "/usr/local/lib/python3.6/dist-packages/sklearn/model_selection/_validation.py:536: FitFailedWarning: Estimator fit failed. The score on this train-test partition for these parameters will be set to nan. Details: \n",
            "ValueError: Solver lbfgs supports only 'l2' or 'none' penalties, got l1 penalty.\n",
            "\n",
            "  FitFailedWarning)\n",
            "/usr/local/lib/python3.6/dist-packages/sklearn/model_selection/_validation.py:536: FitFailedWarning: Estimator fit failed. The score on this train-test partition for these parameters will be set to nan. Details: \n",
            "ValueError: Solver lbfgs supports only 'l2' or 'none' penalties, got l1 penalty.\n",
            "\n",
            "  FitFailedWarning)\n",
            "/usr/local/lib/python3.6/dist-packages/sklearn/model_selection/_validation.py:536: FitFailedWarning: Estimator fit failed. The score on this train-test partition for these parameters will be set to nan. Details: \n",
            "ValueError: Solver lbfgs supports only 'l2' or 'none' penalties, got l1 penalty.\n",
            "\n",
            "  FitFailedWarning)\n",
            "/usr/local/lib/python3.6/dist-packages/sklearn/model_selection/_validation.py:536: FitFailedWarning: Estimator fit failed. The score on this train-test partition for these parameters will be set to nan. Details: \n",
            "ValueError: Solver lbfgs supports only 'l2' or 'none' penalties, got l1 penalty.\n",
            "\n",
            "  FitFailedWarning)\n",
            "/usr/local/lib/python3.6/dist-packages/sklearn/model_selection/_validation.py:536: FitFailedWarning: Estimator fit failed. The score on this train-test partition for these parameters will be set to nan. Details: \n",
            "ValueError: Solver lbfgs supports only 'l2' or 'none' penalties, got l1 penalty.\n",
            "\n",
            "  FitFailedWarning)\n",
            "/usr/local/lib/python3.6/dist-packages/sklearn/model_selection/_validation.py:536: FitFailedWarning: Estimator fit failed. The score on this train-test partition for these parameters will be set to nan. Details: \n",
            "ValueError: Solver lbfgs supports only 'l2' or 'none' penalties, got l1 penalty.\n",
            "\n",
            "  FitFailedWarning)\n",
            "/usr/local/lib/python3.6/dist-packages/sklearn/model_selection/_validation.py:536: FitFailedWarning: Estimator fit failed. The score on this train-test partition for these parameters will be set to nan. Details: \n",
            "ValueError: Solver lbfgs supports only 'l2' or 'none' penalties, got l1 penalty.\n",
            "\n",
            "  FitFailedWarning)\n",
            "/usr/local/lib/python3.6/dist-packages/sklearn/model_selection/_validation.py:536: FitFailedWarning: Estimator fit failed. The score on this train-test partition for these parameters will be set to nan. Details: \n",
            "ValueError: Solver lbfgs supports only 'l2' or 'none' penalties, got l1 penalty.\n",
            "\n",
            "  FitFailedWarning)\n",
            "/usr/local/lib/python3.6/dist-packages/sklearn/linear_model/_logistic.py:940: ConvergenceWarning: lbfgs failed to converge (status=1):\n",
            "STOP: TOTAL NO. of ITERATIONS REACHED LIMIT.\n",
            "\n",
            "Increase the number of iterations (max_iter) or scale the data as shown in:\n",
            "    https://scikit-learn.org/stable/modules/preprocessing.html\n",
            "Please also refer to the documentation for alternative solver options:\n",
            "    https://scikit-learn.org/stable/modules/linear_model.html#logistic-regression\n",
            "  extra_warning_msg=_LOGISTIC_SOLVER_CONVERGENCE_MSG)\n",
            "/usr/local/lib/python3.6/dist-packages/sklearn/linear_model/_logistic.py:940: ConvergenceWarning: lbfgs failed to converge (status=1):\n",
            "STOP: TOTAL NO. of ITERATIONS REACHED LIMIT.\n",
            "\n",
            "Increase the number of iterations (max_iter) or scale the data as shown in:\n",
            "    https://scikit-learn.org/stable/modules/preprocessing.html\n",
            "Please also refer to the documentation for alternative solver options:\n",
            "    https://scikit-learn.org/stable/modules/linear_model.html#logistic-regression\n",
            "  extra_warning_msg=_LOGISTIC_SOLVER_CONVERGENCE_MSG)\n",
            "/usr/local/lib/python3.6/dist-packages/sklearn/linear_model/_logistic.py:940: ConvergenceWarning: lbfgs failed to converge (status=1):\n",
            "STOP: TOTAL NO. of ITERATIONS REACHED LIMIT.\n",
            "\n",
            "Increase the number of iterations (max_iter) or scale the data as shown in:\n",
            "    https://scikit-learn.org/stable/modules/preprocessing.html\n",
            "Please also refer to the documentation for alternative solver options:\n",
            "    https://scikit-learn.org/stable/modules/linear_model.html#logistic-regression\n",
            "  extra_warning_msg=_LOGISTIC_SOLVER_CONVERGENCE_MSG)\n",
            "/usr/local/lib/python3.6/dist-packages/sklearn/linear_model/_logistic.py:940: ConvergenceWarning: lbfgs failed to converge (status=1):\n",
            "STOP: TOTAL NO. of ITERATIONS REACHED LIMIT.\n",
            "\n",
            "Increase the number of iterations (max_iter) or scale the data as shown in:\n",
            "    https://scikit-learn.org/stable/modules/preprocessing.html\n",
            "Please also refer to the documentation for alternative solver options:\n",
            "    https://scikit-learn.org/stable/modules/linear_model.html#logistic-regression\n",
            "  extra_warning_msg=_LOGISTIC_SOLVER_CONVERGENCE_MSG)\n",
            "/usr/local/lib/python3.6/dist-packages/sklearn/linear_model/_logistic.py:940: ConvergenceWarning: lbfgs failed to converge (status=1):\n",
            "STOP: TOTAL NO. of ITERATIONS REACHED LIMIT.\n",
            "\n",
            "Increase the number of iterations (max_iter) or scale the data as shown in:\n",
            "    https://scikit-learn.org/stable/modules/preprocessing.html\n",
            "Please also refer to the documentation for alternative solver options:\n",
            "    https://scikit-learn.org/stable/modules/linear_model.html#logistic-regression\n",
            "  extra_warning_msg=_LOGISTIC_SOLVER_CONVERGENCE_MSG)\n",
            "/usr/local/lib/python3.6/dist-packages/sklearn/linear_model/_logistic.py:940: ConvergenceWarning: lbfgs failed to converge (status=1):\n",
            "STOP: TOTAL NO. of ITERATIONS REACHED LIMIT.\n",
            "\n",
            "Increase the number of iterations (max_iter) or scale the data as shown in:\n",
            "    https://scikit-learn.org/stable/modules/preprocessing.html\n",
            "Please also refer to the documentation for alternative solver options:\n",
            "    https://scikit-learn.org/stable/modules/linear_model.html#logistic-regression\n",
            "  extra_warning_msg=_LOGISTIC_SOLVER_CONVERGENCE_MSG)\n",
            "/usr/local/lib/python3.6/dist-packages/sklearn/linear_model/_logistic.py:940: ConvergenceWarning: lbfgs failed to converge (status=1):\n",
            "STOP: TOTAL NO. of ITERATIONS REACHED LIMIT.\n",
            "\n",
            "Increase the number of iterations (max_iter) or scale the data as shown in:\n",
            "    https://scikit-learn.org/stable/modules/preprocessing.html\n",
            "Please also refer to the documentation for alternative solver options:\n",
            "    https://scikit-learn.org/stable/modules/linear_model.html#logistic-regression\n",
            "  extra_warning_msg=_LOGISTIC_SOLVER_CONVERGENCE_MSG)\n",
            "/usr/local/lib/python3.6/dist-packages/sklearn/linear_model/_logistic.py:940: ConvergenceWarning: lbfgs failed to converge (status=1):\n",
            "STOP: TOTAL NO. of ITERATIONS REACHED LIMIT.\n",
            "\n",
            "Increase the number of iterations (max_iter) or scale the data as shown in:\n",
            "    https://scikit-learn.org/stable/modules/preprocessing.html\n",
            "Please also refer to the documentation for alternative solver options:\n",
            "    https://scikit-learn.org/stable/modules/linear_model.html#logistic-regression\n",
            "  extra_warning_msg=_LOGISTIC_SOLVER_CONVERGENCE_MSG)\n",
            "/usr/local/lib/python3.6/dist-packages/sklearn/linear_model/_logistic.py:940: ConvergenceWarning: lbfgs failed to converge (status=1):\n",
            "STOP: TOTAL NO. of ITERATIONS REACHED LIMIT.\n",
            "\n",
            "Increase the number of iterations (max_iter) or scale the data as shown in:\n",
            "    https://scikit-learn.org/stable/modules/preprocessing.html\n",
            "Please also refer to the documentation for alternative solver options:\n",
            "    https://scikit-learn.org/stable/modules/linear_model.html#logistic-regression\n",
            "  extra_warning_msg=_LOGISTIC_SOLVER_CONVERGENCE_MSG)\n",
            "/usr/local/lib/python3.6/dist-packages/sklearn/model_selection/_validation.py:536: FitFailedWarning: Estimator fit failed. The score on this train-test partition for these parameters will be set to nan. Details: \n",
            "ValueError: Solver lbfgs supports only 'l2' or 'none' penalties, got l1 penalty.\n",
            "\n",
            "  FitFailedWarning)\n",
            "/usr/local/lib/python3.6/dist-packages/sklearn/model_selection/_validation.py:536: FitFailedWarning: Estimator fit failed. The score on this train-test partition for these parameters will be set to nan. Details: \n",
            "ValueError: Solver lbfgs supports only 'l2' or 'none' penalties, got l1 penalty.\n",
            "\n",
            "  FitFailedWarning)\n",
            "/usr/local/lib/python3.6/dist-packages/sklearn/model_selection/_validation.py:536: FitFailedWarning: Estimator fit failed. The score on this train-test partition for these parameters will be set to nan. Details: \n",
            "ValueError: Solver lbfgs supports only 'l2' or 'none' penalties, got l1 penalty.\n",
            "\n",
            "  FitFailedWarning)\n",
            "/usr/local/lib/python3.6/dist-packages/sklearn/model_selection/_validation.py:536: FitFailedWarning: Estimator fit failed. The score on this train-test partition for these parameters will be set to nan. Details: \n",
            "ValueError: Solver lbfgs supports only 'l2' or 'none' penalties, got l1 penalty.\n",
            "\n",
            "  FitFailedWarning)\n",
            "/usr/local/lib/python3.6/dist-packages/sklearn/linear_model/_logistic.py:940: ConvergenceWarning: lbfgs failed to converge (status=1):\n",
            "STOP: TOTAL NO. of ITERATIONS REACHED LIMIT.\n",
            "\n",
            "Increase the number of iterations (max_iter) or scale the data as shown in:\n",
            "    https://scikit-learn.org/stable/modules/preprocessing.html\n",
            "Please also refer to the documentation for alternative solver options:\n",
            "    https://scikit-learn.org/stable/modules/linear_model.html#logistic-regression\n",
            "  extra_warning_msg=_LOGISTIC_SOLVER_CONVERGENCE_MSG)\n",
            "/usr/local/lib/python3.6/dist-packages/sklearn/linear_model/_logistic.py:940: ConvergenceWarning: lbfgs failed to converge (status=1):\n",
            "STOP: TOTAL NO. of ITERATIONS REACHED LIMIT.\n",
            "\n",
            "Increase the number of iterations (max_iter) or scale the data as shown in:\n",
            "    https://scikit-learn.org/stable/modules/preprocessing.html\n",
            "Please also refer to the documentation for alternative solver options:\n",
            "    https://scikit-learn.org/stable/modules/linear_model.html#logistic-regression\n",
            "  extra_warning_msg=_LOGISTIC_SOLVER_CONVERGENCE_MSG)\n",
            "/usr/local/lib/python3.6/dist-packages/sklearn/linear_model/_logistic.py:940: ConvergenceWarning: lbfgs failed to converge (status=1):\n",
            "STOP: TOTAL NO. of ITERATIONS REACHED LIMIT.\n",
            "\n",
            "Increase the number of iterations (max_iter) or scale the data as shown in:\n",
            "    https://scikit-learn.org/stable/modules/preprocessing.html\n",
            "Please also refer to the documentation for alternative solver options:\n",
            "    https://scikit-learn.org/stable/modules/linear_model.html#logistic-regression\n",
            "  extra_warning_msg=_LOGISTIC_SOLVER_CONVERGENCE_MSG)\n",
            "/usr/local/lib/python3.6/dist-packages/sklearn/linear_model/_logistic.py:940: ConvergenceWarning: lbfgs failed to converge (status=1):\n",
            "STOP: TOTAL NO. of ITERATIONS REACHED LIMIT.\n",
            "\n",
            "Increase the number of iterations (max_iter) or scale the data as shown in:\n",
            "    https://scikit-learn.org/stable/modules/preprocessing.html\n",
            "Please also refer to the documentation for alternative solver options:\n",
            "    https://scikit-learn.org/stable/modules/linear_model.html#logistic-regression\n",
            "  extra_warning_msg=_LOGISTIC_SOLVER_CONVERGENCE_MSG)\n",
            "/usr/local/lib/python3.6/dist-packages/sklearn/linear_model/_logistic.py:940: ConvergenceWarning: lbfgs failed to converge (status=1):\n",
            "STOP: TOTAL NO. of ITERATIONS REACHED LIMIT.\n",
            "\n",
            "Increase the number of iterations (max_iter) or scale the data as shown in:\n",
            "    https://scikit-learn.org/stable/modules/preprocessing.html\n",
            "Please also refer to the documentation for alternative solver options:\n",
            "    https://scikit-learn.org/stable/modules/linear_model.html#logistic-regression\n",
            "  extra_warning_msg=_LOGISTIC_SOLVER_CONVERGENCE_MSG)\n",
            "/usr/local/lib/python3.6/dist-packages/sklearn/linear_model/_logistic.py:940: ConvergenceWarning: lbfgs failed to converge (status=1):\n",
            "STOP: TOTAL NO. of ITERATIONS REACHED LIMIT.\n",
            "\n",
            "Increase the number of iterations (max_iter) or scale the data as shown in:\n",
            "    https://scikit-learn.org/stable/modules/preprocessing.html\n",
            "Please also refer to the documentation for alternative solver options:\n",
            "    https://scikit-learn.org/stable/modules/linear_model.html#logistic-regression\n",
            "  extra_warning_msg=_LOGISTIC_SOLVER_CONVERGENCE_MSG)\n",
            "/usr/local/lib/python3.6/dist-packages/sklearn/linear_model/_logistic.py:940: ConvergenceWarning: lbfgs failed to converge (status=1):\n",
            "STOP: TOTAL NO. of ITERATIONS REACHED LIMIT.\n",
            "\n",
            "Increase the number of iterations (max_iter) or scale the data as shown in:\n",
            "    https://scikit-learn.org/stable/modules/preprocessing.html\n",
            "Please also refer to the documentation for alternative solver options:\n",
            "    https://scikit-learn.org/stable/modules/linear_model.html#logistic-regression\n",
            "  extra_warning_msg=_LOGISTIC_SOLVER_CONVERGENCE_MSG)\n",
            "/usr/local/lib/python3.6/dist-packages/sklearn/linear_model/_logistic.py:940: ConvergenceWarning: lbfgs failed to converge (status=1):\n",
            "STOP: TOTAL NO. of ITERATIONS REACHED LIMIT.\n",
            "\n",
            "Increase the number of iterations (max_iter) or scale the data as shown in:\n",
            "    https://scikit-learn.org/stable/modules/preprocessing.html\n",
            "Please also refer to the documentation for alternative solver options:\n",
            "    https://scikit-learn.org/stable/modules/linear_model.html#logistic-regression\n",
            "  extra_warning_msg=_LOGISTIC_SOLVER_CONVERGENCE_MSG)\n",
            "/usr/local/lib/python3.6/dist-packages/sklearn/linear_model/_logistic.py:940: ConvergenceWarning: lbfgs failed to converge (status=1):\n",
            "STOP: TOTAL NO. of ITERATIONS REACHED LIMIT.\n",
            "\n",
            "Increase the number of iterations (max_iter) or scale the data as shown in:\n",
            "    https://scikit-learn.org/stable/modules/preprocessing.html\n",
            "Please also refer to the documentation for alternative solver options:\n",
            "    https://scikit-learn.org/stable/modules/linear_model.html#logistic-regression\n",
            "  extra_warning_msg=_LOGISTIC_SOLVER_CONVERGENCE_MSG)\n",
            "/usr/local/lib/python3.6/dist-packages/sklearn/model_selection/_validation.py:536: FitFailedWarning: Estimator fit failed. The score on this train-test partition for these parameters will be set to nan. Details: \n",
            "ValueError: Solver lbfgs supports only 'l2' or 'none' penalties, got l1 penalty.\n",
            "\n",
            "  FitFailedWarning)\n",
            "/usr/local/lib/python3.6/dist-packages/sklearn/model_selection/_validation.py:536: FitFailedWarning: Estimator fit failed. The score on this train-test partition for these parameters will be set to nan. Details: \n",
            "ValueError: Solver lbfgs supports only 'l2' or 'none' penalties, got l1 penalty.\n",
            "\n",
            "  FitFailedWarning)\n",
            "/usr/local/lib/python3.6/dist-packages/sklearn/model_selection/_validation.py:536: FitFailedWarning: Estimator fit failed. The score on this train-test partition for these parameters will be set to nan. Details: \n",
            "ValueError: Solver lbfgs supports only 'l2' or 'none' penalties, got l1 penalty.\n",
            "\n",
            "  FitFailedWarning)\n",
            "/usr/local/lib/python3.6/dist-packages/sklearn/model_selection/_validation.py:536: FitFailedWarning: Estimator fit failed. The score on this train-test partition for these parameters will be set to nan. Details: \n",
            "ValueError: Solver lbfgs supports only 'l2' or 'none' penalties, got l1 penalty.\n",
            "\n",
            "  FitFailedWarning)\n",
            "/usr/local/lib/python3.6/dist-packages/sklearn/linear_model/_logistic.py:940: ConvergenceWarning: lbfgs failed to converge (status=1):\n",
            "STOP: TOTAL NO. of ITERATIONS REACHED LIMIT.\n",
            "\n",
            "Increase the number of iterations (max_iter) or scale the data as shown in:\n",
            "    https://scikit-learn.org/stable/modules/preprocessing.html\n",
            "Please also refer to the documentation for alternative solver options:\n",
            "    https://scikit-learn.org/stable/modules/linear_model.html#logistic-regression\n",
            "  extra_warning_msg=_LOGISTIC_SOLVER_CONVERGENCE_MSG)\n",
            "/usr/local/lib/python3.6/dist-packages/sklearn/linear_model/_logistic.py:940: ConvergenceWarning: lbfgs failed to converge (status=1):\n",
            "STOP: TOTAL NO. of ITERATIONS REACHED LIMIT.\n",
            "\n",
            "Increase the number of iterations (max_iter) or scale the data as shown in:\n",
            "    https://scikit-learn.org/stable/modules/preprocessing.html\n",
            "Please also refer to the documentation for alternative solver options:\n",
            "    https://scikit-learn.org/stable/modules/linear_model.html#logistic-regression\n",
            "  extra_warning_msg=_LOGISTIC_SOLVER_CONVERGENCE_MSG)\n",
            "/usr/local/lib/python3.6/dist-packages/sklearn/linear_model/_logistic.py:940: ConvergenceWarning: lbfgs failed to converge (status=1):\n",
            "STOP: TOTAL NO. of ITERATIONS REACHED LIMIT.\n",
            "\n",
            "Increase the number of iterations (max_iter) or scale the data as shown in:\n",
            "    https://scikit-learn.org/stable/modules/preprocessing.html\n",
            "Please also refer to the documentation for alternative solver options:\n",
            "    https://scikit-learn.org/stable/modules/linear_model.html#logistic-regression\n",
            "  extra_warning_msg=_LOGISTIC_SOLVER_CONVERGENCE_MSG)\n",
            "/usr/local/lib/python3.6/dist-packages/sklearn/linear_model/_logistic.py:940: ConvergenceWarning: lbfgs failed to converge (status=1):\n",
            "STOP: TOTAL NO. of ITERATIONS REACHED LIMIT.\n",
            "\n",
            "Increase the number of iterations (max_iter) or scale the data as shown in:\n",
            "    https://scikit-learn.org/stable/modules/preprocessing.html\n",
            "Please also refer to the documentation for alternative solver options:\n",
            "    https://scikit-learn.org/stable/modules/linear_model.html#logistic-regression\n",
            "  extra_warning_msg=_LOGISTIC_SOLVER_CONVERGENCE_MSG)\n",
            "/usr/local/lib/python3.6/dist-packages/sklearn/linear_model/_logistic.py:940: ConvergenceWarning: lbfgs failed to converge (status=1):\n",
            "STOP: TOTAL NO. of ITERATIONS REACHED LIMIT.\n",
            "\n",
            "Increase the number of iterations (max_iter) or scale the data as shown in:\n",
            "    https://scikit-learn.org/stable/modules/preprocessing.html\n",
            "Please also refer to the documentation for alternative solver options:\n",
            "    https://scikit-learn.org/stable/modules/linear_model.html#logistic-regression\n",
            "  extra_warning_msg=_LOGISTIC_SOLVER_CONVERGENCE_MSG)\n",
            "/usr/local/lib/python3.6/dist-packages/sklearn/linear_model/_logistic.py:940: ConvergenceWarning: lbfgs failed to converge (status=1):\n",
            "STOP: TOTAL NO. of ITERATIONS REACHED LIMIT.\n",
            "\n",
            "Increase the number of iterations (max_iter) or scale the data as shown in:\n",
            "    https://scikit-learn.org/stable/modules/preprocessing.html\n",
            "Please also refer to the documentation for alternative solver options:\n",
            "    https://scikit-learn.org/stable/modules/linear_model.html#logistic-regression\n",
            "  extra_warning_msg=_LOGISTIC_SOLVER_CONVERGENCE_MSG)\n",
            "/usr/local/lib/python3.6/dist-packages/sklearn/linear_model/_logistic.py:940: ConvergenceWarning: lbfgs failed to converge (status=1):\n",
            "STOP: TOTAL NO. of ITERATIONS REACHED LIMIT.\n",
            "\n",
            "Increase the number of iterations (max_iter) or scale the data as shown in:\n",
            "    https://scikit-learn.org/stable/modules/preprocessing.html\n",
            "Please also refer to the documentation for alternative solver options:\n",
            "    https://scikit-learn.org/stable/modules/linear_model.html#logistic-regression\n",
            "  extra_warning_msg=_LOGISTIC_SOLVER_CONVERGENCE_MSG)\n",
            "/usr/local/lib/python3.6/dist-packages/sklearn/linear_model/_logistic.py:940: ConvergenceWarning: lbfgs failed to converge (status=1):\n",
            "STOP: TOTAL NO. of ITERATIONS REACHED LIMIT.\n",
            "\n",
            "Increase the number of iterations (max_iter) or scale the data as shown in:\n",
            "    https://scikit-learn.org/stable/modules/preprocessing.html\n",
            "Please also refer to the documentation for alternative solver options:\n",
            "    https://scikit-learn.org/stable/modules/linear_model.html#logistic-regression\n",
            "  extra_warning_msg=_LOGISTIC_SOLVER_CONVERGENCE_MSG)\n",
            "/usr/local/lib/python3.6/dist-packages/sklearn/linear_model/_logistic.py:940: ConvergenceWarning: lbfgs failed to converge (status=1):\n",
            "STOP: TOTAL NO. of ITERATIONS REACHED LIMIT.\n",
            "\n",
            "Increase the number of iterations (max_iter) or scale the data as shown in:\n",
            "    https://scikit-learn.org/stable/modules/preprocessing.html\n",
            "Please also refer to the documentation for alternative solver options:\n",
            "    https://scikit-learn.org/stable/modules/linear_model.html#logistic-regression\n",
            "  extra_warning_msg=_LOGISTIC_SOLVER_CONVERGENCE_MSG)\n",
            "/usr/local/lib/python3.6/dist-packages/sklearn/linear_model/_logistic.py:940: ConvergenceWarning: lbfgs failed to converge (status=1):\n",
            "STOP: TOTAL NO. of ITERATIONS REACHED LIMIT.\n",
            "\n",
            "Increase the number of iterations (max_iter) or scale the data as shown in:\n",
            "    https://scikit-learn.org/stable/modules/preprocessing.html\n",
            "Please also refer to the documentation for alternative solver options:\n",
            "    https://scikit-learn.org/stable/modules/linear_model.html#logistic-regression\n",
            "  extra_warning_msg=_LOGISTIC_SOLVER_CONVERGENCE_MSG)\n",
            "/usr/local/lib/python3.6/dist-packages/sklearn/model_selection/_validation.py:536: FitFailedWarning: Estimator fit failed. The score on this train-test partition for these parameters will be set to nan. Details: \n",
            "ValueError: Solver lbfgs supports only 'l2' or 'none' penalties, got l1 penalty.\n",
            "\n",
            "  FitFailedWarning)\n",
            "/usr/local/lib/python3.6/dist-packages/sklearn/model_selection/_validation.py:536: FitFailedWarning: Estimator fit failed. The score on this train-test partition for these parameters will be set to nan. Details: \n",
            "ValueError: Solver lbfgs supports only 'l2' or 'none' penalties, got l1 penalty.\n",
            "\n",
            "  FitFailedWarning)\n",
            "/usr/local/lib/python3.6/dist-packages/sklearn/model_selection/_validation.py:536: FitFailedWarning: Estimator fit failed. The score on this train-test partition for these parameters will be set to nan. Details: \n",
            "ValueError: Solver lbfgs supports only 'l2' or 'none' penalties, got l1 penalty.\n",
            "\n",
            "  FitFailedWarning)\n"
          ],
          "name": "stderr"
        },
        {
          "output_type": "stream",
          "text": [
            "LOGISTIC REGRESSION FEATURES SELECT:\n",
            "[ 1 16  7  1 14  1  1 15 10  1  1  1  4  1  1  8 19  9  1  6  1  1  5 13\n",
            "  1 17  1 18  1  2  1  1 11 12  1  3  1  1  1  1  1  1  1  1  1  1]\n",
            "LOGISTIC REGRESSION PARAMETERS:\n",
            "{'C': 0.1, 'max_iter': 50, 'penalty': 'l2'}\n",
            "LOGISTIC REGRESSION METRICS:\n",
            " Accuracy: 0.5991189427312775\n",
            " Gini_train: 0.3781680953151112\n",
            " Gini_test: 0.31933442062752415\n",
            "NAIVE BAYES MODEL:\n",
            "Bernoulli\n",
            "NAIVE BAYES METRICS:\n",
            " Accuracy: 0.6013215859030837\n",
            " Gini_train: 0.25758154078386974\n",
            " Gini_test: 0.266542404473439\n",
            "SUPPORT VECTOR MACHINE CLASSIFIER PARAMETERS:\n",
            "{'C': 20, 'kernel': 'linear'}\n",
            "SUPPORT VECTOR MACHINE CLASSIFIER METRICS:\n",
            " Accuracy: 0.5991189427312775\n",
            "DECISION TREE CLASSIFIER PARAMETERS:\n",
            "{'criterion': 'entropy', 'max_depth': 10, 'splitter': 'best'}\n",
            "DECISION TREE CLASSIFIER METRICS:\n",
            " Accuracy: 0.5352422907488987\n",
            " Gini_train: 0.786608442503639\n",
            " Gini_test: 0.058364398881640245\n",
            "RANDOM FORREST CLASSIFIER PARAMETERS:\n",
            "{'max_depth': 15, 'min_samples_leaf': 2, 'min_samples_split': 100, 'n_estimators': 100}\n",
            "RANDOM FORREST CLASSIFIER METRICS:\n",
            " Accuracy: 0.5925110132158591\n",
            " Gini_train: 0.45387460240444244\n",
            " Gini_test: 0.22685616651133889\n",
            "XGBOOST CLASSIFIER PARAMETERS:\n",
            "{'colsample_bytree': 1.0, 'eta': 0.05, 'gamma': 0.5, 'max_depth': 6, 'num_boost_round': 100, 'subsample': 0.9}\n",
            "XGBOOST CLASSIFIER METRICS:\n",
            " Accuracy: 0.6101321585903083\n",
            " Gini_train: 0.724254676801984\n",
            " Gini_test: 0.26572693383038226\n"
          ],
          "name": "stdout"
        }
      ]
    },
    {
      "cell_type": "markdown",
      "metadata": {
        "id": "OKNd5lUAxATk",
        "colab_type": "text"
      },
      "source": [
        "### Implementación Modelos_WOEs Set:"
      ]
    },
    {
      "cell_type": "code",
      "metadata": {
        "id": "WJz0oJN3xbRa",
        "colab_type": "code",
        "colab": {
          "base_uri": "https://localhost:8080/",
          "height": 1000
        },
        "outputId": "33fdebc8-f0c9-4772-c37c-c89522799b68"
      },
      "source": [
        "y_feature = 'Impactado'\n",
        "test_size = 0.25\n",
        "rfe_features = 10 #Al haber casi 70 features, el espacio de features debe ser mayor\n",
        "data_final = data_woe\n",
        "\n",
        "classifier_models(data_final, y_feature, test_size, rfe_features, params_logistic, params_svc, params_decision_tree, \n",
        "                  params_rf, params_xgboost)"
      ],
      "execution_count": 35,
      "outputs": [
        {
          "output_type": "stream",
          "text": [
            "/usr/local/lib/python3.6/dist-packages/sklearn/model_selection/_validation.py:536: FitFailedWarning: Estimator fit failed. The score on this train-test partition for these parameters will be set to nan. Details: \n",
            "ValueError: Solver lbfgs supports only 'l2' or 'none' penalties, got l1 penalty.\n",
            "\n",
            "  FitFailedWarning)\n",
            "/usr/local/lib/python3.6/dist-packages/sklearn/model_selection/_validation.py:536: FitFailedWarning: Estimator fit failed. The score on this train-test partition for these parameters will be set to nan. Details: \n",
            "ValueError: Solver lbfgs supports only 'l2' or 'none' penalties, got l1 penalty.\n",
            "\n",
            "  FitFailedWarning)\n",
            "/usr/local/lib/python3.6/dist-packages/sklearn/model_selection/_validation.py:536: FitFailedWarning: Estimator fit failed. The score on this train-test partition for these parameters will be set to nan. Details: \n",
            "ValueError: Solver lbfgs supports only 'l2' or 'none' penalties, got l1 penalty.\n",
            "\n",
            "  FitFailedWarning)\n",
            "/usr/local/lib/python3.6/dist-packages/sklearn/model_selection/_validation.py:536: FitFailedWarning: Estimator fit failed. The score on this train-test partition for these parameters will be set to nan. Details: \n",
            "ValueError: Solver lbfgs supports only 'l2' or 'none' penalties, got l1 penalty.\n",
            "\n",
            "  FitFailedWarning)\n",
            "/usr/local/lib/python3.6/dist-packages/sklearn/model_selection/_validation.py:536: FitFailedWarning: Estimator fit failed. The score on this train-test partition for these parameters will be set to nan. Details: \n",
            "ValueError: Solver lbfgs supports only 'l2' or 'none' penalties, got l1 penalty.\n",
            "\n",
            "  FitFailedWarning)\n",
            "/usr/local/lib/python3.6/dist-packages/sklearn/model_selection/_validation.py:536: FitFailedWarning: Estimator fit failed. The score on this train-test partition for these parameters will be set to nan. Details: \n",
            "ValueError: Solver lbfgs supports only 'l2' or 'none' penalties, got l1 penalty.\n",
            "\n",
            "  FitFailedWarning)\n",
            "/usr/local/lib/python3.6/dist-packages/sklearn/model_selection/_validation.py:536: FitFailedWarning: Estimator fit failed. The score on this train-test partition for these parameters will be set to nan. Details: \n",
            "ValueError: Solver lbfgs supports only 'l2' or 'none' penalties, got l1 penalty.\n",
            "\n",
            "  FitFailedWarning)\n",
            "/usr/local/lib/python3.6/dist-packages/sklearn/model_selection/_validation.py:536: FitFailedWarning: Estimator fit failed. The score on this train-test partition for these parameters will be set to nan. Details: \n",
            "ValueError: Solver lbfgs supports only 'l2' or 'none' penalties, got l1 penalty.\n",
            "\n",
            "  FitFailedWarning)\n",
            "/usr/local/lib/python3.6/dist-packages/sklearn/model_selection/_validation.py:536: FitFailedWarning: Estimator fit failed. The score on this train-test partition for these parameters will be set to nan. Details: \n",
            "ValueError: Solver lbfgs supports only 'l2' or 'none' penalties, got l1 penalty.\n",
            "\n",
            "  FitFailedWarning)\n",
            "/usr/local/lib/python3.6/dist-packages/sklearn/model_selection/_validation.py:536: FitFailedWarning: Estimator fit failed. The score on this train-test partition for these parameters will be set to nan. Details: \n",
            "ValueError: Solver lbfgs supports only 'l2' or 'none' penalties, got l1 penalty.\n",
            "\n",
            "  FitFailedWarning)\n",
            "/usr/local/lib/python3.6/dist-packages/sklearn/model_selection/_validation.py:536: FitFailedWarning: Estimator fit failed. The score on this train-test partition for these parameters will be set to nan. Details: \n",
            "ValueError: Solver lbfgs supports only 'l2' or 'none' penalties, got l1 penalty.\n",
            "\n",
            "  FitFailedWarning)\n",
            "/usr/local/lib/python3.6/dist-packages/sklearn/model_selection/_validation.py:536: FitFailedWarning: Estimator fit failed. The score on this train-test partition for these parameters will be set to nan. Details: \n",
            "ValueError: Solver lbfgs supports only 'l2' or 'none' penalties, got l1 penalty.\n",
            "\n",
            "  FitFailedWarning)\n",
            "/usr/local/lib/python3.6/dist-packages/sklearn/model_selection/_validation.py:536: FitFailedWarning: Estimator fit failed. The score on this train-test partition for these parameters will be set to nan. Details: \n",
            "ValueError: Solver lbfgs supports only 'l2' or 'none' penalties, got l1 penalty.\n",
            "\n",
            "  FitFailedWarning)\n",
            "/usr/local/lib/python3.6/dist-packages/sklearn/model_selection/_validation.py:536: FitFailedWarning: Estimator fit failed. The score on this train-test partition for these parameters will be set to nan. Details: \n",
            "ValueError: Solver lbfgs supports only 'l2' or 'none' penalties, got l1 penalty.\n",
            "\n",
            "  FitFailedWarning)\n",
            "/usr/local/lib/python3.6/dist-packages/sklearn/model_selection/_validation.py:536: FitFailedWarning: Estimator fit failed. The score on this train-test partition for these parameters will be set to nan. Details: \n",
            "ValueError: Solver lbfgs supports only 'l2' or 'none' penalties, got l1 penalty.\n",
            "\n",
            "  FitFailedWarning)\n",
            "/usr/local/lib/python3.6/dist-packages/sklearn/model_selection/_validation.py:536: FitFailedWarning: Estimator fit failed. The score on this train-test partition for these parameters will be set to nan. Details: \n",
            "ValueError: Solver lbfgs supports only 'l2' or 'none' penalties, got l1 penalty.\n",
            "\n",
            "  FitFailedWarning)\n",
            "/usr/local/lib/python3.6/dist-packages/sklearn/model_selection/_validation.py:536: FitFailedWarning: Estimator fit failed. The score on this train-test partition for these parameters will be set to nan. Details: \n",
            "ValueError: Solver lbfgs supports only 'l2' or 'none' penalties, got l1 penalty.\n",
            "\n",
            "  FitFailedWarning)\n",
            "/usr/local/lib/python3.6/dist-packages/sklearn/linear_model/_logistic.py:940: ConvergenceWarning: lbfgs failed to converge (status=1):\n",
            "STOP: TOTAL NO. of ITERATIONS REACHED LIMIT.\n",
            "\n",
            "Increase the number of iterations (max_iter) or scale the data as shown in:\n",
            "    https://scikit-learn.org/stable/modules/preprocessing.html\n",
            "Please also refer to the documentation for alternative solver options:\n",
            "    https://scikit-learn.org/stable/modules/linear_model.html#logistic-regression\n",
            "  extra_warning_msg=_LOGISTIC_SOLVER_CONVERGENCE_MSG)\n",
            "/usr/local/lib/python3.6/dist-packages/sklearn/model_selection/_validation.py:536: FitFailedWarning: Estimator fit failed. The score on this train-test partition for these parameters will be set to nan. Details: \n",
            "ValueError: Solver lbfgs supports only 'l2' or 'none' penalties, got l1 penalty.\n",
            "\n",
            "  FitFailedWarning)\n",
            "/usr/local/lib/python3.6/dist-packages/sklearn/model_selection/_validation.py:536: FitFailedWarning: Estimator fit failed. The score on this train-test partition for these parameters will be set to nan. Details: \n",
            "ValueError: Solver lbfgs supports only 'l2' or 'none' penalties, got l1 penalty.\n",
            "\n",
            "  FitFailedWarning)\n",
            "/usr/local/lib/python3.6/dist-packages/sklearn/model_selection/_validation.py:536: FitFailedWarning: Estimator fit failed. The score on this train-test partition for these parameters will be set to nan. Details: \n",
            "ValueError: Solver lbfgs supports only 'l2' or 'none' penalties, got l1 penalty.\n",
            "\n",
            "  FitFailedWarning)\n",
            "/usr/local/lib/python3.6/dist-packages/sklearn/model_selection/_validation.py:536: FitFailedWarning: Estimator fit failed. The score on this train-test partition for these parameters will be set to nan. Details: \n",
            "ValueError: Solver lbfgs supports only 'l2' or 'none' penalties, got l1 penalty.\n",
            "\n",
            "  FitFailedWarning)\n",
            "/usr/local/lib/python3.6/dist-packages/sklearn/model_selection/_validation.py:536: FitFailedWarning: Estimator fit failed. The score on this train-test partition for these parameters will be set to nan. Details: \n",
            "ValueError: Solver lbfgs supports only 'l2' or 'none' penalties, got l1 penalty.\n",
            "\n",
            "  FitFailedWarning)\n",
            "/usr/local/lib/python3.6/dist-packages/sklearn/model_selection/_validation.py:536: FitFailedWarning: Estimator fit failed. The score on this train-test partition for these parameters will be set to nan. Details: \n",
            "ValueError: Solver lbfgs supports only 'l2' or 'none' penalties, got l1 penalty.\n",
            "\n",
            "  FitFailedWarning)\n",
            "/usr/local/lib/python3.6/dist-packages/sklearn/model_selection/_validation.py:536: FitFailedWarning: Estimator fit failed. The score on this train-test partition for these parameters will be set to nan. Details: \n",
            "ValueError: Solver lbfgs supports only 'l2' or 'none' penalties, got l1 penalty.\n",
            "\n",
            "  FitFailedWarning)\n",
            "/usr/local/lib/python3.6/dist-packages/sklearn/model_selection/_validation.py:536: FitFailedWarning: Estimator fit failed. The score on this train-test partition for these parameters will be set to nan. Details: \n",
            "ValueError: Solver lbfgs supports only 'l2' or 'none' penalties, got l1 penalty.\n",
            "\n",
            "  FitFailedWarning)\n",
            "/usr/local/lib/python3.6/dist-packages/sklearn/linear_model/_logistic.py:940: ConvergenceWarning: lbfgs failed to converge (status=1):\n",
            "STOP: TOTAL NO. of ITERATIONS REACHED LIMIT.\n",
            "\n",
            "Increase the number of iterations (max_iter) or scale the data as shown in:\n",
            "    https://scikit-learn.org/stable/modules/preprocessing.html\n",
            "Please also refer to the documentation for alternative solver options:\n",
            "    https://scikit-learn.org/stable/modules/linear_model.html#logistic-regression\n",
            "  extra_warning_msg=_LOGISTIC_SOLVER_CONVERGENCE_MSG)\n",
            "/usr/local/lib/python3.6/dist-packages/sklearn/model_selection/_validation.py:536: FitFailedWarning: Estimator fit failed. The score on this train-test partition for these parameters will be set to nan. Details: \n",
            "ValueError: Solver lbfgs supports only 'l2' or 'none' penalties, got l1 penalty.\n",
            "\n",
            "  FitFailedWarning)\n",
            "/usr/local/lib/python3.6/dist-packages/sklearn/model_selection/_validation.py:536: FitFailedWarning: Estimator fit failed. The score on this train-test partition for these parameters will be set to nan. Details: \n",
            "ValueError: Solver lbfgs supports only 'l2' or 'none' penalties, got l1 penalty.\n",
            "\n",
            "  FitFailedWarning)\n",
            "/usr/local/lib/python3.6/dist-packages/sklearn/model_selection/_validation.py:536: FitFailedWarning: Estimator fit failed. The score on this train-test partition for these parameters will be set to nan. Details: \n",
            "ValueError: Solver lbfgs supports only 'l2' or 'none' penalties, got l1 penalty.\n",
            "\n",
            "  FitFailedWarning)\n"
          ],
          "name": "stderr"
        },
        {
          "output_type": "stream",
          "text": [
            "LOGISTIC REGRESSION FEATURES SELECT:\n",
            "[1 1 4 6 1 3 1 1 5 1 1 1 1 2 1]\n",
            "LOGISTIC REGRESSION PARAMETERS:\n",
            "{'C': 1000.0, 'max_iter': 50, 'penalty': 'l2'}\n",
            "LOGISTIC REGRESSION METRICS:\n",
            " Accuracy: 0.6145374449339207\n",
            " Gini_train: 0.254308048951426\n",
            " Gini_test: 0.27372631251941604\n",
            "NAIVE BAYES MODEL:\n",
            "Gaussian\n",
            "NAIVE BAYES METRICS:\n",
            " Accuracy: 0.6145374449339207\n",
            " Gini_train: 0.2501115963124698\n",
            " Gini_test: 0.3248679714196956\n",
            "SUPPORT VECTOR MACHINE CLASSIFIER PARAMETERS:\n",
            "{'C': 10, 'gamma': 0.9, 'kernel': 'rbf'}\n",
            "SUPPORT VECTOR MACHINE CLASSIFIER METRICS:\n",
            " Accuracy: 0.6255506607929515\n",
            "DECISION TREE CLASSIFIER PARAMETERS:\n",
            "{'criterion': 'entropy', 'max_depth': 5, 'splitter': 'best'}\n",
            "DECISION TREE CLASSIFIER METRICS:\n",
            " Accuracy: 0.6145374449339207\n",
            " Gini_train: 0.3706442395816485\n",
            " Gini_test: 0.2385639950295122\n",
            "RANDOM FORREST CLASSIFIER PARAMETERS:\n",
            "{'max_depth': 15, 'min_samples_leaf': 5, 'min_samples_split': 15, 'n_estimators': 100}\n",
            "RANDOM FORREST CLASSIFIER METRICS:\n",
            " Accuracy: 0.5925110132158591\n",
            " Gini_train: 0.7088748719607523\n",
            " Gini_test: 0.266542404473439\n",
            "XGBOOST CLASSIFIER PARAMETERS:\n",
            "{'colsample_bytree': 0.9, 'eta': 0.05, 'gamma': 2, 'max_depth': 6, 'num_boost_round': 100, 'subsample': 0.9}\n",
            "XGBOOST CLASSIFIER METRICS:\n",
            " Accuracy: 0.5991189427312775\n",
            " Gini_train: 0.6537797185832122\n",
            " Gini_test: 0.2705809257533396\n"
          ],
          "name": "stdout"
        }
      ]
    }
  ]
}