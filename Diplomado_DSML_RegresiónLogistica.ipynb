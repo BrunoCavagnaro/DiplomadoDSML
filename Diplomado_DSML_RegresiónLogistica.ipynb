{
  "nbformat": 4,
  "nbformat_minor": 0,
  "metadata": {
    "colab": {
      "name": "Diplomado_DSML_RegresiónLogistica.ipynb",
      "provenance": [],
      "collapsed_sections": [],
      "toc_visible": true,
      "authorship_tag": "ABX9TyMDgAQJSnAVWKCngUI/GQn4",
      "include_colab_link": true
    },
    "kernelspec": {
      "name": "python3",
      "display_name": "Python 3"
    }
  },
  "cells": [
    {
      "cell_type": "markdown",
      "metadata": {
        "id": "view-in-github",
        "colab_type": "text"
      },
      "source": [
        "<a href=\"https://colab.research.google.com/github/BrunoCavagnaro/DiplomadoDSML/blob/master/Diplomado_DSML_Regresi%C3%B3nLogistica.ipynb\" target=\"_parent\"><img src=\"https://colab.research.google.com/assets/colab-badge.svg\" alt=\"Open In Colab\"/></a>"
      ]
    },
    {
      "cell_type": "code",
      "metadata": {
        "id": "UVZN9z4pi_6Y",
        "colab_type": "code",
        "colab": {
          "base_uri": "https://localhost:8080/",
          "height": 224
        },
        "outputId": "746db0f9-0cbd-4dc5-e70b-567e54ffd5ba"
      },
      "source": [
        "!pip install feature-engine"
      ],
      "execution_count": null,
      "outputs": [
        {
          "output_type": "stream",
          "text": [
            "Requirement already satisfied: feature-engine in /usr/local/lib/python3.6/dist-packages (0.5.1)\n",
            "Requirement already satisfied: statsmodels>=0.11.1 in /usr/local/lib/python3.6/dist-packages (from feature-engine) (0.11.1)\n",
            "Requirement already satisfied: pandas>=1.0.3 in /usr/local/lib/python3.6/dist-packages (from feature-engine) (1.0.5)\n",
            "Requirement already satisfied: scikit-learn>=0.22.2 in /usr/local/lib/python3.6/dist-packages (from feature-engine) (0.22.2.post1)\n",
            "Requirement already satisfied: scipy>=1.4.1 in /usr/local/lib/python3.6/dist-packages (from feature-engine) (1.4.1)\n",
            "Requirement already satisfied: numpy>=1.18.2 in /usr/local/lib/python3.6/dist-packages (from feature-engine) (1.18.5)\n",
            "Requirement already satisfied: patsy>=0.5 in /usr/local/lib/python3.6/dist-packages (from statsmodels>=0.11.1->feature-engine) (0.5.1)\n",
            "Requirement already satisfied: python-dateutil>=2.6.1 in /usr/local/lib/python3.6/dist-packages (from pandas>=1.0.3->feature-engine) (2.8.1)\n",
            "Requirement already satisfied: pytz>=2017.2 in /usr/local/lib/python3.6/dist-packages (from pandas>=1.0.3->feature-engine) (2018.9)\n",
            "Requirement already satisfied: joblib>=0.11 in /usr/local/lib/python3.6/dist-packages (from scikit-learn>=0.22.2->feature-engine) (0.15.1)\n",
            "Requirement already satisfied: six in /usr/local/lib/python3.6/dist-packages (from patsy>=0.5->statsmodels>=0.11.1->feature-engine) (1.12.0)\n"
          ],
          "name": "stdout"
        }
      ]
    },
    {
      "cell_type": "code",
      "metadata": {
        "id": "AAXGiBqohUow",
        "colab_type": "code",
        "colab": {}
      },
      "source": [
        "import numpy as np\n",
        "import pandas as pd\n",
        "import scipy as sp\n",
        "import sklearn\n",
        "import matplotlib.pyplot as plt\n",
        "import missingno as msno\n",
        "from sklearn import preprocessing\n",
        "from scipy.spatial.distance import mahalanobis\n",
        "from sklearn.preprocessing import MinMaxScaler\n",
        "from feature_engine import discretisers as dsc\n",
        "from feature_engine import variable_transformers as vt"
      ],
      "execution_count": null,
      "outputs": []
    },
    {
      "cell_type": "code",
      "metadata": {
        "id": "CBnS32cki0qK",
        "colab_type": "code",
        "colab": {
          "base_uri": "https://localhost:8080/",
          "height": 54
        },
        "outputId": "79edd4f7-cdaf-4fe6-bacc-b25eeadfab30"
      },
      "source": [
        "from google.colab import drive\n",
        "drive.mount('/content/gdrive')"
      ],
      "execution_count": null,
      "outputs": [
        {
          "output_type": "stream",
          "text": [
            "Drive already mounted at /content/gdrive; to attempt to forcibly remount, call drive.mount(\"/content/gdrive\", force_remount=True).\n"
          ],
          "name": "stdout"
        }
      ]
    },
    {
      "cell_type": "code",
      "metadata": {
        "id": "AIq5WBwDjJl1",
        "colab_type": "code",
        "colab": {
          "base_uri": "https://localhost:8080/",
          "height": 34
        },
        "outputId": "1ba4d38f-bbc7-40c1-d920-429aa71acb9f"
      },
      "source": [
        "%cd '/content/gdrive/My Drive/Colab Notebooks/Diplomados_MLDS_Agraria/'"
      ],
      "execution_count": null,
      "outputs": [
        {
          "output_type": "stream",
          "text": [
            "/content/gdrive/My Drive/Colab Notebooks/Diplomados_MLDS_Agraria\n"
          ],
          "name": "stdout"
        }
      ]
    },
    {
      "cell_type": "code",
      "metadata": {
        "id": "4pNcwBaVjKhB",
        "colab_type": "code",
        "colab": {
          "base_uri": "https://localhost:8080/",
          "height": 85
        },
        "outputId": "c91cdf08-fd3f-45bf-ef16-e1009f19e372"
      },
      "source": [
        "!ls"
      ],
      "execution_count": null,
      "outputs": [
        {
          "output_type": "stream",
          "text": [
            " bank.csv\t\t\t\t      DataPreprocesing.ipynb\n",
            "'Clase 3 Regresión_Lineal_1.html'\t     'S. Learning _ Clase 3.pdf'\n",
            "'Clase 3 Regresión_Lineal_1 p2.html'\t     'Supervised Learning1.ipynb'\n",
            "'Clase 3 Regresión Logistica completa.html'\n"
          ],
          "name": "stdout"
        }
      ]
    },
    {
      "cell_type": "code",
      "metadata": {
        "id": "ozgczzevj6a7",
        "colab_type": "code",
        "colab": {}
      },
      "source": [
        "df = pd.read_csv('bank.csv', sep=';')"
      ],
      "execution_count": null,
      "outputs": []
    },
    {
      "cell_type": "code",
      "metadata": {
        "id": "v8VBWBm_koR7",
        "colab_type": "code",
        "colab": {
          "base_uri": "https://localhost:8080/",
          "height": 241
        },
        "outputId": "21e46e3a-cf9a-4a4d-bc06-2d00729e40ab"
      },
      "source": [
        "df.head()"
      ],
      "execution_count": null,
      "outputs": [
        {
          "output_type": "execute_result",
          "data": {
            "text/html": [
              "<div>\n",
              "<style scoped>\n",
              "    .dataframe tbody tr th:only-of-type {\n",
              "        vertical-align: middle;\n",
              "    }\n",
              "\n",
              "    .dataframe tbody tr th {\n",
              "        vertical-align: top;\n",
              "    }\n",
              "\n",
              "    .dataframe thead th {\n",
              "        text-align: right;\n",
              "    }\n",
              "</style>\n",
              "<table border=\"1\" class=\"dataframe\">\n",
              "  <thead>\n",
              "    <tr style=\"text-align: right;\">\n",
              "      <th></th>\n",
              "      <th>age</th>\n",
              "      <th>job</th>\n",
              "      <th>marital</th>\n",
              "      <th>education</th>\n",
              "      <th>default</th>\n",
              "      <th>housing</th>\n",
              "      <th>loan</th>\n",
              "      <th>contact</th>\n",
              "      <th>month</th>\n",
              "      <th>day_of_week</th>\n",
              "      <th>duration</th>\n",
              "      <th>campaign</th>\n",
              "      <th>pdays</th>\n",
              "      <th>previous</th>\n",
              "      <th>poutcome</th>\n",
              "      <th>emp.var.rate</th>\n",
              "      <th>cons.price.idx</th>\n",
              "      <th>cons.conf.idx</th>\n",
              "      <th>euribor3m</th>\n",
              "      <th>nr.employed</th>\n",
              "      <th>y</th>\n",
              "    </tr>\n",
              "  </thead>\n",
              "  <tbody>\n",
              "    <tr>\n",
              "      <th>0</th>\n",
              "      <td>30</td>\n",
              "      <td>blue-collar</td>\n",
              "      <td>married</td>\n",
              "      <td>basic.9y</td>\n",
              "      <td>no</td>\n",
              "      <td>yes</td>\n",
              "      <td>no</td>\n",
              "      <td>cellular</td>\n",
              "      <td>may</td>\n",
              "      <td>fri</td>\n",
              "      <td>487</td>\n",
              "      <td>2</td>\n",
              "      <td>999</td>\n",
              "      <td>0</td>\n",
              "      <td>nonexistent</td>\n",
              "      <td>-1.8</td>\n",
              "      <td>92.893</td>\n",
              "      <td>-46.2</td>\n",
              "      <td>1.313</td>\n",
              "      <td>5099.1</td>\n",
              "      <td>no</td>\n",
              "    </tr>\n",
              "    <tr>\n",
              "      <th>1</th>\n",
              "      <td>39</td>\n",
              "      <td>services</td>\n",
              "      <td>single</td>\n",
              "      <td>high.school</td>\n",
              "      <td>no</td>\n",
              "      <td>no</td>\n",
              "      <td>no</td>\n",
              "      <td>telephone</td>\n",
              "      <td>may</td>\n",
              "      <td>fri</td>\n",
              "      <td>346</td>\n",
              "      <td>4</td>\n",
              "      <td>999</td>\n",
              "      <td>0</td>\n",
              "      <td>nonexistent</td>\n",
              "      <td>1.1</td>\n",
              "      <td>93.994</td>\n",
              "      <td>-36.4</td>\n",
              "      <td>4.855</td>\n",
              "      <td>5191.0</td>\n",
              "      <td>no</td>\n",
              "    </tr>\n",
              "    <tr>\n",
              "      <th>2</th>\n",
              "      <td>25</td>\n",
              "      <td>services</td>\n",
              "      <td>married</td>\n",
              "      <td>high.school</td>\n",
              "      <td>no</td>\n",
              "      <td>yes</td>\n",
              "      <td>no</td>\n",
              "      <td>telephone</td>\n",
              "      <td>jun</td>\n",
              "      <td>wed</td>\n",
              "      <td>227</td>\n",
              "      <td>1</td>\n",
              "      <td>999</td>\n",
              "      <td>0</td>\n",
              "      <td>nonexistent</td>\n",
              "      <td>1.4</td>\n",
              "      <td>94.465</td>\n",
              "      <td>-41.8</td>\n",
              "      <td>4.962</td>\n",
              "      <td>5228.1</td>\n",
              "      <td>no</td>\n",
              "    </tr>\n",
              "    <tr>\n",
              "      <th>3</th>\n",
              "      <td>38</td>\n",
              "      <td>services</td>\n",
              "      <td>married</td>\n",
              "      <td>basic.9y</td>\n",
              "      <td>no</td>\n",
              "      <td>unknown</td>\n",
              "      <td>unknown</td>\n",
              "      <td>telephone</td>\n",
              "      <td>jun</td>\n",
              "      <td>fri</td>\n",
              "      <td>17</td>\n",
              "      <td>3</td>\n",
              "      <td>999</td>\n",
              "      <td>0</td>\n",
              "      <td>nonexistent</td>\n",
              "      <td>1.4</td>\n",
              "      <td>94.465</td>\n",
              "      <td>-41.8</td>\n",
              "      <td>4.959</td>\n",
              "      <td>5228.1</td>\n",
              "      <td>no</td>\n",
              "    </tr>\n",
              "    <tr>\n",
              "      <th>4</th>\n",
              "      <td>47</td>\n",
              "      <td>admin.</td>\n",
              "      <td>married</td>\n",
              "      <td>university.degree</td>\n",
              "      <td>no</td>\n",
              "      <td>yes</td>\n",
              "      <td>no</td>\n",
              "      <td>cellular</td>\n",
              "      <td>nov</td>\n",
              "      <td>mon</td>\n",
              "      <td>58</td>\n",
              "      <td>1</td>\n",
              "      <td>999</td>\n",
              "      <td>0</td>\n",
              "      <td>nonexistent</td>\n",
              "      <td>-0.1</td>\n",
              "      <td>93.200</td>\n",
              "      <td>-42.0</td>\n",
              "      <td>4.191</td>\n",
              "      <td>5195.8</td>\n",
              "      <td>no</td>\n",
              "    </tr>\n",
              "  </tbody>\n",
              "</table>\n",
              "</div>"
            ],
            "text/plain": [
              "   age          job  marital  ... euribor3m nr.employed   y\n",
              "0   30  blue-collar  married  ...     1.313      5099.1  no\n",
              "1   39     services   single  ...     4.855      5191.0  no\n",
              "2   25     services  married  ...     4.962      5228.1  no\n",
              "3   38     services  married  ...     4.959      5228.1  no\n",
              "4   47       admin.  married  ...     4.191      5195.8  no\n",
              "\n",
              "[5 rows x 21 columns]"
            ]
          },
          "metadata": {
            "tags": []
          },
          "execution_count": 7
        }
      ]
    },
    {
      "cell_type": "code",
      "metadata": {
        "id": "cGPUwsAgkECG",
        "colab_type": "code",
        "colab": {
          "base_uri": "https://localhost:8080/",
          "height": 493
        },
        "outputId": "d18cd3c1-8e1a-4d6b-daa8-8b3a5ded6725"
      },
      "source": [
        "df.info()"
      ],
      "execution_count": null,
      "outputs": [
        {
          "output_type": "stream",
          "text": [
            "<class 'pandas.core.frame.DataFrame'>\n",
            "RangeIndex: 4119 entries, 0 to 4118\n",
            "Data columns (total 21 columns):\n",
            " #   Column          Non-Null Count  Dtype  \n",
            "---  ------          --------------  -----  \n",
            " 0   age             4119 non-null   int64  \n",
            " 1   job             4119 non-null   object \n",
            " 2   marital         4119 non-null   object \n",
            " 3   education       4119 non-null   object \n",
            " 4   default         4119 non-null   object \n",
            " 5   housing         4119 non-null   object \n",
            " 6   loan            4119 non-null   object \n",
            " 7   contact         4119 non-null   object \n",
            " 8   month           4119 non-null   object \n",
            " 9   day_of_week     4119 non-null   object \n",
            " 10  duration        4119 non-null   int64  \n",
            " 11  campaign        4119 non-null   int64  \n",
            " 12  pdays           4119 non-null   int64  \n",
            " 13  previous        4119 non-null   int64  \n",
            " 14  poutcome        4119 non-null   object \n",
            " 15  emp.var.rate    4119 non-null   float64\n",
            " 16  cons.price.idx  4119 non-null   float64\n",
            " 17  cons.conf.idx   4119 non-null   float64\n",
            " 18  euribor3m       4119 non-null   float64\n",
            " 19  nr.employed     4119 non-null   float64\n",
            " 20  y               4119 non-null   object \n",
            "dtypes: float64(5), int64(5), object(11)\n",
            "memory usage: 675.9+ KB\n"
          ],
          "name": "stdout"
        }
      ]
    },
    {
      "cell_type": "code",
      "metadata": {
        "id": "bydSZyBAkTBy",
        "colab_type": "code",
        "colab": {
          "base_uri": "https://localhost:8080/",
          "height": 142
        },
        "outputId": "252b086e-2322-41f1-e5ff-2899013b6b25"
      },
      "source": [
        "df['y'] = pd.factorize(df[\"y\"])[0]\n",
        "grupo=df.groupby([\"y\"])\n",
        "grupo.count().iloc[0:4,0:1]"
      ],
      "execution_count": null,
      "outputs": [
        {
          "output_type": "execute_result",
          "data": {
            "text/html": [
              "<div>\n",
              "<style scoped>\n",
              "    .dataframe tbody tr th:only-of-type {\n",
              "        vertical-align: middle;\n",
              "    }\n",
              "\n",
              "    .dataframe tbody tr th {\n",
              "        vertical-align: top;\n",
              "    }\n",
              "\n",
              "    .dataframe thead th {\n",
              "        text-align: right;\n",
              "    }\n",
              "</style>\n",
              "<table border=\"1\" class=\"dataframe\">\n",
              "  <thead>\n",
              "    <tr style=\"text-align: right;\">\n",
              "      <th></th>\n",
              "      <th>age</th>\n",
              "    </tr>\n",
              "    <tr>\n",
              "      <th>y</th>\n",
              "      <th></th>\n",
              "    </tr>\n",
              "  </thead>\n",
              "  <tbody>\n",
              "    <tr>\n",
              "      <th>0</th>\n",
              "      <td>3668</td>\n",
              "    </tr>\n",
              "    <tr>\n",
              "      <th>1</th>\n",
              "      <td>451</td>\n",
              "    </tr>\n",
              "  </tbody>\n",
              "</table>\n",
              "</div>"
            ],
            "text/plain": [
              "    age\n",
              "y      \n",
              "0  3668\n",
              "1   451"
            ]
          },
          "metadata": {
            "tags": []
          },
          "execution_count": 9
        }
      ]
    },
    {
      "cell_type": "code",
      "metadata": {
        "id": "9lkYs1Uwk4Vo",
        "colab_type": "code",
        "colab": {
          "base_uri": "https://localhost:8080/",
          "height": 68
        },
        "outputId": "2eae7835-c318-428f-81bd-2f63f859d4ab"
      },
      "source": [
        "df[\"y\"].value_counts()"
      ],
      "execution_count": null,
      "outputs": [
        {
          "output_type": "execute_result",
          "data": {
            "text/plain": [
              "0    3668\n",
              "1     451\n",
              "Name: y, dtype: int64"
            ]
          },
          "metadata": {
            "tags": []
          },
          "execution_count": 10
        }
      ]
    },
    {
      "cell_type": "code",
      "metadata": {
        "id": "5BfzQYu1k5-b",
        "colab_type": "code",
        "colab": {
          "base_uri": "https://localhost:8080/",
          "height": 241
        },
        "outputId": "f987624e-5849-4365-8559-2d4e42623007"
      },
      "source": [
        "df.head()"
      ],
      "execution_count": null,
      "outputs": [
        {
          "output_type": "execute_result",
          "data": {
            "text/html": [
              "<div>\n",
              "<style scoped>\n",
              "    .dataframe tbody tr th:only-of-type {\n",
              "        vertical-align: middle;\n",
              "    }\n",
              "\n",
              "    .dataframe tbody tr th {\n",
              "        vertical-align: top;\n",
              "    }\n",
              "\n",
              "    .dataframe thead th {\n",
              "        text-align: right;\n",
              "    }\n",
              "</style>\n",
              "<table border=\"1\" class=\"dataframe\">\n",
              "  <thead>\n",
              "    <tr style=\"text-align: right;\">\n",
              "      <th></th>\n",
              "      <th>age</th>\n",
              "      <th>job</th>\n",
              "      <th>marital</th>\n",
              "      <th>education</th>\n",
              "      <th>default</th>\n",
              "      <th>housing</th>\n",
              "      <th>loan</th>\n",
              "      <th>contact</th>\n",
              "      <th>month</th>\n",
              "      <th>day_of_week</th>\n",
              "      <th>duration</th>\n",
              "      <th>campaign</th>\n",
              "      <th>pdays</th>\n",
              "      <th>previous</th>\n",
              "      <th>poutcome</th>\n",
              "      <th>emp.var.rate</th>\n",
              "      <th>cons.price.idx</th>\n",
              "      <th>cons.conf.idx</th>\n",
              "      <th>euribor3m</th>\n",
              "      <th>nr.employed</th>\n",
              "      <th>y</th>\n",
              "    </tr>\n",
              "  </thead>\n",
              "  <tbody>\n",
              "    <tr>\n",
              "      <th>0</th>\n",
              "      <td>30</td>\n",
              "      <td>blue-collar</td>\n",
              "      <td>married</td>\n",
              "      <td>basic.9y</td>\n",
              "      <td>no</td>\n",
              "      <td>yes</td>\n",
              "      <td>no</td>\n",
              "      <td>cellular</td>\n",
              "      <td>may</td>\n",
              "      <td>fri</td>\n",
              "      <td>487</td>\n",
              "      <td>2</td>\n",
              "      <td>999</td>\n",
              "      <td>0</td>\n",
              "      <td>nonexistent</td>\n",
              "      <td>-1.8</td>\n",
              "      <td>92.893</td>\n",
              "      <td>-46.2</td>\n",
              "      <td>1.313</td>\n",
              "      <td>5099.1</td>\n",
              "      <td>0</td>\n",
              "    </tr>\n",
              "    <tr>\n",
              "      <th>1</th>\n",
              "      <td>39</td>\n",
              "      <td>services</td>\n",
              "      <td>single</td>\n",
              "      <td>high.school</td>\n",
              "      <td>no</td>\n",
              "      <td>no</td>\n",
              "      <td>no</td>\n",
              "      <td>telephone</td>\n",
              "      <td>may</td>\n",
              "      <td>fri</td>\n",
              "      <td>346</td>\n",
              "      <td>4</td>\n",
              "      <td>999</td>\n",
              "      <td>0</td>\n",
              "      <td>nonexistent</td>\n",
              "      <td>1.1</td>\n",
              "      <td>93.994</td>\n",
              "      <td>-36.4</td>\n",
              "      <td>4.855</td>\n",
              "      <td>5191.0</td>\n",
              "      <td>0</td>\n",
              "    </tr>\n",
              "    <tr>\n",
              "      <th>2</th>\n",
              "      <td>25</td>\n",
              "      <td>services</td>\n",
              "      <td>married</td>\n",
              "      <td>high.school</td>\n",
              "      <td>no</td>\n",
              "      <td>yes</td>\n",
              "      <td>no</td>\n",
              "      <td>telephone</td>\n",
              "      <td>jun</td>\n",
              "      <td>wed</td>\n",
              "      <td>227</td>\n",
              "      <td>1</td>\n",
              "      <td>999</td>\n",
              "      <td>0</td>\n",
              "      <td>nonexistent</td>\n",
              "      <td>1.4</td>\n",
              "      <td>94.465</td>\n",
              "      <td>-41.8</td>\n",
              "      <td>4.962</td>\n",
              "      <td>5228.1</td>\n",
              "      <td>0</td>\n",
              "    </tr>\n",
              "    <tr>\n",
              "      <th>3</th>\n",
              "      <td>38</td>\n",
              "      <td>services</td>\n",
              "      <td>married</td>\n",
              "      <td>basic.9y</td>\n",
              "      <td>no</td>\n",
              "      <td>unknown</td>\n",
              "      <td>unknown</td>\n",
              "      <td>telephone</td>\n",
              "      <td>jun</td>\n",
              "      <td>fri</td>\n",
              "      <td>17</td>\n",
              "      <td>3</td>\n",
              "      <td>999</td>\n",
              "      <td>0</td>\n",
              "      <td>nonexistent</td>\n",
              "      <td>1.4</td>\n",
              "      <td>94.465</td>\n",
              "      <td>-41.8</td>\n",
              "      <td>4.959</td>\n",
              "      <td>5228.1</td>\n",
              "      <td>0</td>\n",
              "    </tr>\n",
              "    <tr>\n",
              "      <th>4</th>\n",
              "      <td>47</td>\n",
              "      <td>admin.</td>\n",
              "      <td>married</td>\n",
              "      <td>university.degree</td>\n",
              "      <td>no</td>\n",
              "      <td>yes</td>\n",
              "      <td>no</td>\n",
              "      <td>cellular</td>\n",
              "      <td>nov</td>\n",
              "      <td>mon</td>\n",
              "      <td>58</td>\n",
              "      <td>1</td>\n",
              "      <td>999</td>\n",
              "      <td>0</td>\n",
              "      <td>nonexistent</td>\n",
              "      <td>-0.1</td>\n",
              "      <td>93.200</td>\n",
              "      <td>-42.0</td>\n",
              "      <td>4.191</td>\n",
              "      <td>5195.8</td>\n",
              "      <td>0</td>\n",
              "    </tr>\n",
              "  </tbody>\n",
              "</table>\n",
              "</div>"
            ],
            "text/plain": [
              "   age          job  marital  ... euribor3m nr.employed  y\n",
              "0   30  blue-collar  married  ...     1.313      5099.1  0\n",
              "1   39     services   single  ...     4.855      5191.0  0\n",
              "2   25     services  married  ...     4.962      5228.1  0\n",
              "3   38     services  married  ...     4.959      5228.1  0\n",
              "4   47       admin.  married  ...     4.191      5195.8  0\n",
              "\n",
              "[5 rows x 21 columns]"
            ]
          },
          "metadata": {
            "tags": []
          },
          "execution_count": 11
        }
      ]
    },
    {
      "cell_type": "code",
      "metadata": {
        "id": "jtADCkxylDh3",
        "colab_type": "code",
        "colab": {
          "base_uri": "https://localhost:8080/",
          "height": 68
        },
        "outputId": "885506e4-40b4-4403-b58b-e7797d495370"
      },
      "source": [
        "df['education'].unique()"
      ],
      "execution_count": null,
      "outputs": [
        {
          "output_type": "execute_result",
          "data": {
            "text/plain": [
              "array(['basic.9y', 'high.school', 'university.degree',\n",
              "       'professional.course', 'basic.6y', 'basic.4y', 'unknown',\n",
              "       'illiterate'], dtype=object)"
            ]
          },
          "metadata": {
            "tags": []
          },
          "execution_count": 12
        }
      ]
    },
    {
      "cell_type": "code",
      "metadata": {
        "id": "uthj7lLMlgvO",
        "colab_type": "code",
        "colab": {}
      },
      "source": [
        "df[\"education\"] = np.where(df[\"education\"]==\"basic.4y\", \"Basic\", df[\"education\"])\n",
        "df[\"education\"] = np.where(df[\"education\"]==\"basic.6y\", \"Basic\", df[\"education\"])\n",
        "df[\"education\"] = np.where(df[\"education\"]==\"basic.9y\", \"Basic\", df[\"education\"])\n",
        "\n",
        "df[\"education\"] = np.where(df[\"education\"]==\"high.school\", \"High School\", df[\"education\"])\n",
        "df[\"education\"] = np.where(df[\"education\"]==\"professional.course\", \"Professional Course\", df[\"education\"])\n",
        "df[\"education\"] = np.where(df[\"education\"]==\"university.degree\", \"University Degree\", df[\"education\"])\n",
        "\n",
        "df[\"education\"] = np.where(df[\"education\"]==\"illiterate\",\"Unknown\", df[\"education\"])\n",
        "df[\"education\"] = np.where(df[\"education\"]==\"unknown\",\"Unknown\", df[\"education\"])"
      ],
      "execution_count": null,
      "outputs": []
    },
    {
      "cell_type": "code",
      "metadata": {
        "id": "BTXeu1TYl235",
        "colab_type": "code",
        "colab": {
          "base_uri": "https://localhost:8080/",
          "height": 51
        },
        "outputId": "092854cc-ba59-4c29-86b5-69091ed28c43"
      },
      "source": [
        "df['education'].unique()"
      ],
      "execution_count": null,
      "outputs": [
        {
          "output_type": "execute_result",
          "data": {
            "text/plain": [
              "array(['Basic', 'High School', 'University Degree', 'Professional Course',\n",
              "       'Unknown'], dtype=object)"
            ]
          },
          "metadata": {
            "tags": []
          },
          "execution_count": 14
        }
      ]
    },
    {
      "cell_type": "code",
      "metadata": {
        "id": "onLQ7mRdl6nS",
        "colab_type": "code",
        "colab": {
          "base_uri": "https://localhost:8080/",
          "height": 162
        },
        "outputId": "1afae9f1-f317-48dc-fac9-9dea482337c0"
      },
      "source": [
        "df.groupby(\"y\").mean()"
      ],
      "execution_count": null,
      "outputs": [
        {
          "output_type": "execute_result",
          "data": {
            "text/html": [
              "<div>\n",
              "<style scoped>\n",
              "    .dataframe tbody tr th:only-of-type {\n",
              "        vertical-align: middle;\n",
              "    }\n",
              "\n",
              "    .dataframe tbody tr th {\n",
              "        vertical-align: top;\n",
              "    }\n",
              "\n",
              "    .dataframe thead th {\n",
              "        text-align: right;\n",
              "    }\n",
              "</style>\n",
              "<table border=\"1\" class=\"dataframe\">\n",
              "  <thead>\n",
              "    <tr style=\"text-align: right;\">\n",
              "      <th></th>\n",
              "      <th>age</th>\n",
              "      <th>duration</th>\n",
              "      <th>campaign</th>\n",
              "      <th>pdays</th>\n",
              "      <th>previous</th>\n",
              "      <th>emp.var.rate</th>\n",
              "      <th>cons.price.idx</th>\n",
              "      <th>cons.conf.idx</th>\n",
              "      <th>euribor3m</th>\n",
              "      <th>nr.employed</th>\n",
              "    </tr>\n",
              "    <tr>\n",
              "      <th>y</th>\n",
              "      <th></th>\n",
              "      <th></th>\n",
              "      <th></th>\n",
              "      <th></th>\n",
              "      <th></th>\n",
              "      <th></th>\n",
              "      <th></th>\n",
              "      <th></th>\n",
              "      <th></th>\n",
              "      <th></th>\n",
              "    </tr>\n",
              "  </thead>\n",
              "  <tbody>\n",
              "    <tr>\n",
              "      <th>0</th>\n",
              "      <td>39.895311</td>\n",
              "      <td>219.40976</td>\n",
              "      <td>2.605780</td>\n",
              "      <td>982.763086</td>\n",
              "      <td>0.141767</td>\n",
              "      <td>0.240185</td>\n",
              "      <td>93.599677</td>\n",
              "      <td>-40.586723</td>\n",
              "      <td>3.802826</td>\n",
              "      <td>5175.502072</td>\n",
              "    </tr>\n",
              "    <tr>\n",
              "      <th>1</th>\n",
              "      <td>41.889135</td>\n",
              "      <td>560.78714</td>\n",
              "      <td>1.980044</td>\n",
              "      <td>778.722838</td>\n",
              "      <td>0.585366</td>\n",
              "      <td>-1.177384</td>\n",
              "      <td>93.417268</td>\n",
              "      <td>-39.786475</td>\n",
              "      <td>2.145448</td>\n",
              "      <td>5093.118625</td>\n",
              "    </tr>\n",
              "  </tbody>\n",
              "</table>\n",
              "</div>"
            ],
            "text/plain": [
              "         age   duration  campaign  ...  cons.conf.idx  euribor3m  nr.employed\n",
              "y                                  ...                                       \n",
              "0  39.895311  219.40976  2.605780  ...     -40.586723   3.802826  5175.502072\n",
              "1  41.889135  560.78714  1.980044  ...     -39.786475   2.145448  5093.118625\n",
              "\n",
              "[2 rows x 10 columns]"
            ]
          },
          "metadata": {
            "tags": []
          },
          "execution_count": 15
        }
      ]
    },
    {
      "cell_type": "code",
      "metadata": {
        "id": "ZrVFY9UYmV6-",
        "colab_type": "code",
        "colab": {
          "base_uri": "https://localhost:8080/",
          "height": 289
        },
        "outputId": "be11ec08-aaa1-47f1-cbf8-0ad44ba39193"
      },
      "source": [
        "df.groupby(\"education\").mean()"
      ],
      "execution_count": null,
      "outputs": [
        {
          "output_type": "execute_result",
          "data": {
            "text/html": [
              "<div>\n",
              "<style scoped>\n",
              "    .dataframe tbody tr th:only-of-type {\n",
              "        vertical-align: middle;\n",
              "    }\n",
              "\n",
              "    .dataframe tbody tr th {\n",
              "        vertical-align: top;\n",
              "    }\n",
              "\n",
              "    .dataframe thead th {\n",
              "        text-align: right;\n",
              "    }\n",
              "</style>\n",
              "<table border=\"1\" class=\"dataframe\">\n",
              "  <thead>\n",
              "    <tr style=\"text-align: right;\">\n",
              "      <th></th>\n",
              "      <th>age</th>\n",
              "      <th>duration</th>\n",
              "      <th>campaign</th>\n",
              "      <th>pdays</th>\n",
              "      <th>previous</th>\n",
              "      <th>emp.var.rate</th>\n",
              "      <th>cons.price.idx</th>\n",
              "      <th>cons.conf.idx</th>\n",
              "      <th>euribor3m</th>\n",
              "      <th>nr.employed</th>\n",
              "      <th>y</th>\n",
              "    </tr>\n",
              "    <tr>\n",
              "      <th>education</th>\n",
              "      <th></th>\n",
              "      <th></th>\n",
              "      <th></th>\n",
              "      <th></th>\n",
              "      <th></th>\n",
              "      <th></th>\n",
              "      <th></th>\n",
              "      <th></th>\n",
              "      <th></th>\n",
              "      <th></th>\n",
              "      <th></th>\n",
              "    </tr>\n",
              "  </thead>\n",
              "  <tbody>\n",
              "    <tr>\n",
              "      <th>Basic</th>\n",
              "      <td>42.337124</td>\n",
              "      <td>253.898457</td>\n",
              "      <td>2.429732</td>\n",
              "      <td>978.815597</td>\n",
              "      <td>0.149472</td>\n",
              "      <td>0.237368</td>\n",
              "      <td>93.658600</td>\n",
              "      <td>-41.120552</td>\n",
              "      <td>3.775701</td>\n",
              "      <td>5174.133144</td>\n",
              "      <td>0.079610</td>\n",
              "    </tr>\n",
              "    <tr>\n",
              "      <th>High School</th>\n",
              "      <td>38.097720</td>\n",
              "      <td>258.534202</td>\n",
              "      <td>2.630836</td>\n",
              "      <td>958.022801</td>\n",
              "      <td>0.206298</td>\n",
              "      <td>-0.002497</td>\n",
              "      <td>93.564314</td>\n",
              "      <td>-40.995765</td>\n",
              "      <td>3.511732</td>\n",
              "      <td>5163.212595</td>\n",
              "      <td>0.105320</td>\n",
              "    </tr>\n",
              "    <tr>\n",
              "      <th>Professional Course</th>\n",
              "      <td>40.207477</td>\n",
              "      <td>278.816822</td>\n",
              "      <td>2.512150</td>\n",
              "      <td>958.211215</td>\n",
              "      <td>0.194393</td>\n",
              "      <td>0.163925</td>\n",
              "      <td>93.599630</td>\n",
              "      <td>-40.127664</td>\n",
              "      <td>3.701426</td>\n",
              "      <td>5167.595140</td>\n",
              "      <td>0.121495</td>\n",
              "    </tr>\n",
              "    <tr>\n",
              "      <th>University Degree</th>\n",
              "      <td>39.017405</td>\n",
              "      <td>247.707278</td>\n",
              "      <td>2.583070</td>\n",
              "      <td>947.900316</td>\n",
              "      <td>0.207278</td>\n",
              "      <td>-0.009731</td>\n",
              "      <td>93.499109</td>\n",
              "      <td>-39.830063</td>\n",
              "      <td>3.547132</td>\n",
              "      <td>5163.023180</td>\n",
              "      <td>0.130538</td>\n",
              "    </tr>\n",
              "    <tr>\n",
              "      <th>Unknown</th>\n",
              "      <td>42.821429</td>\n",
              "      <td>266.559524</td>\n",
              "      <td>2.547619</td>\n",
              "      <td>940.053571</td>\n",
              "      <td>0.261905</td>\n",
              "      <td>-0.091071</td>\n",
              "      <td>93.628905</td>\n",
              "      <td>-39.439286</td>\n",
              "      <td>3.394839</td>\n",
              "      <td>5150.813690</td>\n",
              "      <td>0.154762</td>\n",
              "    </tr>\n",
              "  </tbody>\n",
              "</table>\n",
              "</div>"
            ],
            "text/plain": [
              "                           age    duration  ...  nr.employed         y\n",
              "education                                   ...                       \n",
              "Basic                42.337124  253.898457  ...  5174.133144  0.079610\n",
              "High School          38.097720  258.534202  ...  5163.212595  0.105320\n",
              "Professional Course  40.207477  278.816822  ...  5167.595140  0.121495\n",
              "University Degree    39.017405  247.707278  ...  5163.023180  0.130538\n",
              "Unknown              42.821429  266.559524  ...  5150.813690  0.154762\n",
              "\n",
              "[5 rows x 11 columns]"
            ]
          },
          "metadata": {
            "tags": []
          },
          "execution_count": 16
        }
      ]
    },
    {
      "cell_type": "code",
      "metadata": {
        "id": "dVbFX9XxpG8S",
        "colab_type": "code",
        "colab": {
          "base_uri": "https://localhost:8080/",
          "height": 204
        },
        "outputId": "94fd3d75-d8c9-449d-a7b2-8d73ed33c603"
      },
      "source": [
        "woe_1=df.groupby(['education'])[\"y\"].agg([('Target','mean'),('Total','count'),('Malos','sum')]).reset_index()\n",
        "woe_1"
      ],
      "execution_count": null,
      "outputs": [
        {
          "output_type": "execute_result",
          "data": {
            "text/html": [
              "<div>\n",
              "<style scoped>\n",
              "    .dataframe tbody tr th:only-of-type {\n",
              "        vertical-align: middle;\n",
              "    }\n",
              "\n",
              "    .dataframe tbody tr th {\n",
              "        vertical-align: top;\n",
              "    }\n",
              "\n",
              "    .dataframe thead th {\n",
              "        text-align: right;\n",
              "    }\n",
              "</style>\n",
              "<table border=\"1\" class=\"dataframe\">\n",
              "  <thead>\n",
              "    <tr style=\"text-align: right;\">\n",
              "      <th></th>\n",
              "      <th>education</th>\n",
              "      <th>Target</th>\n",
              "      <th>Total</th>\n",
              "      <th>Malos</th>\n",
              "    </tr>\n",
              "  </thead>\n",
              "  <tbody>\n",
              "    <tr>\n",
              "      <th>0</th>\n",
              "      <td>Basic</td>\n",
              "      <td>0.079610</td>\n",
              "      <td>1231</td>\n",
              "      <td>98</td>\n",
              "    </tr>\n",
              "    <tr>\n",
              "      <th>1</th>\n",
              "      <td>High School</td>\n",
              "      <td>0.105320</td>\n",
              "      <td>921</td>\n",
              "      <td>97</td>\n",
              "    </tr>\n",
              "    <tr>\n",
              "      <th>2</th>\n",
              "      <td>Professional Course</td>\n",
              "      <td>0.121495</td>\n",
              "      <td>535</td>\n",
              "      <td>65</td>\n",
              "    </tr>\n",
              "    <tr>\n",
              "      <th>3</th>\n",
              "      <td>University Degree</td>\n",
              "      <td>0.130538</td>\n",
              "      <td>1264</td>\n",
              "      <td>165</td>\n",
              "    </tr>\n",
              "    <tr>\n",
              "      <th>4</th>\n",
              "      <td>Unknown</td>\n",
              "      <td>0.154762</td>\n",
              "      <td>168</td>\n",
              "      <td>26</td>\n",
              "    </tr>\n",
              "  </tbody>\n",
              "</table>\n",
              "</div>"
            ],
            "text/plain": [
              "             education    Target  Total  Malos\n",
              "0                Basic  0.079610   1231     98\n",
              "1          High School  0.105320    921     97\n",
              "2  Professional Course  0.121495    535     65\n",
              "3    University Degree  0.130538   1264    165\n",
              "4              Unknown  0.154762    168     26"
            ]
          },
          "metadata": {
            "tags": []
          },
          "execution_count": 17
        }
      ]
    },
    {
      "cell_type": "code",
      "metadata": {
        "id": "3pCLPqGrqBFI",
        "colab_type": "code",
        "colab": {
          "base_uri": "https://localhost:8080/",
          "height": 204
        },
        "outputId": "b0785f95-3698-433f-db99-e66cf22628be"
      },
      "source": [
        "woe_1['Buenos'] = woe_1.Total - woe_1.Malos\n",
        "woe_1"
      ],
      "execution_count": null,
      "outputs": [
        {
          "output_type": "execute_result",
          "data": {
            "text/html": [
              "<div>\n",
              "<style scoped>\n",
              "    .dataframe tbody tr th:only-of-type {\n",
              "        vertical-align: middle;\n",
              "    }\n",
              "\n",
              "    .dataframe tbody tr th {\n",
              "        vertical-align: top;\n",
              "    }\n",
              "\n",
              "    .dataframe thead th {\n",
              "        text-align: right;\n",
              "    }\n",
              "</style>\n",
              "<table border=\"1\" class=\"dataframe\">\n",
              "  <thead>\n",
              "    <tr style=\"text-align: right;\">\n",
              "      <th></th>\n",
              "      <th>education</th>\n",
              "      <th>Target</th>\n",
              "      <th>Total</th>\n",
              "      <th>Malos</th>\n",
              "      <th>Buenos</th>\n",
              "    </tr>\n",
              "  </thead>\n",
              "  <tbody>\n",
              "    <tr>\n",
              "      <th>0</th>\n",
              "      <td>Basic</td>\n",
              "      <td>0.079610</td>\n",
              "      <td>1231</td>\n",
              "      <td>98</td>\n",
              "      <td>1133</td>\n",
              "    </tr>\n",
              "    <tr>\n",
              "      <th>1</th>\n",
              "      <td>High School</td>\n",
              "      <td>0.105320</td>\n",
              "      <td>921</td>\n",
              "      <td>97</td>\n",
              "      <td>824</td>\n",
              "    </tr>\n",
              "    <tr>\n",
              "      <th>2</th>\n",
              "      <td>Professional Course</td>\n",
              "      <td>0.121495</td>\n",
              "      <td>535</td>\n",
              "      <td>65</td>\n",
              "      <td>470</td>\n",
              "    </tr>\n",
              "    <tr>\n",
              "      <th>3</th>\n",
              "      <td>University Degree</td>\n",
              "      <td>0.130538</td>\n",
              "      <td>1264</td>\n",
              "      <td>165</td>\n",
              "      <td>1099</td>\n",
              "    </tr>\n",
              "    <tr>\n",
              "      <th>4</th>\n",
              "      <td>Unknown</td>\n",
              "      <td>0.154762</td>\n",
              "      <td>168</td>\n",
              "      <td>26</td>\n",
              "      <td>142</td>\n",
              "    </tr>\n",
              "  </tbody>\n",
              "</table>\n",
              "</div>"
            ],
            "text/plain": [
              "             education    Target  Total  Malos  Buenos\n",
              "0                Basic  0.079610   1231     98    1133\n",
              "1          High School  0.105320    921     97     824\n",
              "2  Professional Course  0.121495    535     65     470\n",
              "3    University Degree  0.130538   1264    165    1099\n",
              "4              Unknown  0.154762    168     26     142"
            ]
          },
          "metadata": {
            "tags": []
          },
          "execution_count": 18
        }
      ]
    },
    {
      "cell_type": "code",
      "metadata": {
        "id": "7juXn6nnqMxS",
        "colab_type": "code",
        "colab": {}
      },
      "source": [
        "woe_1['OR'] = woe_1.Buenos / woe_1.Malos\n",
        "woe_1['WOE'] = np.log(((woe_1.Buenos)/np.sum(woe_1.Buenos))/((woe_1.Malos)/np.sum(woe_1.Malos)))"
      ],
      "execution_count": null,
      "outputs": []
    },
    {
      "cell_type": "code",
      "metadata": {
        "id": "g_fRTAPvrDyp",
        "colab_type": "code",
        "colab": {
          "base_uri": "https://localhost:8080/",
          "height": 204
        },
        "outputId": "73a0f5d9-edf7-46ad-8c97-120b3eeeb026"
      },
      "source": [
        "woe_1['Diff'] = (woe_1.Buenos)/np.sum(woe_1.Buenos) - (woe_1.Malos)/np.sum(woe_1.Malos)\n",
        "woe_1"
      ],
      "execution_count": null,
      "outputs": [
        {
          "output_type": "execute_result",
          "data": {
            "text/html": [
              "<div>\n",
              "<style scoped>\n",
              "    .dataframe tbody tr th:only-of-type {\n",
              "        vertical-align: middle;\n",
              "    }\n",
              "\n",
              "    .dataframe tbody tr th {\n",
              "        vertical-align: top;\n",
              "    }\n",
              "\n",
              "    .dataframe thead th {\n",
              "        text-align: right;\n",
              "    }\n",
              "</style>\n",
              "<table border=\"1\" class=\"dataframe\">\n",
              "  <thead>\n",
              "    <tr style=\"text-align: right;\">\n",
              "      <th></th>\n",
              "      <th>education</th>\n",
              "      <th>Target</th>\n",
              "      <th>Total</th>\n",
              "      <th>Malos</th>\n",
              "      <th>Buenos</th>\n",
              "      <th>OR</th>\n",
              "      <th>WOE</th>\n",
              "      <th>Diff</th>\n",
              "    </tr>\n",
              "  </thead>\n",
              "  <tbody>\n",
              "    <tr>\n",
              "      <th>0</th>\n",
              "      <td>Basic</td>\n",
              "      <td>0.079610</td>\n",
              "      <td>1231</td>\n",
              "      <td>98</td>\n",
              "      <td>1133</td>\n",
              "      <td>11.561224</td>\n",
              "      <td>0.351722</td>\n",
              "      <td>0.091593</td>\n",
              "    </tr>\n",
              "    <tr>\n",
              "      <th>1</th>\n",
              "      <td>High School</td>\n",
              "      <td>0.105320</td>\n",
              "      <td>921</td>\n",
              "      <td>97</td>\n",
              "      <td>824</td>\n",
              "      <td>8.494845</td>\n",
              "      <td>0.043525</td>\n",
              "      <td>0.009568</td>\n",
              "    </tr>\n",
              "    <tr>\n",
              "      <th>2</th>\n",
              "      <td>Professional Course</td>\n",
              "      <td>0.121495</td>\n",
              "      <td>535</td>\n",
              "      <td>65</td>\n",
              "      <td>470</td>\n",
              "      <td>7.230769</td>\n",
              "      <td>-0.117589</td>\n",
              "      <td>-0.015989</td>\n",
              "    </tr>\n",
              "    <tr>\n",
              "      <th>3</th>\n",
              "      <td>University Degree</td>\n",
              "      <td>0.130538</td>\n",
              "      <td>1264</td>\n",
              "      <td>165</td>\n",
              "      <td>1099</td>\n",
              "      <td>6.660606</td>\n",
              "      <td>-0.199724</td>\n",
              "      <td>-0.066235</td>\n",
              "    </tr>\n",
              "    <tr>\n",
              "      <th>4</th>\n",
              "      <td>Unknown</td>\n",
              "      <td>0.154762</td>\n",
              "      <td>168</td>\n",
              "      <td>26</td>\n",
              "      <td>142</td>\n",
              "      <td>5.461538</td>\n",
              "      <td>-0.398204</td>\n",
              "      <td>-0.018936</td>\n",
              "    </tr>\n",
              "  </tbody>\n",
              "</table>\n",
              "</div>"
            ],
            "text/plain": [
              "             education    Target  Total  ...         OR       WOE      Diff\n",
              "0                Basic  0.079610   1231  ...  11.561224  0.351722  0.091593\n",
              "1          High School  0.105320    921  ...   8.494845  0.043525  0.009568\n",
              "2  Professional Course  0.121495    535  ...   7.230769 -0.117589 -0.015989\n",
              "3    University Degree  0.130538   1264  ...   6.660606 -0.199724 -0.066235\n",
              "4              Unknown  0.154762    168  ...   5.461538 -0.398204 -0.018936\n",
              "\n",
              "[5 rows x 8 columns]"
            ]
          },
          "metadata": {
            "tags": []
          },
          "execution_count": 20
        }
      ]
    },
    {
      "cell_type": "code",
      "metadata": {
        "id": "HKgYf7SgrZ7n",
        "colab_type": "code",
        "colab": {
          "base_uri": "https://localhost:8080/",
          "height": 34
        },
        "outputId": "a72c24c2-c92f-42e7-890a-8eec4dffb295"
      },
      "source": [
        "np.sum(woe_1.WOE*woe_1.Diff)"
      ],
      "execution_count": null,
      "outputs": [
        {
          "output_type": "execute_result",
          "data": {
            "text/plain": [
              "0.05528115908905505"
            ]
          },
          "metadata": {
            "tags": []
          },
          "execution_count": 21
        }
      ]
    },
    {
      "cell_type": "markdown",
      "metadata": {
        "id": "V10r04cpriTX",
        "colab_type": "text"
      },
      "source": [
        "## Information Value"
      ]
    },
    {
      "cell_type": "code",
      "metadata": {
        "id": "qG3sIO1nx8vT",
        "colab_type": "code",
        "colab": {}
      },
      "source": [
        "def iv(variable,target):\n",
        "    woe_1=df.groupby([variable])[\"y\"].agg([('Target','mean'),('Total','count'),('Malos','sum')]).reset_index()\n",
        "    woe_1['Buenos']=woe_1.Total-woe_1.Malos\n",
        "    woe_1['OR']=woe_1.Buenos/woe_1.Malos \n",
        "    woe_1['WOE']=np.log((woe_1.Buenos/np.sum(woe_1.Buenos))/(woe_1.Malos/np.sum(woe_1.Malos))) \n",
        "    woe_1['Dif']=woe_1.Buenos/np.sum(woe_1.Buenos)-woe_1.Malos/np.sum(woe_1.Malos)\n",
        "    result = pd.DataFrame(columns=['Variable','IV'])\n",
        "    result.loc[len(result)]=[variable,np.sum(woe_1.WOE*woe_1.Dif)] \n",
        "    return(result)\n",
        "\n",
        "def woe(variable,target):\n",
        "    woe_1=df.groupby([variable])[\"y\"].agg([('Target','mean'),('Total','count'),('Malos','sum')]).reset_index()\n",
        "    woe_1['Buenos']=woe_1.Total-woe_1.Malos\n",
        "    woe_1['OR']=woe_1.Buenos/woe_1.Malos \n",
        "    woe_1['WOE']=np.log((woe_1.Buenos/np.sum(woe_1.Buenos))/(woe_1.Malos/np.sum(woe_1.Malos))) \n",
        "    woe_1['Dif']=woe_1.Buenos/np.sum(woe_1.Buenos)-woe_1.Malos/np.sum(woe_1.Malos)\n",
        "    return(woe_1)"
      ],
      "execution_count": null,
      "outputs": []
    },
    {
      "cell_type": "code",
      "metadata": {
        "id": "kbILBKtfymGF",
        "colab_type": "code",
        "colab": {
          "base_uri": "https://localhost:8080/",
          "height": 80
        },
        "outputId": "9eefaf75-fa16-4133-80d5-e591904c4e90"
      },
      "source": [
        "iv('education',\"y\")"
      ],
      "execution_count": null,
      "outputs": [
        {
          "output_type": "execute_result",
          "data": {
            "text/html": [
              "<div>\n",
              "<style scoped>\n",
              "    .dataframe tbody tr th:only-of-type {\n",
              "        vertical-align: middle;\n",
              "    }\n",
              "\n",
              "    .dataframe tbody tr th {\n",
              "        vertical-align: top;\n",
              "    }\n",
              "\n",
              "    .dataframe thead th {\n",
              "        text-align: right;\n",
              "    }\n",
              "</style>\n",
              "<table border=\"1\" class=\"dataframe\">\n",
              "  <thead>\n",
              "    <tr style=\"text-align: right;\">\n",
              "      <th></th>\n",
              "      <th>Variable</th>\n",
              "      <th>IV</th>\n",
              "    </tr>\n",
              "  </thead>\n",
              "  <tbody>\n",
              "    <tr>\n",
              "      <th>0</th>\n",
              "      <td>education</td>\n",
              "      <td>0.055281</td>\n",
              "    </tr>\n",
              "  </tbody>\n",
              "</table>\n",
              "</div>"
            ],
            "text/plain": [
              "    Variable        IV\n",
              "0  education  0.055281"
            ]
          },
          "metadata": {
            "tags": []
          },
          "execution_count": 23
        }
      ]
    },
    {
      "cell_type": "code",
      "metadata": {
        "id": "jCQtgD2By4LM",
        "colab_type": "code",
        "colab": {
          "base_uri": "https://localhost:8080/",
          "height": 421
        },
        "outputId": "ea2df7de-66a9-4db0-c4cf-4b906b392741"
      },
      "source": [
        "woe('job',\"y\").sort_values('Target',ascending=False)"
      ],
      "execution_count": null,
      "outputs": [
        {
          "output_type": "execute_result",
          "data": {
            "text/html": [
              "<div>\n",
              "<style scoped>\n",
              "    .dataframe tbody tr th:only-of-type {\n",
              "        vertical-align: middle;\n",
              "    }\n",
              "\n",
              "    .dataframe tbody tr th {\n",
              "        vertical-align: top;\n",
              "    }\n",
              "\n",
              "    .dataframe thead th {\n",
              "        text-align: right;\n",
              "    }\n",
              "</style>\n",
              "<table border=\"1\" class=\"dataframe\">\n",
              "  <thead>\n",
              "    <tr style=\"text-align: right;\">\n",
              "      <th></th>\n",
              "      <th>job</th>\n",
              "      <th>Target</th>\n",
              "      <th>Total</th>\n",
              "      <th>Malos</th>\n",
              "      <th>Buenos</th>\n",
              "      <th>OR</th>\n",
              "      <th>WOE</th>\n",
              "      <th>Dif</th>\n",
              "    </tr>\n",
              "  </thead>\n",
              "  <tbody>\n",
              "    <tr>\n",
              "      <th>8</th>\n",
              "      <td>student</td>\n",
              "      <td>0.231707</td>\n",
              "      <td>82</td>\n",
              "      <td>19</td>\n",
              "      <td>63</td>\n",
              "      <td>3.315789</td>\n",
              "      <td>-0.897239</td>\n",
              "      <td>-0.024953</td>\n",
              "    </tr>\n",
              "    <tr>\n",
              "      <th>5</th>\n",
              "      <td>retired</td>\n",
              "      <td>0.228916</td>\n",
              "      <td>166</td>\n",
              "      <td>38</td>\n",
              "      <td>128</td>\n",
              "      <td>3.368421</td>\n",
              "      <td>-0.881490</td>\n",
              "      <td>-0.049361</td>\n",
              "    </tr>\n",
              "    <tr>\n",
              "      <th>10</th>\n",
              "      <td>unemployed</td>\n",
              "      <td>0.171171</td>\n",
              "      <td>111</td>\n",
              "      <td>19</td>\n",
              "      <td>92</td>\n",
              "      <td>4.842105</td>\n",
              "      <td>-0.518585</td>\n",
              "      <td>-0.017047</td>\n",
              "    </tr>\n",
              "    <tr>\n",
              "      <th>0</th>\n",
              "      <td>admin.</td>\n",
              "      <td>0.131423</td>\n",
              "      <td>1012</td>\n",
              "      <td>133</td>\n",
              "      <td>879</td>\n",
              "      <td>6.609023</td>\n",
              "      <td>-0.207499</td>\n",
              "      <td>-0.055260</td>\n",
              "    </tr>\n",
              "    <tr>\n",
              "      <th>9</th>\n",
              "      <td>technician</td>\n",
              "      <td>0.115774</td>\n",
              "      <td>691</td>\n",
              "      <td>80</td>\n",
              "      <td>611</td>\n",
              "      <td>7.637500</td>\n",
              "      <td>-0.062864</td>\n",
              "      <td>-0.010808</td>\n",
              "    </tr>\n",
              "    <tr>\n",
              "      <th>11</th>\n",
              "      <td>unknown</td>\n",
              "      <td>0.102564</td>\n",
              "      <td>39</td>\n",
              "      <td>4</td>\n",
              "      <td>35</td>\n",
              "      <td>8.750000</td>\n",
              "      <td>0.073119</td>\n",
              "      <td>0.000673</td>\n",
              "    </tr>\n",
              "    <tr>\n",
              "      <th>3</th>\n",
              "      <td>housemaid</td>\n",
              "      <td>0.100000</td>\n",
              "      <td>110</td>\n",
              "      <td>11</td>\n",
              "      <td>99</td>\n",
              "      <td>9.000000</td>\n",
              "      <td>0.101290</td>\n",
              "      <td>0.002600</td>\n",
              "    </tr>\n",
              "    <tr>\n",
              "      <th>4</th>\n",
              "      <td>management</td>\n",
              "      <td>0.092593</td>\n",
              "      <td>324</td>\n",
              "      <td>30</td>\n",
              "      <td>294</td>\n",
              "      <td>9.800000</td>\n",
              "      <td>0.186448</td>\n",
              "      <td>0.013634</td>\n",
              "    </tr>\n",
              "    <tr>\n",
              "      <th>7</th>\n",
              "      <td>services</td>\n",
              "      <td>0.089059</td>\n",
              "      <td>393</td>\n",
              "      <td>35</td>\n",
              "      <td>358</td>\n",
              "      <td>10.228571</td>\n",
              "      <td>0.229250</td>\n",
              "      <td>0.019996</td>\n",
              "    </tr>\n",
              "    <tr>\n",
              "      <th>6</th>\n",
              "      <td>self-employed</td>\n",
              "      <td>0.081761</td>\n",
              "      <td>159</td>\n",
              "      <td>13</td>\n",
              "      <td>146</td>\n",
              "      <td>11.230769</td>\n",
              "      <td>0.322723</td>\n",
              "      <td>0.010979</td>\n",
              "    </tr>\n",
              "    <tr>\n",
              "      <th>1</th>\n",
              "      <td>blue-collar</td>\n",
              "      <td>0.069005</td>\n",
              "      <td>884</td>\n",
              "      <td>61</td>\n",
              "      <td>823</td>\n",
              "      <td>13.491803</td>\n",
              "      <td>0.506148</td>\n",
              "      <td>0.089118</td>\n",
              "    </tr>\n",
              "    <tr>\n",
              "      <th>2</th>\n",
              "      <td>entrepreneur</td>\n",
              "      <td>0.054054</td>\n",
              "      <td>148</td>\n",
              "      <td>8</td>\n",
              "      <td>140</td>\n",
              "      <td>17.500000</td>\n",
              "      <td>0.766266</td>\n",
              "      <td>0.020430</td>\n",
              "    </tr>\n",
              "  </tbody>\n",
              "</table>\n",
              "</div>"
            ],
            "text/plain": [
              "              job    Target  Total  ...         OR       WOE       Dif\n",
              "8         student  0.231707     82  ...   3.315789 -0.897239 -0.024953\n",
              "5         retired  0.228916    166  ...   3.368421 -0.881490 -0.049361\n",
              "10     unemployed  0.171171    111  ...   4.842105 -0.518585 -0.017047\n",
              "0          admin.  0.131423   1012  ...   6.609023 -0.207499 -0.055260\n",
              "9      technician  0.115774    691  ...   7.637500 -0.062864 -0.010808\n",
              "11        unknown  0.102564     39  ...   8.750000  0.073119  0.000673\n",
              "3       housemaid  0.100000    110  ...   9.000000  0.101290  0.002600\n",
              "4      management  0.092593    324  ...   9.800000  0.186448  0.013634\n",
              "7        services  0.089059    393  ...  10.228571  0.229250  0.019996\n",
              "6   self-employed  0.081761    159  ...  11.230769  0.322723  0.010979\n",
              "1     blue-collar  0.069005    884  ...  13.491803  0.506148  0.089118\n",
              "2    entrepreneur  0.054054    148  ...  17.500000  0.766266  0.020430\n",
              "\n",
              "[12 rows x 8 columns]"
            ]
          },
          "metadata": {
            "tags": []
          },
          "execution_count": 24
        }
      ]
    },
    {
      "cell_type": "code",
      "metadata": {
        "id": "Z5c0s8I6za0w",
        "colab_type": "code",
        "colab": {
          "base_uri": "https://localhost:8080/",
          "height": 297
        },
        "outputId": "5cc1bec1-3ee3-4450-aaae-28854acb2b76"
      },
      "source": [
        "var_cuali=['job','marital','education','housing','loan','day_of_week','month','contact']\n",
        "result = pd.DataFrame(columns=['Variable','IV'])\n",
        "for i in var_cuali:\n",
        "  A=iv(i,'y')\n",
        "  result.loc[len(result)]=[A.loc[0].values[0],A.loc[0].values[1]]\n",
        "  result=result.sort_values('IV',ascending=False)\n",
        "\n",
        "result"
      ],
      "execution_count": null,
      "outputs": [
        {
          "output_type": "execute_result",
          "data": {
            "text/html": [
              "<div>\n",
              "<style scoped>\n",
              "    .dataframe tbody tr th:only-of-type {\n",
              "        vertical-align: middle;\n",
              "    }\n",
              "\n",
              "    .dataframe tbody tr th {\n",
              "        vertical-align: top;\n",
              "    }\n",
              "\n",
              "    .dataframe thead th {\n",
              "        text-align: right;\n",
              "    }\n",
              "</style>\n",
              "<table border=\"1\" class=\"dataframe\">\n",
              "  <thead>\n",
              "    <tr style=\"text-align: right;\">\n",
              "      <th></th>\n",
              "      <th>Variable</th>\n",
              "      <th>IV</th>\n",
              "    </tr>\n",
              "  </thead>\n",
              "  <tbody>\n",
              "    <tr>\n",
              "      <th>6</th>\n",
              "      <td>month</td>\n",
              "      <td>0.462979</td>\n",
              "    </tr>\n",
              "    <tr>\n",
              "      <th>7</th>\n",
              "      <td>contact</td>\n",
              "      <td>0.232490</td>\n",
              "    </tr>\n",
              "    <tr>\n",
              "      <th>0</th>\n",
              "      <td>job</td>\n",
              "      <td>0.158629</td>\n",
              "    </tr>\n",
              "    <tr>\n",
              "      <th>2</th>\n",
              "      <td>education</td>\n",
              "      <td>0.055281</td>\n",
              "    </tr>\n",
              "    <tr>\n",
              "      <th>1</th>\n",
              "      <td>marital</td>\n",
              "      <td>0.024345</td>\n",
              "    </tr>\n",
              "    <tr>\n",
              "      <th>4</th>\n",
              "      <td>loan</td>\n",
              "      <td>0.003006</td>\n",
              "    </tr>\n",
              "    <tr>\n",
              "      <th>3</th>\n",
              "      <td>housing</td>\n",
              "      <td>0.001732</td>\n",
              "    </tr>\n",
              "    <tr>\n",
              "      <th>5</th>\n",
              "      <td>day_of_week</td>\n",
              "      <td>0.001274</td>\n",
              "    </tr>\n",
              "  </tbody>\n",
              "</table>\n",
              "</div>"
            ],
            "text/plain": [
              "      Variable        IV\n",
              "6        month  0.462979\n",
              "7      contact  0.232490\n",
              "0          job  0.158629\n",
              "2    education  0.055281\n",
              "1      marital  0.024345\n",
              "4         loan  0.003006\n",
              "3      housing  0.001732\n",
              "5  day_of_week  0.001274"
            ]
          },
          "metadata": {
            "tags": []
          },
          "execution_count": 25
        }
      ]
    },
    {
      "cell_type": "code",
      "metadata": {
        "id": "Auh0IQVx3NOB",
        "colab_type": "code",
        "colab": {
          "base_uri": "https://localhost:8080/",
          "height": 400
        },
        "outputId": "0b4bbd25-ad95-4934-c030-b73b22387dce"
      },
      "source": [
        "%matplotlib inline\n",
        "pd.crosstab(df.education, df.y).plot(kind=\"bar\")\n",
        "plt.title(\"Frecuencia de compra en función del nivel de educación\")\n",
        "plt.xlabel(\"Nivel de educación\")\n",
        "plt.ylabel(\"Frecuencia de compra del producto\")"
      ],
      "execution_count": null,
      "outputs": [
        {
          "output_type": "execute_result",
          "data": {
            "text/plain": [
              "Text(0, 0.5, 'Frecuencia de compra del producto')"
            ]
          },
          "metadata": {
            "tags": []
          },
          "execution_count": 26
        },
        {
          "output_type": "display_data",
          "data": {
            "image/png": "[encoded data removed]",
            "text/plain": [
              "<Figure size 432x288 with 1 Axes>"
            ]
          },
          "metadata": {
            "tags": [],
            "needs_background": "light"
          }
        }
      ]
    },
    {
      "cell_type": "code",
      "metadata": {
        "id": "VsypA_oE3VJK",
        "colab_type": "code",
        "colab": {
          "base_uri": "https://localhost:8080/",
          "height": 348
        },
        "outputId": "6a8886dc-3845-4892-eeee-e04471824578"
      },
      "source": [
        "table=pd.crosstab(df.marital, df.y)\n",
        "table.div(table.sum(1).astype(float), axis=0).plot(kind=\"bar\", stacked=True)\n",
        "plt.title(\"Diagrama apilado de estado civil contra el nivel de compras\")\n",
        "plt.xlabel(\"Estado civil\")\n",
        "plt.ylabel(\"Proporción de clientes\")"
      ],
      "execution_count": null,
      "outputs": [
        {
          "output_type": "execute_result",
          "data": {
            "text/plain": [
              "Text(0, 0.5, 'Proporción de clientes')"
            ]
          },
          "metadata": {
            "tags": []
          },
          "execution_count": 27
        },
        {
          "output_type": "display_data",
          "data": {
            "image/png": "[encoded data removed]",
            "text/plain": [
              "<Figure size 432x288 with 1 Axes>"
            ]
          },
          "metadata": {
            "tags": [],
            "needs_background": "light"
          }
        }
      ]
    },
    {
      "cell_type": "code",
      "metadata": {
        "id": "GQGhJWNZ3bB4",
        "colab_type": "code",
        "colab": {
          "base_uri": "https://localhost:8080/",
          "height": 324
        },
        "outputId": "0db85b4f-a5d9-458a-9f71-03c768adaf65"
      },
      "source": [
        "%matplotlib inline\n",
        "table= pd.crosstab(df.day_of_week, df.y)\n",
        "table.div(table.sum(1).astype(float), axis=0).plot(kind=\"bar\", stacked=True)\n",
        "plt.title(\"Frecuencia de compra en función del día de la semana\")\n",
        "plt.xlabel(\"Día de la semana\")\n",
        "plt.ylabel(\"Frecuencia de compra del producto\")"
      ],
      "execution_count": null,
      "outputs": [
        {
          "output_type": "execute_result",
          "data": {
            "text/plain": [
              "Text(0, 0.5, 'Frecuencia de compra del producto')"
            ]
          },
          "metadata": {
            "tags": []
          },
          "execution_count": 28
        },
        {
          "output_type": "display_data",
          "data": {
            "image/png": "[encoded data removed]",
            "text/plain": [
              "<Figure size 432x288 with 1 Axes>"
            ]
          },
          "metadata": {
            "tags": [],
            "needs_background": "light"
          }
        }
      ]
    },
    {
      "cell_type": "code",
      "metadata": {
        "id": "UWY7mghs3f_G",
        "colab_type": "code",
        "colab": {
          "base_uri": "https://localhost:8080/",
          "height": 324
        },
        "outputId": "3a6b6f19-313a-4007-ef7c-40fba7436d0d"
      },
      "source": [
        "table= pd.crosstab(df.month, df.y)\n",
        "table.div(table.sum(1).astype(float), axis=0).plot(kind=\"bar\", stacked=True)\n",
        "plt.title(\"Frecuencia de compra en función del mes\")\n",
        "plt.xlabel(\"Mes del año\")\n",
        "plt.ylabel(\"Frecuencia de compra del producto\")"
      ],
      "execution_count": null,
      "outputs": [
        {
          "output_type": "execute_result",
          "data": {
            "text/plain": [
              "Text(0, 0.5, 'Frecuencia de compra del producto')"
            ]
          },
          "metadata": {
            "tags": []
          },
          "execution_count": 29
        },
        {
          "output_type": "display_data",
          "data": {
            "image/png": "[encoded data removed]",
            "text/plain": [
              "<Figure size 432x288 with 1 Axes>"
            ]
          },
          "metadata": {
            "tags": [],
            "needs_background": "light"
          }
        }
      ]
    },
    {
      "cell_type": "code",
      "metadata": {
        "id": "xln1AsaM3l55",
        "colab_type": "code",
        "colab": {
          "base_uri": "https://localhost:8080/",
          "height": 324
        },
        "outputId": "d5f5e1ce-9116-407b-bf5a-d3d7242f887e"
      },
      "source": [
        "table.plot(kind=\"bar\", stacked=False)\n",
        "plt.title(\"Frecuencia de compra en función del mes\")\n",
        "plt.xlabel(\"Mes del año\")\n",
        "plt.ylabel(\"Frecuencia de compra del producto\")"
      ],
      "execution_count": null,
      "outputs": [
        {
          "output_type": "execute_result",
          "data": {
            "text/plain": [
              "Text(0, 0.5, 'Frecuencia de compra del producto')"
            ]
          },
          "metadata": {
            "tags": []
          },
          "execution_count": 30
        },
        {
          "output_type": "display_data",
          "data": {
            "image/png": "[encoded data removed]",
            "text/plain": [
              "<Figure size 432x288 with 1 Axes>"
            ]
          },
          "metadata": {
            "tags": [],
            "needs_background": "light"
          }
        }
      ]
    },
    {
      "cell_type": "code",
      "metadata": {
        "id": "ACyRuIbK3sAS",
        "colab_type": "code",
        "colab": {
          "base_uri": "https://localhost:8080/",
          "height": 352
        },
        "outputId": "3fb4b9a6-407c-4458-d86a-9093351ce174"
      },
      "source": [
        "table= pd.crosstab(df.contact, df.y)\n",
        "table.div(table.sum(1).astype(float), axis=0).plot(kind=\"bar\", stacked=True)\n",
        "plt.title(\"Frecuencia de compra en función del tipo de contacto\")\n",
        "plt.xlabel(\"Tipo de contacto\")\n",
        "plt.ylabel(\"Frecuencia de compra del producto\")"
      ],
      "execution_count": null,
      "outputs": [
        {
          "output_type": "execute_result",
          "data": {
            "text/plain": [
              "Text(0, 0.5, 'Frecuencia de compra del producto')"
            ]
          },
          "metadata": {
            "tags": []
          },
          "execution_count": 31
        },
        {
          "output_type": "display_data",
          "data": {
            "image/png": "[encoded data removed]",
            "text/plain": [
              "<Figure size 432x288 with 1 Axes>"
            ]
          },
          "metadata": {
            "tags": [],
            "needs_background": "light"
          }
        }
      ]
    },
    {
      "cell_type": "code",
      "metadata": {
        "id": "ynmCrVtn3yXK",
        "colab_type": "code",
        "colab": {
          "base_uri": "https://localhost:8080/",
          "height": 299
        },
        "outputId": "67dba4d0-bb27-4696-cad8-ad18e752ec82"
      },
      "source": [
        "pd.crosstab(df.age, df.y).plot(kind=\"bar\")"
      ],
      "execution_count": null,
      "outputs": [
        {
          "output_type": "execute_result",
          "data": {
            "text/plain": [
              "<matplotlib.axes._subplots.AxesSubplot at 0x7f5043d08ac8>"
            ]
          },
          "metadata": {
            "tags": []
          },
          "execution_count": 32
        },
        {
          "output_type": "display_data",
          "data": {
            "image/png": "[encoded data removed]",
            "text/plain": [
              "<Figure size 432x288 with 1 Axes>"
            ]
          },
          "metadata": {
            "tags": [],
            "needs_background": "light"
          }
        }
      ]
    },
    {
      "cell_type": "code",
      "metadata": {
        "id": "V_gnsWXo34Wj",
        "colab_type": "code",
        "colab": {
          "base_uri": "https://localhost:8080/",
          "height": 34
        },
        "outputId": "bfce703b-0b3a-4dda-9a02-fba8718904fc"
      },
      "source": [
        "# Calculando el gini individual caso continuo\n",
        "####################################################\n",
        "from sklearn.metrics import roc_auc_score\n",
        "from sklearn.linear_model import LogisticRegression\n",
        "# Ingreso: 29.327%\n",
        "logi=LogisticRegression() # Generando objeto\n",
        "bgini=df.loc[:,['cons.price.idx']] # Generando base con variable\n",
        "logi.fit(bgini,df.y) # Entrenamiento\n",
        "2*roc_auc_score(df.y,logi.predict_proba(bgini)[:,1])-1 "
      ],
      "execution_count": null,
      "outputs": [
        {
          "output_type": "execute_result",
          "data": {
            "text/plain": [
              "0.1562945060897023"
            ]
          },
          "metadata": {
            "tags": []
          },
          "execution_count": 33
        }
      ]
    },
    {
      "cell_type": "code",
      "metadata": {
        "id": "o69uBpv_4SC1",
        "colab_type": "code",
        "colab": {}
      },
      "source": [
        "def gini(input_1, variable, target):\n",
        "    logi=LogisticRegression() # Generando objeto\n",
        "    bgini=input_1.loc[:,[variable]] # Generando base con variable\n",
        "    logi.fit(bgini,input_1[target]) # Entrenamiento\n",
        "    gini=2*roc_auc_score(input_1[target],logi.predict_proba(bgini)[:,1])-1 \n",
        "    result = pd.DataFrame(columns=['Variable','Gini'])\n",
        "    result.loc[len(result)]=[variable,gini] \n",
        "    return(result)"
      ],
      "execution_count": null,
      "outputs": []
    },
    {
      "cell_type": "code",
      "metadata": {
        "id": "VPbeqKBT5_AQ",
        "colab_type": "code",
        "colab": {
          "base_uri": "https://localhost:8080/",
          "height": 187
        },
        "outputId": "ce95d3e2-a73e-4f5a-d30e-c36757927e5e"
      },
      "source": [
        "var_cuanti_1=pd.DataFrame(df.dtypes, columns = ['Tipo_columna']).reset_index()\n",
        "var_cuanti_1['Tipo_columna_2'] = pd.factorize(var_cuanti_1[\"Tipo_columna\"])[0]\n",
        "var_cuanti_1=var_cuanti_1[var_cuanti_1['Tipo_columna_2'].isin([0,2])]\n",
        "var_cuanti_1=var_cuanti_1[\"index\"].tolist()\n",
        "#var_cuanti_1.pop(20)\n",
        "#var_cuanti_1[var_cuanti_1['Tipo_columna'] ==\"int64\"]\n",
        "#var_cuanti_1.iloc[2:]\n",
        "var_cuanti_1.pop(10)\n",
        "var_cuanti_1"
      ],
      "execution_count": null,
      "outputs": [
        {
          "output_type": "execute_result",
          "data": {
            "text/plain": [
              "['age',\n",
              " 'duration',\n",
              " 'campaign',\n",
              " 'pdays',\n",
              " 'previous',\n",
              " 'emp.var.rate',\n",
              " 'cons.price.idx',\n",
              " 'cons.conf.idx',\n",
              " 'euribor3m',\n",
              " 'nr.employed']"
            ]
          },
          "metadata": {
            "tags": []
          },
          "execution_count": 35
        }
      ]
    },
    {
      "cell_type": "code",
      "metadata": {
        "id": "M3aqkxu56Xv7",
        "colab_type": "code",
        "colab": {
          "base_uri": "https://localhost:8080/",
          "height": 359
        },
        "outputId": "b5368e50-c0ac-437b-c61c-314b7e4b0788"
      },
      "source": [
        "result_f3 = pd.DataFrame(columns=['Variable','Gini'])\n",
        "for i in var_cuanti_1:\n",
        "    A=gini(df,i,\"y\")\n",
        "    result_f3.loc[len(result_f3)]=[A.loc[0].values[0],A.loc[0].values[1]]\n",
        "    result_f3 = result_f3.sort_values('Gini',ascending=False)\n",
        "result_f3"
      ],
      "execution_count": null,
      "outputs": [
        {
          "output_type": "execute_result",
          "data": {
            "text/html": [
              "<div>\n",
              "<style scoped>\n",
              "    .dataframe tbody tr th:only-of-type {\n",
              "        vertical-align: middle;\n",
              "    }\n",
              "\n",
              "    .dataframe tbody tr th {\n",
              "        vertical-align: top;\n",
              "    }\n",
              "\n",
              "    .dataframe thead th {\n",
              "        text-align: right;\n",
              "    }\n",
              "</style>\n",
              "<table border=\"1\" class=\"dataframe\">\n",
              "  <thead>\n",
              "    <tr style=\"text-align: right;\">\n",
              "      <th></th>\n",
              "      <th>Variable</th>\n",
              "      <th>Gini</th>\n",
              "    </tr>\n",
              "  </thead>\n",
              "  <tbody>\n",
              "    <tr>\n",
              "      <th>1</th>\n",
              "      <td>duration</td>\n",
              "      <td>0.643265</td>\n",
              "    </tr>\n",
              "    <tr>\n",
              "      <th>8</th>\n",
              "      <td>euribor3m</td>\n",
              "      <td>0.491628</td>\n",
              "    </tr>\n",
              "    <tr>\n",
              "      <th>9</th>\n",
              "      <td>nr.employed</td>\n",
              "      <td>0.491032</td>\n",
              "    </tr>\n",
              "    <tr>\n",
              "      <th>5</th>\n",
              "      <td>emp.var.rate</td>\n",
              "      <td>0.412654</td>\n",
              "    </tr>\n",
              "    <tr>\n",
              "      <th>4</th>\n",
              "      <td>previous</td>\n",
              "      <td>0.243920</td>\n",
              "    </tr>\n",
              "    <tr>\n",
              "      <th>3</th>\n",
              "      <td>pdays</td>\n",
              "      <td>0.205669</td>\n",
              "    </tr>\n",
              "    <tr>\n",
              "      <th>6</th>\n",
              "      <td>cons.price.idx</td>\n",
              "      <td>0.156295</td>\n",
              "    </tr>\n",
              "    <tr>\n",
              "      <th>2</th>\n",
              "      <td>campaign</td>\n",
              "      <td>0.107061</td>\n",
              "    </tr>\n",
              "    <tr>\n",
              "      <th>7</th>\n",
              "      <td>cons.conf.idx</td>\n",
              "      <td>0.085779</td>\n",
              "    </tr>\n",
              "    <tr>\n",
              "      <th>0</th>\n",
              "      <td>age</td>\n",
              "      <td>0.042288</td>\n",
              "    </tr>\n",
              "  </tbody>\n",
              "</table>\n",
              "</div>"
            ],
            "text/plain": [
              "         Variable      Gini\n",
              "1        duration  0.643265\n",
              "8       euribor3m  0.491628\n",
              "9     nr.employed  0.491032\n",
              "5    emp.var.rate  0.412654\n",
              "4        previous  0.243920\n",
              "3           pdays  0.205669\n",
              "6  cons.price.idx  0.156295\n",
              "2        campaign  0.107061\n",
              "7   cons.conf.idx  0.085779\n",
              "0             age  0.042288"
            ]
          },
          "metadata": {
            "tags": []
          },
          "execution_count": 36
        }
      ]
    },
    {
      "cell_type": "code",
      "metadata": {
        "id": "LDnMe_ud7Dke",
        "colab_type": "code",
        "colab": {}
      },
      "source": [
        "def gini_2(input_1,variable,target):\n",
        "    base_f = input_1.loc[:,[variable]]\n",
        "    base=input_1.loc[:,[variable]]\n",
        "    cat_dummies = pd.get_dummies(base[variable], prefix=variable)\n",
        "    base = base.join(cat_dummies)\n",
        "    d_vars = base.columns.values.tolist()\n",
        "    to_keep = [v for v in d_vars if v not in base_f]\n",
        "    base=base[to_keep]\n",
        "    logi=LogisticRegression() # Generando objeto\n",
        "    logi.fit(base,input_1[target]) # Entrenamiento\n",
        "    gini=2*roc_auc_score(input_1[target],logi.predict_proba(base)[:,1])-1 \n",
        "    result = pd.DataFrame(columns=['Variable','Gini'])\n",
        "    result.loc[len(result)]=[variable,gini] \n",
        "    return(result)"
      ],
      "execution_count": null,
      "outputs": []
    },
    {
      "cell_type": "code",
      "metadata": {
        "id": "9QWZMdD68rf_",
        "colab_type": "code",
        "colab": {
          "base_uri": "https://localhost:8080/",
          "height": 80
        },
        "outputId": "29402384-bb78-49fd-e6f5-a109fd209e8c"
      },
      "source": [
        "gini_2(df,'job',\"y\")"
      ],
      "execution_count": null,
      "outputs": [
        {
          "output_type": "execute_result",
          "data": {
            "text/html": [
              "<div>\n",
              "<style scoped>\n",
              "    .dataframe tbody tr th:only-of-type {\n",
              "        vertical-align: middle;\n",
              "    }\n",
              "\n",
              "    .dataframe tbody tr th {\n",
              "        vertical-align: top;\n",
              "    }\n",
              "\n",
              "    .dataframe thead th {\n",
              "        text-align: right;\n",
              "    }\n",
              "</style>\n",
              "<table border=\"1\" class=\"dataframe\">\n",
              "  <thead>\n",
              "    <tr style=\"text-align: right;\">\n",
              "      <th></th>\n",
              "      <th>Variable</th>\n",
              "      <th>Gini</th>\n",
              "    </tr>\n",
              "  </thead>\n",
              "  <tbody>\n",
              "    <tr>\n",
              "      <th>0</th>\n",
              "      <td>job</td>\n",
              "      <td>0.215267</td>\n",
              "    </tr>\n",
              "  </tbody>\n",
              "</table>\n",
              "</div>"
            ],
            "text/plain": [
              "  Variable      Gini\n",
              "0      job  0.215267"
            ]
          },
          "metadata": {
            "tags": []
          },
          "execution_count": 38
        }
      ]
    },
    {
      "cell_type": "code",
      "metadata": {
        "id": "m6FH0gY5-1NI",
        "colab_type": "code",
        "colab": {
          "base_uri": "https://localhost:8080/",
          "height": 297
        },
        "outputId": "5183d645-28fa-4679-b985-60e08175bfac"
      },
      "source": [
        "var_cuali=['job','marital','education','housing','loan','day_of_week','month','contact']\n",
        "\n",
        "result_f2 = pd.DataFrame(columns=['Variable','Gini'])\n",
        "for i in var_cuali:\n",
        "    A=gini_2(df,i,\"y\")\n",
        "    result_f2.loc[len(result_f2)]=[A.loc[0].values[0],A.loc[0].values[1]]\n",
        "    result_f2 = result_f2.sort_values('Gini',ascending=False)\n",
        "result_f2"
      ],
      "execution_count": null,
      "outputs": [
        {
          "output_type": "execute_result",
          "data": {
            "text/html": [
              "<div>\n",
              "<style scoped>\n",
              "    .dataframe tbody tr th:only-of-type {\n",
              "        vertical-align: middle;\n",
              "    }\n",
              "\n",
              "    .dataframe tbody tr th {\n",
              "        vertical-align: top;\n",
              "    }\n",
              "\n",
              "    .dataframe thead th {\n",
              "        text-align: right;\n",
              "    }\n",
              "</style>\n",
              "<table border=\"1\" class=\"dataframe\">\n",
              "  <thead>\n",
              "    <tr style=\"text-align: right;\">\n",
              "      <th></th>\n",
              "      <th>Variable</th>\n",
              "      <th>Gini</th>\n",
              "    </tr>\n",
              "  </thead>\n",
              "  <tbody>\n",
              "    <tr>\n",
              "      <th>6</th>\n",
              "      <td>month</td>\n",
              "      <td>0.308050</td>\n",
              "    </tr>\n",
              "    <tr>\n",
              "      <th>0</th>\n",
              "      <td>job</td>\n",
              "      <td>0.215267</td>\n",
              "    </tr>\n",
              "    <tr>\n",
              "      <th>7</th>\n",
              "      <td>contact</td>\n",
              "      <td>0.210711</td>\n",
              "    </tr>\n",
              "    <tr>\n",
              "      <th>2</th>\n",
              "      <td>education</td>\n",
              "      <td>0.127395</td>\n",
              "    </tr>\n",
              "    <tr>\n",
              "      <th>1</th>\n",
              "      <td>marital</td>\n",
              "      <td>0.074464</td>\n",
              "    </tr>\n",
              "    <tr>\n",
              "      <th>5</th>\n",
              "      <td>day_of_week</td>\n",
              "      <td>0.019760</td>\n",
              "    </tr>\n",
              "    <tr>\n",
              "      <th>4</th>\n",
              "      <td>loan</td>\n",
              "      <td>0.018898</td>\n",
              "    </tr>\n",
              "    <tr>\n",
              "      <th>3</th>\n",
              "      <td>housing</td>\n",
              "      <td>0.007432</td>\n",
              "    </tr>\n",
              "  </tbody>\n",
              "</table>\n",
              "</div>"
            ],
            "text/plain": [
              "      Variable      Gini\n",
              "6        month  0.308050\n",
              "0          job  0.215267\n",
              "7      contact  0.210711\n",
              "2    education  0.127395\n",
              "1      marital  0.074464\n",
              "5  day_of_week  0.019760\n",
              "4         loan  0.018898\n",
              "3      housing  0.007432"
            ]
          },
          "metadata": {
            "tags": []
          },
          "execution_count": 39
        }
      ]
    },
    {
      "cell_type": "code",
      "metadata": {
        "id": "iNEQVMrK-_kZ",
        "colab_type": "code",
        "colab": {
          "base_uri": "https://localhost:8080/",
          "height": 272
        },
        "outputId": "2e850449-305b-450d-cdd1-e88cccd8db95"
      },
      "source": [
        "vf_continuas=result_f3[result_f3.Gini>0.05][\"Variable\"].tolist()\n",
        "vf_categoricas=result_f2[result_f2.Gini>0.05][\"Variable\"].tolist()\n",
        "print(vf_categoricas)\n",
        "vf_categoricas+vf_continuas"
      ],
      "execution_count": null,
      "outputs": [
        {
          "output_type": "stream",
          "text": [
            "['month', 'job', 'contact', 'education', 'marital']\n"
          ],
          "name": "stdout"
        },
        {
          "output_type": "execute_result",
          "data": {
            "text/plain": [
              "['month',\n",
              " 'job',\n",
              " 'contact',\n",
              " 'education',\n",
              " 'marital',\n",
              " 'duration',\n",
              " 'euribor3m',\n",
              " 'nr.employed',\n",
              " 'emp.var.rate',\n",
              " 'previous',\n",
              " 'pdays',\n",
              " 'cons.price.idx',\n",
              " 'campaign',\n",
              " 'cons.conf.idx']"
            ]
          },
          "metadata": {
            "tags": []
          },
          "execution_count": 40
        }
      ]
    },
    {
      "cell_type": "code",
      "metadata": {
        "id": "KVdP8QW7_Rzi",
        "colab_type": "code",
        "colab": {
          "base_uri": "https://localhost:8080/",
          "height": 292
        },
        "outputId": "0549424f-9291-4fd6-ef05-0804e09626bc"
      },
      "source": [
        "df.head()"
      ],
      "execution_count": null,
      "outputs": [
        {
          "output_type": "execute_result",
          "data": {
            "text/html": [
              "<div>\n",
              "<style scoped>\n",
              "    .dataframe tbody tr th:only-of-type {\n",
              "        vertical-align: middle;\n",
              "    }\n",
              "\n",
              "    .dataframe tbody tr th {\n",
              "        vertical-align: top;\n",
              "    }\n",
              "\n",
              "    .dataframe thead th {\n",
              "        text-align: right;\n",
              "    }\n",
              "</style>\n",
              "<table border=\"1\" class=\"dataframe\">\n",
              "  <thead>\n",
              "    <tr style=\"text-align: right;\">\n",
              "      <th></th>\n",
              "      <th>age</th>\n",
              "      <th>job</th>\n",
              "      <th>marital</th>\n",
              "      <th>education</th>\n",
              "      <th>default</th>\n",
              "      <th>housing</th>\n",
              "      <th>loan</th>\n",
              "      <th>contact</th>\n",
              "      <th>month</th>\n",
              "      <th>day_of_week</th>\n",
              "      <th>duration</th>\n",
              "      <th>campaign</th>\n",
              "      <th>pdays</th>\n",
              "      <th>previous</th>\n",
              "      <th>poutcome</th>\n",
              "      <th>emp.var.rate</th>\n",
              "      <th>cons.price.idx</th>\n",
              "      <th>cons.conf.idx</th>\n",
              "      <th>euribor3m</th>\n",
              "      <th>nr.employed</th>\n",
              "      <th>y</th>\n",
              "    </tr>\n",
              "  </thead>\n",
              "  <tbody>\n",
              "    <tr>\n",
              "      <th>0</th>\n",
              "      <td>30</td>\n",
              "      <td>blue-collar</td>\n",
              "      <td>married</td>\n",
              "      <td>Basic</td>\n",
              "      <td>no</td>\n",
              "      <td>yes</td>\n",
              "      <td>no</td>\n",
              "      <td>cellular</td>\n",
              "      <td>may</td>\n",
              "      <td>fri</td>\n",
              "      <td>487</td>\n",
              "      <td>2</td>\n",
              "      <td>999</td>\n",
              "      <td>0</td>\n",
              "      <td>nonexistent</td>\n",
              "      <td>-1.8</td>\n",
              "      <td>92.893</td>\n",
              "      <td>-46.2</td>\n",
              "      <td>1.313</td>\n",
              "      <td>5099.1</td>\n",
              "      <td>0</td>\n",
              "    </tr>\n",
              "    <tr>\n",
              "      <th>1</th>\n",
              "      <td>39</td>\n",
              "      <td>services</td>\n",
              "      <td>single</td>\n",
              "      <td>High School</td>\n",
              "      <td>no</td>\n",
              "      <td>no</td>\n",
              "      <td>no</td>\n",
              "      <td>telephone</td>\n",
              "      <td>may</td>\n",
              "      <td>fri</td>\n",
              "      <td>346</td>\n",
              "      <td>4</td>\n",
              "      <td>999</td>\n",
              "      <td>0</td>\n",
              "      <td>nonexistent</td>\n",
              "      <td>1.1</td>\n",
              "      <td>93.994</td>\n",
              "      <td>-36.4</td>\n",
              "      <td>4.855</td>\n",
              "      <td>5191.0</td>\n",
              "      <td>0</td>\n",
              "    </tr>\n",
              "    <tr>\n",
              "      <th>2</th>\n",
              "      <td>25</td>\n",
              "      <td>services</td>\n",
              "      <td>married</td>\n",
              "      <td>High School</td>\n",
              "      <td>no</td>\n",
              "      <td>yes</td>\n",
              "      <td>no</td>\n",
              "      <td>telephone</td>\n",
              "      <td>jun</td>\n",
              "      <td>wed</td>\n",
              "      <td>227</td>\n",
              "      <td>1</td>\n",
              "      <td>999</td>\n",
              "      <td>0</td>\n",
              "      <td>nonexistent</td>\n",
              "      <td>1.4</td>\n",
              "      <td>94.465</td>\n",
              "      <td>-41.8</td>\n",
              "      <td>4.962</td>\n",
              "      <td>5228.1</td>\n",
              "      <td>0</td>\n",
              "    </tr>\n",
              "    <tr>\n",
              "      <th>3</th>\n",
              "      <td>38</td>\n",
              "      <td>services</td>\n",
              "      <td>married</td>\n",
              "      <td>Basic</td>\n",
              "      <td>no</td>\n",
              "      <td>unknown</td>\n",
              "      <td>unknown</td>\n",
              "      <td>telephone</td>\n",
              "      <td>jun</td>\n",
              "      <td>fri</td>\n",
              "      <td>17</td>\n",
              "      <td>3</td>\n",
              "      <td>999</td>\n",
              "      <td>0</td>\n",
              "      <td>nonexistent</td>\n",
              "      <td>1.4</td>\n",
              "      <td>94.465</td>\n",
              "      <td>-41.8</td>\n",
              "      <td>4.959</td>\n",
              "      <td>5228.1</td>\n",
              "      <td>0</td>\n",
              "    </tr>\n",
              "    <tr>\n",
              "      <th>4</th>\n",
              "      <td>47</td>\n",
              "      <td>admin.</td>\n",
              "      <td>married</td>\n",
              "      <td>University Degree</td>\n",
              "      <td>no</td>\n",
              "      <td>yes</td>\n",
              "      <td>no</td>\n",
              "      <td>cellular</td>\n",
              "      <td>nov</td>\n",
              "      <td>mon</td>\n",
              "      <td>58</td>\n",
              "      <td>1</td>\n",
              "      <td>999</td>\n",
              "      <td>0</td>\n",
              "      <td>nonexistent</td>\n",
              "      <td>-0.1</td>\n",
              "      <td>93.200</td>\n",
              "      <td>-42.0</td>\n",
              "      <td>4.191</td>\n",
              "      <td>5195.8</td>\n",
              "      <td>0</td>\n",
              "    </tr>\n",
              "  </tbody>\n",
              "</table>\n",
              "</div>"
            ],
            "text/plain": [
              "   age          job  marital  ... euribor3m nr.employed  y\n",
              "0   30  blue-collar  married  ...     1.313      5099.1  0\n",
              "1   39     services   single  ...     4.855      5191.0  0\n",
              "2   25     services  married  ...     4.962      5228.1  0\n",
              "3   38     services  married  ...     4.959      5228.1  0\n",
              "4   47       admin.  married  ...     4.191      5195.8  0\n",
              "\n",
              "[5 rows x 21 columns]"
            ]
          },
          "metadata": {
            "tags": []
          },
          "execution_count": 41
        }
      ]
    },
    {
      "cell_type": "markdown",
      "metadata": {
        "id": "zaBPZeKl_SmE",
        "colab_type": "text"
      },
      "source": [
        "## Variables categóricas / dummies"
      ]
    },
    {
      "cell_type": "code",
      "metadata": {
        "id": "YaYTL0N2A197",
        "colab_type": "code",
        "colab": {
          "base_uri": "https://localhost:8080/",
          "height": 292
        },
        "outputId": "66ff5537-40ad-4cf8-eff0-b5d6593ca621"
      },
      "source": [
        "#Filtrado de data\n",
        "df_model=df[vf_categoricas+vf_continuas]\n",
        "df_model.head()"
      ],
      "execution_count": null,
      "outputs": [
        {
          "output_type": "execute_result",
          "data": {
            "text/html": [
              "<div>\n",
              "<style scoped>\n",
              "    .dataframe tbody tr th:only-of-type {\n",
              "        vertical-align: middle;\n",
              "    }\n",
              "\n",
              "    .dataframe tbody tr th {\n",
              "        vertical-align: top;\n",
              "    }\n",
              "\n",
              "    .dataframe thead th {\n",
              "        text-align: right;\n",
              "    }\n",
              "</style>\n",
              "<table border=\"1\" class=\"dataframe\">\n",
              "  <thead>\n",
              "    <tr style=\"text-align: right;\">\n",
              "      <th></th>\n",
              "      <th>month</th>\n",
              "      <th>job</th>\n",
              "      <th>contact</th>\n",
              "      <th>education</th>\n",
              "      <th>marital</th>\n",
              "      <th>duration</th>\n",
              "      <th>euribor3m</th>\n",
              "      <th>nr.employed</th>\n",
              "      <th>emp.var.rate</th>\n",
              "      <th>previous</th>\n",
              "      <th>pdays</th>\n",
              "      <th>cons.price.idx</th>\n",
              "      <th>campaign</th>\n",
              "      <th>cons.conf.idx</th>\n",
              "    </tr>\n",
              "  </thead>\n",
              "  <tbody>\n",
              "    <tr>\n",
              "      <th>0</th>\n",
              "      <td>may</td>\n",
              "      <td>blue-collar</td>\n",
              "      <td>cellular</td>\n",
              "      <td>Basic</td>\n",
              "      <td>married</td>\n",
              "      <td>487</td>\n",
              "      <td>1.313</td>\n",
              "      <td>5099.1</td>\n",
              "      <td>-1.8</td>\n",
              "      <td>0</td>\n",
              "      <td>999</td>\n",
              "      <td>92.893</td>\n",
              "      <td>2</td>\n",
              "      <td>-46.2</td>\n",
              "    </tr>\n",
              "    <tr>\n",
              "      <th>1</th>\n",
              "      <td>may</td>\n",
              "      <td>services</td>\n",
              "      <td>telephone</td>\n",
              "      <td>High School</td>\n",
              "      <td>single</td>\n",
              "      <td>346</td>\n",
              "      <td>4.855</td>\n",
              "      <td>5191.0</td>\n",
              "      <td>1.1</td>\n",
              "      <td>0</td>\n",
              "      <td>999</td>\n",
              "      <td>93.994</td>\n",
              "      <td>4</td>\n",
              "      <td>-36.4</td>\n",
              "    </tr>\n",
              "    <tr>\n",
              "      <th>2</th>\n",
              "      <td>jun</td>\n",
              "      <td>services</td>\n",
              "      <td>telephone</td>\n",
              "      <td>High School</td>\n",
              "      <td>married</td>\n",
              "      <td>227</td>\n",
              "      <td>4.962</td>\n",
              "      <td>5228.1</td>\n",
              "      <td>1.4</td>\n",
              "      <td>0</td>\n",
              "      <td>999</td>\n",
              "      <td>94.465</td>\n",
              "      <td>1</td>\n",
              "      <td>-41.8</td>\n",
              "    </tr>\n",
              "    <tr>\n",
              "      <th>3</th>\n",
              "      <td>jun</td>\n",
              "      <td>services</td>\n",
              "      <td>telephone</td>\n",
              "      <td>Basic</td>\n",
              "      <td>married</td>\n",
              "      <td>17</td>\n",
              "      <td>4.959</td>\n",
              "      <td>5228.1</td>\n",
              "      <td>1.4</td>\n",
              "      <td>0</td>\n",
              "      <td>999</td>\n",
              "      <td>94.465</td>\n",
              "      <td>3</td>\n",
              "      <td>-41.8</td>\n",
              "    </tr>\n",
              "    <tr>\n",
              "      <th>4</th>\n",
              "      <td>nov</td>\n",
              "      <td>admin.</td>\n",
              "      <td>cellular</td>\n",
              "      <td>University Degree</td>\n",
              "      <td>married</td>\n",
              "      <td>58</td>\n",
              "      <td>4.191</td>\n",
              "      <td>5195.8</td>\n",
              "      <td>-0.1</td>\n",
              "      <td>0</td>\n",
              "      <td>999</td>\n",
              "      <td>93.200</td>\n",
              "      <td>1</td>\n",
              "      <td>-42.0</td>\n",
              "    </tr>\n",
              "  </tbody>\n",
              "</table>\n",
              "</div>"
            ],
            "text/plain": [
              "  month          job    contact  ... cons.price.idx campaign  cons.conf.idx\n",
              "0   may  blue-collar   cellular  ...         92.893        2          -46.2\n",
              "1   may     services  telephone  ...         93.994        4          -36.4\n",
              "2   jun     services  telephone  ...         94.465        1          -41.8\n",
              "3   jun     services  telephone  ...         94.465        3          -41.8\n",
              "4   nov       admin.   cellular  ...         93.200        1          -42.0\n",
              "\n",
              "[5 rows x 14 columns]"
            ]
          },
          "metadata": {
            "tags": []
          },
          "execution_count": 42
        }
      ]
    },
    {
      "cell_type": "code",
      "metadata": {
        "id": "_ztnYcbcEGyq",
        "colab_type": "code",
        "colab": {
          "base_uri": "https://localhost:8080/",
          "height": 935
        },
        "outputId": "b638eba9-b748-4819-866f-4552db841420"
      },
      "source": [
        "for category in vf_categoricas:\n",
        "    cat_list = \"cat\"+ \"_\" + category\n",
        "    cat_dummies = pd.get_dummies(df_model[category], prefix=category)#.iloc[:,1:] #AGREGANDO ESTO PARA ELIMINAR DUMMYS REDUNDANTES\n",
        "    df_model = df_model.join(cat_dummies)\n",
        "\n",
        "df_model.info()"
      ],
      "execution_count": null,
      "outputs": [
        {
          "output_type": "stream",
          "text": [
            "<class 'pandas.core.frame.DataFrame'>\n",
            "RangeIndex: 4119 entries, 0 to 4118\n",
            "Data columns (total 47 columns):\n",
            " #   Column                         Non-Null Count  Dtype  \n",
            "---  ------                         --------------  -----  \n",
            " 0   month                          4119 non-null   object \n",
            " 1   job                            4119 non-null   object \n",
            " 2   contact                        4119 non-null   object \n",
            " 3   education                      4119 non-null   object \n",
            " 4   marital                        4119 non-null   object \n",
            " 5   duration                       4119 non-null   int64  \n",
            " 6   euribor3m                      4119 non-null   float64\n",
            " 7   nr.employed                    4119 non-null   float64\n",
            " 8   emp.var.rate                   4119 non-null   float64\n",
            " 9   previous                       4119 non-null   int64  \n",
            " 10  pdays                          4119 non-null   int64  \n",
            " 11  cons.price.idx                 4119 non-null   float64\n",
            " 12  campaign                       4119 non-null   int64  \n",
            " 13  cons.conf.idx                  4119 non-null   float64\n",
            " 14  month_apr                      4119 non-null   uint8  \n",
            " 15  month_aug                      4119 non-null   uint8  \n",
            " 16  month_dec                      4119 non-null   uint8  \n",
            " 17  month_jul                      4119 non-null   uint8  \n",
            " 18  month_jun                      4119 non-null   uint8  \n",
            " 19  month_mar                      4119 non-null   uint8  \n",
            " 20  month_may                      4119 non-null   uint8  \n",
            " 21  month_nov                      4119 non-null   uint8  \n",
            " 22  month_oct                      4119 non-null   uint8  \n",
            " 23  month_sep                      4119 non-null   uint8  \n",
            " 24  job_admin.                     4119 non-null   uint8  \n",
            " 25  job_blue-collar                4119 non-null   uint8  \n",
            " 26  job_entrepreneur               4119 non-null   uint8  \n",
            " 27  job_housemaid                  4119 non-null   uint8  \n",
            " 28  job_management                 4119 non-null   uint8  \n",
            " 29  job_retired                    4119 non-null   uint8  \n",
            " 30  job_self-employed              4119 non-null   uint8  \n",
            " 31  job_services                   4119 non-null   uint8  \n",
            " 32  job_student                    4119 non-null   uint8  \n",
            " 33  job_technician                 4119 non-null   uint8  \n",
            " 34  job_unemployed                 4119 non-null   uint8  \n",
            " 35  job_unknown                    4119 non-null   uint8  \n",
            " 36  contact_cellular               4119 non-null   uint8  \n",
            " 37  contact_telephone              4119 non-null   uint8  \n",
            " 38  education_Basic                4119 non-null   uint8  \n",
            " 39  education_High School          4119 non-null   uint8  \n",
            " 40  education_Professional Course  4119 non-null   uint8  \n",
            " 41  education_University Degree    4119 non-null   uint8  \n",
            " 42  education_Unknown              4119 non-null   uint8  \n",
            " 43  marital_divorced               4119 non-null   uint8  \n",
            " 44  marital_married                4119 non-null   uint8  \n",
            " 45  marital_single                 4119 non-null   uint8  \n",
            " 46  marital_unknown                4119 non-null   uint8  \n",
            "dtypes: float64(5), int64(4), object(5), uint8(33)\n",
            "memory usage: 583.4+ KB\n"
          ],
          "name": "stdout"
        }
      ]
    },
    {
      "cell_type": "code",
      "metadata": {
        "id": "nqCAujatHyQV",
        "colab_type": "code",
        "colab": {}
      },
      "source": [
        "data_vars = df_model.columns.values.tolist()\n",
        "to_keep = [v for v in data_vars if v not in vf_categoricas]"
      ],
      "execution_count": null,
      "outputs": []
    },
    {
      "cell_type": "code",
      "metadata": {
        "id": "VbSQfAAsHHnv",
        "colab_type": "code",
        "colab": {
          "base_uri": "https://localhost:8080/",
          "height": 241
        },
        "outputId": "4ebb301d-3e39-4346-a327-06de00ae5fd3"
      },
      "source": [
        "X = df_model[to_keep]\n",
        "X.head()"
      ],
      "execution_count": null,
      "outputs": [
        {
          "output_type": "execute_result",
          "data": {
            "text/html": [
              "<div>\n",
              "<style scoped>\n",
              "    .dataframe tbody tr th:only-of-type {\n",
              "        vertical-align: middle;\n",
              "    }\n",
              "\n",
              "    .dataframe tbody tr th {\n",
              "        vertical-align: top;\n",
              "    }\n",
              "\n",
              "    .dataframe thead th {\n",
              "        text-align: right;\n",
              "    }\n",
              "</style>\n",
              "<table border=\"1\" class=\"dataframe\">\n",
              "  <thead>\n",
              "    <tr style=\"text-align: right;\">\n",
              "      <th></th>\n",
              "      <th>duration</th>\n",
              "      <th>euribor3m</th>\n",
              "      <th>nr.employed</th>\n",
              "      <th>emp.var.rate</th>\n",
              "      <th>previous</th>\n",
              "      <th>pdays</th>\n",
              "      <th>cons.price.idx</th>\n",
              "      <th>campaign</th>\n",
              "      <th>cons.conf.idx</th>\n",
              "      <th>month_apr</th>\n",
              "      <th>month_aug</th>\n",
              "      <th>month_dec</th>\n",
              "      <th>month_jul</th>\n",
              "      <th>month_jun</th>\n",
              "      <th>month_mar</th>\n",
              "      <th>month_may</th>\n",
              "      <th>month_nov</th>\n",
              "      <th>month_oct</th>\n",
              "      <th>month_sep</th>\n",
              "      <th>job_admin.</th>\n",
              "      <th>job_blue-collar</th>\n",
              "      <th>job_entrepreneur</th>\n",
              "      <th>job_housemaid</th>\n",
              "      <th>job_management</th>\n",
              "      <th>job_retired</th>\n",
              "      <th>job_self-employed</th>\n",
              "      <th>job_services</th>\n",
              "      <th>job_student</th>\n",
              "      <th>job_technician</th>\n",
              "      <th>job_unemployed</th>\n",
              "      <th>job_unknown</th>\n",
              "      <th>contact_cellular</th>\n",
              "      <th>contact_telephone</th>\n",
              "      <th>education_Basic</th>\n",
              "      <th>education_High School</th>\n",
              "      <th>education_Professional Course</th>\n",
              "      <th>education_University Degree</th>\n",
              "      <th>education_Unknown</th>\n",
              "      <th>marital_divorced</th>\n",
              "      <th>marital_married</th>\n",
              "      <th>marital_single</th>\n",
              "      <th>marital_unknown</th>\n",
              "    </tr>\n",
              "  </thead>\n",
              "  <tbody>\n",
              "    <tr>\n",
              "      <th>0</th>\n",
              "      <td>487</td>\n",
              "      <td>1.313</td>\n",
              "      <td>5099.1</td>\n",
              "      <td>-1.8</td>\n",
              "      <td>0</td>\n",
              "      <td>999</td>\n",
              "      <td>92.893</td>\n",
              "      <td>2</td>\n",
              "      <td>-46.2</td>\n",
              "      <td>0</td>\n",
              "      <td>0</td>\n",
              "      <td>0</td>\n",
              "      <td>0</td>\n",
              "      <td>0</td>\n",
              "      <td>0</td>\n",
              "      <td>1</td>\n",
              "      <td>0</td>\n",
              "      <td>0</td>\n",
              "      <td>0</td>\n",
              "      <td>0</td>\n",
              "      <td>1</td>\n",
              "      <td>0</td>\n",
              "      <td>0</td>\n",
              "      <td>0</td>\n",
              "      <td>0</td>\n",
              "      <td>0</td>\n",
              "      <td>0</td>\n",
              "      <td>0</td>\n",
              "      <td>0</td>\n",
              "      <td>0</td>\n",
              "      <td>0</td>\n",
              "      <td>1</td>\n",
              "      <td>0</td>\n",
              "      <td>1</td>\n",
              "      <td>0</td>\n",
              "      <td>0</td>\n",
              "      <td>0</td>\n",
              "      <td>0</td>\n",
              "      <td>0</td>\n",
              "      <td>1</td>\n",
              "      <td>0</td>\n",
              "      <td>0</td>\n",
              "    </tr>\n",
              "    <tr>\n",
              "      <th>1</th>\n",
              "      <td>346</td>\n",
              "      <td>4.855</td>\n",
              "      <td>5191.0</td>\n",
              "      <td>1.1</td>\n",
              "      <td>0</td>\n",
              "      <td>999</td>\n",
              "      <td>93.994</td>\n",
              "      <td>4</td>\n",
              "      <td>-36.4</td>\n",
              "      <td>0</td>\n",
              "      <td>0</td>\n",
              "      <td>0</td>\n",
              "      <td>0</td>\n",
              "      <td>0</td>\n",
              "      <td>0</td>\n",
              "      <td>1</td>\n",
              "      <td>0</td>\n",
              "      <td>0</td>\n",
              "      <td>0</td>\n",
              "      <td>0</td>\n",
              "      <td>0</td>\n",
              "      <td>0</td>\n",
              "      <td>0</td>\n",
              "      <td>0</td>\n",
              "      <td>0</td>\n",
              "      <td>0</td>\n",
              "      <td>1</td>\n",
              "      <td>0</td>\n",
              "      <td>0</td>\n",
              "      <td>0</td>\n",
              "      <td>0</td>\n",
              "      <td>0</td>\n",
              "      <td>1</td>\n",
              "      <td>0</td>\n",
              "      <td>1</td>\n",
              "      <td>0</td>\n",
              "      <td>0</td>\n",
              "      <td>0</td>\n",
              "      <td>0</td>\n",
              "      <td>0</td>\n",
              "      <td>1</td>\n",
              "      <td>0</td>\n",
              "    </tr>\n",
              "    <tr>\n",
              "      <th>2</th>\n",
              "      <td>227</td>\n",
              "      <td>4.962</td>\n",
              "      <td>5228.1</td>\n",
              "      <td>1.4</td>\n",
              "      <td>0</td>\n",
              "      <td>999</td>\n",
              "      <td>94.465</td>\n",
              "      <td>1</td>\n",
              "      <td>-41.8</td>\n",
              "      <td>0</td>\n",
              "      <td>0</td>\n",
              "      <td>0</td>\n",
              "      <td>0</td>\n",
              "      <td>1</td>\n",
              "      <td>0</td>\n",
              "      <td>0</td>\n",
              "      <td>0</td>\n",
              "      <td>0</td>\n",
              "      <td>0</td>\n",
              "      <td>0</td>\n",
              "      <td>0</td>\n",
              "      <td>0</td>\n",
              "      <td>0</td>\n",
              "      <td>0</td>\n",
              "      <td>0</td>\n",
              "      <td>0</td>\n",
              "      <td>1</td>\n",
              "      <td>0</td>\n",
              "      <td>0</td>\n",
              "      <td>0</td>\n",
              "      <td>0</td>\n",
              "      <td>0</td>\n",
              "      <td>1</td>\n",
              "      <td>0</td>\n",
              "      <td>1</td>\n",
              "      <td>0</td>\n",
              "      <td>0</td>\n",
              "      <td>0</td>\n",
              "      <td>0</td>\n",
              "      <td>1</td>\n",
              "      <td>0</td>\n",
              "      <td>0</td>\n",
              "    </tr>\n",
              "    <tr>\n",
              "      <th>3</th>\n",
              "      <td>17</td>\n",
              "      <td>4.959</td>\n",
              "      <td>5228.1</td>\n",
              "      <td>1.4</td>\n",
              "      <td>0</td>\n",
              "      <td>999</td>\n",
              "      <td>94.465</td>\n",
              "      <td>3</td>\n",
              "      <td>-41.8</td>\n",
              "      <td>0</td>\n",
              "      <td>0</td>\n",
              "      <td>0</td>\n",
              "      <td>0</td>\n",
              "      <td>1</td>\n",
              "      <td>0</td>\n",
              "      <td>0</td>\n",
              "      <td>0</td>\n",
              "      <td>0</td>\n",
              "      <td>0</td>\n",
              "      <td>0</td>\n",
              "      <td>0</td>\n",
              "      <td>0</td>\n",
              "      <td>0</td>\n",
              "      <td>0</td>\n",
              "      <td>0</td>\n",
              "      <td>0</td>\n",
              "      <td>1</td>\n",
              "      <td>0</td>\n",
              "      <td>0</td>\n",
              "      <td>0</td>\n",
              "      <td>0</td>\n",
              "      <td>0</td>\n",
              "      <td>1</td>\n",
              "      <td>1</td>\n",
              "      <td>0</td>\n",
              "      <td>0</td>\n",
              "      <td>0</td>\n",
              "      <td>0</td>\n",
              "      <td>0</td>\n",
              "      <td>1</td>\n",
              "      <td>0</td>\n",
              "      <td>0</td>\n",
              "    </tr>\n",
              "    <tr>\n",
              "      <th>4</th>\n",
              "      <td>58</td>\n",
              "      <td>4.191</td>\n",
              "      <td>5195.8</td>\n",
              "      <td>-0.1</td>\n",
              "      <td>0</td>\n",
              "      <td>999</td>\n",
              "      <td>93.200</td>\n",
              "      <td>1</td>\n",
              "      <td>-42.0</td>\n",
              "      <td>0</td>\n",
              "      <td>0</td>\n",
              "      <td>0</td>\n",
              "      <td>0</td>\n",
              "      <td>0</td>\n",
              "      <td>0</td>\n",
              "      <td>0</td>\n",
              "      <td>1</td>\n",
              "      <td>0</td>\n",
              "      <td>0</td>\n",
              "      <td>1</td>\n",
              "      <td>0</td>\n",
              "      <td>0</td>\n",
              "      <td>0</td>\n",
              "      <td>0</td>\n",
              "      <td>0</td>\n",
              "      <td>0</td>\n",
              "      <td>0</td>\n",
              "      <td>0</td>\n",
              "      <td>0</td>\n",
              "      <td>0</td>\n",
              "      <td>0</td>\n",
              "      <td>1</td>\n",
              "      <td>0</td>\n",
              "      <td>0</td>\n",
              "      <td>0</td>\n",
              "      <td>0</td>\n",
              "      <td>1</td>\n",
              "      <td>0</td>\n",
              "      <td>0</td>\n",
              "      <td>1</td>\n",
              "      <td>0</td>\n",
              "      <td>0</td>\n",
              "    </tr>\n",
              "  </tbody>\n",
              "</table>\n",
              "</div>"
            ],
            "text/plain": [
              "   duration  euribor3m  ...  marital_single  marital_unknown\n",
              "0       487      1.313  ...               0                0\n",
              "1       346      4.855  ...               1                0\n",
              "2       227      4.962  ...               0                0\n",
              "3        17      4.959  ...               0                0\n",
              "4        58      4.191  ...               0                0\n",
              "\n",
              "[5 rows x 42 columns]"
            ]
          },
          "metadata": {
            "tags": []
          },
          "execution_count": 45
        }
      ]
    },
    {
      "cell_type": "code",
      "metadata": {
        "id": "t5fXomAJIszo",
        "colab_type": "code",
        "colab": {
          "base_uri": "https://localhost:8080/",
          "height": 119
        },
        "outputId": "00df373a-5472-4964-8b43-c97984fae530"
      },
      "source": [
        "Y = df['y']\n",
        "Y.head()"
      ],
      "execution_count": null,
      "outputs": [
        {
          "output_type": "execute_result",
          "data": {
            "text/plain": [
              "0    0\n",
              "1    0\n",
              "2    0\n",
              "3    0\n",
              "4    0\n",
              "Name: y, dtype: int64"
            ]
          },
          "metadata": {
            "tags": []
          },
          "execution_count": 46
        }
      ]
    },
    {
      "cell_type": "markdown",
      "metadata": {
        "id": "_uIP7fjlGkeU",
        "colab_type": "text"
      },
      "source": [
        "### Selección de Rasgos"
      ]
    },
    {
      "cell_type": "code",
      "metadata": {
        "id": "NYG_OtMhGdsB",
        "colab_type": "code",
        "colab": {
          "base_uri": "https://localhost:8080/",
          "height": 1000
        },
        "outputId": "98f6bdf3-af82-4a70-a95e-578b5c880a36"
      },
      "source": [
        "n = 8\n",
        "from sklearn import datasets\n",
        "from sklearn.feature_selection import RFE\n",
        "lr = LogisticRegression()\n",
        "rfe = RFE(lr, n, step = 1)\n",
        "rfe = rfe.fit(X,Y)"
      ],
      "execution_count": null,
      "outputs": [
        {
          "output_type": "stream",
          "text": [
            "/usr/local/lib/python3.6/dist-packages/sklearn/linear_model/_logistic.py:940: ConvergenceWarning: lbfgs failed to converge (status=1):\n",
            "STOP: TOTAL NO. of ITERATIONS REACHED LIMIT.\n",
            "\n",
            "Increase the number of iterations (max_iter) or scale the data as shown in:\n",
            "    https://scikit-learn.org/stable/modules/preprocessing.html\n",
            "Please also refer to the documentation for alternative solver options:\n",
            "    https://scikit-learn.org/stable/modules/linear_model.html#logistic-regression\n",
            "  extra_warning_msg=_LOGISTIC_SOLVER_CONVERGENCE_MSG)\n",
            "/usr/local/lib/python3.6/dist-packages/sklearn/linear_model/_logistic.py:940: ConvergenceWarning: lbfgs failed to converge (status=1):\n",
            "STOP: TOTAL NO. of ITERATIONS REACHED LIMIT.\n",
            "\n",
            "Increase the number of iterations (max_iter) or scale the data as shown in:\n",
            "    https://scikit-learn.org/stable/modules/preprocessing.html\n",
            "Please also refer to the documentation for alternative solver options:\n",
            "    https://scikit-learn.org/stable/modules/linear_model.html#logistic-regression\n",
            "  extra_warning_msg=_LOGISTIC_SOLVER_CONVERGENCE_MSG)\n",
            "/usr/local/lib/python3.6/dist-packages/sklearn/linear_model/_logistic.py:940: ConvergenceWarning: lbfgs failed to converge (status=1):\n",
            "STOP: TOTAL NO. of ITERATIONS REACHED LIMIT.\n",
            "\n",
            "Increase the number of iterations (max_iter) or scale the data as shown in:\n",
            "    https://scikit-learn.org/stable/modules/preprocessing.html\n",
            "Please also refer to the documentation for alternative solver options:\n",
            "    https://scikit-learn.org/stable/modules/linear_model.html#logistic-regression\n",
            "  extra_warning_msg=_LOGISTIC_SOLVER_CONVERGENCE_MSG)\n",
            "/usr/local/lib/python3.6/dist-packages/sklearn/linear_model/_logistic.py:940: ConvergenceWarning: lbfgs failed to converge (status=1):\n",
            "STOP: TOTAL NO. of ITERATIONS REACHED LIMIT.\n",
            "\n",
            "Increase the number of iterations (max_iter) or scale the data as shown in:\n",
            "    https://scikit-learn.org/stable/modules/preprocessing.html\n",
            "Please also refer to the documentation for alternative solver options:\n",
            "    https://scikit-learn.org/stable/modules/linear_model.html#logistic-regression\n",
            "  extra_warning_msg=_LOGISTIC_SOLVER_CONVERGENCE_MSG)\n",
            "/usr/local/lib/python3.6/dist-packages/sklearn/linear_model/_logistic.py:940: ConvergenceWarning: lbfgs failed to converge (status=1):\n",
            "STOP: TOTAL NO. of ITERATIONS REACHED LIMIT.\n",
            "\n",
            "Increase the number of iterations (max_iter) or scale the data as shown in:\n",
            "    https://scikit-learn.org/stable/modules/preprocessing.html\n",
            "Please also refer to the documentation for alternative solver options:\n",
            "    https://scikit-learn.org/stable/modules/linear_model.html#logistic-regression\n",
            "  extra_warning_msg=_LOGISTIC_SOLVER_CONVERGENCE_MSG)\n",
            "/usr/local/lib/python3.6/dist-packages/sklearn/linear_model/_logistic.py:940: ConvergenceWarning: lbfgs failed to converge (status=1):\n",
            "STOP: TOTAL NO. of ITERATIONS REACHED LIMIT.\n",
            "\n",
            "Increase the number of iterations (max_iter) or scale the data as shown in:\n",
            "    https://scikit-learn.org/stable/modules/preprocessing.html\n",
            "Please also refer to the documentation for alternative solver options:\n",
            "    https://scikit-learn.org/stable/modules/linear_model.html#logistic-regression\n",
            "  extra_warning_msg=_LOGISTIC_SOLVER_CONVERGENCE_MSG)\n",
            "/usr/local/lib/python3.6/dist-packages/sklearn/linear_model/_logistic.py:940: ConvergenceWarning: lbfgs failed to converge (status=1):\n",
            "STOP: TOTAL NO. of ITERATIONS REACHED LIMIT.\n",
            "\n",
            "Increase the number of iterations (max_iter) or scale the data as shown in:\n",
            "    https://scikit-learn.org/stable/modules/preprocessing.html\n",
            "Please also refer to the documentation for alternative solver options:\n",
            "    https://scikit-learn.org/stable/modules/linear_model.html#logistic-regression\n",
            "  extra_warning_msg=_LOGISTIC_SOLVER_CONVERGENCE_MSG)\n",
            "/usr/local/lib/python3.6/dist-packages/sklearn/linear_model/_logistic.py:940: ConvergenceWarning: lbfgs failed to converge (status=1):\n",
            "STOP: TOTAL NO. of ITERATIONS REACHED LIMIT.\n",
            "\n",
            "Increase the number of iterations (max_iter) or scale the data as shown in:\n",
            "    https://scikit-learn.org/stable/modules/preprocessing.html\n",
            "Please also refer to the documentation for alternative solver options:\n",
            "    https://scikit-learn.org/stable/modules/linear_model.html#logistic-regression\n",
            "  extra_warning_msg=_LOGISTIC_SOLVER_CONVERGENCE_MSG)\n",
            "/usr/local/lib/python3.6/dist-packages/sklearn/linear_model/_logistic.py:940: ConvergenceWarning: lbfgs failed to converge (status=1):\n",
            "STOP: TOTAL NO. of ITERATIONS REACHED LIMIT.\n",
            "\n",
            "Increase the number of iterations (max_iter) or scale the data as shown in:\n",
            "    https://scikit-learn.org/stable/modules/preprocessing.html\n",
            "Please also refer to the documentation for alternative solver options:\n",
            "    https://scikit-learn.org/stable/modules/linear_model.html#logistic-regression\n",
            "  extra_warning_msg=_LOGISTIC_SOLVER_CONVERGENCE_MSG)\n",
            "/usr/local/lib/python3.6/dist-packages/sklearn/linear_model/_logistic.py:940: ConvergenceWarning: lbfgs failed to converge (status=1):\n",
            "STOP: TOTAL NO. of ITERATIONS REACHED LIMIT.\n",
            "\n",
            "Increase the number of iterations (max_iter) or scale the data as shown in:\n",
            "    https://scikit-learn.org/stable/modules/preprocessing.html\n",
            "Please also refer to the documentation for alternative solver options:\n",
            "    https://scikit-learn.org/stable/modules/linear_model.html#logistic-regression\n",
            "  extra_warning_msg=_LOGISTIC_SOLVER_CONVERGENCE_MSG)\n",
            "/usr/local/lib/python3.6/dist-packages/sklearn/linear_model/_logistic.py:940: ConvergenceWarning: lbfgs failed to converge (status=1):\n",
            "STOP: TOTAL NO. of ITERATIONS REACHED LIMIT.\n",
            "\n",
            "Increase the number of iterations (max_iter) or scale the data as shown in:\n",
            "    https://scikit-learn.org/stable/modules/preprocessing.html\n",
            "Please also refer to the documentation for alternative solver options:\n",
            "    https://scikit-learn.org/stable/modules/linear_model.html#logistic-regression\n",
            "  extra_warning_msg=_LOGISTIC_SOLVER_CONVERGENCE_MSG)\n",
            "/usr/local/lib/python3.6/dist-packages/sklearn/linear_model/_logistic.py:940: ConvergenceWarning: lbfgs failed to converge (status=1):\n",
            "STOP: TOTAL NO. of ITERATIONS REACHED LIMIT.\n",
            "\n",
            "Increase the number of iterations (max_iter) or scale the data as shown in:\n",
            "    https://scikit-learn.org/stable/modules/preprocessing.html\n",
            "Please also refer to the documentation for alternative solver options:\n",
            "    https://scikit-learn.org/stable/modules/linear_model.html#logistic-regression\n",
            "  extra_warning_msg=_LOGISTIC_SOLVER_CONVERGENCE_MSG)\n",
            "/usr/local/lib/python3.6/dist-packages/sklearn/linear_model/_logistic.py:940: ConvergenceWarning: lbfgs failed to converge (status=1):\n",
            "STOP: TOTAL NO. of ITERATIONS REACHED LIMIT.\n",
            "\n",
            "Increase the number of iterations (max_iter) or scale the data as shown in:\n",
            "    https://scikit-learn.org/stable/modules/preprocessing.html\n",
            "Please also refer to the documentation for alternative solver options:\n",
            "    https://scikit-learn.org/stable/modules/linear_model.html#logistic-regression\n",
            "  extra_warning_msg=_LOGISTIC_SOLVER_CONVERGENCE_MSG)\n",
            "/usr/local/lib/python3.6/dist-packages/sklearn/linear_model/_logistic.py:940: ConvergenceWarning: lbfgs failed to converge (status=1):\n",
            "STOP: TOTAL NO. of ITERATIONS REACHED LIMIT.\n",
            "\n",
            "Increase the number of iterations (max_iter) or scale the data as shown in:\n",
            "    https://scikit-learn.org/stable/modules/preprocessing.html\n",
            "Please also refer to the documentation for alternative solver options:\n",
            "    https://scikit-learn.org/stable/modules/linear_model.html#logistic-regression\n",
            "  extra_warning_msg=_LOGISTIC_SOLVER_CONVERGENCE_MSG)\n",
            "/usr/local/lib/python3.6/dist-packages/sklearn/linear_model/_logistic.py:940: ConvergenceWarning: lbfgs failed to converge (status=1):\n",
            "STOP: TOTAL NO. of ITERATIONS REACHED LIMIT.\n",
            "\n",
            "Increase the number of iterations (max_iter) or scale the data as shown in:\n",
            "    https://scikit-learn.org/stable/modules/preprocessing.html\n",
            "Please also refer to the documentation for alternative solver options:\n",
            "    https://scikit-learn.org/stable/modules/linear_model.html#logistic-regression\n",
            "  extra_warning_msg=_LOGISTIC_SOLVER_CONVERGENCE_MSG)\n",
            "/usr/local/lib/python3.6/dist-packages/sklearn/linear_model/_logistic.py:940: ConvergenceWarning: lbfgs failed to converge (status=1):\n",
            "STOP: TOTAL NO. of ITERATIONS REACHED LIMIT.\n",
            "\n",
            "Increase the number of iterations (max_iter) or scale the data as shown in:\n",
            "    https://scikit-learn.org/stable/modules/preprocessing.html\n",
            "Please also refer to the documentation for alternative solver options:\n",
            "    https://scikit-learn.org/stable/modules/linear_model.html#logistic-regression\n",
            "  extra_warning_msg=_LOGISTIC_SOLVER_CONVERGENCE_MSG)\n"
          ],
          "name": "stderr"
        }
      ]
    },
    {
      "cell_type": "code",
      "metadata": {
        "id": "0Y6xqXtuHjRT",
        "colab_type": "code",
        "colab": {
          "base_uri": "https://localhost:8080/",
          "height": 85
        },
        "outputId": "d71a90f0-9b8e-4cc9-c9f8-3c7b7937e505"
      },
      "source": [
        "print(rfe.support_)"
      ],
      "execution_count": null,
      "outputs": [
        {
          "output_type": "stream",
          "text": [
            "[False  True False False  True False False False False False False  True\n",
            "  True  True  True  True False False False False False False False False\n",
            " False False False False False  True False False False False False False\n",
            " False False False False False False]\n"
          ],
          "name": "stdout"
        }
      ]
    },
    {
      "cell_type": "code",
      "metadata": {
        "id": "qC3wuuO3Kfkl",
        "colab_type": "code",
        "colab": {
          "base_uri": "https://localhost:8080/",
          "height": 51
        },
        "outputId": "3ac125b2-7404-489d-ea99-612e1b4907fd"
      },
      "source": [
        "print(rfe.ranking_)"
      ],
      "execution_count": null,
      "outputs": [
        {
          "output_type": "stream",
          "text": [
            "[32  1 28 18  1 34 23 19 20 30  7  1  1  1  1  1 26  5  6  3 15 10 31 13\n",
            "  2 11 21 29  4  1 33 16  8 27 22 12 14  9 17 24 25 35]\n"
          ],
          "name": "stdout"
        }
      ]
    },
    {
      "cell_type": "code",
      "metadata": {
        "id": "mo4wxrTwKics",
        "colab_type": "code",
        "colab": {
          "base_uri": "https://localhost:8080/",
          "height": 731
        },
        "outputId": "89a4d111-2358-4a96-d31e-f8d0c6b882d5"
      },
      "source": [
        "z=zip(to_keep,rfe.support_, rfe.ranking_)\n",
        "list(z)"
      ],
      "execution_count": null,
      "outputs": [
        {
          "output_type": "execute_result",
          "data": {
            "text/plain": [
              "[('duration', False, 32),\n",
              " ('euribor3m', True, 1),\n",
              " ('nr.employed', False, 28),\n",
              " ('emp.var.rate', False, 18),\n",
              " ('previous', True, 1),\n",
              " ('pdays', False, 34),\n",
              " ('cons.price.idx', False, 23),\n",
              " ('campaign', False, 19),\n",
              " ('cons.conf.idx', False, 20),\n",
              " ('month_apr', False, 30),\n",
              " ('month_aug', False, 7),\n",
              " ('month_dec', True, 1),\n",
              " ('month_jul', True, 1),\n",
              " ('month_jun', True, 1),\n",
              " ('month_mar', True, 1),\n",
              " ('month_may', True, 1),\n",
              " ('month_nov', False, 26),\n",
              " ('month_oct', False, 5),\n",
              " ('month_sep', False, 6),\n",
              " ('job_admin.', False, 3),\n",
              " ('job_blue-collar', False, 15),\n",
              " ('job_entrepreneur', False, 10),\n",
              " ('job_housemaid', False, 31),\n",
              " ('job_management', False, 13),\n",
              " ('job_retired', False, 2),\n",
              " ('job_self-employed', False, 11),\n",
              " ('job_services', False, 21),\n",
              " ('job_student', False, 29),\n",
              " ('job_technician', False, 4),\n",
              " ('job_unemployed', True, 1),\n",
              " ('job_unknown', False, 33),\n",
              " ('contact_cellular', False, 16),\n",
              " ('contact_telephone', False, 8),\n",
              " ('education_Basic', False, 27),\n",
              " ('education_High School', False, 22),\n",
              " ('education_Professional Course', False, 12),\n",
              " ('education_University Degree', False, 14),\n",
              " ('education_Unknown', False, 9),\n",
              " ('marital_divorced', False, 17),\n",
              " ('marital_married', False, 24),\n",
              " ('marital_single', False, 25),\n",
              " ('marital_unknown', False, 35)]"
            ]
          },
          "metadata": {
            "tags": []
          },
          "execution_count": 50
        }
      ]
    },
    {
      "cell_type": "code",
      "metadata": {
        "id": "AcN7XMEvL4hU",
        "colab_type": "code",
        "colab": {}
      },
      "source": [
        "cols = ['euribor3m', 'previous', 'month_dec', 'month_jul', 'month_jun', 'month_mar', 'month_may', 'job_unemployed']"
      ],
      "execution_count": null,
      "outputs": []
    },
    {
      "cell_type": "code",
      "metadata": {
        "id": "qWRgtFDCOfVH",
        "colab_type": "code",
        "colab": {
          "base_uri": "https://localhost:8080/",
          "height": 1000
        },
        "outputId": "3ef8286c-409f-4d08-ea23-a9bf826ae138"
      },
      "source": [
        "x_f = X[cols]\n",
        "logit_model_1 = LogisticRegression()\n",
        "logit_model_2 = LogisticRegression()\n",
        "logit_model_1.fit(x_f,Y)\n",
        "logit_model_2.fit(X, Y)\n",
        "print(logit_model_1.score(x_f,Y))\n",
        "print(logit_model_2.score(X,Y))\n",
        "print(pd.DataFrame(list(zip(x_f.columns, np.transpose(logit_model_1.coef_)))))\n",
        "print(pd.DataFrame(list(zip(X.columns, np.transpose(logit_model_2.coef_)))))"
      ],
      "execution_count": null,
      "outputs": [
        {
          "output_type": "stream",
          "text": [
            "0.8968196164117505\n",
            "0.9150279193979121\n",
            "                0                      1\n",
            "0       euribor3m  [-0.5192906455806535]\n",
            "1        previous   [0.3553040233923786]\n",
            "2       month_dec   [0.7799052550594537]\n",
            "3       month_jul  [0.41856758485579343]\n",
            "4       month_jun   [0.5321053263394271]\n",
            "5       month_mar   [1.2088480950796512]\n",
            "6       month_may  [-0.8610913373086414]\n",
            "7  job_unemployed  [0.31522971187731985]\n",
            "                                0                         1\n",
            "0                        duration     [0.00500816822423375]\n",
            "1                       euribor3m    [-0.21304660695791558]\n",
            "2                     nr.employed   [-0.008516678714126475]\n",
            "3                    emp.var.rate    [-0.12239063337080554]\n",
            "4                        previous    [-0.01811187384402957]\n",
            "5                           pdays  [-0.0013905152890881555]\n",
            "6                  cons.price.idx      [0.4734631153404815]\n",
            "7                        campaign    [-0.04685283923328958]\n",
            "8                   cons.conf.idx    [0.060252423911956905]\n",
            "9                       month_apr    [-0.01161709073541901]\n",
            "10                      month_aug       [0.053372807491191]\n",
            "11                      month_dec     [0.01728004696418816]\n",
            "12                      month_jul     [0.05537399394962257]\n",
            "13                      month_jun     [0.15303714056923332]\n",
            "14                      month_mar     [0.10005744885570371]\n",
            "15                      month_may     [-0.3110100914310145]\n",
            "16                      month_nov    [-0.05394218164812617]\n",
            "17                      month_oct    [0.011660362112464108]\n",
            "18                      month_sep   [-0.010673965225943561]\n",
            "19                     job_admin.     [0.04546596876052842]\n",
            "20                job_blue-collar    [-0.08727044630296535]\n",
            "21               job_entrepreneur   [-0.032836202820744335]\n",
            "22                  job_housemaid    [0.010026593092194414]\n",
            "23                 job_management   [-0.030423268593739117]\n",
            "24                    job_retired    [0.021553451964085996]\n",
            "25              job_self-employed    [-0.03402839641960404]\n",
            "26                   job_services     [0.00901667489780569]\n",
            "27                    job_student   [0.0021397674667211837]\n",
            "28                 job_technician     [0.07071756720904819]\n",
            "29                 job_unemployed     [0.03062734124831598]\n",
            "30                    job_unknown  [-0.0014505795987199608]\n",
            "31               contact_cellular     [0.12811737937739176]\n",
            "32              contact_telephone    [-0.12457890850925293]\n",
            "33                education_Basic    [-0.07490775728599613]\n",
            "34          education_High School   [-0.033208095458134274]\n",
            "35  education_Professional Course    [0.010161235382167984]\n",
            "36    education_University Degree     [0.08744867204127925]\n",
            "37              education_Unknown    [0.014044416211238956]\n",
            "38               marital_divorced    [-0.02563662548735464]\n",
            "39                marital_married   [-0.038715388357156204]\n",
            "40                 marital_single     [0.06743518960620673]\n",
            "41                marital_unknown  [0.00045529513918337905]\n"
          ],
          "name": "stdout"
        },
        {
          "output_type": "stream",
          "text": [
            "/usr/local/lib/python3.6/dist-packages/sklearn/linear_model/_logistic.py:940: ConvergenceWarning: lbfgs failed to converge (status=1):\n",
            "STOP: TOTAL NO. of ITERATIONS REACHED LIMIT.\n",
            "\n",
            "Increase the number of iterations (max_iter) or scale the data as shown in:\n",
            "    https://scikit-learn.org/stable/modules/preprocessing.html\n",
            "Please also refer to the documentation for alternative solver options:\n",
            "    https://scikit-learn.org/stable/modules/linear_model.html#logistic-regression\n",
            "  extra_warning_msg=_LOGISTIC_SOLVER_CONVERGENCE_MSG)\n"
          ],
          "name": "stderr"
        }
      ]
    },
    {
      "cell_type": "code",
      "metadata": {
        "id": "8u8Okah3PknS",
        "colab_type": "code",
        "colab": {}
      },
      "source": [
        "def Gini(y_true,y_pred,signo='+'):\n",
        "    from sklearn.metrics import roc_auc_score\n",
        "    return 2*roc_auc_score(y_true, y_pred)-1"
      ],
      "execution_count": null,
      "outputs": []
    },
    {
      "cell_type": "code",
      "metadata": {
        "id": "U25hJ4hNQERW",
        "colab_type": "code",
        "colab": {}
      },
      "source": [
        "probs_1 = logit_model_1.predict_proba(x_f)[:,1:]\n",
        "m_1=pd.DataFrame(probs_1,columns = ['Probs'])\n",
        "probs_2 = logit_model_2.predict_proba(X)[:,1:]\n",
        "m_2=pd.DataFrame(probs_2,columns = ['Probs'])"
      ],
      "execution_count": null,
      "outputs": []
    },
    {
      "cell_type": "code",
      "metadata": {
        "id": "5RPcOuGOQLiu",
        "colab_type": "code",
        "colab": {}
      },
      "source": [
        "Y2=Y.reset_index()\n",
        "Y2['Probs_1']=m_1\n",
        "Y2['Probs_2']=m_2"
      ],
      "execution_count": null,
      "outputs": []
    },
    {
      "cell_type": "code",
      "metadata": {
        "id": "3N4U1qIA8178",
        "colab_type": "code",
        "colab": {
          "base_uri": "https://localhost:8080/",
          "height": 456
        },
        "outputId": "6329d149-94da-45b1-9742-1c3ed2c5db5f"
      },
      "source": [
        "X"
      ],
      "execution_count": null,
      "outputs": [
        {
          "output_type": "execute_result",
          "data": {
            "text/html": [
              "<div>\n",
              "<style scoped>\n",
              "    .dataframe tbody tr th:only-of-type {\n",
              "        vertical-align: middle;\n",
              "    }\n",
              "\n",
              "    .dataframe tbody tr th {\n",
              "        vertical-align: top;\n",
              "    }\n",
              "\n",
              "    .dataframe thead th {\n",
              "        text-align: right;\n",
              "    }\n",
              "</style>\n",
              "<table border=\"1\" class=\"dataframe\">\n",
              "  <thead>\n",
              "    <tr style=\"text-align: right;\">\n",
              "      <th></th>\n",
              "      <th>duration</th>\n",
              "      <th>euribor3m</th>\n",
              "      <th>nr.employed</th>\n",
              "      <th>emp.var.rate</th>\n",
              "      <th>previous</th>\n",
              "      <th>pdays</th>\n",
              "      <th>cons.price.idx</th>\n",
              "      <th>campaign</th>\n",
              "      <th>cons.conf.idx</th>\n",
              "      <th>month_apr</th>\n",
              "      <th>month_aug</th>\n",
              "      <th>month_dec</th>\n",
              "      <th>month_jul</th>\n",
              "      <th>month_jun</th>\n",
              "      <th>month_mar</th>\n",
              "      <th>month_may</th>\n",
              "      <th>month_nov</th>\n",
              "      <th>month_oct</th>\n",
              "      <th>month_sep</th>\n",
              "      <th>job_admin.</th>\n",
              "      <th>job_blue-collar</th>\n",
              "      <th>job_entrepreneur</th>\n",
              "      <th>job_housemaid</th>\n",
              "      <th>job_management</th>\n",
              "      <th>job_retired</th>\n",
              "      <th>job_self-employed</th>\n",
              "      <th>job_services</th>\n",
              "      <th>job_student</th>\n",
              "      <th>job_technician</th>\n",
              "      <th>job_unemployed</th>\n",
              "      <th>job_unknown</th>\n",
              "      <th>contact_cellular</th>\n",
              "      <th>contact_telephone</th>\n",
              "      <th>education_Basic</th>\n",
              "      <th>education_High School</th>\n",
              "      <th>education_Professional Course</th>\n",
              "      <th>education_University Degree</th>\n",
              "      <th>education_Unknown</th>\n",
              "      <th>marital_divorced</th>\n",
              "      <th>marital_married</th>\n",
              "      <th>marital_single</th>\n",
              "      <th>marital_unknown</th>\n",
              "    </tr>\n",
              "  </thead>\n",
              "  <tbody>\n",
              "    <tr>\n",
              "      <th>0</th>\n",
              "      <td>487</td>\n",
              "      <td>1.313</td>\n",
              "      <td>5099.1</td>\n",
              "      <td>-1.8</td>\n",
              "      <td>0</td>\n",
              "      <td>999</td>\n",
              "      <td>92.893</td>\n",
              "      <td>2</td>\n",
              "      <td>-46.2</td>\n",
              "      <td>0</td>\n",
              "      <td>0</td>\n",
              "      <td>0</td>\n",
              "      <td>0</td>\n",
              "      <td>0</td>\n",
              "      <td>0</td>\n",
              "      <td>1</td>\n",
              "      <td>0</td>\n",
              "      <td>0</td>\n",
              "      <td>0</td>\n",
              "      <td>0</td>\n",
              "      <td>1</td>\n",
              "      <td>0</td>\n",
              "      <td>0</td>\n",
              "      <td>0</td>\n",
              "      <td>0</td>\n",
              "      <td>0</td>\n",
              "      <td>0</td>\n",
              "      <td>0</td>\n",
              "      <td>0</td>\n",
              "      <td>0</td>\n",
              "      <td>0</td>\n",
              "      <td>1</td>\n",
              "      <td>0</td>\n",
              "      <td>1</td>\n",
              "      <td>0</td>\n",
              "      <td>0</td>\n",
              "      <td>0</td>\n",
              "      <td>0</td>\n",
              "      <td>0</td>\n",
              "      <td>1</td>\n",
              "      <td>0</td>\n",
              "      <td>0</td>\n",
              "    </tr>\n",
              "    <tr>\n",
              "      <th>1</th>\n",
              "      <td>346</td>\n",
              "      <td>4.855</td>\n",
              "      <td>5191.0</td>\n",
              "      <td>1.1</td>\n",
              "      <td>0</td>\n",
              "      <td>999</td>\n",
              "      <td>93.994</td>\n",
              "      <td>4</td>\n",
              "      <td>-36.4</td>\n",
              "      <td>0</td>\n",
              "      <td>0</td>\n",
              "      <td>0</td>\n",
              "      <td>0</td>\n",
              "      <td>0</td>\n",
              "      <td>0</td>\n",
              "      <td>1</td>\n",
              "      <td>0</td>\n",
              "      <td>0</td>\n",
              "      <td>0</td>\n",
              "      <td>0</td>\n",
              "      <td>0</td>\n",
              "      <td>0</td>\n",
              "      <td>0</td>\n",
              "      <td>0</td>\n",
              "      <td>0</td>\n",
              "      <td>0</td>\n",
              "      <td>1</td>\n",
              "      <td>0</td>\n",
              "      <td>0</td>\n",
              "      <td>0</td>\n",
              "      <td>0</td>\n",
              "      <td>0</td>\n",
              "      <td>1</td>\n",
              "      <td>0</td>\n",
              "      <td>1</td>\n",
              "      <td>0</td>\n",
              "      <td>0</td>\n",
              "      <td>0</td>\n",
              "      <td>0</td>\n",
              "      <td>0</td>\n",
              "      <td>1</td>\n",
              "      <td>0</td>\n",
              "    </tr>\n",
              "    <tr>\n",
              "      <th>2</th>\n",
              "      <td>227</td>\n",
              "      <td>4.962</td>\n",
              "      <td>5228.1</td>\n",
              "      <td>1.4</td>\n",
              "      <td>0</td>\n",
              "      <td>999</td>\n",
              "      <td>94.465</td>\n",
              "      <td>1</td>\n",
              "      <td>-41.8</td>\n",
              "      <td>0</td>\n",
              "      <td>0</td>\n",
              "      <td>0</td>\n",
              "      <td>0</td>\n",
              "      <td>1</td>\n",
              "      <td>0</td>\n",
              "      <td>0</td>\n",
              "      <td>0</td>\n",
              "      <td>0</td>\n",
              "      <td>0</td>\n",
              "      <td>0</td>\n",
              "      <td>0</td>\n",
              "      <td>0</td>\n",
              "      <td>0</td>\n",
              "      <td>0</td>\n",
              "      <td>0</td>\n",
              "      <td>0</td>\n",
              "      <td>1</td>\n",
              "      <td>0</td>\n",
              "      <td>0</td>\n",
              "      <td>0</td>\n",
              "      <td>0</td>\n",
              "      <td>0</td>\n",
              "      <td>1</td>\n",
              "      <td>0</td>\n",
              "      <td>1</td>\n",
              "      <td>0</td>\n",
              "      <td>0</td>\n",
              "      <td>0</td>\n",
              "      <td>0</td>\n",
              "      <td>1</td>\n",
              "      <td>0</td>\n",
              "      <td>0</td>\n",
              "    </tr>\n",
              "    <tr>\n",
              "      <th>3</th>\n",
              "      <td>17</td>\n",
              "      <td>4.959</td>\n",
              "      <td>5228.1</td>\n",
              "      <td>1.4</td>\n",
              "      <td>0</td>\n",
              "      <td>999</td>\n",
              "      <td>94.465</td>\n",
              "      <td>3</td>\n",
              "      <td>-41.8</td>\n",
              "      <td>0</td>\n",
              "      <td>0</td>\n",
              "      <td>0</td>\n",
              "      <td>0</td>\n",
              "      <td>1</td>\n",
              "      <td>0</td>\n",
              "      <td>0</td>\n",
              "      <td>0</td>\n",
              "      <td>0</td>\n",
              "      <td>0</td>\n",
              "      <td>0</td>\n",
              "      <td>0</td>\n",
              "      <td>0</td>\n",
              "      <td>0</td>\n",
              "      <td>0</td>\n",
              "      <td>0</td>\n",
              "      <td>0</td>\n",
              "      <td>1</td>\n",
              "      <td>0</td>\n",
              "      <td>0</td>\n",
              "      <td>0</td>\n",
              "      <td>0</td>\n",
              "      <td>0</td>\n",
              "      <td>1</td>\n",
              "      <td>1</td>\n",
              "      <td>0</td>\n",
              "      <td>0</td>\n",
              "      <td>0</td>\n",
              "      <td>0</td>\n",
              "      <td>0</td>\n",
              "      <td>1</td>\n",
              "      <td>0</td>\n",
              "      <td>0</td>\n",
              "    </tr>\n",
              "    <tr>\n",
              "      <th>4</th>\n",
              "      <td>58</td>\n",
              "      <td>4.191</td>\n",
              "      <td>5195.8</td>\n",
              "      <td>-0.1</td>\n",
              "      <td>0</td>\n",
              "      <td>999</td>\n",
              "      <td>93.200</td>\n",
              "      <td>1</td>\n",
              "      <td>-42.0</td>\n",
              "      <td>0</td>\n",
              "      <td>0</td>\n",
              "      <td>0</td>\n",
              "      <td>0</td>\n",
              "      <td>0</td>\n",
              "      <td>0</td>\n",
              "      <td>0</td>\n",
              "      <td>1</td>\n",
              "      <td>0</td>\n",
              "      <td>0</td>\n",
              "      <td>1</td>\n",
              "      <td>0</td>\n",
              "      <td>0</td>\n",
              "      <td>0</td>\n",
              "      <td>0</td>\n",
              "      <td>0</td>\n",
              "      <td>0</td>\n",
              "      <td>0</td>\n",
              "      <td>0</td>\n",
              "      <td>0</td>\n",
              "      <td>0</td>\n",
              "      <td>0</td>\n",
              "      <td>1</td>\n",
              "      <td>0</td>\n",
              "      <td>0</td>\n",
              "      <td>0</td>\n",
              "      <td>0</td>\n",
              "      <td>1</td>\n",
              "      <td>0</td>\n",
              "      <td>0</td>\n",
              "      <td>1</td>\n",
              "      <td>0</td>\n",
              "      <td>0</td>\n",
              "    </tr>\n",
              "    <tr>\n",
              "      <th>...</th>\n",
              "      <td>...</td>\n",
              "      <td>...</td>\n",
              "      <td>...</td>\n",
              "      <td>...</td>\n",
              "      <td>...</td>\n",
              "      <td>...</td>\n",
              "      <td>...</td>\n",
              "      <td>...</td>\n",
              "      <td>...</td>\n",
              "      <td>...</td>\n",
              "      <td>...</td>\n",
              "      <td>...</td>\n",
              "      <td>...</td>\n",
              "      <td>...</td>\n",
              "      <td>...</td>\n",
              "      <td>...</td>\n",
              "      <td>...</td>\n",
              "      <td>...</td>\n",
              "      <td>...</td>\n",
              "      <td>...</td>\n",
              "      <td>...</td>\n",
              "      <td>...</td>\n",
              "      <td>...</td>\n",
              "      <td>...</td>\n",
              "      <td>...</td>\n",
              "      <td>...</td>\n",
              "      <td>...</td>\n",
              "      <td>...</td>\n",
              "      <td>...</td>\n",
              "      <td>...</td>\n",
              "      <td>...</td>\n",
              "      <td>...</td>\n",
              "      <td>...</td>\n",
              "      <td>...</td>\n",
              "      <td>...</td>\n",
              "      <td>...</td>\n",
              "      <td>...</td>\n",
              "      <td>...</td>\n",
              "      <td>...</td>\n",
              "      <td>...</td>\n",
              "      <td>...</td>\n",
              "      <td>...</td>\n",
              "    </tr>\n",
              "    <tr>\n",
              "      <th>4114</th>\n",
              "      <td>53</td>\n",
              "      <td>4.958</td>\n",
              "      <td>5228.1</td>\n",
              "      <td>1.4</td>\n",
              "      <td>0</td>\n",
              "      <td>999</td>\n",
              "      <td>93.918</td>\n",
              "      <td>1</td>\n",
              "      <td>-42.7</td>\n",
              "      <td>0</td>\n",
              "      <td>0</td>\n",
              "      <td>0</td>\n",
              "      <td>1</td>\n",
              "      <td>0</td>\n",
              "      <td>0</td>\n",
              "      <td>0</td>\n",
              "      <td>0</td>\n",
              "      <td>0</td>\n",
              "      <td>0</td>\n",
              "      <td>1</td>\n",
              "      <td>0</td>\n",
              "      <td>0</td>\n",
              "      <td>0</td>\n",
              "      <td>0</td>\n",
              "      <td>0</td>\n",
              "      <td>0</td>\n",
              "      <td>0</td>\n",
              "      <td>0</td>\n",
              "      <td>0</td>\n",
              "      <td>0</td>\n",
              "      <td>0</td>\n",
              "      <td>1</td>\n",
              "      <td>0</td>\n",
              "      <td>1</td>\n",
              "      <td>0</td>\n",
              "      <td>0</td>\n",
              "      <td>0</td>\n",
              "      <td>0</td>\n",
              "      <td>0</td>\n",
              "      <td>1</td>\n",
              "      <td>0</td>\n",
              "      <td>0</td>\n",
              "    </tr>\n",
              "    <tr>\n",
              "      <th>4115</th>\n",
              "      <td>219</td>\n",
              "      <td>4.959</td>\n",
              "      <td>5228.1</td>\n",
              "      <td>1.4</td>\n",
              "      <td>0</td>\n",
              "      <td>999</td>\n",
              "      <td>93.918</td>\n",
              "      <td>1</td>\n",
              "      <td>-42.7</td>\n",
              "      <td>0</td>\n",
              "      <td>0</td>\n",
              "      <td>0</td>\n",
              "      <td>1</td>\n",
              "      <td>0</td>\n",
              "      <td>0</td>\n",
              "      <td>0</td>\n",
              "      <td>0</td>\n",
              "      <td>0</td>\n",
              "      <td>0</td>\n",
              "      <td>1</td>\n",
              "      <td>0</td>\n",
              "      <td>0</td>\n",
              "      <td>0</td>\n",
              "      <td>0</td>\n",
              "      <td>0</td>\n",
              "      <td>0</td>\n",
              "      <td>0</td>\n",
              "      <td>0</td>\n",
              "      <td>0</td>\n",
              "      <td>0</td>\n",
              "      <td>0</td>\n",
              "      <td>0</td>\n",
              "      <td>1</td>\n",
              "      <td>0</td>\n",
              "      <td>1</td>\n",
              "      <td>0</td>\n",
              "      <td>0</td>\n",
              "      <td>0</td>\n",
              "      <td>0</td>\n",
              "      <td>1</td>\n",
              "      <td>0</td>\n",
              "      <td>0</td>\n",
              "    </tr>\n",
              "    <tr>\n",
              "      <th>4116</th>\n",
              "      <td>64</td>\n",
              "      <td>1.354</td>\n",
              "      <td>5099.1</td>\n",
              "      <td>-1.8</td>\n",
              "      <td>1</td>\n",
              "      <td>999</td>\n",
              "      <td>92.893</td>\n",
              "      <td>2</td>\n",
              "      <td>-46.2</td>\n",
              "      <td>0</td>\n",
              "      <td>0</td>\n",
              "      <td>0</td>\n",
              "      <td>0</td>\n",
              "      <td>0</td>\n",
              "      <td>0</td>\n",
              "      <td>1</td>\n",
              "      <td>0</td>\n",
              "      <td>0</td>\n",
              "      <td>0</td>\n",
              "      <td>0</td>\n",
              "      <td>0</td>\n",
              "      <td>0</td>\n",
              "      <td>0</td>\n",
              "      <td>0</td>\n",
              "      <td>0</td>\n",
              "      <td>0</td>\n",
              "      <td>0</td>\n",
              "      <td>1</td>\n",
              "      <td>0</td>\n",
              "      <td>0</td>\n",
              "      <td>0</td>\n",
              "      <td>1</td>\n",
              "      <td>0</td>\n",
              "      <td>0</td>\n",
              "      <td>1</td>\n",
              "      <td>0</td>\n",
              "      <td>0</td>\n",
              "      <td>0</td>\n",
              "      <td>0</td>\n",
              "      <td>0</td>\n",
              "      <td>1</td>\n",
              "      <td>0</td>\n",
              "    </tr>\n",
              "    <tr>\n",
              "      <th>4117</th>\n",
              "      <td>528</td>\n",
              "      <td>4.966</td>\n",
              "      <td>5228.1</td>\n",
              "      <td>1.4</td>\n",
              "      <td>0</td>\n",
              "      <td>999</td>\n",
              "      <td>93.444</td>\n",
              "      <td>1</td>\n",
              "      <td>-36.1</td>\n",
              "      <td>0</td>\n",
              "      <td>1</td>\n",
              "      <td>0</td>\n",
              "      <td>0</td>\n",
              "      <td>0</td>\n",
              "      <td>0</td>\n",
              "      <td>0</td>\n",
              "      <td>0</td>\n",
              "      <td>0</td>\n",
              "      <td>0</td>\n",
              "      <td>1</td>\n",
              "      <td>0</td>\n",
              "      <td>0</td>\n",
              "      <td>0</td>\n",
              "      <td>0</td>\n",
              "      <td>0</td>\n",
              "      <td>0</td>\n",
              "      <td>0</td>\n",
              "      <td>0</td>\n",
              "      <td>0</td>\n",
              "      <td>0</td>\n",
              "      <td>0</td>\n",
              "      <td>1</td>\n",
              "      <td>0</td>\n",
              "      <td>0</td>\n",
              "      <td>1</td>\n",
              "      <td>0</td>\n",
              "      <td>0</td>\n",
              "      <td>0</td>\n",
              "      <td>0</td>\n",
              "      <td>1</td>\n",
              "      <td>0</td>\n",
              "      <td>0</td>\n",
              "    </tr>\n",
              "    <tr>\n",
              "      <th>4118</th>\n",
              "      <td>175</td>\n",
              "      <td>4.120</td>\n",
              "      <td>5195.8</td>\n",
              "      <td>-0.1</td>\n",
              "      <td>0</td>\n",
              "      <td>999</td>\n",
              "      <td>93.200</td>\n",
              "      <td>1</td>\n",
              "      <td>-42.0</td>\n",
              "      <td>0</td>\n",
              "      <td>0</td>\n",
              "      <td>0</td>\n",
              "      <td>0</td>\n",
              "      <td>0</td>\n",
              "      <td>0</td>\n",
              "      <td>0</td>\n",
              "      <td>1</td>\n",
              "      <td>0</td>\n",
              "      <td>0</td>\n",
              "      <td>0</td>\n",
              "      <td>0</td>\n",
              "      <td>0</td>\n",
              "      <td>0</td>\n",
              "      <td>1</td>\n",
              "      <td>0</td>\n",
              "      <td>0</td>\n",
              "      <td>0</td>\n",
              "      <td>0</td>\n",
              "      <td>0</td>\n",
              "      <td>0</td>\n",
              "      <td>0</td>\n",
              "      <td>1</td>\n",
              "      <td>0</td>\n",
              "      <td>0</td>\n",
              "      <td>1</td>\n",
              "      <td>0</td>\n",
              "      <td>0</td>\n",
              "      <td>0</td>\n",
              "      <td>0</td>\n",
              "      <td>0</td>\n",
              "      <td>1</td>\n",
              "      <td>0</td>\n",
              "    </tr>\n",
              "  </tbody>\n",
              "</table>\n",
              "<p>4119 rows × 42 columns</p>\n",
              "</div>"
            ],
            "text/plain": [
              "      duration  euribor3m  ...  marital_single  marital_unknown\n",
              "0          487      1.313  ...               0                0\n",
              "1          346      4.855  ...               1                0\n",
              "2          227      4.962  ...               0                0\n",
              "3           17      4.959  ...               0                0\n",
              "4           58      4.191  ...               0                0\n",
              "...        ...        ...  ...             ...              ...\n",
              "4114        53      4.958  ...               0                0\n",
              "4115       219      4.959  ...               0                0\n",
              "4116        64      1.354  ...               1                0\n",
              "4117       528      4.966  ...               0                0\n",
              "4118       175      4.120  ...               1                0\n",
              "\n",
              "[4119 rows x 42 columns]"
            ]
          },
          "metadata": {
            "tags": []
          },
          "execution_count": 56
        }
      ]
    },
    {
      "cell_type": "code",
      "metadata": {
        "id": "EBXosNs_QPqw",
        "colab_type": "code",
        "colab": {
          "base_uri": "https://localhost:8080/",
          "height": 51
        },
        "outputId": "f77f426b-2997-44ec-c80e-36fd1f4b13f1"
      },
      "source": [
        "print(1*Gini(Y2[\"y\"],Y2[\"Probs_2\"]))\n",
        "print(1*Gini(Y2[\"y\"],Y2[\"Probs_1\"]))"
      ],
      "execution_count": null,
      "outputs": [
        {
          "output_type": "stream",
          "text": [
            "0.8654510635519757\n",
            "0.5458504909724424\n"
          ],
          "name": "stdout"
        }
      ]
    },
    {
      "cell_type": "code",
      "metadata": {
        "id": "VD5XxdcmQSUM",
        "colab_type": "code",
        "colab": {}
      },
      "source": [
        "threshold = 0.5\n",
        "Y2[\"prediction_1\"]=np.where(probs_1>threshold, 1, 0)\n",
        "Y2[\"prediction_2\"]=np.where(probs_2>threshold, 1, 0)"
      ],
      "execution_count": null,
      "outputs": []
    },
    {
      "cell_type": "code",
      "metadata": {
        "id": "WyYrzfYPQWmP",
        "colab_type": "code",
        "colab": {
          "base_uri": "https://localhost:8080/",
          "height": 153
        },
        "outputId": "12d8914e-2347-4a78-8208-336202974ba2"
      },
      "source": [
        "confusion_matrix_1 = pd.crosstab(Y2.prediction_1, Y2.y)\n",
        "confusion_matrix_2 = pd.crosstab(Y2.prediction_2, Y2.y)\n",
        "print(confusion_matrix_1)\n",
        "print(confusion_matrix_2)"
      ],
      "execution_count": null,
      "outputs": [
        {
          "output_type": "stream",
          "text": [
            "y                0    1\n",
            "prediction_1           \n",
            "0             3644  401\n",
            "1               24   50\n",
            "y                0    1\n",
            "prediction_2           \n",
            "0             3573  255\n",
            "1               95  196\n"
          ],
          "name": "stdout"
        }
      ]
    },
    {
      "cell_type": "code",
      "metadata": {
        "id": "XQm-dTvyQgV9",
        "colab_type": "code",
        "colab": {
          "base_uri": "https://localhost:8080/",
          "height": 51
        },
        "outputId": "642c77e3-b0d8-4ef1-c1bc-471ca1a83b36"
      },
      "source": [
        "TN_1=confusion_matrix_1[0][0]\n",
        "TP_1=confusion_matrix_1[1][1]\n",
        "FN_1=confusion_matrix_1[0][1]\n",
        "FP_1=confusion_matrix_1[1][0]\n",
        "final_1=(TP_1+TN_1)/(TN_1+TP_1+FN_1+FP_1)\n",
        "TN_2=confusion_matrix_2[0][0]\n",
        "TP_2=confusion_matrix_2[1][1]\n",
        "FN_2=confusion_matrix_2[0][1]\n",
        "FP_2=confusion_matrix_2[1][0]\n",
        "final_2=(TP_2+TN_2)/(TN_2+TP_2+FN_2+FP_2)\n",
        "print(final_1)\n",
        "print(final_2)"
      ],
      "execution_count": null,
      "outputs": [
        {
          "output_type": "stream",
          "text": [
            "0.8968196164117505\n",
            "0.9150279193979121\n"
          ],
          "name": "stdout"
        }
      ]
    },
    {
      "cell_type": "markdown",
      "metadata": {
        "id": "O4NVGUczSHht",
        "colab_type": "text"
      },
      "source": [
        "### Cross Validation"
      ]
    },
    {
      "cell_type": "code",
      "metadata": {
        "id": "rBnjUsXbQjbs",
        "colab_type": "code",
        "colab": {
          "base_uri": "https://localhost:8080/",
          "height": 34
        },
        "outputId": "70c0586c-e997-4fbb-d6db-a3b3ff63e3e9"
      },
      "source": [
        "import warnings\n",
        "warnings.filterwarnings(\"ignore\")\n",
        "from sklearn.model_selection import cross_val_score\n",
        "# En train (Tasa de aciertos)\n",
        "cv_train_ta=cross_val_score(logit_model_2,X,Y,cv=10)\n",
        "np.mean(cv_train_ta) "
      ],
      "execution_count": null,
      "outputs": [
        {
          "output_type": "execute_result",
          "data": {
            "text/plain": [
              "0.9130837644390899"
            ]
          },
          "metadata": {
            "tags": []
          },
          "execution_count": 61
        }
      ]
    },
    {
      "cell_type": "code",
      "metadata": {
        "id": "XkLohRUUSSGG",
        "colab_type": "code",
        "colab": {}
      },
      "source": [
        "from sklearn.model_selection import train_test_split\n",
        "Xtrain,Xtest,ytrain,ytest=train_test_split(X,Y,test_size=0.1,\n",
        "                                           random_state=8)"
      ],
      "execution_count": null,
      "outputs": []
    },
    {
      "cell_type": "code",
      "metadata": {
        "id": "0t2e3phMSXgw",
        "colab_type": "code",
        "colab": {
          "base_uri": "https://localhost:8080/",
          "height": 85
        },
        "outputId": "513fb38e-21e9-4d5a-88c0-794d10514a59"
      },
      "source": [
        "logit_model_2.fit(Xtrain,ytrain)\n",
        "print(logit_model_2.score(Xtrain,ytrain))\n",
        "print(logit_model_2.score(Xtest,ytest))\n",
        "probs = logit_model_2.predict_proba(Xtrain)[:,1:]\n",
        "\n",
        "m=pd.DataFrame(probs,columns = ['Probs'])\n",
        "\n",
        "Y2=ytrain.reset_index()\n",
        "Y2['Probs']=m\n",
        "\n",
        "print(1*Gini(Y2[\"y\"],Y2[\"Probs\"]))\n",
        "\n",
        "probs = logit_model_2.predict_proba(Xtest)[:,1:]\n",
        "\n",
        "m=pd.DataFrame(probs,columns = ['Probs'])\n",
        "\n",
        "Y2=ytest.reset_index()\n",
        "Y2['Probs']=m\n",
        "\n",
        "print(1*Gini(Y2[\"y\"],Y2[\"Probs\"]))"
      ],
      "execution_count": null,
      "outputs": [
        {
          "output_type": "stream",
          "text": [
            "0.9163744267601834\n",
            "0.9101941747572816\n",
            "0.8667878528332202\n",
            "0.8629316234824198\n"
          ],
          "name": "stdout"
        }
      ]
    },
    {
      "cell_type": "code",
      "metadata": {
        "id": "wQ1sbJc1SwNR",
        "colab_type": "code",
        "colab": {
          "base_uri": "https://localhost:8080/",
          "height": 51
        },
        "outputId": "ff118ab7-8456-4125-cd2d-e7561ee52ed4"
      },
      "source": [
        "cv_train_gini=cross_val_score(logit_model_2,Xtrain,ytrain,\n",
        "                              cv=10,scoring='accuracy')\n",
        "print(np.mean(cv_train_gini))\n",
        "\n",
        "cv_test_gini=cross_val_score(logit_model_1,Xtest,ytest,\n",
        "                             cv=10,scoring='accuracy')\n",
        "print(np.mean(cv_test_gini))"
      ],
      "execution_count": null,
      "outputs": [
        {
          "output_type": "stream",
          "text": [
            "0.9139484228163475\n",
            "0.8885017421602788\n"
          ],
          "name": "stdout"
        }
      ]
    },
    {
      "cell_type": "markdown",
      "metadata": {
        "id": "cK7yJ_aRTuv_",
        "colab_type": "text"
      },
      "source": [
        "## Variables WOEs"
      ]
    },
    {
      "cell_type": "code",
      "metadata": {
        "id": "H2rzw5ofatZR",
        "colab_type": "code",
        "colab": {
          "base_uri": "https://localhost:8080/",
          "height": 68
        },
        "outputId": "dbb00666-c517-4b8b-8602-e3946273b187"
      },
      "source": [
        "df_model_w_c0=df[vf_continuas]\n",
        "df_model_w_ca=df[vf_categoricas]\n",
        "Y_w = df['y']\n",
        "df_model_w_c0['y']=df['y']\n",
        "df_model_w_ca['y']=df['y']\n",
        "print(df_model_w_c0['pdays'].unique())\n",
        "print(df_model_w_c0['previous'].unique())\n",
        "df_model_w_c0 = df_model_w_c0.drop(['previous', 'pdays'], axis=1)"
      ],
      "execution_count": null,
      "outputs": [
        {
          "output_type": "stream",
          "text": [
            "[999  12   3   6   5   2  10  11   7   1  18   4  15   0  16   9  19  17\n",
            "  13  21  14]\n",
            "[0 2 1 3 5 4 6]\n"
          ],
          "name": "stdout"
        }
      ]
    },
    {
      "cell_type": "code",
      "metadata": {
        "id": "eU0FAtppZFd4",
        "colab_type": "code",
        "colab": {}
      },
      "source": [
        "vf_continuas = ['duration','euribor3m','nr.employed','emp.var.rate','cons.price.idx','campaign','cons.conf.idx']"
      ],
      "execution_count": null,
      "outputs": []
    },
    {
      "cell_type": "code",
      "metadata": {
        "id": "K6VFQHC7bFnE",
        "colab_type": "code",
        "colab": {}
      },
      "source": [
        "def woe_ca(df,variable,target):\n",
        "    woe=df.groupby([variable])[target].agg([('Target','mean'),('Total','count'),('Malos','sum')]).reset_index()\n",
        "    woe['Buenos']=woe.Total-woe.Malos \n",
        "    woe['WOE']=np.log((woe.Buenos/np.sum(woe.Buenos))/(woe.Malos/np.sum(woe.Malos)))\n",
        "    cats = woe[variable].unique()\n",
        "    wos = woe['WOE'].unique()\n",
        "\n",
        "    for i in range(len(cats)):\n",
        "      df[variable] = df[variable].replace(to_replace= cats[i], value = wos[i])\n",
        "    \n",
        "    return(df)\n",
        "\n",
        "def woe_co(df,variable,target):\n",
        "    disc = dsc.EqualFrequencyDiscretiser(q=6, variables=[variable])\n",
        "    disc.fit(df)\n",
        "    df_t= disc.transform(df)\n",
        "    df[variable] = df_t[variable]\n",
        "    woe=df.groupby([variable])[target].agg([('Target','mean'),('Total','count'),('Malos','sum')]).reset_index()\n",
        "    woe['Buenos']=woe.Total-woe.Malos \n",
        "    woe['WOE']=np.log((woe.Buenos/np.sum(woe.Buenos))/(woe.Malos/np.sum(woe.Malos)))\n",
        "    cats = woe[variable].unique()\n",
        "    wos = woe['WOE'].unique()\n",
        "\n",
        "    for i in range(len(cats)):\n",
        "      df[variable] = df[variable].replace(to_replace= cats[i], value = wos[i])\n",
        "    \n",
        "    return(df)\n"
      ],
      "execution_count": null,
      "outputs": []
    },
    {
      "cell_type": "code",
      "metadata": {
        "id": "SAjwvwBCGKUP",
        "colab_type": "code",
        "colab": {
          "base_uri": "https://localhost:8080/",
          "height": 439
        },
        "outputId": "90ba1a88-b1f9-4eac-864e-325cf9bd06f6"
      },
      "source": [
        "for col in vf_continuas:\n",
        "  df_model_w_c0 = woe_co(df_model_w_c0,col,'y')\n",
        "\n",
        "df_model_w_c0['previous'] = df['previous']\n",
        "df_model_w_c0['previous'] = woe_ca(df_model_w_c0, 'previous', 'y')\n",
        "\n",
        "for col in vf_categoricas:\n",
        "  df_model_w_ca = woe_ca(df_model_w_ca,col,'y')\n",
        "\n",
        "df_model_w_c0 = df_model_w_c0.drop(['y'], axis=1)\n",
        "df_model_w_ca = df_model_w_ca.drop(['y'], axis=1)\n",
        "\n",
        "df_model_w = pd.concat([df_model_w_c0, df_model_w_ca], axis=1, sort=False)\n",
        "df_model_w"
      ],
      "execution_count": null,
      "outputs": [
        {
          "output_type": "execute_result",
          "data": {
            "text/html": [
              "<div>\n",
              "<style scoped>\n",
              "    .dataframe tbody tr th:only-of-type {\n",
              "        vertical-align: middle;\n",
              "    }\n",
              "\n",
              "    .dataframe tbody tr th {\n",
              "        vertical-align: top;\n",
              "    }\n",
              "\n",
              "    .dataframe thead th {\n",
              "        text-align: right;\n",
              "    }\n",
              "</style>\n",
              "<table border=\"1\" class=\"dataframe\">\n",
              "  <thead>\n",
              "    <tr style=\"text-align: right;\">\n",
              "      <th></th>\n",
              "      <th>duration</th>\n",
              "      <th>euribor3m</th>\n",
              "      <th>nr.employed</th>\n",
              "      <th>emp.var.rate</th>\n",
              "      <th>cons.price.idx</th>\n",
              "      <th>campaign</th>\n",
              "      <th>cons.conf.idx</th>\n",
              "      <th>previous</th>\n",
              "      <th>month</th>\n",
              "      <th>job</th>\n",
              "      <th>contact</th>\n",
              "      <th>education</th>\n",
              "      <th>marital</th>\n",
              "    </tr>\n",
              "  </thead>\n",
              "  <tbody>\n",
              "    <tr>\n",
              "      <th>0</th>\n",
              "      <td>-1.512221</td>\n",
              "      <td>-0.019623</td>\n",
              "      <td>-0.922388</td>\n",
              "      <td>-0.723448</td>\n",
              "      <td>-0.507850</td>\n",
              "      <td>-0.109033</td>\n",
              "      <td>-0.146064</td>\n",
              "      <td>-1.512221</td>\n",
              "      <td>0.565102</td>\n",
              "      <td>0.506148</td>\n",
              "      <td>-0.292246</td>\n",
              "      <td>0.351722</td>\n",
              "      <td>0.096428</td>\n",
              "    </tr>\n",
              "    <tr>\n",
              "      <th>1</th>\n",
              "      <td>-0.219915</td>\n",
              "      <td>1.246422</td>\n",
              "      <td>1.283699</td>\n",
              "      <td>1.282335</td>\n",
              "      <td>1.282335</td>\n",
              "      <td>-0.024504</td>\n",
              "      <td>-0.252450</td>\n",
              "      <td>-0.219915</td>\n",
              "      <td>0.565102</td>\n",
              "      <td>0.229250</td>\n",
              "      <td>0.811110</td>\n",
              "      <td>0.043525</td>\n",
              "      <td>-0.233606</td>\n",
              "    </tr>\n",
              "    <tr>\n",
              "      <th>2</th>\n",
              "      <td>0.324838</td>\n",
              "      <td>0.742069</td>\n",
              "      <td>0.767052</td>\n",
              "      <td>0.753017</td>\n",
              "      <td>-0.520063</td>\n",
              "      <td>-0.109033</td>\n",
              "      <td>0.870626</td>\n",
              "      <td>0.324838</td>\n",
              "      <td>-0.179877</td>\n",
              "      <td>0.229250</td>\n",
              "      <td>0.811110</td>\n",
              "      <td>0.043525</td>\n",
              "      <td>0.096428</td>\n",
              "    </tr>\n",
              "    <tr>\n",
              "      <th>3</th>\n",
              "      <td>3.064557</td>\n",
              "      <td>0.742069</td>\n",
              "      <td>0.767052</td>\n",
              "      <td>0.753017</td>\n",
              "      <td>-0.520063</td>\n",
              "      <td>-0.024504</td>\n",
              "      <td>0.870626</td>\n",
              "      <td>3.064557</td>\n",
              "      <td>-0.179877</td>\n",
              "      <td>0.229250</td>\n",
              "      <td>0.811110</td>\n",
              "      <td>0.351722</td>\n",
              "      <td>0.096428</td>\n",
              "    </tr>\n",
              "    <tr>\n",
              "      <th>4</th>\n",
              "      <td>3.064557</td>\n",
              "      <td>1.246422</td>\n",
              "      <td>0.767052</td>\n",
              "      <td>-0.563378</td>\n",
              "      <td>-0.023273</td>\n",
              "      <td>-0.109033</td>\n",
              "      <td>0.870626</td>\n",
              "      <td>3.064557</td>\n",
              "      <td>0.141802</td>\n",
              "      <td>-0.207499</td>\n",
              "      <td>-0.292246</td>\n",
              "      <td>-0.199724</td>\n",
              "      <td>0.096428</td>\n",
              "    </tr>\n",
              "    <tr>\n",
              "      <th>...</th>\n",
              "      <td>...</td>\n",
              "      <td>...</td>\n",
              "      <td>...</td>\n",
              "      <td>...</td>\n",
              "      <td>...</td>\n",
              "      <td>...</td>\n",
              "      <td>...</td>\n",
              "      <td>...</td>\n",
              "      <td>...</td>\n",
              "      <td>...</td>\n",
              "      <td>...</td>\n",
              "      <td>...</td>\n",
              "      <td>...</td>\n",
              "    </tr>\n",
              "    <tr>\n",
              "      <th>4114</th>\n",
              "      <td>3.064557</td>\n",
              "      <td>0.747370</td>\n",
              "      <td>0.767052</td>\n",
              "      <td>0.753017</td>\n",
              "      <td>0.264920</td>\n",
              "      <td>-0.109033</td>\n",
              "      <td>0.580617</td>\n",
              "      <td>3.064557</td>\n",
              "      <td>0.306573</td>\n",
              "      <td>-0.207499</td>\n",
              "      <td>-0.292246</td>\n",
              "      <td>0.351722</td>\n",
              "      <td>0.096428</td>\n",
              "    </tr>\n",
              "    <tr>\n",
              "      <th>4115</th>\n",
              "      <td>0.324838</td>\n",
              "      <td>0.742069</td>\n",
              "      <td>0.767052</td>\n",
              "      <td>0.753017</td>\n",
              "      <td>0.264920</td>\n",
              "      <td>-0.109033</td>\n",
              "      <td>0.580617</td>\n",
              "      <td>0.324838</td>\n",
              "      <td>0.306573</td>\n",
              "      <td>-0.207499</td>\n",
              "      <td>0.811110</td>\n",
              "      <td>0.043525</td>\n",
              "      <td>0.096428</td>\n",
              "    </tr>\n",
              "    <tr>\n",
              "      <th>4116</th>\n",
              "      <td>3.064557</td>\n",
              "      <td>-0.019623</td>\n",
              "      <td>-0.922388</td>\n",
              "      <td>-0.723448</td>\n",
              "      <td>-0.507850</td>\n",
              "      <td>-0.109033</td>\n",
              "      <td>-0.146064</td>\n",
              "      <td>3.064557</td>\n",
              "      <td>0.565102</td>\n",
              "      <td>-0.897239</td>\n",
              "      <td>-0.292246</td>\n",
              "      <td>0.043525</td>\n",
              "      <td>-0.233606</td>\n",
              "    </tr>\n",
              "    <tr>\n",
              "      <th>4117</th>\n",
              "      <td>-1.512221</td>\n",
              "      <td>0.895440</td>\n",
              "      <td>0.767052</td>\n",
              "      <td>0.753017</td>\n",
              "      <td>0.303893</td>\n",
              "      <td>-0.109033</td>\n",
              "      <td>0.993130</td>\n",
              "      <td>-1.512221</td>\n",
              "      <td>0.094321</td>\n",
              "      <td>-0.207499</td>\n",
              "      <td>-0.292246</td>\n",
              "      <td>0.043525</td>\n",
              "      <td>0.096428</td>\n",
              "    </tr>\n",
              "    <tr>\n",
              "      <th>4118</th>\n",
              "      <td>0.649503</td>\n",
              "      <td>1.246422</td>\n",
              "      <td>0.767052</td>\n",
              "      <td>-0.563378</td>\n",
              "      <td>-0.023273</td>\n",
              "      <td>-0.109033</td>\n",
              "      <td>0.870626</td>\n",
              "      <td>0.649503</td>\n",
              "      <td>0.141802</td>\n",
              "      <td>0.186448</td>\n",
              "      <td>-0.292246</td>\n",
              "      <td>0.043525</td>\n",
              "      <td>-0.233606</td>\n",
              "    </tr>\n",
              "  </tbody>\n",
              "</table>\n",
              "<p>4119 rows × 13 columns</p>\n",
              "</div>"
            ],
            "text/plain": [
              "      duration  euribor3m  nr.employed  ...   contact  education   marital\n",
              "0    -1.512221  -0.019623    -0.922388  ... -0.292246   0.351722  0.096428\n",
              "1    -0.219915   1.246422     1.283699  ...  0.811110   0.043525 -0.233606\n",
              "2     0.324838   0.742069     0.767052  ...  0.811110   0.043525  0.096428\n",
              "3     3.064557   0.742069     0.767052  ...  0.811110   0.351722  0.096428\n",
              "4     3.064557   1.246422     0.767052  ... -0.292246  -0.199724  0.096428\n",
              "...        ...        ...          ...  ...       ...        ...       ...\n",
              "4114  3.064557   0.747370     0.767052  ... -0.292246   0.351722  0.096428\n",
              "4115  0.324838   0.742069     0.767052  ...  0.811110   0.043525  0.096428\n",
              "4116  3.064557  -0.019623    -0.922388  ... -0.292246   0.043525 -0.233606\n",
              "4117 -1.512221   0.895440     0.767052  ... -0.292246   0.043525  0.096428\n",
              "4118  0.649503   1.246422     0.767052  ... -0.292246   0.043525 -0.233606\n",
              "\n",
              "[4119 rows x 13 columns]"
            ]
          },
          "metadata": {
            "tags": []
          },
          "execution_count": 68
        }
      ]
    },
    {
      "cell_type": "markdown",
      "metadata": {
        "id": "M-qJNo30d2O_",
        "colab_type": "text"
      },
      "source": [
        "### Selección de Rasgos"
      ]
    },
    {
      "cell_type": "code",
      "metadata": {
        "id": "bHIylT61aNHR",
        "colab_type": "code",
        "colab": {
          "base_uri": "https://localhost:8080/",
          "height": 68
        },
        "outputId": "791a0e3c-d3d3-4cee-83cc-69334ea490a4"
      },
      "source": [
        "n = 8\n",
        "from sklearn import datasets\n",
        "from sklearn.feature_selection import RFE\n",
        "lr2 = LogisticRegression()\n",
        "rfe2 = RFE(lr2, n, step = 1)\n",
        "rfe2 = rfe.fit(df_model_w,Y_w)\n",
        "print(rfe.support_)\n",
        "print(rfe.ranking_)"
      ],
      "execution_count": null,
      "outputs": [
        {
          "output_type": "stream",
          "text": [
            "[ True  True False False False  True False  True  True  True  True  True\n",
            " False]\n",
            "[1 1 5 6 2 1 3 1 1 1 1 1 4]\n"
          ],
          "name": "stdout"
        }
      ]
    },
    {
      "cell_type": "code",
      "metadata": {
        "id": "6iW0MhvMaW1F",
        "colab_type": "code",
        "colab": {}
      },
      "source": [
        "cols2 = ['duration', 'euribor3m', 'campaign', 'previous', 'month', 'job', 'contact', 'education']"
      ],
      "execution_count": null,
      "outputs": []
    },
    {
      "cell_type": "code",
      "metadata": {
        "id": "QA-imd6AdAxu",
        "colab_type": "code",
        "colab": {
          "base_uri": "https://localhost:8080/",
          "height": 221
        },
        "outputId": "786af41a-73d3-47b1-f67f-dbcd15061745"
      },
      "source": [
        "x_w = df_model_w[cols2]\n",
        "logit_model_w_1 = LogisticRegression()\n",
        "logit_model_w_2 = LogisticRegression()\n",
        "logit_model_w_1.fit(x_w,Y_w)\n",
        "logit_model_w_2.fit(df_model_w, Y_w)\n",
        "print(logit_model_w_1.score(x_w,Y_w))\n",
        "print(logit_model_w_2.score(df_model_w, Y_w))\n",
        "\n",
        "probs_w_1 = logit_model_w_1.predict_proba(x_w)[:,1:]\n",
        "w_1=pd.DataFrame(probs_w_1,columns = ['Probs'])\n",
        "probs_w_2 = logit_model_w_2.predict_proba(df_model_w)[:,1:]\n",
        "w_2=pd.DataFrame(probs_w_2,columns = ['Probs'])\n",
        "\n",
        "Y_w_2=Y_w.reset_index()\n",
        "Y_w_2['Probs_1']=w_1\n",
        "Y_w_2['Probs_2']=w_2\n",
        "\n",
        "print(1*Gini(Y_w_2[\"y\"],Y_w_2[\"Probs_2\"]))\n",
        "print(1*Gini(Y_w_2[\"y\"],Y_w_2[\"Probs_1\"]))\n",
        "\n",
        "threshold = 0.5\n",
        "Y_w_2[\"prediction_1\"]=np.where(probs_w_1>threshold, 1, 0)\n",
        "Y_w_2[\"prediction_2\"]=np.where(probs_w_2>threshold, 1, 0)\n",
        "\n",
        "confusion_matrix_w_1 = pd.crosstab(Y_w_2.prediction_1, Y_w_2.y)\n",
        "confusion_matrix_w_2 = pd.crosstab(Y_w_2.prediction_2, Y_w_2.y)\n",
        "print(confusion_matrix_w_1)\n",
        "print(confusion_matrix_w_2)"
      ],
      "execution_count": null,
      "outputs": [
        {
          "output_type": "stream",
          "text": [
            "0.9024034959941734\n",
            "0.9004612770089827\n",
            "0.835509723938322\n",
            "0.8346211133867065\n",
            "y                0    1\n",
            "prediction_1           \n",
            "0             3574  308\n",
            "1               94  143\n",
            "y                0    1\n",
            "prediction_2           \n",
            "0             3571  313\n",
            "1               97  138\n"
          ],
          "name": "stdout"
        }
      ]
    },
    {
      "cell_type": "markdown",
      "metadata": {
        "id": "wwbcCD58d8yI",
        "colab_type": "text"
      },
      "source": [
        "### Cross Validation"
      ]
    },
    {
      "cell_type": "code",
      "metadata": {
        "id": "hMVHokfKeBgI",
        "colab_type": "code",
        "colab": {
          "base_uri": "https://localhost:8080/",
          "height": 34
        },
        "outputId": "8b9b72e8-ebdc-4a2c-828e-861e9cb6ee14"
      },
      "source": [
        "#COMO SE VE ARRIBA, LA CAPACIDAD PREDICTIVA ES PRACTICAMENTE IGUAL USANDO LAS 8 VARIABLES SELECCIONADAS, POR TANTO \n",
        "#SE USARAN ESTAS\n",
        "import warnings\n",
        "warnings.filterwarnings(\"ignore\")\n",
        "from sklearn.model_selection import cross_val_score\n",
        "# En train (Tasa de aciertos)\n",
        "cv_train_ta=cross_val_score(logit_model_w_1,x_w,Y_w,cv=10)\n",
        "np.mean(cv_train_ta) "
      ],
      "execution_count": null,
      "outputs": [
        {
          "output_type": "execute_result",
          "data": {
            "text/plain": [
              "0.9019204875628942"
            ]
          },
          "metadata": {
            "tags": []
          },
          "execution_count": 72
        }
      ]
    },
    {
      "cell_type": "code",
      "metadata": {
        "id": "EXnCWvtBgplb",
        "colab_type": "code",
        "colab": {}
      },
      "source": [
        "from sklearn.model_selection import train_test_split\n",
        "xtrain,xtest,Ytrain,Ytest=train_test_split(x_w,Y_w,test_size=0.1,\n",
        "                                           random_state=8)"
      ],
      "execution_count": null,
      "outputs": []
    },
    {
      "cell_type": "code",
      "metadata": {
        "id": "mYOTJB0Sg3zT",
        "colab_type": "code",
        "colab": {
          "base_uri": "https://localhost:8080/",
          "height": 85
        },
        "outputId": "5f93116b-c8fe-4a12-9c64-48ea5dd73e25"
      },
      "source": [
        "t_logit_model_w = LogisticRegression()\n",
        "t_logit_model_w.fit(xtrain,Ytrain)\n",
        "print(t_logit_model_w.score(xtrain,Ytrain))\n",
        "print(t_logit_model_w.score(xtest,Ytest))\n",
        "\n",
        "probs = t_logit_model_w.predict_proba(xtrain)[:,1:]\n",
        "m_t=pd.DataFrame(probs,columns = ['Probs'])\n",
        "Y_t_2=Ytrain.reset_index()\n",
        "Y_t_2['Probs']=m_t\n",
        "\n",
        "print(1*Gini(Y_t_2[\"y\"],Y_t_2[\"Probs\"]))\n",
        "\n",
        "probs_t = t_logit_model_w.predict_proba(xtest)[:,1:]\n",
        "m_t=pd.DataFrame(probs_t,columns = ['Probs'])\n",
        "Y_t_2=Ytest.reset_index()\n",
        "Y_t_2['Probs']=m_t\n",
        "\n",
        "print(1*Gini(Y_t_2[\"y\"],Y_t_2[\"Probs\"]))"
      ],
      "execution_count": null,
      "outputs": [
        {
          "output_type": "stream",
          "text": [
            "0.9031561909900189\n",
            "0.8980582524271845\n",
            "0.8308131774010579\n",
            "0.8674515162663583\n"
          ],
          "name": "stdout"
        }
      ]
    },
    {
      "cell_type": "code",
      "metadata": {
        "id": "0Jc5jUM2iJ1x",
        "colab_type": "code",
        "colab": {
          "base_uri": "https://localhost:8080/",
          "height": 51
        },
        "outputId": "b576fa10-25fb-4d21-d33e-e75908aab0c0"
      },
      "source": [
        "cv_train_gini=cross_val_score(t_logit_model_w,xtrain,Ytrain,\n",
        "                              cv=10,scoring='accuracy')\n",
        "print(np.mean(cv_train_gini))\n",
        "\n",
        "cv_test_gini=cross_val_score(t_logit_model_w,xtest,Ytest,\n",
        "                             cv=10,scoring='accuracy')\n",
        "print(np.mean(cv_test_gini))"
      ],
      "execution_count": null,
      "outputs": [
        {
          "output_type": "stream",
          "text": [
            "0.9031550957966055\n",
            "0.8908826945412311\n"
          ],
          "name": "stdout"
        }
      ]
    }
  ]
}